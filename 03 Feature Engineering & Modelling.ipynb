{
 "cells": [
  {
   "cell_type": "markdown",
   "id": "60f2daf6",
   "metadata": {},
   "source": [
    "# Introduction: Business Problem \n",
    "\n",
    "In this project we will try to predict the monthly rental price for a condominium. Specifically, this report will be targeted to stakeholders interested in finding the best value in renting a condominium in Singapore.\n",
    "\n",
    "We will use our data science powers to find optimum rental price and recommend stake holders the best values and similar units for the stakeholders."
   ]
  },
  {
   "cell_type": "markdown",
   "id": "6378b87f",
   "metadata": {},
   "source": [
    "# Evalution metrics\n",
    "\n",
    "## RMSE\n",
    "\n",
    "In this project, **RMSE** will be our **main metrics** to evaluate the for selecting the best model and evaluate the performance of the best model. For the following reason\n",
    "\n",
    "1. **RMSE** is chosen as it punishes predicteed value that has greater difference than the actual value. This is important as we do not want our model to undervalue or overvalue a rental unit.\n",
    "\n",
    "2. **RMSE** gaves us a better intuition of the error which is in the same unit of our response variable (price). In other words, the error tells us how much \"wrong\" we are in terms of dollar value from the actual value."
   ]
  },
  {
   "cell_type": "markdown",
   "id": "4867570a",
   "metadata": {},
   "source": [
    "### Adjusted $R^{2}$\n",
    "\n",
    "Althought **RMSE** gave us the intuition of how \"wrong\" is the model prediction in terms of dollar value, performance of the model is not that obvious. Hence, we will be using adjusted $R^{2}$ to give an overall picture of how well is our model performing."
   ]
  },
  {
   "cell_type": "markdown",
   "id": "ae2f6dd9",
   "metadata": {},
   "source": [
    "### Success Criteria\n",
    "\n",
    "The ground truth of the impact of wrongly predicted value are unknown, and not part of the scope of this project.\n",
    "However, We aim to perform better than RMSE of guessing the average price of entire condominium rental price in our dataset. (Baseline).\n",
    "\n",
    "The RMSE of predicting each observation as the mean of total observation is \\\\$4444. Hence, our model should aim to predict better than RMSE of \\\\$4444. \n",
    "\n",
    "Refer Section Baseline RMSE score for details."
   ]
  },
  {
   "cell_type": "markdown",
   "id": "7c0962cc",
   "metadata": {},
   "source": [
    "# Import and Setting"
   ]
  },
  {
   "cell_type": "code",
   "execution_count": 313,
   "id": "490fcdea",
   "metadata": {},
   "outputs": [],
   "source": [
    "#!pip install optuna"
   ]
  },
  {
   "cell_type": "code",
   "execution_count": 314,
   "id": "b2dfafaf",
   "metadata": {},
   "outputs": [],
   "source": [
    "import pandas as pd\n",
    "import numpy as np\n",
    "from IPython.display import display\n",
    "\n",
    "from feature_engine.encoding import OneHotEncoder as fe_OneHotEncoder, OrdinalEncoder, RareLabelEncoder\n",
    "import feature_engine.transformation as vt\n",
    "from feature_engine.selection import RecursiveFeatureElimination\n",
    "\n",
    "from sklearn.feature_extraction.text import CountVectorizer\n",
    "from sklearn.compose import make_column_transformer\n",
    "from sklearn.model_selection import GridSearchCV, cross_val_score, KFold, cross_validate, learning_curve\n",
    "from sklearn.linear_model import LinearRegression\n",
    "from sklearn.preprocessing import PowerTransformer\n",
    "from sklearn.metrics import r2_score\n",
    "from sklearn.metrics import mean_squared_error\n",
    "from sklearn.svm import SVR\n",
    "from sklearn.preprocessing import StandardScaler\n",
    "\n",
    "import matplotlib\n",
    "import matplotlib.patches as mpatches\n",
    "import matplotlib.pyplot as plt\n",
    "from matplotlib.lines import Line2D\n",
    "\n",
    "from xgboost import XGBRegressor\n",
    "\n",
    "from statsmodels.stats.outliers_influence import variance_inflation_factor\n",
    "\n",
    "from scipy import stats\n",
    "\n",
    "import math\n",
    "\n",
    "import seaborn as sns\n",
    "\n",
    "import optuna"
   ]
  },
  {
   "cell_type": "markdown",
   "id": "50951392",
   "metadata": {},
   "source": [
    "# Feature Engineering"
   ]
  },
  {
   "cell_type": "markdown",
   "id": "866c5eae",
   "metadata": {},
   "source": [
    "From the summary of EDA we have found that:-\n",
    "1. We have found that there is no correlation between counts of amenities & rental price.\n",
    "2. Rental price for having 'clubhouse', 'parking', 'jacuzzi' is significantly difference. We will create a feature using OneHotEncoding technique for this amenities.\n",
    "3. Having nearby MRT is siginicant for monthly rental.\n",
    "4. MRT name has high cardinality. In Feature engineering, we will use Rarelabel encoding technique to group rare MRT occurance under OTHERS.\n",
    "5. Handling multicolinearity: Select (Walking time, bedrooms & bathrooms) or (Walking time & sqft).\n",
    "6. For building linear Regression model, we will transform variable to normality by using BoxCoxTransformation.\n",
    "\n",
    "We will perform feature engineering to address above observation"
   ]
  },
  {
   "cell_type": "markdown",
   "id": "74082b2d",
   "metadata": {},
   "source": [
    "### Feature Engineering-1: CountVectorized for  clubhouse, parking & jacuzzi"
   ]
  },
  {
   "cell_type": "code",
   "execution_count": 315,
   "id": "caf983eb",
   "metadata": {},
   "outputs": [],
   "source": [
    "df_train = pd.read_pickle('Data/df_train')\n",
    "df_test = pd.read_pickle('Data/df_test')"
   ]
  },
  {
   "cell_type": "code",
   "execution_count": 316,
   "id": "033c476d",
   "metadata": {},
   "outputs": [
    {
     "data": {
      "text/html": [
       "<div>\n",
       "<style scoped>\n",
       "    .dataframe tbody tr th:only-of-type {\n",
       "        vertical-align: middle;\n",
       "    }\n",
       "\n",
       "    .dataframe tbody tr th {\n",
       "        vertical-align: top;\n",
       "    }\n",
       "\n",
       "    .dataframe thead th {\n",
       "        text-align: right;\n",
       "    }\n",
       "</style>\n",
       "<table border=\"1\" class=\"dataframe\">\n",
       "  <thead>\n",
       "    <tr style=\"text-align: right;\">\n",
       "      <th></th>\n",
       "      <th>detailed_address</th>\n",
       "      <th>lat</th>\n",
       "      <th>long</th>\n",
       "      <th>bedrooms</th>\n",
       "      <th>bathrooms</th>\n",
       "      <th>sqft</th>\n",
       "      <th>built_year</th>\n",
       "      <th>amenities</th>\n",
       "      <th>mrt_name</th>\n",
       "      <th>building_name</th>\n",
       "      <th>tenure</th>\n",
       "      <th>link</th>\n",
       "      <th>picture_url</th>\n",
       "      <th>price_month</th>\n",
       "      <th>walking_time</th>\n",
       "      <th>distance</th>\n",
       "      <th>studio</th>\n",
       "      <th>district_number</th>\n",
       "    </tr>\n",
       "  </thead>\n",
       "  <tbody>\n",
       "    <tr>\n",
       "      <th>6152</th>\n",
       "      <td>9 Cairnhill Road</td>\n",
       "      <td>1.302997</td>\n",
       "      <td>103.837785</td>\n",
       "      <td>2.0</td>\n",
       "      <td>2.0</td>\n",
       "      <td>1044</td>\n",
       "      <td>2017.0</td>\n",
       "      <td>[Clubhouse, Spa pavilion, Swimming pool, Wadin...</td>\n",
       "      <td>Somerset MRT</td>\n",
       "      <td>Cairnhill Nine</td>\n",
       "      <td>0</td>\n",
       "      <td>https://www.99.co/singapore/rent/property/cair...</td>\n",
       "      <td>https://www.99.co/static/v3/icons/clubhouse@3x...</td>\n",
       "      <td>7000</td>\n",
       "      <td>10.0</td>\n",
       "      <td>416.0</td>\n",
       "      <td>0</td>\n",
       "      <td>9</td>\n",
       "    </tr>\n",
       "    <tr>\n",
       "      <th>2957</th>\n",
       "      <td>16 Enggor Street</td>\n",
       "      <td>1.274241</td>\n",
       "      <td>103.844755</td>\n",
       "      <td>1.0</td>\n",
       "      <td>1.0</td>\n",
       "      <td>603</td>\n",
       "      <td>2014.0</td>\n",
       "      <td>[Clubhouse, Basketball court, Aircon, Gym, Bed...</td>\n",
       "      <td>Tanjong Pagar MRT</td>\n",
       "      <td>Altez</td>\n",
       "      <td>0</td>\n",
       "      <td>https://www.99.co/singapore/rent/property/alte...</td>\n",
       "      <td>https://www.99.co/static/v3/icons/clubhouse@3x...</td>\n",
       "      <td>4500</td>\n",
       "      <td>5.0</td>\n",
       "      <td>253.0</td>\n",
       "      <td>0</td>\n",
       "      <td>2</td>\n",
       "    </tr>\n",
       "  </tbody>\n",
       "</table>\n",
       "</div>"
      ],
      "text/plain": [
       "      detailed_address       lat        long  bedrooms  bathrooms  sqft  \\\n",
       "6152  9 Cairnhill Road  1.302997  103.837785       2.0        2.0  1044   \n",
       "2957  16 Enggor Street  1.274241  103.844755       1.0        1.0   603   \n",
       "\n",
       "      built_year                                          amenities  \\\n",
       "6152      2017.0  [Clubhouse, Spa pavilion, Swimming pool, Wadin...   \n",
       "2957      2014.0  [Clubhouse, Basketball court, Aircon, Gym, Bed...   \n",
       "\n",
       "               mrt_name   building_name  tenure  \\\n",
       "6152       Somerset MRT  Cairnhill Nine       0   \n",
       "2957  Tanjong Pagar MRT           Altez       0   \n",
       "\n",
       "                                                   link  \\\n",
       "6152  https://www.99.co/singapore/rent/property/cair...   \n",
       "2957  https://www.99.co/singapore/rent/property/alte...   \n",
       "\n",
       "                                            picture_url  price_month  \\\n",
       "6152  https://www.99.co/static/v3/icons/clubhouse@3x...         7000   \n",
       "2957  https://www.99.co/static/v3/icons/clubhouse@3x...         4500   \n",
       "\n",
       "      walking_time  distance  studio  district_number  \n",
       "6152          10.0     416.0       0                9  \n",
       "2957           5.0     253.0       0                2  "
      ]
     },
     "execution_count": 316,
     "metadata": {},
     "output_type": "execute_result"
    }
   ],
   "source": [
    "df_train.head(2)"
   ]
  },
  {
   "cell_type": "code",
   "execution_count": 317,
   "id": "8ceeac2f",
   "metadata": {},
   "outputs": [],
   "source": [
    "# remove all amenities in listing except clubhouse, parking and jaccuzi\n",
    "def relevantamenities(x: list):\n",
    "    \n",
    "    relevant = ['Clubhouse', 'Parking', 'Jacuzzi']\n",
    "    \n",
    "    return [amenity for amenity in x if amenity in relevant]"
   ]
  },
  {
   "cell_type": "code",
   "execution_count": 318,
   "id": "8f376362",
   "metadata": {},
   "outputs": [],
   "source": [
    "df_train['amenities'] = df_train.amenities.apply(relevantamenities)\n",
    "df_test['amenities'] = df_test.amenities.apply(relevantamenities)"
   ]
  },
  {
   "cell_type": "code",
   "execution_count": 319,
   "id": "3580b8e2",
   "metadata": {},
   "outputs": [],
   "source": [
    "#transform the amenities into feature\n",
    "ct = make_column_transformer(\n",
    "    (CountVectorizer(analyzer=lambda x: x), 'amenities'),\n",
    "    remainder = 'passthrough',\n",
    ")\n"
   ]
  },
  {
   "cell_type": "code",
   "execution_count": 320,
   "id": "6fafaf14",
   "metadata": {},
   "outputs": [],
   "source": [
    "df_train = pd.DataFrame(ct.fit_transform(df_train), columns=ct.get_feature_names())\n",
    "df_test = pd.DataFrame(ct.transform(df_test), columns=ct.get_feature_names())"
   ]
  },
  {
   "cell_type": "markdown",
   "id": "16557eb2",
   "metadata": {},
   "source": [
    "### Feature-Engineering 2: Having MRT is significant to monthly rental"
   ]
  },
  {
   "cell_type": "code",
   "execution_count": 321,
   "id": "42cacf12",
   "metadata": {},
   "outputs": [],
   "source": [
    "df_train['mrt_availability'] = np.where(df_train['mrt_name'] == 'No_MRT', 0, 1)\n",
    "df_test['mrt_availability'] = np.where(df_test['mrt_name'] == 'No_MRT', 0, 1)"
   ]
  },
  {
   "cell_type": "markdown",
   "id": "32143a10",
   "metadata": {},
   "source": [
    "### Feature-Engineering 3: Group rare MRT occurance under OTHERS & OneHOT Encoding"
   ]
  },
  {
   "cell_type": "code",
   "execution_count": 322,
   "id": "593077e1",
   "metadata": {},
   "outputs": [],
   "source": [
    "#RareLabel Encoding\n",
    "rare_encoder = RareLabelEncoder(\n",
    "    tol=0.005,  # minimal percentage to be considered non-rare\n",
    "    n_categories=4, # minimal number of categories the variable should have to re-cgroup rare categories\n",
    "    variables=['mrt_name'], # variables to re-group,\n",
    "    replace_with='Others'\n",
    ")"
   ]
  },
  {
   "cell_type": "code",
   "execution_count": 323,
   "id": "a1e5d6ee",
   "metadata": {},
   "outputs": [],
   "source": [
    "df_train = rare_encoder.fit_transform(df_train)\n",
    "df_test = rare_encoder.transform(df_test)"
   ]
  },
  {
   "cell_type": "code",
   "execution_count": 324,
   "id": "40b96feb",
   "metadata": {},
   "outputs": [],
   "source": [
    "ohe_enc = fe_OneHotEncoder(\n",
    "    top_categories=None,\n",
    "    variables=['mrt_name'],  # we can select which variables to encode\n",
    "    drop_last=False)"
   ]
  },
  {
   "cell_type": "code",
   "execution_count": 325,
   "id": "1120650c",
   "metadata": {},
   "outputs": [],
   "source": [
    "df_train = ohe_enc.fit_transform(df_train)\n",
    "df_test = ohe_enc.transform(df_test)"
   ]
  },
  {
   "cell_type": "code",
   "execution_count": 326,
   "id": "fe43efb6",
   "metadata": {},
   "outputs": [],
   "source": [
    "#recast datatype to numerical\n",
    "for col in df_train:\n",
    "    df_train[col] = pd.to_numeric(df_train[col], errors='ignore')\n",
    "    df_test[col] = pd.to_numeric(df_test[col], errors='ignore')"
   ]
  },
  {
   "cell_type": "markdown",
   "id": "7b49f10b",
   "metadata": {},
   "source": [
    "### Feature Engineering - 4 Target guided Encoding for District"
   ]
  },
  {
   "cell_type": "code",
   "execution_count": 327,
   "id": "8eb27d43",
   "metadata": {},
   "outputs": [],
   "source": [
    "ordinal_enc = OrdinalEncoder(\n",
    "    # NOTE that we indicate ordered in the encoding_method, otherwise it assings numbers arbitrarily\n",
    "    encoding_method='ordered',\n",
    "    variables=['district_number'],\n",
    "    ignore_format = True)"
   ]
  },
  {
   "cell_type": "code",
   "execution_count": 328,
   "id": "720044c8",
   "metadata": {},
   "outputs": [],
   "source": [
    "ordinal_enc.fit(df_train, df_train['price_month'])\n",
    "df_train = ordinal_enc.transform(df_train)\n",
    "df_test = ordinal_enc.transform(df_test)"
   ]
  },
  {
   "cell_type": "markdown",
   "id": "7a0ad7ef",
   "metadata": {},
   "source": [
    "### Feature Engineering - 5 Handling Multicolinearity"
   ]
  },
  {
   "cell_type": "code",
   "execution_count": 329,
   "id": "5d6a4fea",
   "metadata": {},
   "outputs": [],
   "source": [
    "#we will combine bathrooms & bedrooms to handline multicolinearity, for other feature, it will be dropped instead\n",
    "df_train['total room'] = df_train['bathrooms'] + df_train['bedrooms']\n",
    "df_test['total room'] = df_test['bathrooms'] + df_test['bedrooms']"
   ]
  },
  {
   "cell_type": "markdown",
   "id": "929aa27b",
   "metadata": {},
   "source": [
    "### Feature-Engineering 6: BoxCox Transformation for LinearRegression"
   ]
  },
  {
   "cell_type": "code",
   "execution_count": 330,
   "id": "9d515bfc",
   "metadata": {},
   "outputs": [],
   "source": [
    "continuous_variables = ['price_month', 'bedrooms', 'bathrooms', 'total room', 'sqft', 'walking_time', 'distance']"
   ]
  },
  {
   "cell_type": "code",
   "execution_count": 331,
   "id": "0b46f574",
   "metadata": {},
   "outputs": [],
   "source": [
    "bct = vt.BoxCoxTransformer(variables = continuous_variables)\n",
    "df_train_lr = bct.fit_transform(df_train)\n",
    "df_test_lr = bct.transform(df_test) "
   ]
  },
  {
   "cell_type": "code",
   "execution_count": 332,
   "id": "121c2389",
   "metadata": {},
   "outputs": [
    {
     "data": {
      "text/plain": [
       "{'price_month': -0.014444710502950238,\n",
       " 'bedrooms': 0.34990443094029966,\n",
       " 'bathrooms': 0.01507637030264619,\n",
       " 'total room': 0.2206802857205239,\n",
       " 'sqft': -0.11785532339089105,\n",
       " 'walking_time': -0.3970483191451235,\n",
       " 'distance': -0.19970443417532519}"
      ]
     },
     "execution_count": 332,
     "metadata": {},
     "output_type": "execute_result"
    }
   ],
   "source": [
    "# these are the exponents for the BoxCox transformation\n",
    "bct.lambda_dict_"
   ]
  },
  {
   "cell_type": "code",
   "execution_count": 333,
   "id": "74079e4a",
   "metadata": {},
   "outputs": [
    {
     "data": {
      "text/html": [
       "<div>\n",
       "<style scoped>\n",
       "    .dataframe tbody tr th:only-of-type {\n",
       "        vertical-align: middle;\n",
       "    }\n",
       "\n",
       "    .dataframe tbody tr th {\n",
       "        vertical-align: top;\n",
       "    }\n",
       "\n",
       "    .dataframe thead th {\n",
       "        text-align: right;\n",
       "    }\n",
       "</style>\n",
       "<table border=\"1\" class=\"dataframe\">\n",
       "  <thead>\n",
       "    <tr style=\"text-align: right;\">\n",
       "      <th></th>\n",
       "      <th>countvectorizer__Clubhouse</th>\n",
       "      <th>countvectorizer__Jacuzzi</th>\n",
       "      <th>countvectorizer__Parking</th>\n",
       "      <th>sqft</th>\n",
       "      <th>built_year</th>\n",
       "      <th>tenure</th>\n",
       "      <th>price_month</th>\n",
       "      <th>walking_time</th>\n",
       "      <th>studio</th>\n",
       "      <th>district_number</th>\n",
       "      <th>...</th>\n",
       "      <th>mrt_name_Rochor MRT</th>\n",
       "      <th>mrt_name_Potong Pasir MRT</th>\n",
       "      <th>mrt_name_Eunos MRT</th>\n",
       "      <th>mrt_name_Dakota MRT</th>\n",
       "      <th>mrt_name_Kembangan MRT</th>\n",
       "      <th>mrt_name_Toa Payoh MRT</th>\n",
       "      <th>mrt_name_Chinatown MRT</th>\n",
       "      <th>mrt_name_Stadium MRT</th>\n",
       "      <th>mrt_name_Lakeside MRT</th>\n",
       "      <th>total room</th>\n",
       "    </tr>\n",
       "  </thead>\n",
       "  <tbody>\n",
       "    <tr>\n",
       "      <th>0</th>\n",
       "      <td>1</td>\n",
       "      <td>0</td>\n",
       "      <td>0</td>\n",
       "      <td>1044</td>\n",
       "      <td>2017.0</td>\n",
       "      <td>0</td>\n",
       "      <td>7000</td>\n",
       "      <td>10.0</td>\n",
       "      <td>0</td>\n",
       "      <td>24</td>\n",
       "      <td>...</td>\n",
       "      <td>0</td>\n",
       "      <td>0</td>\n",
       "      <td>0</td>\n",
       "      <td>0</td>\n",
       "      <td>0</td>\n",
       "      <td>0</td>\n",
       "      <td>0</td>\n",
       "      <td>0</td>\n",
       "      <td>0</td>\n",
       "      <td>4.0</td>\n",
       "    </tr>\n",
       "    <tr>\n",
       "      <th>1</th>\n",
       "      <td>1</td>\n",
       "      <td>0</td>\n",
       "      <td>0</td>\n",
       "      <td>603</td>\n",
       "      <td>2014.0</td>\n",
       "      <td>0</td>\n",
       "      <td>4500</td>\n",
       "      <td>5.0</td>\n",
       "      <td>0</td>\n",
       "      <td>19</td>\n",
       "      <td>...</td>\n",
       "      <td>0</td>\n",
       "      <td>0</td>\n",
       "      <td>0</td>\n",
       "      <td>0</td>\n",
       "      <td>0</td>\n",
       "      <td>0</td>\n",
       "      <td>0</td>\n",
       "      <td>0</td>\n",
       "      <td>0</td>\n",
       "      <td>2.0</td>\n",
       "    </tr>\n",
       "  </tbody>\n",
       "</table>\n",
       "<p>2 rows × 51 columns</p>\n",
       "</div>"
      ],
      "text/plain": [
       "   countvectorizer__Clubhouse  countvectorizer__Jacuzzi  \\\n",
       "0                           1                         0   \n",
       "1                           1                         0   \n",
       "\n",
       "   countvectorizer__Parking  sqft  built_year  tenure  price_month  \\\n",
       "0                         0  1044      2017.0       0         7000   \n",
       "1                         0   603      2014.0       0         4500   \n",
       "\n",
       "   walking_time  studio  district_number  ...  mrt_name_Rochor MRT  \\\n",
       "0          10.0       0               24  ...                    0   \n",
       "1           5.0       0               19  ...                    0   \n",
       "\n",
       "   mrt_name_Potong Pasir MRT  mrt_name_Eunos MRT  mrt_name_Dakota MRT  \\\n",
       "0                          0                   0                    0   \n",
       "1                          0                   0                    0   \n",
       "\n",
       "   mrt_name_Kembangan MRT  mrt_name_Toa Payoh MRT  mrt_name_Chinatown MRT  \\\n",
       "0                       0                       0                       0   \n",
       "1                       0                       0                       0   \n",
       "\n",
       "   mrt_name_Stadium MRT  mrt_name_Lakeside MRT  total room  \n",
       "0                     0                      0         4.0  \n",
       "1                     0                      0         2.0  \n",
       "\n",
       "[2 rows x 51 columns]"
      ]
     },
     "execution_count": 333,
     "metadata": {},
     "output_type": "execute_result"
    }
   ],
   "source": [
    "#final look of the transformed train dataframe\n",
    "df_train = df_train.drop(['detailed_address', 'lat', 'long', 'bedrooms', 'bathrooms', 'distance', 'link', 'picture_url', 'building_name'], axis=1)\n",
    "df_train.head(2)"
   ]
  },
  {
   "cell_type": "code",
   "execution_count": 334,
   "id": "915cf687",
   "metadata": {},
   "outputs": [
    {
     "data": {
      "text/html": [
       "<div>\n",
       "<style scoped>\n",
       "    .dataframe tbody tr th:only-of-type {\n",
       "        vertical-align: middle;\n",
       "    }\n",
       "\n",
       "    .dataframe tbody tr th {\n",
       "        vertical-align: top;\n",
       "    }\n",
       "\n",
       "    .dataframe thead th {\n",
       "        text-align: right;\n",
       "    }\n",
       "</style>\n",
       "<table border=\"1\" class=\"dataframe\">\n",
       "  <thead>\n",
       "    <tr style=\"text-align: right;\">\n",
       "      <th></th>\n",
       "      <th>countvectorizer__Clubhouse</th>\n",
       "      <th>countvectorizer__Jacuzzi</th>\n",
       "      <th>countvectorizer__Parking</th>\n",
       "      <th>sqft</th>\n",
       "      <th>built_year</th>\n",
       "      <th>tenure</th>\n",
       "      <th>price_month</th>\n",
       "      <th>walking_time</th>\n",
       "      <th>studio</th>\n",
       "      <th>district_number</th>\n",
       "      <th>...</th>\n",
       "      <th>mrt_name_Rochor MRT</th>\n",
       "      <th>mrt_name_Potong Pasir MRT</th>\n",
       "      <th>mrt_name_Eunos MRT</th>\n",
       "      <th>mrt_name_Dakota MRT</th>\n",
       "      <th>mrt_name_Kembangan MRT</th>\n",
       "      <th>mrt_name_Toa Payoh MRT</th>\n",
       "      <th>mrt_name_Chinatown MRT</th>\n",
       "      <th>mrt_name_Stadium MRT</th>\n",
       "      <th>mrt_name_Lakeside MRT</th>\n",
       "      <th>total room</th>\n",
       "    </tr>\n",
       "  </thead>\n",
       "  <tbody>\n",
       "    <tr>\n",
       "      <th>0</th>\n",
       "      <td>0</td>\n",
       "      <td>0</td>\n",
       "      <td>1</td>\n",
       "      <td>3347</td>\n",
       "      <td>2010.0</td>\n",
       "      <td>1</td>\n",
       "      <td>18000</td>\n",
       "      <td>10.0</td>\n",
       "      <td>0</td>\n",
       "      <td>24</td>\n",
       "      <td>...</td>\n",
       "      <td>0</td>\n",
       "      <td>0</td>\n",
       "      <td>0</td>\n",
       "      <td>0</td>\n",
       "      <td>0</td>\n",
       "      <td>0</td>\n",
       "      <td>0</td>\n",
       "      <td>0</td>\n",
       "      <td>0</td>\n",
       "      <td>8.0</td>\n",
       "    </tr>\n",
       "    <tr>\n",
       "      <th>1</th>\n",
       "      <td>0</td>\n",
       "      <td>0</td>\n",
       "      <td>0</td>\n",
       "      <td>377</td>\n",
       "      <td>2015.0</td>\n",
       "      <td>1</td>\n",
       "      <td>2100</td>\n",
       "      <td>35.0</td>\n",
       "      <td>0</td>\n",
       "      <td>17</td>\n",
       "      <td>...</td>\n",
       "      <td>0</td>\n",
       "      <td>0</td>\n",
       "      <td>0</td>\n",
       "      <td>0</td>\n",
       "      <td>0</td>\n",
       "      <td>0</td>\n",
       "      <td>0</td>\n",
       "      <td>0</td>\n",
       "      <td>0</td>\n",
       "      <td>3.0</td>\n",
       "    </tr>\n",
       "  </tbody>\n",
       "</table>\n",
       "<p>2 rows × 51 columns</p>\n",
       "</div>"
      ],
      "text/plain": [
       "   countvectorizer__Clubhouse  countvectorizer__Jacuzzi  \\\n",
       "0                           0                         0   \n",
       "1                           0                         0   \n",
       "\n",
       "   countvectorizer__Parking  sqft  built_year  tenure  price_month  \\\n",
       "0                         1  3347      2010.0       1        18000   \n",
       "1                         0   377      2015.0       1         2100   \n",
       "\n",
       "   walking_time  studio  district_number  ...  mrt_name_Rochor MRT  \\\n",
       "0          10.0       0               24  ...                    0   \n",
       "1          35.0       0               17  ...                    0   \n",
       "\n",
       "   mrt_name_Potong Pasir MRT  mrt_name_Eunos MRT  mrt_name_Dakota MRT  \\\n",
       "0                          0                   0                    0   \n",
       "1                          0                   0                    0   \n",
       "\n",
       "   mrt_name_Kembangan MRT  mrt_name_Toa Payoh MRT  mrt_name_Chinatown MRT  \\\n",
       "0                       0                       0                       0   \n",
       "1                       0                       0                       0   \n",
       "\n",
       "   mrt_name_Stadium MRT  mrt_name_Lakeside MRT  total room  \n",
       "0                     0                      0         8.0  \n",
       "1                     0                      0         3.0  \n",
       "\n",
       "[2 rows x 51 columns]"
      ]
     },
     "execution_count": 334,
     "metadata": {},
     "output_type": "execute_result"
    }
   ],
   "source": [
    "#final look of the transformed train dataframe\n",
    "df_test = df_test.drop(['detailed_address', 'lat', 'long', 'bedrooms', 'bathrooms', 'distance', 'link', 'picture_url', 'building_name'], axis=1)\n",
    "df_test.head(2)"
   ]
  },
  {
   "cell_type": "markdown",
   "id": "2113cb08",
   "metadata": {},
   "source": [
    "# Modelling"
   ]
  },
  {
   "cell_type": "code",
   "execution_count": 335,
   "id": "cfe073e1",
   "metadata": {},
   "outputs": [],
   "source": [
    "# we will create a nested cross validation, the inner_cv will be used to select the best hyperparameter \n",
    "# and the outer cv will be used for model selection.\n",
    "inner_cv = KFold(n_splits=5, shuffle=True, random_state=0)\n",
    "outer_cv = KFold(n_splits=5, shuffle=True, random_state=0)"
   ]
  },
  {
   "cell_type": "markdown",
   "id": "421d4be2",
   "metadata": {},
   "source": [
    "## Baseline RMSE Score"
   ]
  },
  {
   "cell_type": "code",
   "execution_count": 336,
   "id": "d741a77f",
   "metadata": {},
   "outputs": [],
   "source": [
    "df_train['baseline'] = df_train.price_month.mean()"
   ]
  },
  {
   "cell_type": "code",
   "execution_count": 337,
   "id": "13283ba6",
   "metadata": {},
   "outputs": [
    {
     "data": {
      "text/plain": [
       "4444.0"
      ]
     },
     "execution_count": 337,
     "metadata": {},
     "output_type": "execute_result"
    }
   ],
   "source": [
    "np.round(mean_squared_error(df_train['price_month'], df_train['baseline'], squared = False))"
   ]
  },
  {
   "cell_type": "code",
   "execution_count": 338,
   "id": "41db78d8",
   "metadata": {},
   "outputs": [],
   "source": [
    "#drop baseline\n",
    "df_train = df_train.drop('baseline', axis=1)"
   ]
  },
  {
   "cell_type": "markdown",
   "id": "14457845",
   "metadata": {},
   "source": [
    "Baseline rmse score of predicting each observation as the mean of our training sample is \\\\$4444"
   ]
  },
  {
   "cell_type": "code",
   "execution_count": 339,
   "id": "ac99fa25",
   "metadata": {},
   "outputs": [],
   "source": [
    "#create a dataframe to store result\n",
    "all_results = pd.DataFrame(columns= ['rmse_mean', 'rmse_std', 'adjusted_r2_mean', 'adjusted_r2_std'])"
   ]
  },
  {
   "cell_type": "code",
   "execution_count": 340,
   "id": "ac1f2aa8",
   "metadata": {},
   "outputs": [],
   "source": [
    "#create a function to sstore and display all result\n",
    "def resultsummary(rmse, adjusted_r2, series_name):\n",
    "    #set global for pandas dataframe\n",
    "    global all_results\n",
    "    \n",
    "    rmse_mean = np.round(np.mean(rmse))\n",
    "    rmse_std = np.round(np.std(rmse))\n",
    "    r2_mean = np.round(np.mean(adjusted_r2),2)\n",
    "    r2_std = np.round(np.std(adjusted_r2),2)\n",
    "\n",
    "    series = pd.Series([rmse_mean, rmse_std, r2_mean, r2_std], index = all_results.columns, name = series_name)\n",
    "\n",
    "    all_results = all_results.append(series)\n",
    "\n",
    "    print(f'{series_name}_mean_RMSE:', rmse_mean)\n",
    "    print(f'{series_name}_std_RMSE:', rmse_std)\n",
    "    print(f'{series_name}_Adjusted R^2:', r2_mean)\n",
    "    print(f'{series_name}_Adjusted R^2:', r2_std)"
   ]
  },
  {
   "cell_type": "markdown",
   "id": "2b1bf73d",
   "metadata": {},
   "source": [
    "## Linear Regression"
   ]
  },
  {
   "cell_type": "markdown",
   "id": "63a30974",
   "metadata": {},
   "source": [
    "We will start we the least complex model Linear Regression to set a baseline algorithm."
   ]
  },
  {
   "cell_type": "markdown",
   "id": "10b02413",
   "metadata": {},
   "source": [
    "It is to be noted that Multiple Iteration in selecting feature has been performed to handle multi-colinearity however the intemerdiate steps are not shown, only the final result is shown."
   ]
  },
  {
   "cell_type": "code",
   "execution_count": 341,
   "id": "e4710a45",
   "metadata": {},
   "outputs": [],
   "source": [
    "y_train_lr = df_train_lr['price_month']\n",
    "\n",
    "#select feature that is not violating the multiconearity assumption.\n",
    "#Note that this cell has been reiterated to tune VIF down to < 10 for all features.\n",
    "\n",
    "X_train_lr = df_train_lr[['countvectorizer__Clubhouse', 'countvectorizer__Jacuzzi',\n",
    "       'countvectorizer__Parking',\n",
    "       'tenure', 'studio', 'district_number', 'total room']]"
   ]
  },
  {
   "cell_type": "code",
   "execution_count": 342,
   "id": "b1cb5633",
   "metadata": {},
   "outputs": [],
   "source": [
    "#reverse transform of box-cox of monthly_rental\n",
    "#source: https://scikit-learn.org/stable/modules/generated/sklearn.preprocessing.PowerTransformer.html\n",
    "def inverse_transform(X_trans, lambda_):\n",
    "    if lambda_ == 0:\n",
    "        X = exp(X_trans)\n",
    "    else:\n",
    "        X = (X_trans * lambda_ + 1) ** (1 / lambda_)\n",
    "    return X"
   ]
  },
  {
   "cell_type": "markdown",
   "id": "b460514d",
   "metadata": {},
   "source": [
    "#### Adjusted R2"
   ]
  },
  {
   "attachments": {
    "image.png": {
     "image/png": "[encoded data removed]"
    }
   },
   "cell_type": "markdown",
   "id": "390081b2",
   "metadata": {},
   "source": [
    "![image.png](attachment:image.png)"
   ]
  },
  {
   "cell_type": "code",
   "execution_count": 343,
   "id": "fceb0539",
   "metadata": {},
   "outputs": [],
   "source": [
    "def modified_r2score(*, r2, n, p):\n",
    "    \"\"\"\n",
    "    n = number of rows\n",
    "    p = number of predictors\n",
    "    \"\"\"    \n",
    "    modify_r2 = 1 - (1 - r2)*(n - 1) / (n - p - 1)\n",
    "    \n",
    "    return modify_r2\n",
    "    "
   ]
  },
  {
   "cell_type": "markdown",
   "id": "3a12ea24",
   "metadata": {},
   "source": [
    "#### Linear Regression Result"
   ]
  },
  {
   "cell_type": "code",
   "execution_count": 344,
   "id": "353008b0",
   "metadata": {},
   "outputs": [],
   "source": [
    "#we will create our own cross validation as we need the result to be returned in original unit (eg: inverse transform of boxcox)\n",
    "mean_adjusted_r2 = []\n",
    "mean_rmse = []\n",
    "\n",
    "# 5-fold cross validation\n",
    "for train_index, validation_index in outer_cv.split(X_train_lr):\n",
    "    \n",
    "    #setting index of cross validation\n",
    "    X_train, X_validation = X_train_lr.iloc[train_index], X_train_lr.iloc[validation_index]\n",
    "    y_train, y_validation = y_train_lr.iloc[train_index], y_train_lr.iloc[validation_index]\n",
    "    \n",
    "    #fitting linear regression\n",
    "    lr = LinearRegression()\n",
    "    lr.fit(X_train, y_train)\n",
    "    \n",
    "    #predict based on X_validation\n",
    "    y_pred = lr.predict(X_validation)\n",
    "    \n",
    "    #reverse transform of boxcox\n",
    "    y_pred = inverse_transform(y_pred, bct.lambda_dict_['price_month'])\n",
    "    y_validation = inverse_transform(y_validation, bct.lambda_dict_['price_month'])\n",
    "    \n",
    "    #calculating r2\n",
    "    r2 = r2_score(y_validation, y_pred)\n",
    "    \n",
    "    #calculating adjusted_r2\n",
    "    n = y_validation.shape[0]\n",
    "    p = X_train_lr.shape[1]\n",
    "    adjusted_r2 = modified_r2score(r2 = r2, n=n, p=p)\n",
    "    rmse = mean_squared_error(y_validation, y_pred, squared=False)\n",
    "    \n",
    "    #appending metrics\n",
    "    mean_adjusted_r2.append(adjusted_r2)\n",
    "    mean_rmse.append(rmse)"
   ]
  },
  {
   "cell_type": "code",
   "execution_count": 345,
   "id": "14fcb437",
   "metadata": {},
   "outputs": [
    {
     "name": "stdout",
     "output_type": "stream",
     "text": [
      "LinearRegression_mean_RMSE: 3127.0\n",
      "LinearRegression_std_RMSE: 279.0\n",
      "LinearRegression_Adjusted R^2: 0.5\n",
      "LinearRegression_Adjusted R^2: 0.02\n"
     ]
    }
   ],
   "source": [
    "resultsummary(rmse=mean_rmse, \n",
    "              adjusted_r2 =mean_adjusted_r2, \n",
    "              series_name = 'LinearRegression')"
   ]
  },
  {
   "cell_type": "code",
   "execution_count": 346,
   "id": "d4b92c1b",
   "metadata": {},
   "outputs": [
    {
     "data": {
      "image/png": "[encoded data removed]",
      "text/plain": [
       "<Figure size 432x288 with 1 Axes>"
      ]
     },
     "metadata": {
      "needs_background": "light"
     },
     "output_type": "display_data"
    }
   ],
   "source": [
    "#refit\n",
    "lr = LinearRegression()\n",
    "lr.fit(X_train_lr, y_train_lr)\n",
    "y_pred = lr.predict(X_train_lr)\n",
    "y_pred = inverse_transform(y_pred, bct.lambda_dict_['price_month'])\n",
    "\n",
    "# Visualizing actual prices vs predicted values\n",
    "plt.scatter(df_train['price_month'], y_pred)\n",
    "plt.xlabel(\"Actual Price\")\n",
    "plt.ylabel(\"Predicted Price\")\n",
    "plt.title(\"Actual Rental Price vs Predicted Rental Price\")\n",
    "plt.show()"
   ]
  },
  {
   "cell_type": "markdown",
   "id": "32ad7497",
   "metadata": {},
   "source": [
    "### Performing checks for multi-linear regression assumptions\n",
    "\n",
    "1. **Linearity**: The mean values of the outcome variable for each increment of the predictor(s) lie along a straight line. In other words, there is a linear relationship between predictors and target.\n",
    "\n",
    "2. **No perfect multicollinearity**: There should be no perfect linear relationship between two or more of the predictors.\n",
    "\n",
    "3. **Normally distributed errors**: the residuals are random, normally distributed with a mean of 0.\n",
    "\n",
    "4. **Homoscedasticity**: The variance of the residual terms should be constant."
   ]
  },
  {
   "cell_type": "markdown",
   "id": "39994067",
   "metadata": {},
   "source": [
    "#### Equal Error Variance (Homoscedasticity)"
   ]
  },
  {
   "cell_type": "code",
   "execution_count": 347,
   "id": "76619d0b",
   "metadata": {},
   "outputs": [
    {
     "data": {
      "image/png": "[encoded data removed]",
      "text/plain": [
       "<Figure size 432x288 with 1 Axes>"
      ]
     },
     "metadata": {
      "needs_background": "light"
     },
     "output_type": "display_data"
    }
   ],
   "source": [
    "# Residual vs fit plot\n",
    "plt.scatter(y_pred, df_train['price_month'] - y_pred)\n",
    "plt.title(\"Residual vs Fit Plot\")\n",
    "plt.xlabel(\"Predicted\")\n",
    "plt.ylabel(\"Residuals\")\n",
    "plt.show()"
   ]
  },
  {
   "cell_type": "markdown",
   "id": "6940053e",
   "metadata": {},
   "source": [
    "We can see that there is an increase variance when as the predicted value increase, this suggest that the relationship is not linear"
   ]
  },
  {
   "cell_type": "markdown",
   "id": "e887f872",
   "metadata": {},
   "source": [
    "#### Multi-Collinearity"
   ]
  },
  {
   "cell_type": "markdown",
   "id": "5b54b84c",
   "metadata": {},
   "source": [
    "We can see that there is an increasing variance as the price increased. This shows that the relationship might not be linear"
   ]
  },
  {
   "cell_type": "code",
   "execution_count": 348,
   "id": "a0a03f92",
   "metadata": {},
   "outputs": [],
   "source": [
    "def calc_vif(X):\n",
    "    vif = pd.DataFrame()\n",
    "    vif[\"variables\"] = X.columns\n",
    "    vif[\"VIF\"] = [variance_inflation_factor(X.values, i) for i in range(X.shape[1])]\n",
    "    return(vif)"
   ]
  },
  {
   "cell_type": "code",
   "execution_count": 349,
   "id": "02c47598",
   "metadata": {},
   "outputs": [
    {
     "data": {
      "text/html": [
       "<div>\n",
       "<style scoped>\n",
       "    .dataframe tbody tr th:only-of-type {\n",
       "        vertical-align: middle;\n",
       "    }\n",
       "\n",
       "    .dataframe tbody tr th {\n",
       "        vertical-align: top;\n",
       "    }\n",
       "\n",
       "    .dataframe thead th {\n",
       "        text-align: right;\n",
       "    }\n",
       "</style>\n",
       "<table border=\"1\" class=\"dataframe\">\n",
       "  <thead>\n",
       "    <tr style=\"text-align: right;\">\n",
       "      <th></th>\n",
       "      <th>variables</th>\n",
       "      <th>VIF</th>\n",
       "    </tr>\n",
       "  </thead>\n",
       "  <tbody>\n",
       "    <tr>\n",
       "      <th>0</th>\n",
       "      <td>countvectorizer__Clubhouse</td>\n",
       "      <td>1.859244</td>\n",
       "    </tr>\n",
       "    <tr>\n",
       "      <th>1</th>\n",
       "      <td>countvectorizer__Jacuzzi</td>\n",
       "      <td>1.714904</td>\n",
       "    </tr>\n",
       "    <tr>\n",
       "      <th>2</th>\n",
       "      <td>countvectorizer__Parking</td>\n",
       "      <td>1.810536</td>\n",
       "    </tr>\n",
       "    <tr>\n",
       "      <th>3</th>\n",
       "      <td>tenure</td>\n",
       "      <td>2.077390</td>\n",
       "    </tr>\n",
       "    <tr>\n",
       "      <th>4</th>\n",
       "      <td>studio</td>\n",
       "      <td>1.040204</td>\n",
       "    </tr>\n",
       "    <tr>\n",
       "      <th>5</th>\n",
       "      <td>district_number</td>\n",
       "      <td>6.526102</td>\n",
       "    </tr>\n",
       "    <tr>\n",
       "      <th>6</th>\n",
       "      <td>total room</td>\n",
       "      <td>6.509431</td>\n",
       "    </tr>\n",
       "  </tbody>\n",
       "</table>\n",
       "</div>"
      ],
      "text/plain": [
       "                    variables       VIF\n",
       "0  countvectorizer__Clubhouse  1.859244\n",
       "1    countvectorizer__Jacuzzi  1.714904\n",
       "2    countvectorizer__Parking  1.810536\n",
       "3                      tenure  2.077390\n",
       "4                      studio  1.040204\n",
       "5             district_number  6.526102\n",
       "6                  total room  6.509431"
      ]
     },
     "execution_count": 349,
     "metadata": {},
     "output_type": "execute_result"
    }
   ],
   "source": [
    "calc_vif(X_train_lr)"
   ]
  },
  {
   "cell_type": "markdown",
   "id": "dfc000ae",
   "metadata": {},
   "source": [
    "There is no multicolinearity ( VIF < 10)"
   ]
  },
  {
   "cell_type": "markdown",
   "id": "7cdd8729",
   "metadata": {},
   "source": [
    "#### Normal Error (Multivariate Normality)"
   ]
  },
  {
   "cell_type": "code",
   "execution_count": 350,
   "id": "68498a0b",
   "metadata": {},
   "outputs": [
    {
     "data": {
      "image/png": "[encoded data removed]",
      "text/plain": [
       "<Figure size 1080x288 with 2 Axes>"
      ]
     },
     "metadata": {
      "needs_background": "light"
     },
     "output_type": "display_data"
    }
   ],
   "source": [
    "fig , ax = plt.subplots(nrows = 1, ncols = 2, figsize=(15,4))\n",
    "\n",
    "#histogram\n",
    "sns.histplot(df_train['price_month'] - y_pred, ax=ax[0], kde=True)\n",
    "ax[0].set_title('Normality of Residuals')\n",
    "ax[0].set_xlabel(\"Residuals\")\n",
    "ax[0].set_ylabel(\"Frequency\")\n",
    "\n",
    "#Q-Q plot\n",
    "stats.probplot(df_train['price_month'] - y_pred, dist='norm', plot=ax[1])\n",
    "ax[1].set_title('Q-Q Plot')\n",
    "ax[1].set_xlabel(\"\")\n",
    "ax[1].set_ylabel(\"\");"
   ]
  },
  {
   "cell_type": "markdown",
   "id": "ba3cdd22",
   "metadata": {},
   "source": [
    "Normality of the distribution of the residual is preserved until a certain threshold."
   ]
  },
  {
   "cell_type": "markdown",
   "id": "14270745",
   "metadata": {},
   "source": [
    "### Summary of Linear Regression"
   ]
  },
  {
   "cell_type": "markdown",
   "id": "8ef26a15",
   "metadata": {},
   "source": [
    "1. 3/4 assumptions of linear regression is violated except for Multicolinearity.\n",
    "In order to use linear regression, we need to validate our prediction within a certain threshold.\n",
    "\n",
    "2. RMSE is \\\\$3000 which is better than the baseline of \\\\$4444, Adjusted_R2 is 0.5"
   ]
  },
  {
   "cell_type": "markdown",
   "id": "10298d02",
   "metadata": {},
   "source": [
    "## Support Vector Regression"
   ]
  },
  {
   "cell_type": "code",
   "execution_count": 351,
   "id": "de45c81b",
   "metadata": {},
   "outputs": [],
   "source": [
    "svr = SVR(kernel='poly')"
   ]
  },
  {
   "cell_type": "code",
   "execution_count": 352,
   "id": "8a0e4b5a",
   "metadata": {},
   "outputs": [],
   "source": [
    "X_train = df_train[['sqft', \n",
    "                    'countvectorizer__Clubhouse', \n",
    "                    'countvectorizer__Jacuzzi', \n",
    "                    'countvectorizer__Parking',\n",
    "                   'built_year',\n",
    "                   'tenure',\n",
    "                   'walking_time',\n",
    "                   'district_number',\n",
    "                   'mrt_availability',\n",
    "                   'total room']]\n",
    "feature = X_train.columns\n",
    "y_train = df_train['price_month']\n",
    "\n",
    "sc = StandardScaler()\n",
    "X_train = sc.fit_transform(X_train)"
   ]
  },
  {
   "cell_type": "code",
   "execution_count": 353,
   "id": "94db8ff2",
   "metadata": {},
   "outputs": [],
   "source": [
    "params = {'kernel' : ['linear', 'poly'],\n",
    "          'degree' : [2 , 3],\n",
    "          'epsilon' : [0.1, 0.5, 1, 5, 10],\n",
    "          'C' : [1000, 5000, 10000]   \n",
    "}"
   ]
  },
  {
   "cell_type": "code",
   "execution_count": null,
   "id": "029397ad",
   "metadata": {},
   "outputs": [
    {
     "name": "stderr",
     "output_type": "stream",
     "text": [
      "[Parallel(n_jobs=-1)]: Using backend LokyBackend with 12 concurrent workers.\n"
     ]
    }
   ],
   "source": [
    "svc = GridSearchCV(svr, param_grid= params, cv=inner_cv, scoring='neg_root_mean_squared_error', n_jobs=-1)\n",
    "\n",
    "\n",
    "\n",
    "score = cross_validate(svc, X_train, y_train, cv=outer_cv, scoring='neg_root_mean_squared_error', return_estimator=True, verbose=1, n_jobs=-1)"
   ]
  },
  {
   "cell_type": "code",
   "execution_count": null,
   "id": "f4fe11f1",
   "metadata": {},
   "outputs": [],
   "source": [
    "for i in range(5):\n",
    "    print('bestscore:', score['test_score'][i])\n",
    "    print('bestparam:', score['estimator'][i].best_params_)\n",
    "    print('****************************************************************')"
   ]
  },
  {
   "cell_type": "markdown",
   "id": "280c5f65",
   "metadata": {},
   "source": [
    "This is insightful as we can see that different hyperparameters are found on each iteration, showing that good hyperparameters on this dataset are dependent on the specifics of the dataset. Overall we can see that the poly kernel has better overall rmse score. We will select kernel poly as our best param."
   ]
  },
  {
   "cell_type": "code",
   "execution_count": null,
   "id": "d6f780d3",
   "metadata": {},
   "outputs": [],
   "source": [
    "#select best estimator\n",
    "best_scv = score['estimator'][3].best_estimator_\n",
    "best_scv_score = cross_val_score(best_scv, X_train, y_train, scoring = 'neg_root_mean_squared_error')\n",
    "best_scv_score_r2 = cross_val_score(best_scv, X_train, y_train, scoring = 'r2')"
   ]
  },
  {
   "cell_type": "code",
   "execution_count": null,
   "id": "273bd615",
   "metadata": {},
   "outputs": [],
   "source": [
    "r2 = modified_r2score(r2 = best_scv_score_r2,\n",
    "                n = X_train.shape[0],\n",
    "                p = X_train.shape[1])\n",
    "resultsummary(best_scv_score, r2, 'SVM Regression')"
   ]
  },
  {
   "cell_type": "code",
   "execution_count": null,
   "id": "165db688",
   "metadata": {},
   "outputs": [],
   "source": [
    "modify_r2 = 1 - (1 - best_scv_score_r2)*(X_train.shape[0] - 1) / (X_train.shape[0] - len(feature) - 1)\n",
    "\n",
    "svm_rmse_mean = np.round(-np.mean(best_scv_score))\n",
    "svm_rmse_std = np.round(np.std(best_scv_score))\n",
    "svm_r2_mean = np.round(np.mean(modify_r2), 2)\n",
    "svm_r2_std = np.round(np.std(modify_r2), 2)\n",
    "\n",
    "svm_series = pd.Series([svm_rmse_mean, svm_rmse_std, svm_r2_mean, svm_r2_std], index = all_results.columns, name = 'SVM Regression')\n",
    "\n",
    "all_results = all_results.append(svm_series)\n",
    "\n",
    "print('SVM_mean_rmse:', svm_rmse_mean)\n",
    "print('SVM_std_rmse:', svm_rmse_std)\n",
    "print('SVM_mean_adjusted_r2:', svm_r2_mean)\n",
    "print('SVM_std_adjusted_r2:', svm_r2_std)\n"
   ]
  },
  {
   "cell_type": "markdown",
   "id": "51880c75",
   "metadata": {},
   "source": [
    "## XGBoost Regression"
   ]
  },
  {
   "cell_type": "code",
   "execution_count": null,
   "id": "14edeb06",
   "metadata": {},
   "outputs": [],
   "source": [
    "xgb = XGBRegressor(random_state=0, n_jobs=6)"
   ]
  },
  {
   "cell_type": "code",
   "execution_count": null,
   "id": "a554c37e",
   "metadata": {},
   "outputs": [],
   "source": [
    "X_train = df_train.drop(['price_month', 'baseline', 'total room'],axis=1)\n",
    "y_train = df_train['price_month']"
   ]
  },
  {
   "cell_type": "code",
   "execution_count": null,
   "id": "56cb162a",
   "metadata": {},
   "outputs": [],
   "source": [
    "tree_params ={\n",
    "    'n_estimators' : [100, 200],\n",
    "    'max_depth' : [6, 7, 8],\n",
    "    'eta' : [0.1, 0.15, 0.2],\n",
    "    'subsample':[0.5, 0.8, 1], \n",
    "}"
   ]
  },
  {
   "cell_type": "code",
   "execution_count": null,
   "id": "3a291d64",
   "metadata": {},
   "outputs": [],
   "source": [
    "xgboost = GridSearchCV(xgb, param_grid= tree_params, cv=inner_cv, scoring='neg_root_mean_squared_error', n_jobs=6)\n",
    "xgb_score = cross_validate(xgboost, X_train, y_train, cv=outer_cv, scoring='neg_root_mean_squared_error', return_estimator=True, verbose=2, n_jobs=6)"
   ]
  },
  {
   "cell_type": "code",
   "execution_count": null,
   "id": "aa3ead91",
   "metadata": {},
   "outputs": [],
   "source": [
    "for i in range(5):\n",
    "    print('bestscore:', xgb_score['test_score'][i])\n",
    "    print('bestparam:', xgb_score['estimator'][i].best_params_)\n",
    "    print('****************************************************************')"
   ]
  },
  {
   "cell_type": "markdown",
   "id": "bfab932d",
   "metadata": {},
   "source": [
    "Similar to SVM, we can see that different hyperparameters are found on each iteration, showing that good hyperparameters on this dataset are dependent on the specifics of the dataset"
   ]
  },
  {
   "cell_type": "code",
   "execution_count": null,
   "id": "98f30294",
   "metadata": {},
   "outputs": [],
   "source": [
    "#select best estimator via manual iterating best score for each model\n",
    "# model[4] has the best score for all dataset however the all results were close.\n",
    "best_xgb = xgb_score['estimator'][4].best_estimator_\n",
    "best_xgb_score = cross_val_score(best_xgb, X_train, y_train, scoring = 'neg_root_mean_squared_error')\n",
    "best_xgb_score_r2 = cross_val_score(best_xgb, X_train, y_train, scoring = 'r2');"
   ]
  },
  {
   "cell_type": "code",
   "execution_count": null,
   "id": "801628ef",
   "metadata": {},
   "outputs": [],
   "source": [
    "modify_r2 = 1 - (1 - best_xgb_score_r2)*(X_train.shape[0] - 1) / (X_train.shape[0] - X_train.shape[1] - 1)\n",
    "\n",
    "xgb_rmse_mean = np.round(-np.mean(best_xgb_score))\n",
    "xgb_rmse_std = np.round(np.std(best_xgb_score))\n",
    "xgb_r2_mean = np.round(np.mean(modify_r2), 2)\n",
    "xgb_r2_std = np.round(np.std(modify_r2), 2)\n",
    "\n",
    "xgb_series = pd.Series([xgb_rmse_mean, xgb_rmse_std, xgb_r2_mean, xgb_r2_std], index = all_results.columns, name = 'XGBoostRegression')\n",
    "\n",
    "all_results = all_results.append(xgb_series)\n",
    "\n",
    "\n",
    "\n",
    "print('XGB_mean_rmse:', xgb_rmse_mean)\n",
    "print('XGB_std_rmse:', xgb_rmse_std)\n",
    "print('XGB_mean_adjusted_r2:', xgb_r2_mean)\n",
    "print('XGB_std_adjusted_r2:', xgb_r2_std)"
   ]
  },
  {
   "cell_type": "markdown",
   "id": "607bef01",
   "metadata": {},
   "source": [
    "# Algorithm Selection"
   ]
  },
  {
   "cell_type": "code",
   "execution_count": null,
   "id": "cd6a5070",
   "metadata": {},
   "outputs": [],
   "source": [
    "all_results"
   ]
  },
  {
   "cell_type": "markdown",
   "id": "44b42a8b",
   "metadata": {},
   "source": [
    "We will choose XGBoostRegression for further fine tuning via Feature-Selection & Hyperparameter tuning as it has the highest validation rmse & adjusted_R2"
   ]
  },
  {
   "cell_type": "markdown",
   "id": "ea350257",
   "metadata": {},
   "source": [
    "# Feature Selection for the Chosen Algorithm"
   ]
  },
  {
   "cell_type": "markdown",
   "id": "104b4c92",
   "metadata": {},
   "source": [
    "We will perform feature selection via Recursive-feature-elimination with XGBoost tree importance."
   ]
  },
  {
   "cell_type": "code",
   "execution_count": null,
   "id": "cf395fd6",
   "metadata": {},
   "outputs": [],
   "source": [
    "sel = RecursiveFeatureElimination(\n",
    "    variables=None, # automatically evaluate all numerical variables\n",
    "    estimator = best_xgb, # the selected model\n",
    "    scoring = 'neg_root_mean_squared_error', # the metric we want to evalute\n",
    "    threshold = 50, # the maximum rmse drop allowed to remove a feature\n",
    "    cv=5, # cross-validation\n",
    ")"
   ]
  },
  {
   "cell_type": "code",
   "execution_count": null,
   "id": "d55fa258",
   "metadata": {},
   "outputs": [],
   "source": [
    "sel.fit(X_train, y_train);"
   ]
  },
  {
   "cell_type": "code",
   "execution_count": null,
   "id": "74e48456",
   "metadata": {},
   "outputs": [],
   "source": [
    "# importance of all features based of initial model\n",
    "\n",
    "sel.feature_importances_.plot.bar(figsize=(20,6))\n",
    "plt.xlabel('Features')\n",
    "plt.ylabel('Importance')\n",
    "plt.show()"
   ]
  },
  {
   "cell_type": "code",
   "execution_count": null,
   "id": "38bc7794",
   "metadata": {},
   "outputs": [],
   "source": [
    "# we plot to find out how each of the feature influence the model performance\n",
    "pd.Series(sel.performance_drifts_).plot.bar(figsize=(20,6))\n",
    "plt.xlabel('Features')\n",
    "plt.ylabel('Performance change when feature was added')\n",
    "plt.show()"
   ]
  },
  {
   "cell_type": "markdown",
   "id": "59694054",
   "metadata": {},
   "source": [
    "we can see that although Orchard_MRT & Downtown Mrt has higher feature importance, however it does not affect the model performance much. This suggest that there is an interaction effect / multicolinearity with other feature"
   ]
  },
  {
   "cell_type": "code",
   "execution_count": null,
   "id": "ff9794d0",
   "metadata": {},
   "outputs": [],
   "source": [
    "# Number of features that will be removed\n",
    "len(sel.features_to_drop_)"
   ]
  },
  {
   "cell_type": "code",
   "execution_count": null,
   "id": "51a49617",
   "metadata": {},
   "outputs": [],
   "source": [
    "X_train = sel.transform(X_train)"
   ]
  },
  {
   "cell_type": "code",
   "execution_count": null,
   "id": "e3177b69",
   "metadata": {},
   "outputs": [],
   "source": [
    "#final selected column\n",
    "X_train.columns"
   ]
  },
  {
   "cell_type": "code",
   "execution_count": null,
   "id": "83e6df1b",
   "metadata": {},
   "outputs": [],
   "source": [
    "cross_val_score(best_xgb, X_train, y_train, cv=5, scoring='neg_root_mean_squared_error').mean()"
   ]
  },
  {
   "cell_type": "markdown",
   "id": "7efa2a27",
   "metadata": {},
   "source": [
    "# Final Hyperameter Tuning via Optuna"
   ]
  },
  {
   "cell_type": "markdown",
   "id": "6f7da913",
   "metadata": {},
   "source": [
    "Previously we have perform gridsearch for the hyperparameter for gridsearch, however it is not exhaustive as full gridsearch is computationally intensive. Here, we will be using Optuna for hyperparameter tuning. It is an optimization hyperparameter tuning that explore the space of hyperparamter."
   ]
  },
  {
   "cell_type": "markdown",
   "id": "b3dbb965",
   "metadata": {},
   "source": [
    "This is the hyperparameter response space, the function we want to optimize."
   ]
  },
  {
   "cell_type": "code",
   "execution_count": null,
   "id": "7fe305f7",
   "metadata": {},
   "outputs": [],
   "source": [
    "def objective(trial):\n",
    "\n",
    "    eta = trial.suggest_float(\"eta\", 1e-2, 0.3, log=True)\n",
    "    reg_lambda = trial.suggest_loguniform(\"reg_lambda\", 1e-8, 100)\n",
    "    reg_alpha = trial.suggest_loguniform(\"reg_alpha\", 1e-8, 100)\n",
    "    subsample = trial.suggest_float(\"subsample\", 0.1, 1)\n",
    "    colsample_bytree = trial.suggest_float(\"colsample_bytree\", 0.1, 1.0)\n",
    "    max_depth = trial.suggest_int(\"max_depth\", 1, 7)\n",
    "    \n",
    "    model = XGBRegressor(random_state=0,\n",
    "                         n_estimators = 200,\n",
    "                         eta = eta,\n",
    "                         reg_lambda = reg_lambda,\n",
    "                         reg_alpha = reg_alpha,\n",
    "                         subsample = subsample,\n",
    "                         colsample_bytree = colsample_bytree,\n",
    "                         max_depth = max_depth,\n",
    "                         n_jobs=6\n",
    "                         )\n",
    "\n",
    "    score = cross_val_score(model, X_train, y_train, scoring = 'neg_root_mean_squared_error',  cv=5, verbose=1)\n",
    "    accuracy = score.mean()\n",
    "    return accuracy"
   ]
  },
  {
   "cell_type": "code",
   "execution_count": null,
   "id": "fba30fc8",
   "metadata": {},
   "outputs": [],
   "source": [
    "#note that sklearn neg_room_mean_square return results as negative. hence we should maximize instead\n",
    "study = optuna.create_study(direction = 'maximize')\n",
    "study.optimize(objective, n_trials=100)"
   ]
  },
  {
   "cell_type": "code",
   "execution_count": null,
   "id": "c9885973",
   "metadata": {},
   "outputs": [],
   "source": [
    "#best params\n",
    "study.best_params"
   ]
  },
  {
   "cell_type": "code",
   "execution_count": null,
   "id": "6a253f55",
   "metadata": {},
   "outputs": [],
   "source": [
    "#best params\n",
    "study.best_value"
   ]
  },
  {
   "cell_type": "markdown",
   "id": "a377946d",
   "metadata": {},
   "source": [
    "The RMSE 1449. As compare to previous gridsearch, the best value found was -1504. There is a slight improvement."
   ]
  },
  {
   "cell_type": "markdown",
   "id": "84cdc43c",
   "metadata": {},
   "source": [
    "# Final Model Evaluation of Test Set"
   ]
  },
  {
   "cell_type": "code",
   "execution_count": null,
   "id": "f50c4e52",
   "metadata": {},
   "outputs": [],
   "source": [
    "#refit xgboost with optimized hyperparameter\n",
    "\n",
    "final_model = model = XGBRegressor(random_state=0,\n",
    "                         n_estimators = 200,\n",
    "                         eta = 0.09675868387962627,\n",
    "                         reg_lambda = 5.3926093810132985,\n",
    "                         reg_alpha = 1.3391585107078063e-05,\n",
    "                         subsample = 0.9104675312844128,\n",
    "                         colsample_bytree = 0.8637485669799361,\n",
    "                         max_depth = 6,\n",
    "                         n_jobs=6\n",
    "                         )"
   ]
  },
  {
   "cell_type": "code",
   "execution_count": null,
   "id": "626915e9",
   "metadata": {},
   "outputs": [],
   "source": [
    "final_model.fit(X_train, y_train);"
   ]
  },
  {
   "cell_type": "code",
   "execution_count": null,
   "id": "e5d6474d",
   "metadata": {},
   "outputs": [],
   "source": [
    "X_test = df_test[X_train.columns]\n",
    "y_test = df_test['price_month']\n",
    "y_test_pred = final_model.predict(X_test)"
   ]
  },
  {
   "cell_type": "code",
   "execution_count": null,
   "id": "9297760d",
   "metadata": {},
   "outputs": [],
   "source": [
    "xgb_rmse = mean_squared_error(y_test, y_test_pred, squared=False)\n",
    "xgb_r2 = r2_score(y_test, y_test_pred)\n",
    "\n",
    "xgb_modify_r2 = 1 - (1 - xgb_r2)*(X_test.shape[0] - 1) / (X_test.shape[0] - X_test.shape[1] - 1)\n",
    "\n",
    "print('XGB_rmse:', xgb_rmse)\n",
    "print('XGB_mean_adjusted_r2:', xgb_modify_r2)"
   ]
  },
  {
   "cell_type": "code",
   "execution_count": null,
   "id": "f4647963",
   "metadata": {},
   "outputs": [],
   "source": [
    "def plotlearningcurve(estimator, X, y, title='Model Learning Curve', ylim=None, cv=5, n_jobs=None, train_sizes = np.linspace(.1, 1, 10), scoring=None):\n",
    "    \n",
    "    _, axes = plt.subplots(1, 1, figsize=(20, 5))\n",
    "    axes.set_title(title)\n",
    "    axes.set_xlabel('Training Examples')\n",
    "    axes.set_ylabel('Scores')\n",
    "    \n",
    "    train_sizes_abs, train_scores, cv_scores = learning_curve(estimator, X, y, cv=cv, n_jobs= n_jobs, scoring=scoring, train_sizes=train_sizes)\n",
    "    \n",
    "    train_scores_mean = np.mean(train_scores, axis=1)\n",
    "    train_scores_std = np.std(train_scores, axis=1)\n",
    "    \n",
    "    cv_scores_mean = np.mean(cv_scores, axis=1)\n",
    "    cv_scores_std = np.std(cv_scores, axis=1)\n",
    "    \n",
    "    axes.grid()\n",
    "    \n",
    "    axes.plot(train_sizes_abs, train_scores_mean, 'o-', color='r', label=\"Training score\")\n",
    "    axes.plot(train_sizes_abs, cv_scores_mean, 'o-', color='b', label=\"CV score\")\n",
    "    \n",
    "    axes.fill_between(train_sizes_abs, \n",
    "                     train_scores_mean + train_scores_std, \n",
    "                     train_scores_mean - train_scores_std,\n",
    "                    alpha = 0.1,\n",
    "                    color='r')\n",
    "\n",
    "    axes.fill_between(train_sizes_abs, \n",
    "                 cv_scores_mean + cv_scores_std, \n",
    "                 cv_scores_mean - cv_scores_std,\n",
    "                alpha = 0.1,\n",
    "                color='b')\n",
    "    \n",
    "\n",
    "    \n",
    "    axes.legend(loc='best')\n",
    "    \n",
    "    return plt"
   ]
  },
  {
   "cell_type": "code",
   "execution_count": null,
   "id": "bbfe1421",
   "metadata": {},
   "outputs": [],
   "source": [
    "plotlearningcurve(final_model, X_train, y_train);"
   ]
  }
 ],
 "metadata": {
  "kernelspec": {
   "display_name": "Python 3",
   "language": "python",
   "name": "python3"
  },
  "language_info": {
   "codemirror_mode": {
    "name": "ipython",
    "version": 3
   },
   "file_extension": ".py",
   "mimetype": "text/x-python",
   "name": "python",
   "nbconvert_exporter": "python",
   "pygments_lexer": "ipython3",
   "version": "3.8.8"
  }
 },
 "nbformat": 4,
 "nbformat_minor": 5
}
