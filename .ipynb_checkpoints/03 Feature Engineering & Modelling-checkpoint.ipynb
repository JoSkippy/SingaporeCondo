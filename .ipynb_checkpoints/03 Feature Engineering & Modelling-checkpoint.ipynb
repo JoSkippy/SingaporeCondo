{
 "cells": [
  {
   "cell_type": "markdown",
   "id": "60f2daf6",
   "metadata": {},
   "source": [
    "# Introduction: Business Problem \n",
    "\n",
    "In this project we will try to predict the monthly rental price for a condominium. Specifically, this report will be targeted to stakeholders interested in finding the best value in renting a condominium in Singapore.\n",
    "\n",
    "We will use our data science powers to find optimum rental price and recommend stake holders the best values and similar units for the stakeholders."
   ]
  },
  {
   "cell_type": "markdown",
   "id": "6378b87f",
   "metadata": {},
   "source": [
    "# Evalution metrics\n",
    "\n",
    "## RMSE\n",
    "\n",
    "In this project, **RMSE** will be our **main metrics** to evaluate the for selecting the best model and evaluate the performance of the best model. For the following reason\n",
    "\n",
    "1. **RMSE** is chosen as it punishes predicteed value that has greater difference than the actual value. This is important as we do not want our model to undervalue or overvalue a rental unit.\n",
    "\n",
    "2. **RMSE** gaves us a better intuition of the error which is in the same unit of our response variable (price). In other words, the error tells us how much \"wrong\" we are in terms of dollar value from the actual value."
   ]
  },
  {
   "cell_type": "markdown",
   "id": "4867570a",
   "metadata": {},
   "source": [
    "### Adjusted $R^{2}$\n",
    "\n",
    "Althought **RMSE** gave us the intuition of how \"wrong\" is the model prediction in terms of dollar value, performance of the model is not that obvious. Hence, we will be using adjusted $R^{2}$ to give an overall picture of how well is our model performing."
   ]
  },
  {
   "cell_type": "markdown",
   "id": "ae2f6dd9",
   "metadata": {},
   "source": [
    "### Success Criteria\n",
    "\n",
    "The ground truth of the impact of wrongly predicted value are unknown, and not part of the scope of this project.\n",
    "However, We aim to perform better than RMSE of guessing the average price of entire condominium rental price in our dataset. (Baseline).\n",
    "\n",
    "The RMSE of predicting each observation as the mean of total observation is \\\\$4444. Hence, our model should aim to predict better than RMSE of \\\\$4444. \n",
    "\n",
    "Refer Section Baseline RMSE score for details."
   ]
  },
  {
   "cell_type": "markdown",
   "id": "7c0962cc",
   "metadata": {},
   "source": [
    "# Import and Setting"
   ]
  },
  {
   "cell_type": "code",
   "execution_count": 1,
   "id": "490fcdea",
   "metadata": {},
   "outputs": [],
   "source": [
    "#!pip install optuna"
   ]
  },
  {
   "cell_type": "code",
   "execution_count": 2,
   "id": "b2dfafaf",
   "metadata": {},
   "outputs": [],
   "source": [
    "import pandas as pd\n",
    "import numpy as np\n",
    "from IPython.display import display\n",
    "\n",
    "from feature_engine.encoding import OneHotEncoder as fe_OneHotEncoder, OrdinalEncoder, RareLabelEncoder\n",
    "import feature_engine.transformation as vt\n",
    "from feature_engine.selection import RecursiveFeatureElimination\n",
    "\n",
    "from sklearn.feature_extraction.text import CountVectorizer\n",
    "from sklearn.compose import make_column_transformer\n",
    "from sklearn.model_selection import GridSearchCV, cross_val_score, KFold, cross_validate, learning_curve\n",
    "from sklearn.linear_model import LinearRegression\n",
    "from sklearn.preprocessing import PowerTransformer, OneHotEncoder\n",
    "from sklearn.metrics import r2_score, mean_squared_error\n",
    "from sklearn.svm import SVR\n",
    "from sklearn.preprocessing import StandardScaler\n",
    "from sklearn.pipeline import make_pipeline\n",
    "\n",
    "\n",
    "import matplotlib\n",
    "import matplotlib.patches as mpatches\n",
    "import matplotlib.pyplot as plt\n",
    "from matplotlib.lines import Line2D\n",
    "\n",
    "from xgboost import XGBRegressor\n",
    "\n",
    "from statsmodels.stats.outliers_influence import variance_inflation_factor\n",
    "\n",
    "from scipy import stats\n",
    "\n",
    "import math\n",
    "\n",
    "import seaborn as sns\n",
    "\n",
    "import optuna\n",
    "from optuna.samplers import TPESampler\n",
    "\n",
    "import pickle"
   ]
  },
  {
   "cell_type": "markdown",
   "id": "50951392",
   "metadata": {},
   "source": [
    "# Feature Engineering"
   ]
  },
  {
   "cell_type": "markdown",
   "id": "866c5eae",
   "metadata": {},
   "source": [
    "From the summary of EDA we have found that:-\n",
    "1. We have found that there is no correlation between counts of amenities & rental price.\n",
    "2. Rental price for having 'clubhouse', 'parking', 'jacuzzi' is significantly difference. We will create a feature using OneHotEncoding technique for this amenities.\n",
    "3. Having nearby MRT is siginicant for monthly rental.\n",
    "4. MRT name has high cardinality. In Feature engineering, we will use Rarelabel encoding technique to group rare MRT occurance under OTHERS.\n",
    "5. Handling multicolinearity: Select (Walking time, bedrooms & bathrooms) or (Walking time & sqft).\n",
    "6. For building linear Regression model, we will transform variable to normality by using BoxCoxTransformation.\n",
    "\n",
    "We will perform feature engineering to address above observation"
   ]
  },
  {
   "cell_type": "markdown",
   "id": "74082b2d",
   "metadata": {},
   "source": [
    "### Feature Engineering-1: CountVectorized for  clubhouse, parking & jacuzzi"
   ]
  },
  {
   "cell_type": "code",
   "execution_count": 3,
   "id": "caf983eb",
   "metadata": {},
   "outputs": [],
   "source": [
    "df_train = pd.read_pickle('Data/df_train')\n",
    "df_test = pd.read_pickle('Data/df_test')"
   ]
  },
  {
   "cell_type": "code",
   "execution_count": 4,
   "id": "033c476d",
   "metadata": {},
   "outputs": [
    {
     "data": {
      "text/html": [
       "<div>\n",
       "<style scoped>\n",
       "    .dataframe tbody tr th:only-of-type {\n",
       "        vertical-align: middle;\n",
       "    }\n",
       "\n",
       "    .dataframe tbody tr th {\n",
       "        vertical-align: top;\n",
       "    }\n",
       "\n",
       "    .dataframe thead th {\n",
       "        text-align: right;\n",
       "    }\n",
       "</style>\n",
       "<table border=\"1\" class=\"dataframe\">\n",
       "  <thead>\n",
       "    <tr style=\"text-align: right;\">\n",
       "      <th></th>\n",
       "      <th>detailed_address</th>\n",
       "      <th>lat</th>\n",
       "      <th>long</th>\n",
       "      <th>bedrooms</th>\n",
       "      <th>bathrooms</th>\n",
       "      <th>sqft</th>\n",
       "      <th>built_year</th>\n",
       "      <th>amenities</th>\n",
       "      <th>mrt_name</th>\n",
       "      <th>building_name</th>\n",
       "      <th>tenure</th>\n",
       "      <th>link</th>\n",
       "      <th>picture_url</th>\n",
       "      <th>price_month</th>\n",
       "      <th>walking_time</th>\n",
       "      <th>distance</th>\n",
       "      <th>studio</th>\n",
       "      <th>district_number</th>\n",
       "    </tr>\n",
       "  </thead>\n",
       "  <tbody>\n",
       "    <tr>\n",
       "      <th>6152</th>\n",
       "      <td>9 Cairnhill Road</td>\n",
       "      <td>1.302997</td>\n",
       "      <td>103.837785</td>\n",
       "      <td>2.0</td>\n",
       "      <td>2.0</td>\n",
       "      <td>1044</td>\n",
       "      <td>2017.0</td>\n",
       "      <td>[Clubhouse, Spa pavilion, Swimming pool, Wadin...</td>\n",
       "      <td>Somerset MRT</td>\n",
       "      <td>Cairnhill Nine</td>\n",
       "      <td>0</td>\n",
       "      <td>https://www.99.co/singapore/rent/property/cair...</td>\n",
       "      <td>https://pic.99.co/v3/GY7heYcWrkJDc4CAbTzxg8?wi...</td>\n",
       "      <td>7000</td>\n",
       "      <td>10.0</td>\n",
       "      <td>416.0</td>\n",
       "      <td>0</td>\n",
       "      <td>9</td>\n",
       "    </tr>\n",
       "    <tr>\n",
       "      <th>2957</th>\n",
       "      <td>16 Enggor Street</td>\n",
       "      <td>1.274241</td>\n",
       "      <td>103.844755</td>\n",
       "      <td>1.0</td>\n",
       "      <td>1.0</td>\n",
       "      <td>603</td>\n",
       "      <td>2014.0</td>\n",
       "      <td>[Clubhouse, Basketball court, Aircon, Gym, Bed...</td>\n",
       "      <td>Tanjong Pagar MRT</td>\n",
       "      <td>Altez</td>\n",
       "      <td>0</td>\n",
       "      <td>https://www.99.co/singapore/rent/property/alte...</td>\n",
       "      <td>https://pic.99.co/v3/VDpWSjpLfgjqVFNKaPt8Pg?wi...</td>\n",
       "      <td>4500</td>\n",
       "      <td>5.0</td>\n",
       "      <td>253.0</td>\n",
       "      <td>0</td>\n",
       "      <td>2</td>\n",
       "    </tr>\n",
       "  </tbody>\n",
       "</table>\n",
       "</div>"
      ],
      "text/plain": [
       "      detailed_address       lat        long  bedrooms  bathrooms  sqft  \\\n",
       "6152  9 Cairnhill Road  1.302997  103.837785       2.0        2.0  1044   \n",
       "2957  16 Enggor Street  1.274241  103.844755       1.0        1.0   603   \n",
       "\n",
       "      built_year                                          amenities  \\\n",
       "6152      2017.0  [Clubhouse, Spa pavilion, Swimming pool, Wadin...   \n",
       "2957      2014.0  [Clubhouse, Basketball court, Aircon, Gym, Bed...   \n",
       "\n",
       "               mrt_name   building_name  tenure  \\\n",
       "6152       Somerset MRT  Cairnhill Nine       0   \n",
       "2957  Tanjong Pagar MRT           Altez       0   \n",
       "\n",
       "                                                   link  \\\n",
       "6152  https://www.99.co/singapore/rent/property/cair...   \n",
       "2957  https://www.99.co/singapore/rent/property/alte...   \n",
       "\n",
       "                                            picture_url  price_month  \\\n",
       "6152  https://pic.99.co/v3/GY7heYcWrkJDc4CAbTzxg8?wi...         7000   \n",
       "2957  https://pic.99.co/v3/VDpWSjpLfgjqVFNKaPt8Pg?wi...         4500   \n",
       "\n",
       "      walking_time  distance  studio  district_number  \n",
       "6152          10.0     416.0       0                9  \n",
       "2957           5.0     253.0       0                2  "
      ]
     },
     "execution_count": 4,
     "metadata": {},
     "output_type": "execute_result"
    }
   ],
   "source": [
    "df_train.head(2)"
   ]
  },
  {
   "cell_type": "code",
   "execution_count": 5,
   "id": "8ceeac2f",
   "metadata": {},
   "outputs": [],
   "source": [
    "# remove all amenities in listing except clubhouse, parking and jaccuzi\n",
    "def relevantamenities(x: list):\n",
    "    \n",
    "    relevant = ['Clubhouse', 'Parking', 'Jacuzzi']\n",
    "    \n",
    "    return [amenity for amenity in x if amenity in relevant]"
   ]
  },
  {
   "cell_type": "code",
   "execution_count": 6,
   "id": "8f376362",
   "metadata": {},
   "outputs": [],
   "source": [
    "df_train['amenities'] = df_train.amenities.apply(relevantamenities)\n",
    "df_test['amenities'] = df_test.amenities.apply(relevantamenities)"
   ]
  },
  {
   "cell_type": "code",
   "execution_count": 7,
   "id": "3580b8e2",
   "metadata": {},
   "outputs": [],
   "source": [
    "#transform the amenities into feature\n",
    "ct = make_column_transformer(\n",
    "    (CountVectorizer(analyzer=lambda x: x), 'amenities'),\n",
    "    remainder = 'passthrough',\n",
    ")\n"
   ]
  },
  {
   "cell_type": "code",
   "execution_count": 8,
   "id": "6fafaf14",
   "metadata": {},
   "outputs": [],
   "source": [
    "df_train = pd.DataFrame(ct.fit_transform(df_train), columns=ct.get_feature_names())\n",
    "df_test = pd.DataFrame(ct.transform(df_test), columns=ct.get_feature_names())"
   ]
  },
  {
   "cell_type": "markdown",
   "id": "16557eb2",
   "metadata": {},
   "source": [
    "### Feature-Engineering 2: Having MRT is significant to monthly rental"
   ]
  },
  {
   "cell_type": "code",
   "execution_count": 9,
   "id": "42cacf12",
   "metadata": {},
   "outputs": [],
   "source": [
    "df_train['mrt_availability'] = np.where(df_train['mrt_name'] == 'No_MRT', 0, 1)\n",
    "df_test['mrt_availability'] = np.where(df_test['mrt_name'] == 'No_MRT', 0, 1)"
   ]
  },
  {
   "cell_type": "markdown",
   "id": "32143a10",
   "metadata": {},
   "source": [
    "### Feature-Engineering 3: Group rare MRT occurance under OTHERS & OneHOT Encoding"
   ]
  },
  {
   "cell_type": "code",
   "execution_count": 10,
   "id": "593077e1",
   "metadata": {},
   "outputs": [],
   "source": [
    "#RareLabel Encoding\n",
    "rare_encoder = RareLabelEncoder(\n",
    "    tol=0.005,  # minimal percentage to be considered non-rare\n",
    "    n_categories=4, # minimal number of categories the variable should have to re-cgroup rare categories\n",
    "    variables=['mrt_name'], # variables to re-group,\n",
    "    replace_with='Others'\n",
    ")"
   ]
  },
  {
   "cell_type": "code",
   "execution_count": 11,
   "id": "a1e5d6ee",
   "metadata": {},
   "outputs": [],
   "source": [
    "df_train = rare_encoder.fit_transform(df_train)\n",
    "df_test = rare_encoder.transform(df_test)"
   ]
  },
  {
   "cell_type": "code",
   "execution_count": 12,
   "id": "40b96feb",
   "metadata": {},
   "outputs": [],
   "source": [
    "ohe_enc = fe_OneHotEncoder(\n",
    "    top_categories=None,\n",
    "    variables=['mrt_name'],  # we can select which variables to encode\n",
    "    drop_last=False)"
   ]
  },
  {
   "cell_type": "code",
   "execution_count": 13,
   "id": "1120650c",
   "metadata": {},
   "outputs": [],
   "source": [
    "df_train = ohe_enc.fit_transform(df_train)\n",
    "df_test = ohe_enc.transform(df_test)"
   ]
  },
  {
   "cell_type": "code",
   "execution_count": 14,
   "id": "fe43efb6",
   "metadata": {},
   "outputs": [],
   "source": [
    "#recast datatype to numerical\n",
    "for col in df_train:\n",
    "    df_train[col] = pd.to_numeric(df_train[col], errors='ignore')\n",
    "    df_test[col] = pd.to_numeric(df_test[col], errors='ignore')"
   ]
  },
  {
   "cell_type": "markdown",
   "id": "7b49f10b",
   "metadata": {},
   "source": [
    "### Feature Engineering - 4 Target guided Encoding for District"
   ]
  },
  {
   "cell_type": "code",
   "execution_count": 15,
   "id": "8eb27d43",
   "metadata": {},
   "outputs": [],
   "source": [
    "ordinal_enc = OrdinalEncoder(\n",
    "    # NOTE that we indicate ordered in the encoding_method, otherwise it assings numbers arbitrarily\n",
    "    encoding_method='ordered',\n",
    "    variables=['district_number'],\n",
    "    ignore_format = True)"
   ]
  },
  {
   "cell_type": "code",
   "execution_count": 16,
   "id": "720044c8",
   "metadata": {},
   "outputs": [],
   "source": [
    "ordinal_enc.fit(df_train, df_train['price_month'])\n",
    "df_train = ordinal_enc.transform(df_train)\n",
    "df_test = ordinal_enc.transform(df_test)"
   ]
  },
  {
   "cell_type": "markdown",
   "id": "7a0ad7ef",
   "metadata": {},
   "source": [
    "### Feature Engineering - 5 Handling Multicolinearity"
   ]
  },
  {
   "cell_type": "code",
   "execution_count": 17,
   "id": "5d6a4fea",
   "metadata": {},
   "outputs": [],
   "source": [
    "#we will combine bathrooms & bedrooms to handline multicolinearity, for other feature, it will be dropped instead\n",
    "df_train['total room'] = df_train['bathrooms'] + df_train['bedrooms']\n",
    "df_test['total room'] = df_test['bathrooms'] + df_test['bedrooms']"
   ]
  },
  {
   "cell_type": "markdown",
   "id": "929aa27b",
   "metadata": {},
   "source": [
    "### Feature-Engineering 6: BoxCox Transformation for LinearRegression"
   ]
  },
  {
   "cell_type": "code",
   "execution_count": 18,
   "id": "9d515bfc",
   "metadata": {},
   "outputs": [],
   "source": [
    "continuous_variables = ['price_month', 'bedrooms', 'bathrooms', 'total room', 'sqft', 'walking_time', 'distance']"
   ]
  },
  {
   "cell_type": "code",
   "execution_count": 19,
   "id": "0b46f574",
   "metadata": {},
   "outputs": [],
   "source": [
    "bct = vt.BoxCoxTransformer(variables = continuous_variables)\n",
    "df_train_lr = bct.fit_transform(df_train)\n",
    "df_test_lr = bct.transform(df_test) "
   ]
  },
  {
   "cell_type": "code",
   "execution_count": 20,
   "id": "121c2389",
   "metadata": {},
   "outputs": [
    {
     "data": {
      "text/plain": [
       "{'price_month': -0.014444710502950238,\n",
       " 'bedrooms': 0.34990443094029966,\n",
       " 'bathrooms': 0.01507637030264619,\n",
       " 'total room': 0.2206802857205239,\n",
       " 'sqft': -0.11785532339089105,\n",
       " 'walking_time': -0.3970483191451235,\n",
       " 'distance': -0.19970443417532519}"
      ]
     },
     "execution_count": 20,
     "metadata": {},
     "output_type": "execute_result"
    }
   ],
   "source": [
    "# these are the exponents for the BoxCox transformation\n",
    "bct.lambda_dict_"
   ]
  },
  {
   "cell_type": "code",
   "execution_count": 21,
   "id": "74079e4a",
   "metadata": {},
   "outputs": [
    {
     "data": {
      "text/html": [
       "<div>\n",
       "<style scoped>\n",
       "    .dataframe tbody tr th:only-of-type {\n",
       "        vertical-align: middle;\n",
       "    }\n",
       "\n",
       "    .dataframe tbody tr th {\n",
       "        vertical-align: top;\n",
       "    }\n",
       "\n",
       "    .dataframe thead th {\n",
       "        text-align: right;\n",
       "    }\n",
       "</style>\n",
       "<table border=\"1\" class=\"dataframe\">\n",
       "  <thead>\n",
       "    <tr style=\"text-align: right;\">\n",
       "      <th></th>\n",
       "      <th>countvectorizer__Clubhouse</th>\n",
       "      <th>countvectorizer__Jacuzzi</th>\n",
       "      <th>countvectorizer__Parking</th>\n",
       "      <th>sqft</th>\n",
       "      <th>built_year</th>\n",
       "      <th>tenure</th>\n",
       "      <th>price_month</th>\n",
       "      <th>walking_time</th>\n",
       "      <th>studio</th>\n",
       "      <th>district_number</th>\n",
       "      <th>...</th>\n",
       "      <th>mrt_name_Rochor MRT</th>\n",
       "      <th>mrt_name_Potong Pasir MRT</th>\n",
       "      <th>mrt_name_Eunos MRT</th>\n",
       "      <th>mrt_name_Dakota MRT</th>\n",
       "      <th>mrt_name_Kembangan MRT</th>\n",
       "      <th>mrt_name_Toa Payoh MRT</th>\n",
       "      <th>mrt_name_Chinatown MRT</th>\n",
       "      <th>mrt_name_Stadium MRT</th>\n",
       "      <th>mrt_name_Lakeside MRT</th>\n",
       "      <th>total room</th>\n",
       "    </tr>\n",
       "  </thead>\n",
       "  <tbody>\n",
       "    <tr>\n",
       "      <th>0</th>\n",
       "      <td>1</td>\n",
       "      <td>0</td>\n",
       "      <td>0</td>\n",
       "      <td>1044</td>\n",
       "      <td>2017.0</td>\n",
       "      <td>0</td>\n",
       "      <td>7000</td>\n",
       "      <td>10.0</td>\n",
       "      <td>0</td>\n",
       "      <td>24</td>\n",
       "      <td>...</td>\n",
       "      <td>0</td>\n",
       "      <td>0</td>\n",
       "      <td>0</td>\n",
       "      <td>0</td>\n",
       "      <td>0</td>\n",
       "      <td>0</td>\n",
       "      <td>0</td>\n",
       "      <td>0</td>\n",
       "      <td>0</td>\n",
       "      <td>4.0</td>\n",
       "    </tr>\n",
       "    <tr>\n",
       "      <th>1</th>\n",
       "      <td>1</td>\n",
       "      <td>0</td>\n",
       "      <td>0</td>\n",
       "      <td>603</td>\n",
       "      <td>2014.0</td>\n",
       "      <td>0</td>\n",
       "      <td>4500</td>\n",
       "      <td>5.0</td>\n",
       "      <td>0</td>\n",
       "      <td>19</td>\n",
       "      <td>...</td>\n",
       "      <td>0</td>\n",
       "      <td>0</td>\n",
       "      <td>0</td>\n",
       "      <td>0</td>\n",
       "      <td>0</td>\n",
       "      <td>0</td>\n",
       "      <td>0</td>\n",
       "      <td>0</td>\n",
       "      <td>0</td>\n",
       "      <td>2.0</td>\n",
       "    </tr>\n",
       "  </tbody>\n",
       "</table>\n",
       "<p>2 rows × 51 columns</p>\n",
       "</div>"
      ],
      "text/plain": [
       "   countvectorizer__Clubhouse  countvectorizer__Jacuzzi  \\\n",
       "0                           1                         0   \n",
       "1                           1                         0   \n",
       "\n",
       "   countvectorizer__Parking  sqft  built_year  tenure  price_month  \\\n",
       "0                         0  1044      2017.0       0         7000   \n",
       "1                         0   603      2014.0       0         4500   \n",
       "\n",
       "   walking_time  studio  district_number  ...  mrt_name_Rochor MRT  \\\n",
       "0          10.0       0               24  ...                    0   \n",
       "1           5.0       0               19  ...                    0   \n",
       "\n",
       "   mrt_name_Potong Pasir MRT  mrt_name_Eunos MRT  mrt_name_Dakota MRT  \\\n",
       "0                          0                   0                    0   \n",
       "1                          0                   0                    0   \n",
       "\n",
       "   mrt_name_Kembangan MRT  mrt_name_Toa Payoh MRT  mrt_name_Chinatown MRT  \\\n",
       "0                       0                       0                       0   \n",
       "1                       0                       0                       0   \n",
       "\n",
       "   mrt_name_Stadium MRT  mrt_name_Lakeside MRT  total room  \n",
       "0                     0                      0         4.0  \n",
       "1                     0                      0         2.0  \n",
       "\n",
       "[2 rows x 51 columns]"
      ]
     },
     "execution_count": 21,
     "metadata": {},
     "output_type": "execute_result"
    }
   ],
   "source": [
    "#final look of the transformed train dataframe\n",
    "df_train = df_train.drop(['detailed_address', 'lat', 'long', 'bedrooms', 'bathrooms', 'distance', 'link', 'picture_url', 'building_name'], axis=1)\n",
    "df_train.head(2)"
   ]
  },
  {
   "cell_type": "code",
   "execution_count": 22,
   "id": "915cf687",
   "metadata": {},
   "outputs": [
    {
     "data": {
      "text/html": [
       "<div>\n",
       "<style scoped>\n",
       "    .dataframe tbody tr th:only-of-type {\n",
       "        vertical-align: middle;\n",
       "    }\n",
       "\n",
       "    .dataframe tbody tr th {\n",
       "        vertical-align: top;\n",
       "    }\n",
       "\n",
       "    .dataframe thead th {\n",
       "        text-align: right;\n",
       "    }\n",
       "</style>\n",
       "<table border=\"1\" class=\"dataframe\">\n",
       "  <thead>\n",
       "    <tr style=\"text-align: right;\">\n",
       "      <th></th>\n",
       "      <th>countvectorizer__Clubhouse</th>\n",
       "      <th>countvectorizer__Jacuzzi</th>\n",
       "      <th>countvectorizer__Parking</th>\n",
       "      <th>sqft</th>\n",
       "      <th>built_year</th>\n",
       "      <th>tenure</th>\n",
       "      <th>price_month</th>\n",
       "      <th>walking_time</th>\n",
       "      <th>studio</th>\n",
       "      <th>district_number</th>\n",
       "      <th>...</th>\n",
       "      <th>mrt_name_Rochor MRT</th>\n",
       "      <th>mrt_name_Potong Pasir MRT</th>\n",
       "      <th>mrt_name_Eunos MRT</th>\n",
       "      <th>mrt_name_Dakota MRT</th>\n",
       "      <th>mrt_name_Kembangan MRT</th>\n",
       "      <th>mrt_name_Toa Payoh MRT</th>\n",
       "      <th>mrt_name_Chinatown MRT</th>\n",
       "      <th>mrt_name_Stadium MRT</th>\n",
       "      <th>mrt_name_Lakeside MRT</th>\n",
       "      <th>total room</th>\n",
       "    </tr>\n",
       "  </thead>\n",
       "  <tbody>\n",
       "    <tr>\n",
       "      <th>0</th>\n",
       "      <td>0</td>\n",
       "      <td>0</td>\n",
       "      <td>1</td>\n",
       "      <td>3347</td>\n",
       "      <td>2010.0</td>\n",
       "      <td>1</td>\n",
       "      <td>18000</td>\n",
       "      <td>10.0</td>\n",
       "      <td>0</td>\n",
       "      <td>24</td>\n",
       "      <td>...</td>\n",
       "      <td>0</td>\n",
       "      <td>0</td>\n",
       "      <td>0</td>\n",
       "      <td>0</td>\n",
       "      <td>0</td>\n",
       "      <td>0</td>\n",
       "      <td>0</td>\n",
       "      <td>0</td>\n",
       "      <td>0</td>\n",
       "      <td>8.0</td>\n",
       "    </tr>\n",
       "    <tr>\n",
       "      <th>1</th>\n",
       "      <td>0</td>\n",
       "      <td>0</td>\n",
       "      <td>0</td>\n",
       "      <td>377</td>\n",
       "      <td>2015.0</td>\n",
       "      <td>1</td>\n",
       "      <td>2100</td>\n",
       "      <td>35.0</td>\n",
       "      <td>0</td>\n",
       "      <td>17</td>\n",
       "      <td>...</td>\n",
       "      <td>0</td>\n",
       "      <td>0</td>\n",
       "      <td>0</td>\n",
       "      <td>0</td>\n",
       "      <td>0</td>\n",
       "      <td>0</td>\n",
       "      <td>0</td>\n",
       "      <td>0</td>\n",
       "      <td>0</td>\n",
       "      <td>3.0</td>\n",
       "    </tr>\n",
       "  </tbody>\n",
       "</table>\n",
       "<p>2 rows × 51 columns</p>\n",
       "</div>"
      ],
      "text/plain": [
       "   countvectorizer__Clubhouse  countvectorizer__Jacuzzi  \\\n",
       "0                           0                         0   \n",
       "1                           0                         0   \n",
       "\n",
       "   countvectorizer__Parking  sqft  built_year  tenure  price_month  \\\n",
       "0                         1  3347      2010.0       1        18000   \n",
       "1                         0   377      2015.0       1         2100   \n",
       "\n",
       "   walking_time  studio  district_number  ...  mrt_name_Rochor MRT  \\\n",
       "0          10.0       0               24  ...                    0   \n",
       "1          35.0       0               17  ...                    0   \n",
       "\n",
       "   mrt_name_Potong Pasir MRT  mrt_name_Eunos MRT  mrt_name_Dakota MRT  \\\n",
       "0                          0                   0                    0   \n",
       "1                          0                   0                    0   \n",
       "\n",
       "   mrt_name_Kembangan MRT  mrt_name_Toa Payoh MRT  mrt_name_Chinatown MRT  \\\n",
       "0                       0                       0                       0   \n",
       "1                       0                       0                       0   \n",
       "\n",
       "   mrt_name_Stadium MRT  mrt_name_Lakeside MRT  total room  \n",
       "0                     0                      0         8.0  \n",
       "1                     0                      0         3.0  \n",
       "\n",
       "[2 rows x 51 columns]"
      ]
     },
     "execution_count": 22,
     "metadata": {},
     "output_type": "execute_result"
    }
   ],
   "source": [
    "#final look of the transformed train dataframe\n",
    "df_test = df_test.drop(['detailed_address', 'lat', 'long', 'bedrooms', 'bathrooms', 'distance', 'link', 'picture_url', 'building_name'], axis=1)\n",
    "df_test.head(2)"
   ]
  },
  {
   "cell_type": "markdown",
   "id": "2113cb08",
   "metadata": {},
   "source": [
    "# Modelling"
   ]
  },
  {
   "cell_type": "code",
   "execution_count": 23,
   "id": "cfe073e1",
   "metadata": {},
   "outputs": [],
   "source": [
    "# we will create a nested cross validation, the inner_cv will be used to select the best hyperparameter \n",
    "# and the outer cv will be used for model selection.\n",
    "inner_cv = KFold(n_splits=5, shuffle=True, random_state=0)\n",
    "outer_cv = KFold(n_splits=5, shuffle=True, random_state=0)"
   ]
  },
  {
   "cell_type": "markdown",
   "id": "421d4be2",
   "metadata": {},
   "source": [
    "## Baseline RMSE Score"
   ]
  },
  {
   "cell_type": "code",
   "execution_count": 24,
   "id": "d741a77f",
   "metadata": {},
   "outputs": [],
   "source": [
    "df_train['baseline'] = df_train.price_month.mean()"
   ]
  },
  {
   "cell_type": "code",
   "execution_count": 25,
   "id": "13283ba6",
   "metadata": {},
   "outputs": [
    {
     "data": {
      "text/plain": [
       "4444.0"
      ]
     },
     "execution_count": 25,
     "metadata": {},
     "output_type": "execute_result"
    }
   ],
   "source": [
    "np.round(mean_squared_error(df_train['price_month'], df_train['baseline'], squared = False))"
   ]
  },
  {
   "cell_type": "code",
   "execution_count": 26,
   "id": "41db78d8",
   "metadata": {},
   "outputs": [],
   "source": [
    "#drop baseline\n",
    "df_train = df_train.drop('baseline', axis=1)"
   ]
  },
  {
   "cell_type": "markdown",
   "id": "14457845",
   "metadata": {},
   "source": [
    "Baseline rmse score of predicting each observation as the mean of our training sample is \\\\$4444"
   ]
  },
  {
   "cell_type": "code",
   "execution_count": 27,
   "id": "ac99fa25",
   "metadata": {},
   "outputs": [],
   "source": [
    "#create a dataframe to store result\n",
    "all_results = pd.DataFrame(columns= ['rmse_mean', 'rmse_std', 'adjusted_r2_mean', 'adjusted_r2_std'])"
   ]
  },
  {
   "cell_type": "code",
   "execution_count": 28,
   "id": "ac1f2aa8",
   "metadata": {},
   "outputs": [],
   "source": [
    "#create a function to sstore and display all result\n",
    "def resultsummary(rmse, adjusted_r2, series_name):\n",
    "    #set global for pandas dataframe\n",
    "    global all_results\n",
    "    \n",
    "    rmse_mean = np.round(np.mean(rmse))\n",
    "    rmse_std = np.round(np.std(rmse))\n",
    "    r2_mean = np.round(np.mean(adjusted_r2),2)\n",
    "    r2_std = np.round(np.std(adjusted_r2),2)\n",
    "\n",
    "    series = pd.Series([rmse_mean, rmse_std, r2_mean, r2_std], index = all_results.columns, name = series_name)\n",
    "\n",
    "    all_results = all_results.append(series)\n",
    "\n",
    "    print(f'{series_name}_mean_RMSE:', rmse_mean)\n",
    "    print(f'{series_name}_std_RMSE:', rmse_std)\n",
    "    print(f'{series_name}_Adjusted R^2:', r2_mean)\n",
    "    print(f'{series_name}_Adjusted R^2:', r2_std)"
   ]
  },
  {
   "cell_type": "markdown",
   "id": "2b1bf73d",
   "metadata": {},
   "source": [
    "## Linear Regression"
   ]
  },
  {
   "cell_type": "markdown",
   "id": "63a30974",
   "metadata": {},
   "source": [
    "We will start we the least complex model Linear Regression to set a baseline algorithm."
   ]
  },
  {
   "cell_type": "markdown",
   "id": "10b02413",
   "metadata": {},
   "source": [
    "It is to be noted that Multiple Iteration in selecting feature has been performed to handle multi-colinearity however the intemerdiate steps are not shown, only the final result is shown."
   ]
  },
  {
   "cell_type": "code",
   "execution_count": 29,
   "id": "e4710a45",
   "metadata": {},
   "outputs": [],
   "source": [
    "y_train_lr = df_train_lr['price_month']\n",
    "\n",
    "#select feature that is not violating the multiconearity assumption.\n",
    "#Note that this cell has been reiterated to tune VIF down to < 10 for all features.\n",
    "\n",
    "X_train_lr = df_train_lr[['countvectorizer__Clubhouse', 'countvectorizer__Jacuzzi',\n",
    "       'countvectorizer__Parking',\n",
    "       'tenure', 'studio', 'district_number', 'total room']]"
   ]
  },
  {
   "cell_type": "code",
   "execution_count": 30,
   "id": "b1cb5633",
   "metadata": {},
   "outputs": [],
   "source": [
    "#reverse transform of box-cox of monthly_rental\n",
    "#source: https://scikit-learn.org/stable/modules/generated/sklearn.preprocessing.PowerTransformer.html\n",
    "def inverse_transform(X_trans, lambda_):\n",
    "    if lambda_ == 0:\n",
    "        X = exp(X_trans)\n",
    "    else:\n",
    "        X = (X_trans * lambda_ + 1) ** (1 / lambda_)\n",
    "    return X"
   ]
  },
  {
   "cell_type": "markdown",
   "id": "b460514d",
   "metadata": {},
   "source": [
    "#### Adjusted R2"
   ]
  },
  {
   "attachments": {
    "image.png": {
     "image/png": "[encoded data removed]"
    }
   },
   "cell_type": "markdown",
   "id": "390081b2",
   "metadata": {},
   "source": [
    "![image.png](attachment:image.png)"
   ]
  },
  {
   "cell_type": "code",
   "execution_count": 31,
   "id": "fceb0539",
   "metadata": {},
   "outputs": [],
   "source": [
    "def modified_r2score(*, r2, n, p):\n",
    "    \"\"\"\n",
    "    n = number of rows\n",
    "    p = number of predictors\n",
    "    \"\"\"    \n",
    "    modify_r2 = 1 - (1 - r2)*(n - 1) / (n - p - 1)\n",
    "    \n",
    "    return modify_r2\n",
    "    "
   ]
  },
  {
   "cell_type": "markdown",
   "id": "3a12ea24",
   "metadata": {},
   "source": [
    "#### Linear Regression Result"
   ]
  },
  {
   "cell_type": "code",
   "execution_count": 32,
   "id": "353008b0",
   "metadata": {},
   "outputs": [],
   "source": [
    "#we will create our own cross validation as we need the result to be returned in original unit (eg: inverse transform of boxcox)\n",
    "mean_adjusted_r2 = []\n",
    "mean_rmse = []\n",
    "\n",
    "# 5-fold cross validation\n",
    "for train_index, validation_index in outer_cv.split(X_train_lr):\n",
    "    \n",
    "    #setting index of cross validation\n",
    "    X_train, X_validation = X_train_lr.iloc[train_index], X_train_lr.iloc[validation_index]\n",
    "    y_train, y_validation = y_train_lr.iloc[train_index], y_train_lr.iloc[validation_index]\n",
    "    \n",
    "    #fitting linear regression\n",
    "    lr = LinearRegression()\n",
    "    lr.fit(X_train, y_train)\n",
    "    \n",
    "    #predict based on X_validation\n",
    "    y_pred = lr.predict(X_validation)\n",
    "    \n",
    "    #reverse transform of boxcox\n",
    "    y_pred = inverse_transform(y_pred, bct.lambda_dict_['price_month'])\n",
    "    y_validation = inverse_transform(y_validation, bct.lambda_dict_['price_month'])\n",
    "    \n",
    "    #calculating r2\n",
    "    r2 = r2_score(y_validation, y_pred)\n",
    "    \n",
    "    #calculating adjusted_r2\n",
    "    n = y_validation.shape[0]\n",
    "    p = X_train_lr.shape[1]\n",
    "    adjusted_r2 = modified_r2score(r2 = r2, n=n, p=p)\n",
    "    rmse = mean_squared_error(y_validation, y_pred, squared=False)\n",
    "    \n",
    "    #appending metrics\n",
    "    mean_adjusted_r2.append(adjusted_r2)\n",
    "    mean_rmse.append(rmse)"
   ]
  },
  {
   "cell_type": "code",
   "execution_count": 33,
   "id": "14fcb437",
   "metadata": {},
   "outputs": [
    {
     "name": "stdout",
     "output_type": "stream",
     "text": [
      "LinearRegression_mean_RMSE: 3127.0\n",
      "LinearRegression_std_RMSE: 279.0\n",
      "LinearRegression_Adjusted R^2: 0.5\n",
      "LinearRegression_Adjusted R^2: 0.02\n"
     ]
    }
   ],
   "source": [
    "resultsummary(rmse=mean_rmse, \n",
    "              adjusted_r2 =mean_adjusted_r2, \n",
    "              series_name = 'LinearRegression')"
   ]
  },
  {
   "cell_type": "code",
   "execution_count": 34,
   "id": "d4b92c1b",
   "metadata": {},
   "outputs": [
    {
     "data": {
      "image/png": "[encoded data removed]",
      "text/plain": [
       "<Figure size 432x288 with 1 Axes>"
      ]
     },
     "metadata": {
      "needs_background": "light"
     },
     "output_type": "display_data"
    }
   ],
   "source": [
    "#refit\n",
    "lr = LinearRegression()\n",
    "lr.fit(X_train_lr, y_train_lr)\n",
    "y_pred = lr.predict(X_train_lr)\n",
    "y_pred = inverse_transform(y_pred, bct.lambda_dict_['price_month'])\n",
    "\n",
    "# Visualizing actual prices vs predicted values\n",
    "plt.scatter(df_train['price_month'], y_pred)\n",
    "plt.xlabel(\"Actual Price\")\n",
    "plt.ylabel(\"Predicted Price\")\n",
    "plt.title(\"Actual Rental Price vs Predicted Rental Price\")\n",
    "plt.show()"
   ]
  },
  {
   "cell_type": "markdown",
   "id": "32ad7497",
   "metadata": {},
   "source": [
    "### Performing checks for multi-linear regression assumptions\n",
    "\n",
    "1. **Linearity**: The mean values of the outcome variable for each increment of the predictor(s) lie along a straight line. In other words, there is a linear relationship between predictors and target.\n",
    "\n",
    "2. **No perfect multicollinearity**: There should be no perfect linear relationship between two or more of the predictors.\n",
    "\n",
    "3. **Normally distributed errors**: the residuals are random, normally distributed with a mean of 0.\n",
    "\n",
    "4. **Homoscedasticity**: The variance of the residual terms should be constant."
   ]
  },
  {
   "cell_type": "markdown",
   "id": "39994067",
   "metadata": {},
   "source": [
    "#### Equal Error Variance (Homoscedasticity)"
   ]
  },
  {
   "cell_type": "code",
   "execution_count": 35,
   "id": "76619d0b",
   "metadata": {},
   "outputs": [
    {
     "data": {
      "image/png": "[encoded data removed]",
      "text/plain": [
       "<Figure size 432x288 with 1 Axes>"
      ]
     },
     "metadata": {
      "needs_background": "light"
     },
     "output_type": "display_data"
    }
   ],
   "source": [
    "# Residual vs fit plot\n",
    "plt.scatter(y_pred, df_train['price_month'] - y_pred)\n",
    "plt.title(\"Residual vs Fit Plot\")\n",
    "plt.xlabel(\"Predicted\")\n",
    "plt.ylabel(\"Residuals\")\n",
    "plt.show()"
   ]
  },
  {
   "cell_type": "markdown",
   "id": "6940053e",
   "metadata": {},
   "source": [
    "We can see that there is an increase variance when as the predicted value increase, this suggest that the relationship is not linear"
   ]
  },
  {
   "cell_type": "markdown",
   "id": "e887f872",
   "metadata": {},
   "source": [
    "#### Multi-Collinearity"
   ]
  },
  {
   "cell_type": "markdown",
   "id": "5b54b84c",
   "metadata": {},
   "source": [
    "We can see that there is an increasing variance as the price increased. This shows that the relationship might not be linear"
   ]
  },
  {
   "cell_type": "code",
   "execution_count": 36,
   "id": "a0a03f92",
   "metadata": {},
   "outputs": [],
   "source": [
    "def calc_vif(X):\n",
    "    vif = pd.DataFrame()\n",
    "    vif[\"variables\"] = X.columns\n",
    "    vif[\"VIF\"] = [variance_inflation_factor(X.values, i) for i in range(X.shape[1])]\n",
    "    return(vif)"
   ]
  },
  {
   "cell_type": "code",
   "execution_count": 37,
   "id": "02c47598",
   "metadata": {},
   "outputs": [
    {
     "data": {
      "text/html": [
       "<div>\n",
       "<style scoped>\n",
       "    .dataframe tbody tr th:only-of-type {\n",
       "        vertical-align: middle;\n",
       "    }\n",
       "\n",
       "    .dataframe tbody tr th {\n",
       "        vertical-align: top;\n",
       "    }\n",
       "\n",
       "    .dataframe thead th {\n",
       "        text-align: right;\n",
       "    }\n",
       "</style>\n",
       "<table border=\"1\" class=\"dataframe\">\n",
       "  <thead>\n",
       "    <tr style=\"text-align: right;\">\n",
       "      <th></th>\n",
       "      <th>variables</th>\n",
       "      <th>VIF</th>\n",
       "    </tr>\n",
       "  </thead>\n",
       "  <tbody>\n",
       "    <tr>\n",
       "      <th>0</th>\n",
       "      <td>countvectorizer__Clubhouse</td>\n",
       "      <td>1.859244</td>\n",
       "    </tr>\n",
       "    <tr>\n",
       "      <th>1</th>\n",
       "      <td>countvectorizer__Jacuzzi</td>\n",
       "      <td>1.714904</td>\n",
       "    </tr>\n",
       "    <tr>\n",
       "      <th>2</th>\n",
       "      <td>countvectorizer__Parking</td>\n",
       "      <td>1.810536</td>\n",
       "    </tr>\n",
       "    <tr>\n",
       "      <th>3</th>\n",
       "      <td>tenure</td>\n",
       "      <td>2.077390</td>\n",
       "    </tr>\n",
       "    <tr>\n",
       "      <th>4</th>\n",
       "      <td>studio</td>\n",
       "      <td>1.040204</td>\n",
       "    </tr>\n",
       "    <tr>\n",
       "      <th>5</th>\n",
       "      <td>district_number</td>\n",
       "      <td>6.526102</td>\n",
       "    </tr>\n",
       "    <tr>\n",
       "      <th>6</th>\n",
       "      <td>total room</td>\n",
       "      <td>6.509431</td>\n",
       "    </tr>\n",
       "  </tbody>\n",
       "</table>\n",
       "</div>"
      ],
      "text/plain": [
       "                    variables       VIF\n",
       "0  countvectorizer__Clubhouse  1.859244\n",
       "1    countvectorizer__Jacuzzi  1.714904\n",
       "2    countvectorizer__Parking  1.810536\n",
       "3                      tenure  2.077390\n",
       "4                      studio  1.040204\n",
       "5             district_number  6.526102\n",
       "6                  total room  6.509431"
      ]
     },
     "execution_count": 37,
     "metadata": {},
     "output_type": "execute_result"
    }
   ],
   "source": [
    "calc_vif(X_train_lr)"
   ]
  },
  {
   "cell_type": "markdown",
   "id": "dfc000ae",
   "metadata": {},
   "source": [
    "There is no multicolinearity ( VIF < 10)"
   ]
  },
  {
   "cell_type": "markdown",
   "id": "7cdd8729",
   "metadata": {},
   "source": [
    "#### Normal Error (Multivariate Normality)"
   ]
  },
  {
   "cell_type": "code",
   "execution_count": 38,
   "id": "68498a0b",
   "metadata": {},
   "outputs": [
    {
     "data": {
      "image/png": "[encoded data removed]",
      "text/plain": [
       "<Figure size 1080x288 with 2 Axes>"
      ]
     },
     "metadata": {
      "needs_background": "light"
     },
     "output_type": "display_data"
    }
   ],
   "source": [
    "fig , ax = plt.subplots(nrows = 1, ncols = 2, figsize=(15,4))\n",
    "\n",
    "#histogram\n",
    "sns.histplot(df_train['price_month'] - y_pred, ax=ax[0], kde=True)\n",
    "ax[0].set_title('Normality of Residuals')\n",
    "ax[0].set_xlabel(\"Residuals\")\n",
    "ax[0].set_ylabel(\"Frequency\")\n",
    "\n",
    "#Q-Q plot\n",
    "stats.probplot(df_train['price_month'] - y_pred, dist='norm', plot=ax[1])\n",
    "ax[1].set_title('Q-Q Plot')\n",
    "ax[1].set_xlabel(\"\")\n",
    "ax[1].set_ylabel(\"\");"
   ]
  },
  {
   "cell_type": "markdown",
   "id": "ba3cdd22",
   "metadata": {},
   "source": [
    "Normality of the distribution of the residual is preserved until a certain threshold."
   ]
  },
  {
   "cell_type": "markdown",
   "id": "14270745",
   "metadata": {},
   "source": [
    "### Summary of Linear Regression"
   ]
  },
  {
   "cell_type": "markdown",
   "id": "8ef26a15",
   "metadata": {},
   "source": [
    "1. 3/4 assumptions of linear regression is violated except for Multicolinearity.\n",
    "In order to use linear regression, we need to validate our prediction within a certain threshold.\n",
    "\n",
    "2. RMSE is \\\\$3000 which is better than the baseline of \\\\$4444, Adjusted_R2 is 0.5"
   ]
  },
  {
   "cell_type": "markdown",
   "id": "10298d02",
   "metadata": {},
   "source": [
    "## Support Vector Regression"
   ]
  },
  {
   "cell_type": "code",
   "execution_count": 39,
   "id": "de45c81b",
   "metadata": {},
   "outputs": [],
   "source": [
    "svr = SVR(kernel='poly')"
   ]
  },
  {
   "cell_type": "code",
   "execution_count": 40,
   "id": "8a0e4b5a",
   "metadata": {},
   "outputs": [],
   "source": [
    "X_train = df_train[['sqft', \n",
    "                    'countvectorizer__Clubhouse', \n",
    "                    'countvectorizer__Jacuzzi', \n",
    "                    'countvectorizer__Parking',\n",
    "                   'built_year',\n",
    "                   'tenure',\n",
    "                   'walking_time',\n",
    "                   'district_number',\n",
    "                   'mrt_availability',\n",
    "                   'total room']]\n",
    "feature = X_train.columns\n",
    "y_train = df_train['price_month']\n",
    "\n",
    "sc = StandardScaler()\n",
    "X_train = sc.fit_transform(X_train)"
   ]
  },
  {
   "cell_type": "code",
   "execution_count": 41,
   "id": "94db8ff2",
   "metadata": {},
   "outputs": [],
   "source": [
    "params = {'kernel' : ['linear', 'poly'],\n",
    "          'degree' : [2 , 3],\n",
    "          'epsilon' : [0.1, 0.5, 5, 10],\n",
    "          'C' : [1000, 5000, 10000]   \n",
    "}"
   ]
  },
  {
   "cell_type": "code",
   "execution_count": 42,
   "id": "029397ad",
   "metadata": {},
   "outputs": [
    {
     "name": "stderr",
     "output_type": "stream",
     "text": [
      "[Parallel(n_jobs=6)]: Using backend LokyBackend with 6 concurrent workers.\n",
      "[Parallel(n_jobs=6)]: Done   5 out of   5 | elapsed: 12.2min finished\n"
     ]
    }
   ],
   "source": [
    "svc = GridSearchCV(svr, param_grid= params, cv=inner_cv, scoring='neg_root_mean_squared_error', n_jobs=6)\n",
    "\n",
    "\n",
    "\n",
    "score = cross_validate(svc, X_train, y_train, cv=outer_cv, scoring='neg_root_mean_squared_error', return_estimator=True, verbose=1, n_jobs=6)"
   ]
  },
  {
   "cell_type": "code",
   "execution_count": 43,
   "id": "f4fe11f1",
   "metadata": {},
   "outputs": [
    {
     "name": "stdout",
     "output_type": "stream",
     "text": [
      "bestscore: -2468.490709598181\n",
      "bestparam: {'C': 10000, 'degree': 2, 'epsilon': 5, 'kernel': 'linear'}\n",
      "****************************************************************\n",
      "bestscore: -2120.1920997219054\n",
      "bestparam: {'C': 10000, 'degree': 2, 'epsilon': 10, 'kernel': 'linear'}\n",
      "****************************************************************\n",
      "bestscore: -2070.522091739476\n",
      "bestparam: {'C': 5000, 'degree': 3, 'epsilon': 0.1, 'kernel': 'poly'}\n",
      "****************************************************************\n",
      "bestscore: -2100.3735957805407\n",
      "bestparam: {'C': 10000, 'degree': 3, 'epsilon': 0.1, 'kernel': 'poly'}\n",
      "****************************************************************\n",
      "bestscore: -1918.201233495605\n",
      "bestparam: {'C': 10000, 'degree': 3, 'epsilon': 5, 'kernel': 'poly'}\n",
      "****************************************************************\n"
     ]
    }
   ],
   "source": [
    "for i in range(5):\n",
    "    print('bestscore:', score['test_score'][i])\n",
    "    print('bestparam:', score['estimator'][i].best_params_)\n",
    "    print('****************************************************************')"
   ]
  },
  {
   "cell_type": "markdown",
   "id": "280c5f65",
   "metadata": {},
   "source": [
    "This is insightful as we can see that different hyperparameters are found on each iteration, showing that good hyperparameters on this dataset are dependent on the specifics of the dataset. Overall we can see that the poly kernel has better overall rmse score. We will select kernel poly as our best param."
   ]
  },
  {
   "cell_type": "code",
   "execution_count": 44,
   "id": "d6f780d3",
   "metadata": {},
   "outputs": [],
   "source": [
    "#select best estimator\n",
    "best_scv = score['estimator'][3].best_estimator_\n",
    "best_scv_score = cross_val_score(best_scv, X_train, y_train, scoring = 'neg_root_mean_squared_error')\n",
    "best_scv_score_r2 = cross_val_score(best_scv, X_train, y_train, scoring = 'r2')"
   ]
  },
  {
   "cell_type": "code",
   "execution_count": 45,
   "id": "273bd615",
   "metadata": {},
   "outputs": [
    {
     "name": "stdout",
     "output_type": "stream",
     "text": [
      "SVM Regression_mean_RMSE: -2110.0\n",
      "SVM Regression_std_RMSE: 383.0\n",
      "SVM Regression_Adjusted R^2: 0.77\n",
      "SVM Regression_Adjusted R^2: 0.06\n"
     ]
    }
   ],
   "source": [
    "#displaying result\n",
    "r2 = modified_r2score(r2 = best_scv_score_r2,\n",
    "                n = X_train.shape[0],\n",
    "                p = X_train.shape[1])\n",
    "resultsummary(best_scv_score, r2, 'SVM Regression')"
   ]
  },
  {
   "cell_type": "markdown",
   "id": "51880c75",
   "metadata": {},
   "source": [
    "## XGBoost Regression"
   ]
  },
  {
   "cell_type": "code",
   "execution_count": 46,
   "id": "14edeb06",
   "metadata": {},
   "outputs": [],
   "source": [
    "xgb = XGBRegressor(random_state=0, n_jobs=6)"
   ]
  },
  {
   "cell_type": "code",
   "execution_count": 47,
   "id": "a554c37e",
   "metadata": {},
   "outputs": [],
   "source": [
    "X_train = df_train.drop(['price_month', 'total room'],axis=1)\n",
    "y_train = df_train['price_month']"
   ]
  },
  {
   "cell_type": "code",
   "execution_count": 48,
   "id": "56cb162a",
   "metadata": {},
   "outputs": [],
   "source": [
    "# we will prelimenary define a parameter, further parameter will be fine tune via Optuna\n",
    "tree_params ={\n",
    "    'n_estimators' : [100],\n",
    "    'max_depth' : [6 , 8],\n",
    "    'eta' : [0.1, 0.2],\n",
    "    'subsample':[0.5, 0.8, 1], \n",
    "}"
   ]
  },
  {
   "cell_type": "code",
   "execution_count": 49,
   "id": "3a291d64",
   "metadata": {},
   "outputs": [
    {
     "name": "stderr",
     "output_type": "stream",
     "text": [
      "[Parallel(n_jobs=6)]: Using backend LokyBackend with 6 concurrent workers.\n",
      "[Parallel(n_jobs=6)]: Done   3 out of   5 | elapsed:   45.2s remaining:   30.1s\n",
      "[Parallel(n_jobs=6)]: Done   5 out of   5 | elapsed:   45.4s finished\n"
     ]
    }
   ],
   "source": [
    "xgboost = GridSearchCV(xgb, param_grid= tree_params, cv=inner_cv, scoring='neg_root_mean_squared_error', n_jobs=6)\n",
    "xgb_score = cross_validate(xgboost, X_train, y_train, cv=outer_cv, scoring='neg_root_mean_squared_error', return_estimator=True, verbose=2, n_jobs=6)"
   ]
  },
  {
   "cell_type": "code",
   "execution_count": 50,
   "id": "aa3ead91",
   "metadata": {},
   "outputs": [
    {
     "name": "stdout",
     "output_type": "stream",
     "text": [
      "bestscore: -1038.180531098135\n",
      "bestparam: {'eta': 0.2, 'max_depth': 8, 'n_estimators': 100, 'subsample': 0.8}\n",
      "****************************************************************\n",
      "bestscore: -1492.2182039593238\n",
      "bestparam: {'eta': 0.1, 'max_depth': 6, 'n_estimators': 100, 'subsample': 1}\n",
      "****************************************************************\n",
      "bestscore: -1414.1146441516016\n",
      "bestparam: {'eta': 0.1, 'max_depth': 6, 'n_estimators': 100, 'subsample': 0.5}\n",
      "****************************************************************\n",
      "bestscore: -1774.460922682452\n",
      "bestparam: {'eta': 0.1, 'max_depth': 6, 'n_estimators': 100, 'subsample': 0.5}\n",
      "****************************************************************\n",
      "bestscore: -1097.2467267946995\n",
      "bestparam: {'eta': 0.1, 'max_depth': 6, 'n_estimators': 100, 'subsample': 1}\n",
      "****************************************************************\n"
     ]
    }
   ],
   "source": [
    "for i in range(5):\n",
    "    print('bestscore:', xgb_score['test_score'][i])\n",
    "    print('bestparam:', xgb_score['estimator'][i].best_params_)\n",
    "    print('****************************************************************')"
   ]
  },
  {
   "cell_type": "markdown",
   "id": "bfab932d",
   "metadata": {},
   "source": [
    "Similar to SVM, we can see that different hyperparameters are found on each iteration, showing that good hyperparameters on this dataset are dependent on the specifics of the dataset"
   ]
  },
  {
   "cell_type": "code",
   "execution_count": 51,
   "id": "98f30294",
   "metadata": {},
   "outputs": [],
   "source": [
    "#we will randomly pick one, full hyper parameter will be search later\n",
    "best_xgb = xgb_score['estimator'][0].best_estimator_\n",
    "best_xgb_score = cross_val_score(best_xgb, X_train, y_train, scoring = 'neg_root_mean_squared_error')\n",
    "best_xgb_score_r2 = cross_val_score(best_xgb, X_train, y_train, scoring = 'r2');"
   ]
  },
  {
   "cell_type": "code",
   "execution_count": 52,
   "id": "9c731b98",
   "metadata": {},
   "outputs": [
    {
     "name": "stdout",
     "output_type": "stream",
     "text": [
      "XGBoost Regression_mean_RMSE: 1545.0\n",
      "XGBoost Regression_std_RMSE: 329.0\n",
      "XGBoost Regression_Adjusted R^2: 0.88\n",
      "XGBoost Regression_Adjusted R^2: 0.04\n"
     ]
    }
   ],
   "source": [
    "#displaying result\n",
    "r2 = modified_r2score(r2 = best_xgb_score_r2,\n",
    "                n = X_train.shape[0],\n",
    "                p = X_train.shape[1])\n",
    "resultsummary(-best_xgb_score, r2, 'XGBoost Regression')"
   ]
  },
  {
   "cell_type": "markdown",
   "id": "607bef01",
   "metadata": {},
   "source": [
    "# Algorithm Selection"
   ]
  },
  {
   "cell_type": "code",
   "execution_count": 53,
   "id": "cd6a5070",
   "metadata": {},
   "outputs": [
    {
     "data": {
      "text/html": [
       "<div>\n",
       "<style scoped>\n",
       "    .dataframe tbody tr th:only-of-type {\n",
       "        vertical-align: middle;\n",
       "    }\n",
       "\n",
       "    .dataframe tbody tr th {\n",
       "        vertical-align: top;\n",
       "    }\n",
       "\n",
       "    .dataframe thead th {\n",
       "        text-align: right;\n",
       "    }\n",
       "</style>\n",
       "<table border=\"1\" class=\"dataframe\">\n",
       "  <thead>\n",
       "    <tr style=\"text-align: right;\">\n",
       "      <th></th>\n",
       "      <th>rmse_mean</th>\n",
       "      <th>rmse_std</th>\n",
       "      <th>adjusted_r2_mean</th>\n",
       "      <th>adjusted_r2_std</th>\n",
       "    </tr>\n",
       "  </thead>\n",
       "  <tbody>\n",
       "    <tr>\n",
       "      <th>LinearRegression</th>\n",
       "      <td>3127.0</td>\n",
       "      <td>279.0</td>\n",
       "      <td>0.50</td>\n",
       "      <td>0.02</td>\n",
       "    </tr>\n",
       "    <tr>\n",
       "      <th>SVM Regression</th>\n",
       "      <td>-2110.0</td>\n",
       "      <td>383.0</td>\n",
       "      <td>0.77</td>\n",
       "      <td>0.06</td>\n",
       "    </tr>\n",
       "    <tr>\n",
       "      <th>XGBoost Regression</th>\n",
       "      <td>1545.0</td>\n",
       "      <td>329.0</td>\n",
       "      <td>0.88</td>\n",
       "      <td>0.04</td>\n",
       "    </tr>\n",
       "  </tbody>\n",
       "</table>\n",
       "</div>"
      ],
      "text/plain": [
       "                    rmse_mean  rmse_std  adjusted_r2_mean  adjusted_r2_std\n",
       "LinearRegression       3127.0     279.0              0.50             0.02\n",
       "SVM Regression        -2110.0     383.0              0.77             0.06\n",
       "XGBoost Regression     1545.0     329.0              0.88             0.04"
      ]
     },
     "execution_count": 53,
     "metadata": {},
     "output_type": "execute_result"
    }
   ],
   "source": [
    "all_results"
   ]
  },
  {
   "cell_type": "markdown",
   "id": "44b42a8b",
   "metadata": {},
   "source": [
    "We will choose XGBoostRegression for further fine tuning via Feature-Selection & Hyperparameter tuning as it has the highest validation rmse & adjusted_R2"
   ]
  },
  {
   "cell_type": "markdown",
   "id": "ea350257",
   "metadata": {},
   "source": [
    "# Feature Selection for the Chosen Algorithm"
   ]
  },
  {
   "cell_type": "markdown",
   "id": "104b4c92",
   "metadata": {},
   "source": [
    "We will perform feature selection via Recursive-feature-elimination with XGBoost tree importance."
   ]
  },
  {
   "cell_type": "code",
   "execution_count": 54,
   "id": "cf395fd6",
   "metadata": {},
   "outputs": [],
   "source": [
    "sel = RecursiveFeatureElimination(\n",
    "    variables=None, # automatically evaluate all numerical variables\n",
    "    estimator = best_xgb, # the selected model\n",
    "    scoring = 'neg_root_mean_squared_error', # the metric we want to evalute\n",
    "    threshold = 50, # the maximum rmse drop allowed to remove a feature\n",
    "    cv=5, # cross-validation\n",
    ")"
   ]
  },
  {
   "cell_type": "code",
   "execution_count": 55,
   "id": "d55fa258",
   "metadata": {},
   "outputs": [],
   "source": [
    "sel.fit(X_train, y_train);"
   ]
  },
  {
   "cell_type": "code",
   "execution_count": 56,
   "id": "74e48456",
   "metadata": {},
   "outputs": [
    {
     "data": {
      "image/png": "[encoded data removed]",
      "text/plain": [
       "<Figure size 1440x432 with 1 Axes>"
      ]
     },
     "metadata": {
      "needs_background": "light"
     },
     "output_type": "display_data"
    }
   ],
   "source": [
    "# importance of all features based of initial model\n",
    "sel.feature_importances_.sort_values(ascending=False).plot.bar(figsize=(20,6))\n",
    "plt.xlabel('Features')\n",
    "plt.ylabel('Importance')\n",
    "plt.show()"
   ]
  },
  {
   "cell_type": "code",
   "execution_count": 57,
   "id": "38bc7794",
   "metadata": {},
   "outputs": [
    {
     "data": {
      "image/png": "[encoded data removed]",
      "text/plain": [
       "<Figure size 1440x432 with 1 Axes>"
      ]
     },
     "metadata": {
      "needs_background": "light"
     },
     "output_type": "display_data"
    }
   ],
   "source": [
    "# we plot to find out how each of the feature influence the model performance\n",
    "pd.Series(sel.performance_drifts_).sort_values(key=lambda x: abs(x), ascending=False).plot.bar(figsize=(20,6))\n",
    "plt.xlabel('Features')\n",
    "plt.ylabel('Performance change when feature was added')\n",
    "plt.show()"
   ]
  },
  {
   "cell_type": "markdown",
   "id": "59694054",
   "metadata": {},
   "source": [
    "we can see that although Orchard_MRT & Downtown Mrt has higher feature importance, however it does not affect the model performance much. This suggest that there is an interaction effect / multicolinearity with other feature"
   ]
  },
  {
   "cell_type": "code",
   "execution_count": 58,
   "id": "ff9794d0",
   "metadata": {},
   "outputs": [
    {
     "data": {
      "text/plain": [
       "43"
      ]
     },
     "execution_count": 58,
     "metadata": {},
     "output_type": "execute_result"
    }
   ],
   "source": [
    "# Number of features that will be removed\n",
    "len(sel.features_to_drop_)"
   ]
  },
  {
   "cell_type": "code",
   "execution_count": 59,
   "id": "e7bb5958",
   "metadata": {},
   "outputs": [],
   "source": [
    "X_train = sel.transform(X_train)"
   ]
  },
  {
   "cell_type": "code",
   "execution_count": 60,
   "id": "e3177b69",
   "metadata": {},
   "outputs": [
    {
     "data": {
      "text/plain": [
       "Index(['sqft', 'built_year', 'walking_time', 'district_number',\n",
       "       'mrt_name_Dhoby Ghaut MRT', 'mrt_name_Holland Village MRT'],\n",
       "      dtype='object')"
      ]
     },
     "execution_count": 60,
     "metadata": {},
     "output_type": "execute_result"
    }
   ],
   "source": [
    "#final selected feature\n",
    "X_train.columns"
   ]
  },
  {
   "cell_type": "code",
   "execution_count": 61,
   "id": "83e6df1b",
   "metadata": {},
   "outputs": [
    {
     "data": {
      "text/plain": [
       "-1485.9748357266603"
      ]
     },
     "execution_count": 61,
     "metadata": {},
     "output_type": "execute_result"
    }
   ],
   "source": [
    "cross_val_score(best_xgb, X_train, y_train, cv=5, scoring='neg_root_mean_squared_error').mean()"
   ]
  },
  {
   "cell_type": "markdown",
   "id": "7efa2a27",
   "metadata": {},
   "source": [
    "# Final Hyperameter Tuning via Optuna"
   ]
  },
  {
   "cell_type": "markdown",
   "id": "6f7da913",
   "metadata": {},
   "source": [
    "Previously we have perform gridsearch for the hyperparameter for gridsearch, however it is not exhaustive as full gridsearch is computationally intensive. Here, we will be using Optuna for hyperparameter tuning. It is an optimization hyperparameter tuning that explore the space of hyperparamter."
   ]
  },
  {
   "cell_type": "markdown",
   "id": "b3dbb965",
   "metadata": {},
   "source": [
    "This is the hyperparameter response space, the function we want to optimize."
   ]
  },
  {
   "cell_type": "code",
   "execution_count": 92,
   "id": "7fe305f7",
   "metadata": {},
   "outputs": [],
   "source": [
    "def objective(trial):\n",
    "\n",
    "    eta = trial.suggest_float(\"eta\", 1e-2, 0.3, log=True)\n",
    "    reg_lambda = trial.suggest_loguniform(\"reg_lambda\", 1e-8, 100)\n",
    "    reg_alpha = trial.suggest_loguniform(\"reg_alpha\", 1e-8, 100)\n",
    "    subsample = trial.suggest_float(\"subsample\", 0.1, 1)\n",
    "    colsample_bytree = trial.suggest_float(\"colsample_bytree\", 0.1, 1.0)\n",
    "    max_depth = trial.suggest_int(\"max_depth\", 1, 7)\n",
    "    \n",
    "    model = XGBRegressor(random_state=0,\n",
    "                         n_estimators = 200,\n",
    "                         eta = eta,\n",
    "                         reg_lambda = reg_lambda,\n",
    "                         reg_alpha = reg_alpha,\n",
    "                         subsample = subsample,\n",
    "                         colsample_bytree = colsample_bytree,\n",
    "                         max_depth = max_depth,\n",
    "                         n_jobs=6\n",
    "                         )\n",
    "\n",
    "    score = cross_val_score(model, X_train, y_train, scoring = 'neg_root_mean_squared_error',  cv=10, verbose=1)\n",
    "    mean_score = score.mean()\n",
    "    std_score = score.std()\n",
    "    \n",
    "    accuracy = mean_score - std_score\n",
    "    \n",
    "    return accuracy"
   ]
  },
  {
   "cell_type": "code",
   "execution_count": 93,
   "id": "fba30fc8",
   "metadata": {
    "scrolled": true
   },
   "outputs": [
    {
     "name": "stderr",
     "output_type": "stream",
     "text": [
      "\u001b[32m[I 2021-11-14 14:35:48,062]\u001b[0m A new study created in memory with name: no-name-48066d94-8421-4064-a1ae-818d9556fc98\u001b[0m\n",
      "[Parallel(n_jobs=1)]: Using backend SequentialBackend with 1 concurrent workers.\n",
      "[Parallel(n_jobs=1)]: Done  10 out of  10 | elapsed:    1.1s finished\n",
      "\u001b[32m[I 2021-11-14 14:35:49,247]\u001b[0m Trial 0 finished with value: -2146.43649065361 and parameters: {'eta': 0.1378269407025591, 'reg_lambda': 1.6125734071333657e-08, 'reg_alpha': 0.021701130033392347, 'subsample': 0.7739234942847507, 'colsample_bytree': 0.5486563110723314, 'max_depth': 2}. Best is trial 0 with value: -2146.43649065361.\u001b[0m\n",
      "[Parallel(n_jobs=1)]: Using backend SequentialBackend with 1 concurrent workers.\n",
      "[Parallel(n_jobs=1)]: Done  10 out of  10 | elapsed:    3.0s finished\n",
      "\u001b[32m[I 2021-11-14 14:35:52,398]\u001b[0m Trial 1 finished with value: -2001.4779390973395 and parameters: {'eta': 0.019613850797827754, 'reg_lambda': 0.40300192627116094, 'reg_alpha': 4.910303832962881e-07, 'subsample': 0.17950583275660925, 'colsample_bytree': 0.7168238365310176, 'max_depth': 7}. Best is trial 1 with value: -2001.4779390973395.\u001b[0m\n",
      "[Parallel(n_jobs=1)]: Using backend SequentialBackend with 1 concurrent workers.\n",
      "[Parallel(n_jobs=1)]: Done  10 out of  10 | elapsed:    1.4s finished\n",
      "\u001b[32m[I 2021-11-14 14:35:53,923]\u001b[0m Trial 2 finished with value: -2754.0084028568513 and parameters: {'eta': 0.010135194048459749, 'reg_lambda': 0.0013241056351907755, 'reg_alpha': 1.337240793285875, 'subsample': 0.6512734601464494, 'colsample_bytree': 0.7495797856886196, 'max_depth': 3}. Best is trial 1 with value: -2001.4779390973395.\u001b[0m\n",
      "[Parallel(n_jobs=1)]: Using backend SequentialBackend with 1 concurrent workers.\n",
      "[Parallel(n_jobs=1)]: Done  10 out of  10 | elapsed:    1.8s finished\n",
      "\u001b[32m[I 2021-11-14 14:35:55,810]\u001b[0m Trial 3 finished with value: -2105.756904053318 and parameters: {'eta': 0.22681076499740013, 'reg_lambda': 0.13988071192040605, 'reg_alpha': 0.0026634446753138856, 'subsample': 0.22795304284137427, 'colsample_bytree': 0.43600668404632226, 'max_depth': 5}. Best is trial 1 with value: -2001.4779390973395.\u001b[0m\n",
      "[Parallel(n_jobs=1)]: Using backend SequentialBackend with 1 concurrent workers.\n",
      "[Parallel(n_jobs=1)]: Done  10 out of  10 | elapsed:    2.3s finished\n",
      "\u001b[32m[I 2021-11-14 14:35:58,248]\u001b[0m Trial 4 finished with value: -1784.6708405787213 and parameters: {'eta': 0.04494083868780552, 'reg_lambda': 0.00021884666527130592, 'reg_alpha': 0.01505461954644427, 'subsample': 0.5618244182989518, 'colsample_bytree': 0.6853574637383205, 'max_depth': 5}. Best is trial 4 with value: -1784.6708405787213.\u001b[0m\n",
      "[Parallel(n_jobs=1)]: Using backend SequentialBackend with 1 concurrent workers.\n",
      "[Parallel(n_jobs=1)]: Done  10 out of  10 | elapsed:    1.1s finished\n",
      "\u001b[32m[I 2021-11-14 14:35:59,498]\u001b[0m Trial 5 finished with value: -2348.188470733925 and parameters: {'eta': 0.15467221282773014, 'reg_lambda': 0.00164615802657879, 'reg_alpha': 12.203623711946866, 'subsample': 0.38731248008969077, 'colsample_bytree': 0.18141341434381664, 'max_depth': 3}. Best is trial 4 with value: -1784.6708405787213.\u001b[0m\n",
      "[Parallel(n_jobs=1)]: Using backend SequentialBackend with 1 concurrent workers.\n",
      "[Parallel(n_jobs=1)]: Done  10 out of  10 | elapsed:    2.6s finished\n",
      "\u001b[32m[I 2021-11-14 14:36:02,233]\u001b[0m Trial 6 finished with value: -2404.684126203552 and parameters: {'eta': 0.014735630523036643, 'reg_lambda': 1.935589524747966, 'reg_alpha': 2.944172107010871e-08, 'subsample': 0.6636584334802533, 'colsample_bytree': 0.5928275403273192, 'max_depth': 6}. Best is trial 4 with value: -1784.6708405787213.\u001b[0m\n",
      "[Parallel(n_jobs=1)]: Using backend SequentialBackend with 1 concurrent workers.\n",
      "[Parallel(n_jobs=1)]: Done  10 out of  10 | elapsed:    2.5s finished\n",
      "\u001b[32m[I 2021-11-14 14:36:04,882]\u001b[0m Trial 7 finished with value: -2621.8471045475376 and parameters: {'eta': 0.019672956852114582, 'reg_lambda': 3.7025678398776036, 'reg_alpha': 3.284932079269039e-05, 'subsample': 0.7791829223768715, 'colsample_bytree': 0.36636553619171086, 'max_depth': 7}. Best is trial 4 with value: -1784.6708405787213.\u001b[0m\n",
      "[Parallel(n_jobs=1)]: Using backend SequentialBackend with 1 concurrent workers.\n",
      "[Parallel(n_jobs=1)]: Done  10 out of  10 | elapsed:    1.1s finished\n",
      "\u001b[32m[I 2021-11-14 14:36:06,039]\u001b[0m Trial 8 finished with value: -2263.543545078966 and parameters: {'eta': 0.030256602444515817, 'reg_lambda': 4.468471344128928e-07, 'reg_alpha': 8.419618999578509e-05, 'subsample': 0.1841143371027853, 'colsample_bytree': 0.8389950920532356, 'max_depth': 2}. Best is trial 4 with value: -1784.6708405787213.\u001b[0m\n",
      "[Parallel(n_jobs=1)]: Using backend SequentialBackend with 1 concurrent workers.\n",
      "[Parallel(n_jobs=1)]: Done  10 out of  10 | elapsed:    1.1s finished\n",
      "\u001b[32m[I 2021-11-14 14:36:07,277]\u001b[0m Trial 9 finished with value: -2337.5436299018606 and parameters: {'eta': 0.03693036639469112, 'reg_lambda': 27.708123990732204, 'reg_alpha': 75.20639112807959, 'subsample': 0.5106740923853057, 'colsample_bytree': 0.8435105594584659, 'max_depth': 2}. Best is trial 4 with value: -1784.6708405787213.\u001b[0m\n",
      "[Parallel(n_jobs=1)]: Using backend SequentialBackend with 1 concurrent workers.\n",
      "[Parallel(n_jobs=1)]: Done  10 out of  10 | elapsed:    1.5s finished\n",
      "\u001b[32m[I 2021-11-14 14:36:08,933]\u001b[0m Trial 10 finished with value: -2425.3033248769057 and parameters: {'eta': 0.07002187454271289, 'reg_lambda': 1.0885516922813895e-05, 'reg_alpha': 0.23432649633525757, 'subsample': 0.41007886794212434, 'colsample_bytree': 0.17903827364193103, 'max_depth': 5}. Best is trial 4 with value: -1784.6708405787213.\u001b[0m\n",
      "[Parallel(n_jobs=1)]: Using backend SequentialBackend with 1 concurrent workers.\n",
      "[Parallel(n_jobs=1)]: Done  10 out of  10 | elapsed:    3.7s finished\n",
      "\u001b[32m[I 2021-11-14 14:36:12,780]\u001b[0m Trial 11 finished with value: -1752.056078771112 and parameters: {'eta': 0.056651241473936235, 'reg_lambda': 0.05924829248030945, 'reg_alpha': 9.49343891230954e-08, 'subsample': 0.9710961252690105, 'colsample_bytree': 0.7003372534916259, 'max_depth': 7}. Best is trial 11 with value: -1752.056078771112.\u001b[0m\n",
      "[Parallel(n_jobs=1)]: Using backend SequentialBackend with 1 concurrent workers.\n",
      "[Parallel(n_jobs=1)]: Done  10 out of  10 | elapsed:    2.3s finished\n",
      "\u001b[32m[I 2021-11-14 14:36:15,156]\u001b[0m Trial 12 finished with value: -1744.6315596513323 and parameters: {'eta': 0.06213706684943528, 'reg_lambda': 4.7065478357315724e-05, 'reg_alpha': 2.2843175045322813e-06, 'subsample': 0.9735865536542568, 'colsample_bytree': 0.9983226186911375, 'max_depth': 5}. Best is trial 12 with value: -1744.6315596513323.\u001b[0m\n",
      "[Parallel(n_jobs=1)]: Using backend SequentialBackend with 1 concurrent workers.\n",
      "[Parallel(n_jobs=1)]: Done  10 out of  10 | elapsed:    2.9s finished\n",
      "\u001b[32m[I 2021-11-14 14:36:18,215]\u001b[0m Trial 13 finished with value: -1740.3787165828683 and parameters: {'eta': 0.0925234687497065, 'reg_lambda': 0.023918417730348307, 'reg_alpha': 1.5170833330544569e-06, 'subsample': 0.9756783829387544, 'colsample_bytree': 0.991808559862184, 'max_depth': 6}. Best is trial 13 with value: -1740.3787165828683.\u001b[0m\n",
      "[Parallel(n_jobs=1)]: Using backend SequentialBackend with 1 concurrent workers.\n",
      "[Parallel(n_jobs=1)]: Done  10 out of  10 | elapsed:    1.9s finished\n",
      "\u001b[32m[I 2021-11-14 14:36:20,207]\u001b[0m Trial 14 finished with value: -1800.598807535849 and parameters: {'eta': 0.08577406465752184, 'reg_lambda': 3.3435529386603714e-05, 'reg_alpha': 3.4063311613821166e-06, 'subsample': 0.9328902499306425, 'colsample_bytree': 0.9918542373679904, 'max_depth': 4}. Best is trial 13 with value: -1740.3787165828683.\u001b[0m\n",
      "[Parallel(n_jobs=1)]: Using backend SequentialBackend with 1 concurrent workers.\n",
      "[Parallel(n_jobs=1)]: Done  10 out of  10 | elapsed:    3.0s finished\n",
      "\u001b[32m[I 2021-11-14 14:36:23,335]\u001b[0m Trial 15 finished with value: -1719.0881650805431 and parameters: {'eta': 0.10474056468415117, 'reg_lambda': 0.010816199994247358, 'reg_alpha': 5.132132224763452e-06, 'subsample': 0.8740325176290162, 'colsample_bytree': 0.9996573031739096, 'max_depth': 6}. Best is trial 15 with value: -1719.0881650805431.\u001b[0m\n",
      "[Parallel(n_jobs=1)]: Using backend SequentialBackend with 1 concurrent workers.\n",
      "[Parallel(n_jobs=1)]: Done  10 out of  10 | elapsed:    3.0s finished\n",
      "\u001b[32m[I 2021-11-14 14:36:26,497]\u001b[0m Trial 16 finished with value: -1778.92600856513 and parameters: {'eta': 0.11203546919444558, 'reg_lambda': 0.012399541609584903, 'reg_alpha': 5.7383064894524876e-05, 'subsample': 0.8379212524321648, 'colsample_bytree': 0.8830833915341143, 'max_depth': 6}. Best is trial 15 with value: -1719.0881650805431.\u001b[0m\n"
     ]
    },
    {
     "name": "stderr",
     "output_type": "stream",
     "text": [
      "[Parallel(n_jobs=1)]: Using backend SequentialBackend with 1 concurrent workers.\n",
      "[Parallel(n_jobs=1)]: Done  10 out of  10 | elapsed:    2.9s finished\n",
      "\u001b[32m[I 2021-11-14 14:36:29,546]\u001b[0m Trial 17 finished with value: -1827.8685956468375 and parameters: {'eta': 0.2604145848802365, 'reg_lambda': 0.017768740567645196, 'reg_alpha': 0.0004454785843868159, 'subsample': 0.8613076089444631, 'colsample_bytree': 0.8796358545071375, 'max_depth': 6}. Best is trial 15 with value: -1719.0881650805431.\u001b[0m\n",
      "[Parallel(n_jobs=1)]: Using backend SequentialBackend with 1 concurrent workers.\n",
      "[Parallel(n_jobs=1)]: Done  10 out of  10 | elapsed:    1.9s finished\n",
      "\u001b[32m[I 2021-11-14 14:36:31,550]\u001b[0m Trial 18 finished with value: -1832.7531225687414 and parameters: {'eta': 0.09349175270856819, 'reg_lambda': 0.005846349619349905, 'reg_alpha': 1.0964454238770742e-08, 'subsample': 0.6972382787700712, 'colsample_bytree': 0.9591711797785997, 'max_depth': 4}. Best is trial 15 with value: -1719.0881650805431.\u001b[0m\n",
      "[Parallel(n_jobs=1)]: Using backend SequentialBackend with 1 concurrent workers.\n",
      "[Parallel(n_jobs=1)]: Done  10 out of  10 | elapsed:    1.5s finished\n",
      "\u001b[32m[I 2021-11-14 14:36:33,196]\u001b[0m Trial 19 finished with value: -2476.1463588092156 and parameters: {'eta': 0.161940247763917, 'reg_lambda': 48.046054703249304, 'reg_alpha': 5.981773141779208e-06, 'subsample': 0.894416592944092, 'colsample_bytree': 0.2901906030298187, 'max_depth': 6}. Best is trial 15 with value: -1719.0881650805431.\u001b[0m\n",
      "[Parallel(n_jobs=1)]: Using backend SequentialBackend with 1 concurrent workers.\n",
      "[Parallel(n_jobs=1)]: Done  10 out of  10 | elapsed:    0.9s finished\n",
      "\u001b[32m[I 2021-11-14 14:36:34,176]\u001b[0m Trial 20 finished with value: -2446.875546156938 and parameters: {'eta': 0.21389726988424396, 'reg_lambda': 3.4945944286843125e-06, 'reg_alpha': 1.0507606162825355e-07, 'subsample': 0.9928304970178652, 'colsample_bytree': 0.5380173744160139, 'max_depth': 1}. Best is trial 15 with value: -1719.0881650805431.\u001b[0m\n",
      "[Parallel(n_jobs=1)]: Using backend SequentialBackend with 1 concurrent workers.\n",
      "[Parallel(n_jobs=1)]: Done  10 out of  10 | elapsed:    2.3s finished\n",
      "\u001b[32m[I 2021-11-14 14:36:36,631]\u001b[0m Trial 21 finished with value: -1759.3343223447305 and parameters: {'eta': 0.06391356537415042, 'reg_lambda': 0.00013369479375201636, 'reg_alpha': 1.991921878317753e-06, 'subsample': 0.9883296322762878, 'colsample_bytree': 0.9855216396558294, 'max_depth': 5}. Best is trial 15 with value: -1719.0881650805431.\u001b[0m\n",
      "[Parallel(n_jobs=1)]: Using backend SequentialBackend with 1 concurrent workers.\n",
      "[Parallel(n_jobs=1)]: Done  10 out of  10 | elapsed:    3.1s finished\n",
      "\u001b[32m[I 2021-11-14 14:36:39,833]\u001b[0m Trial 22 finished with value: -1786.5602552731216 and parameters: {'eta': 0.10554339402337855, 'reg_lambda': 0.0003378956362496185, 'reg_alpha': 5.550009381271014e-07, 'subsample': 0.7951832648638728, 'colsample_bytree': 0.918957748248352, 'max_depth': 6}. Best is trial 15 with value: -1719.0881650805431.\u001b[0m\n",
      "[Parallel(n_jobs=1)]: Using backend SequentialBackend with 1 concurrent workers.\n",
      "[Parallel(n_jobs=1)]: Done  10 out of  10 | elapsed:    2.3s finished\n",
      "\u001b[32m[I 2021-11-14 14:36:42,263]\u001b[0m Trial 23 finished with value: -1772.9893713608149 and parameters: {'eta': 0.07621629320564567, 'reg_lambda': 6.629974104808236e-07, 'reg_alpha': 1.6817112209934603e-05, 'subsample': 0.9073105646407108, 'colsample_bytree': 0.7954507564924886, 'max_depth': 5}. Best is trial 15 with value: -1719.0881650805431.\u001b[0m\n",
      "[Parallel(n_jobs=1)]: Using backend SequentialBackend with 1 concurrent workers.\n",
      "[Parallel(n_jobs=1)]: Done  10 out of  10 | elapsed:    4.1s finished\n",
      "\u001b[32m[I 2021-11-14 14:36:46,439]\u001b[0m Trial 24 finished with value: -1700.5375163463166 and parameters: {'eta': 0.03972005246982132, 'reg_lambda': 0.0029333579118198485, 'reg_alpha': 0.00031604813554561513, 'subsample': 0.742163197857558, 'colsample_bytree': 0.9233600510440827, 'max_depth': 7}. Best is trial 24 with value: -1700.5375163463166.\u001b[0m\n",
      "[Parallel(n_jobs=1)]: Using backend SequentialBackend with 1 concurrent workers.\n",
      "[Parallel(n_jobs=1)]: Done  10 out of  10 | elapsed:    3.8s finished\n",
      "\u001b[32m[I 2021-11-14 14:36:50,358]\u001b[0m Trial 25 finished with value: -1672.6156808761002 and parameters: {'eta': 0.03400978894470196, 'reg_lambda': 0.8607978081468941, 'reg_alpha': 0.00044225180465130365, 'subsample': 0.7272923607975716, 'colsample_bytree': 0.916374988237396, 'max_depth': 7}. Best is trial 25 with value: -1672.6156808761002.\u001b[0m\n",
      "[Parallel(n_jobs=1)]: Using backend SequentialBackend with 1 concurrent workers.\n",
      "[Parallel(n_jobs=1)]: Done  10 out of  10 | elapsed:    3.7s finished\n",
      "\u001b[32m[I 2021-11-14 14:36:54,218]\u001b[0m Trial 26 finished with value: -1727.3378532952393 and parameters: {'eta': 0.028696437039771764, 'reg_lambda': 1.1361947592478883, 'reg_alpha': 0.0004888760636330374, 'subsample': 0.7342004287958956, 'colsample_bytree': 0.7959274103239103, 'max_depth': 7}. Best is trial 25 with value: -1672.6156808761002.\u001b[0m\n",
      "[Parallel(n_jobs=1)]: Using backend SequentialBackend with 1 concurrent workers.\n",
      "[Parallel(n_jobs=1)]: Done  10 out of  10 | elapsed:    3.1s finished\n",
      "\u001b[32m[I 2021-11-14 14:36:57,471]\u001b[0m Trial 27 finished with value: -2135.588160494924 and parameters: {'eta': 0.038194028973423985, 'reg_lambda': 12.078781623671864, 'reg_alpha': 0.0029543135671540846, 'subsample': 0.6060865432921654, 'colsample_bytree': 0.6369851042690866, 'max_depth': 7}. Best is trial 25 with value: -1672.6156808761002.\u001b[0m\n",
      "[Parallel(n_jobs=1)]: Using backend SequentialBackend with 1 concurrent workers.\n",
      "[Parallel(n_jobs=1)]: Done  10 out of  10 | elapsed:    3.8s finished\n",
      "\u001b[32m[I 2021-11-14 14:37:01,438]\u001b[0m Trial 28 finished with value: -1704.5534056889205 and parameters: {'eta': 0.04752148658324471, 'reg_lambda': 0.26644153260078257, 'reg_alpha': 0.00015361093062963687, 'subsample': 0.7173489359314863, 'colsample_bytree': 0.907770571188073, 'max_depth': 7}. Best is trial 25 with value: -1672.6156808761002.\u001b[0m\n",
      "[Parallel(n_jobs=1)]: Using backend SequentialBackend with 1 concurrent workers.\n",
      "[Parallel(n_jobs=1)]: Done  10 out of  10 | elapsed:    4.1s finished\n",
      "\u001b[32m[I 2021-11-14 14:37:05,685]\u001b[0m Trial 29 finished with value: -1764.2866810340315 and parameters: {'eta': 0.02372857105930288, 'reg_lambda': 1.2655893155717958e-08, 'reg_alpha': 0.030050511553041743, 'subsample': 0.5023195724222891, 'colsample_bytree': 0.9134118086444472, 'max_depth': 7}. Best is trial 25 with value: -1672.6156808761002.\u001b[0m\n",
      "[Parallel(n_jobs=1)]: Using backend SequentialBackend with 1 concurrent workers.\n",
      "[Parallel(n_jobs=1)]: Done  10 out of  10 | elapsed:    3.8s finished\n",
      "\u001b[32m[I 2021-11-14 14:37:09,647]\u001b[0m Trial 30 finished with value: -1742.5730838410934 and parameters: {'eta': 0.04566472283676087, 'reg_lambda': 0.22720839951111246, 'reg_alpha': 0.00014649671166477128, 'subsample': 0.7430639413889087, 'colsample_bytree': 0.804086742942163, 'max_depth': 7}. Best is trial 25 with value: -1672.6156808761002.\u001b[0m\n",
      "[Parallel(n_jobs=1)]: Using backend SequentialBackend with 1 concurrent workers.\n",
      "[Parallel(n_jobs=1)]: Done  10 out of  10 | elapsed:    4.0s finished\n",
      "\u001b[32m[I 2021-11-14 14:37:13,752]\u001b[0m Trial 31 finished with value: -1701.3024326422203 and parameters: {'eta': 0.041219899749785016, 'reg_lambda': 0.004557426076146412, 'reg_alpha': 0.0014311131165918596, 'subsample': 0.8154511465709451, 'colsample_bytree': 0.9084485107689394, 'max_depth': 7}. Best is trial 25 with value: -1672.6156808761002.\u001b[0m\n",
      "[Parallel(n_jobs=1)]: Using backend SequentialBackend with 1 concurrent workers.\n",
      "[Parallel(n_jobs=1)]: Done  10 out of  10 | elapsed:    3.9s finished\n",
      "\u001b[32m[I 2021-11-14 14:37:17,765]\u001b[0m Trial 32 finished with value: -1690.7115824016778 and parameters: {'eta': 0.03215276233070454, 'reg_lambda': 0.2793901779068894, 'reg_alpha': 0.006411094369874641, 'subsample': 0.8063901948534248, 'colsample_bytree': 0.9333228240959884, 'max_depth': 7}. Best is trial 25 with value: -1672.6156808761002.\u001b[0m\n",
      "[Parallel(n_jobs=1)]: Using backend SequentialBackend with 1 concurrent workers.\n",
      "[Parallel(n_jobs=1)]: Done  10 out of  10 | elapsed:    4.0s finished\n",
      "\u001b[32m[I 2021-11-14 14:37:21,888]\u001b[0m Trial 33 finished with value: -1761.823114467123 and parameters: {'eta': 0.031152606197266508, 'reg_lambda': 0.002284801693118609, 'reg_alpha': 0.024818885956508843, 'subsample': 0.8218491016165703, 'colsample_bytree': 0.7580965620126348, 'max_depth': 7}. Best is trial 25 with value: -1672.6156808761002.\u001b[0m\n"
     ]
    },
    {
     "name": "stderr",
     "output_type": "stream",
     "text": [
      "[Parallel(n_jobs=1)]: Using backend SequentialBackend with 1 concurrent workers.\n",
      "[Parallel(n_jobs=1)]: Done  10 out of  10 | elapsed:    3.6s finished\n",
      "\u001b[32m[I 2021-11-14 14:37:25,578]\u001b[0m Trial 34 finished with value: -1968.1618239665358 and parameters: {'eta': 0.02415024348322517, 'reg_lambda': 7.375537262709361, 'reg_alpha': 0.0034831155162686404, 'subsample': 0.6449118182221963, 'colsample_bytree': 0.8566477179657519, 'max_depth': 7}. Best is trial 25 with value: -1672.6156808761002.\u001b[0m\n",
      "[Parallel(n_jobs=1)]: Using backend SequentialBackend with 1 concurrent workers.\n",
      "[Parallel(n_jobs=1)]: Done  10 out of  10 | elapsed:    3.2s finished\n",
      "\u001b[32m[I 2021-11-14 14:37:28,945]\u001b[0m Trial 35 finished with value: -1832.2749908489031 and parameters: {'eta': 0.01482792603670444, 'reg_lambda': 0.07060070573695733, 'reg_alpha': 0.432928289176029, 'subsample': 0.7725196545170243, 'colsample_bytree': 0.9410007129362671, 'max_depth': 6}. Best is trial 25 with value: -1672.6156808761002.\u001b[0m\n",
      "[Parallel(n_jobs=1)]: Using backend SequentialBackend with 1 concurrent workers.\n",
      "[Parallel(n_jobs=1)]: Done  10 out of  10 | elapsed:    3.5s finished\n",
      "\u001b[32m[I 2021-11-14 14:37:32,520]\u001b[0m Trial 36 finished with value: -1801.1287960051536 and parameters: {'eta': 0.0393587257744975, 'reg_lambda': 0.8748523733252989, 'reg_alpha': 0.006395593181013157, 'subsample': 0.5827987364942447, 'colsample_bytree': 0.5068035336709463, 'max_depth': 7}. Best is trial 25 with value: -1672.6156808761002.\u001b[0m\n",
      "[Parallel(n_jobs=1)]: Using backend SequentialBackend with 1 concurrent workers.\n",
      "[Parallel(n_jobs=1)]: Done  10 out of  10 | elapsed:    1.5s finished\n",
      "\u001b[32m[I 2021-11-14 14:37:34,148]\u001b[0m Trial 37 finished with value: -2294.634084462121 and parameters: {'eta': 0.01635507824304592, 'reg_lambda': 0.0006754883349664701, 'reg_alpha': 0.09332871791163896, 'subsample': 0.6873889812745388, 'colsample_bytree': 0.7435313734812049, 'max_depth': 3}. Best is trial 25 with value: -1672.6156808761002.\u001b[0m\n",
      "[Parallel(n_jobs=1)]: Using backend SequentialBackend with 1 concurrent workers.\n",
      "[Parallel(n_jobs=1)]: Done  10 out of  10 | elapsed:    2.9s finished\n",
      "\u001b[32m[I 2021-11-14 14:37:37,203]\u001b[0m Trial 38 finished with value: -1886.2279885779783 and parameters: {'eta': 0.022001005013977438, 'reg_lambda': 0.00326274403062529, 'reg_alpha': 0.0008271876412565502, 'subsample': 0.826302781994332, 'colsample_bytree': 0.6369170609265351, 'max_depth': 6}. Best is trial 25 with value: -1672.6156808761002.\u001b[0m\n",
      "[Parallel(n_jobs=1)]: Using backend SequentialBackend with 1 concurrent workers.\n",
      "[Parallel(n_jobs=1)]: Done  10 out of  10 | elapsed:    3.9s finished\n",
      "\u001b[32m[I 2021-11-14 14:37:41,222]\u001b[0m Trial 39 finished with value: -1760.0363668464668 and parameters: {'eta': 0.032516005562815746, 'reg_lambda': 0.042619484299915904, 'reg_alpha': 0.008457134170829867, 'subsample': 0.650901688714929, 'colsample_bytree': 0.8304728673587082, 'max_depth': 7}. Best is trial 25 with value: -1672.6156808761002.\u001b[0m\n",
      "[Parallel(n_jobs=1)]: Using backend SequentialBackend with 1 concurrent workers.\n",
      "[Parallel(n_jobs=1)]: Done  10 out of  10 | elapsed:    3.0s finished\n",
      "\u001b[32m[I 2021-11-14 14:37:44,322]\u001b[0m Trial 40 finished with value: -1697.9049676415007 and parameters: {'eta': 0.05099536419523024, 'reg_lambda': 0.6491891096909106, 'reg_alpha': 0.001398801233078241, 'subsample': 0.7676711807068854, 'colsample_bytree': 0.9429975034708867, 'max_depth': 6}. Best is trial 25 with value: -1672.6156808761002.\u001b[0m\n",
      "[Parallel(n_jobs=1)]: Using backend SequentialBackend with 1 concurrent workers.\n",
      "[Parallel(n_jobs=1)]: Done  10 out of  10 | elapsed:    3.8s finished\n",
      "\u001b[32m[I 2021-11-14 14:37:48,291]\u001b[0m Trial 41 finished with value: -1697.7668958497436 and parameters: {'eta': 0.05000081487276298, 'reg_lambda': 0.3592732613661466, 'reg_alpha': 0.001266082603320024, 'subsample': 0.7938330060024138, 'colsample_bytree': 0.9225140909492225, 'max_depth': 7}. Best is trial 25 with value: -1672.6156808761002.\u001b[0m\n",
      "[Parallel(n_jobs=1)]: Using backend SequentialBackend with 1 concurrent workers.\n",
      "[Parallel(n_jobs=1)]: Done  10 out of  10 | elapsed:    3.0s finished\n",
      "\u001b[32m[I 2021-11-14 14:37:51,396]\u001b[0m Trial 42 finished with value: -1715.0201158701689 and parameters: {'eta': 0.05196578897676944, 'reg_lambda': 0.6000831552494098, 'reg_alpha': 0.0003139935671857249, 'subsample': 0.7629940824666571, 'colsample_bytree': 0.9529194456668162, 'max_depth': 6}. Best is trial 25 with value: -1672.6156808761002.\u001b[0m\n",
      "[Parallel(n_jobs=1)]: Using backend SequentialBackend with 1 concurrent workers.\n",
      "[Parallel(n_jobs=1)]: Done  10 out of  10 | elapsed:    1.4s finished\n",
      "\u001b[32m[I 2021-11-14 14:37:52,921]\u001b[0m Trial 43 finished with value: -3339.7997408025135 and parameters: {'eta': 0.02699817958406104, 'reg_lambda': 3.294965158650812, 'reg_alpha': 0.0014066043241606075, 'subsample': 0.10873103701810927, 'colsample_bytree': 0.12397596104805464, 'max_depth': 7}. Best is trial 25 with value: -1672.6156808761002.\u001b[0m\n",
      "[Parallel(n_jobs=1)]: Using backend SequentialBackend with 1 concurrent workers.\n",
      "[Parallel(n_jobs=1)]: Done  10 out of  10 | elapsed:    3.9s finished\n",
      "\u001b[32m[I 2021-11-14 14:37:56,968]\u001b[0m Trial 44 finished with value: -1741.6654423814293 and parameters: {'eta': 0.03428621084303724, 'reg_lambda': 0.10158781495143673, 'reg_alpha': 0.06704025578244417, 'subsample': 0.6105640009338427, 'colsample_bytree': 0.8680228392708385, 'max_depth': 7}. Best is trial 25 with value: -1672.6156808761002.\u001b[0m\n",
      "[Parallel(n_jobs=1)]: Using backend SequentialBackend with 1 concurrent workers.\n",
      "[Parallel(n_jobs=1)]: Done  10 out of  10 | elapsed:    2.9s finished\n",
      "\u001b[32m[I 2021-11-14 14:37:59,997]\u001b[0m Trial 45 finished with value: -2574.000994878808 and parameters: {'eta': 0.010709778940396947, 'reg_lambda': 2.002437357550216, 'reg_alpha': 1.668634867970643e-05, 'subsample': 0.5069918164636807, 'colsample_bytree': 0.7627679959615186, 'max_depth': 6}. Best is trial 25 with value: -1672.6156808761002.\u001b[0m\n",
      "[Parallel(n_jobs=1)]: Using backend SequentialBackend with 1 concurrent workers.\n",
      "[Parallel(n_jobs=1)]: Done  10 out of  10 | elapsed:    2.8s finished\n",
      "\u001b[32m[I 2021-11-14 14:38:02,902]\u001b[0m Trial 46 finished with value: -1957.6831524626828 and parameters: {'eta': 0.057669291685853295, 'reg_lambda': 16.262881486812354, 'reg_alpha': 5.365631620043505, 'subsample': 0.421673480909807, 'colsample_bytree': 0.950677869541623, 'max_depth': 6}. Best is trial 25 with value: -1672.6156808761002.\u001b[0m\n",
      "[Parallel(n_jobs=1)]: Using backend SequentialBackend with 1 concurrent workers.\n",
      "[Parallel(n_jobs=1)]: Done  10 out of  10 | elapsed:    3.7s finished\n",
      "\u001b[32m[I 2021-11-14 14:38:06,764]\u001b[0m Trial 47 finished with value: -1690.7808513676246 and parameters: {'eta': 0.04781517792764086, 'reg_lambda': 0.42586437909718444, 'reg_alpha': 0.01201044664917842, 'subsample': 0.9189952749253694, 'colsample_bytree': 0.8267232536545652, 'max_depth': 7}. Best is trial 25 with value: -1672.6156808761002.\u001b[0m\n",
      "[Parallel(n_jobs=1)]: Using backend SequentialBackend with 1 concurrent workers.\n",
      "[Parallel(n_jobs=1)]: Done  10 out of  10 | elapsed:    2.3s finished\n",
      "\u001b[32m[I 2021-11-14 14:38:09,197]\u001b[0m Trial 48 finished with value: -1741.3875952929889 and parameters: {'eta': 0.052173826868874465, 'reg_lambda': 0.25621353096295557, 'reg_alpha': 0.01074079719638843, 'subsample': 0.9218498526343429, 'colsample_bytree': 0.6702985042075607, 'max_depth': 5}. Best is trial 25 with value: -1672.6156808761002.\u001b[0m\n",
      "[Parallel(n_jobs=1)]: Using backend SequentialBackend with 1 concurrent workers.\n",
      "[Parallel(n_jobs=1)]: Done  10 out of  10 | elapsed:    2.4s finished\n",
      "\u001b[32m[I 2021-11-14 14:38:11,700]\u001b[0m Trial 49 finished with value: -2384.5295142336627 and parameters: {'eta': 0.07295939152727716, 'reg_lambda': 86.75483687306335, 'reg_alpha': 0.18623174241965595, 'subsample': 0.8683109169216879, 'colsample_bytree': 0.45986073508513875, 'max_depth': 7}. Best is trial 25 with value: -1672.6156808761002.\u001b[0m\n",
      "[Parallel(n_jobs=1)]: Using backend SequentialBackend with 1 concurrent workers.\n",
      "[Parallel(n_jobs=1)]: Done  10 out of  10 | elapsed:    1.4s finished\n",
      "\u001b[32m[I 2021-11-14 14:38:13,214]\u001b[0m Trial 50 finished with value: -2127.2457848924223 and parameters: {'eta': 0.045098640493277664, 'reg_lambda': 6.980857258444913, 'reg_alpha': 1.2923879834423646, 'subsample': 0.26422437025205875, 'colsample_bytree': 0.849715377743982, 'max_depth': 3}. Best is trial 25 with value: -1672.6156808761002.\u001b[0m\n"
     ]
    },
    {
     "name": "stderr",
     "output_type": "stream",
     "text": [
      "[Parallel(n_jobs=1)]: Using backend SequentialBackend with 1 concurrent workers.\n",
      "[Parallel(n_jobs=1)]: Done  10 out of  10 | elapsed:    4.0s finished\n",
      "\u001b[32m[I 2021-11-14 14:38:17,345]\u001b[0m Trial 51 finished with value: -1683.6730223132786 and parameters: {'eta': 0.03601600106079115, 'reg_lambda': 0.3787986448260968, 'reg_alpha': 0.003472563837497933, 'subsample': 0.7881489455940744, 'colsample_bytree': 0.8963762893553441, 'max_depth': 7}. Best is trial 25 with value: -1672.6156808761002.\u001b[0m\n",
      "[Parallel(n_jobs=1)]: Using backend SequentialBackend with 1 concurrent workers.\n",
      "[Parallel(n_jobs=1)]: Done  10 out of  10 | elapsed:    3.8s finished\n",
      "\u001b[32m[I 2021-11-14 14:38:21,313]\u001b[0m Trial 52 finished with value: -1683.269410953062 and parameters: {'eta': 0.034603935371863535, 'reg_lambda': 0.5074390777354117, 'reg_alpha': 0.0048310810291051645, 'subsample': 0.9465744065709828, 'colsample_bytree': 0.8201099543553512, 'max_depth': 7}. Best is trial 25 with value: -1672.6156808761002.\u001b[0m\n",
      "[Parallel(n_jobs=1)]: Using backend SequentialBackend with 1 concurrent workers.\n",
      "[Parallel(n_jobs=1)]: Done  10 out of  10 | elapsed:    3.5s finished\n",
      "\u001b[32m[I 2021-11-14 14:38:24,969]\u001b[0m Trial 53 finished with value: -1722.2625325903687 and parameters: {'eta': 0.0341351782669381, 'reg_lambda': 1.994258950760115, 'reg_alpha': 0.03538001111464483, 'subsample': 0.9549978970131684, 'colsample_bytree': 0.8241815128304495, 'max_depth': 7}. Best is trial 25 with value: -1672.6156808761002.\u001b[0m\n",
      "[Parallel(n_jobs=1)]: Using backend SequentialBackend with 1 concurrent workers.\n",
      "[Parallel(n_jobs=1)]: Done  10 out of  10 | elapsed:    4.3s finished\n",
      "\u001b[32m[I 2021-11-14 14:38:29,355]\u001b[0m Trial 54 finished with value: -1721.5624329046238 and parameters: {'eta': 0.01862712533723323, 'reg_lambda': 0.04226323028889352, 'reg_alpha': 0.005061121539038478, 'subsample': 0.8618918208249309, 'colsample_bytree': 0.8868444302887344, 'max_depth': 7}. Best is trial 25 with value: -1672.6156808761002.\u001b[0m\n",
      "[Parallel(n_jobs=1)]: Using backend SequentialBackend with 1 concurrent workers.\n",
      "[Parallel(n_jobs=1)]: Done  10 out of  10 | elapsed:    0.8s finished\n",
      "\u001b[32m[I 2021-11-14 14:38:30,317]\u001b[0m Trial 55 finished with value: -2766.304409777414 and parameters: {'eta': 0.02707861950251191, 'reg_lambda': 0.4036625288056304, 'reg_alpha': 0.011503718103096566, 'subsample': 0.9484829508460745, 'colsample_bytree': 0.7159920204433177, 'max_depth': 1}. Best is trial 25 with value: -1672.6156808761002.\u001b[0m\n",
      "[Parallel(n_jobs=1)]: Using backend SequentialBackend with 1 concurrent workers.\n",
      "[Parallel(n_jobs=1)]: Done  10 out of  10 | elapsed:    2.9s finished\n",
      "\u001b[32m[I 2021-11-14 14:38:33,373]\u001b[0m Trial 56 finished with value: -1738.0826876378055 and parameters: {'eta': 0.06248967985669605, 'reg_lambda': 0.1546854368760238, 'reg_alpha': 6.126425639920391e-05, 'subsample': 0.9018146921926941, 'colsample_bytree': 0.7816405767048765, 'max_depth': 6}. Best is trial 25 with value: -1672.6156808761002.\u001b[0m\n",
      "[Parallel(n_jobs=1)]: Using backend SequentialBackend with 1 concurrent workers.\n",
      "[Parallel(n_jobs=1)]: Done  10 out of  10 | elapsed:    2.8s finished\n",
      "\u001b[32m[I 2021-11-14 14:38:36,282]\u001b[0m Trial 57 finished with value: -2060.275739416054 and parameters: {'eta': 0.04225743009242309, 'reg_lambda': 2.95432031644657, 'reg_alpha': 0.0027733175458398685, 'subsample': 0.8480504308673418, 'colsample_bytree': 0.35535775588192176, 'max_depth': 7}. Best is trial 25 with value: -1672.6156808761002.\u001b[0m\n",
      "[Parallel(n_jobs=1)]: Using backend SequentialBackend with 1 concurrent workers.\n",
      "[Parallel(n_jobs=1)]: Done  10 out of  10 | elapsed:    1.8s finished\n",
      "\u001b[32m[I 2021-11-14 14:38:38,246]\u001b[0m Trial 58 finished with value: -2137.748171013506 and parameters: {'eta': 0.036552036107459177, 'reg_lambda': 33.244657042463366, 'reg_alpha': 0.0006947706568226224, 'subsample': 0.7990530676601656, 'colsample_bytree': 0.8897396886271288, 'max_depth': 4}. Best is trial 25 with value: -1672.6156808761002.\u001b[0m\n",
      "[Parallel(n_jobs=1)]: Using backend SequentialBackend with 1 concurrent workers.\n",
      "[Parallel(n_jobs=1)]: Done  10 out of  10 | elapsed:    3.9s finished\n",
      "\u001b[32m[I 2021-11-14 14:38:42,282]\u001b[0m Trial 59 finished with value: -1726.2709024141743 and parameters: {'eta': 0.0248787614532626, 'reg_lambda': 0.09808624617082816, 'reg_alpha': 0.08669300747925053, 'subsample': 0.882854251157776, 'colsample_bytree': 0.8225324473412039, 'max_depth': 7}. Best is trial 25 with value: -1672.6156808761002.\u001b[0m\n",
      "[Parallel(n_jobs=1)]: Using backend SequentialBackend with 1 concurrent workers.\n",
      "[Parallel(n_jobs=1)]: Done  10 out of  10 | elapsed:    3.2s finished\n",
      "\u001b[32m[I 2021-11-14 14:38:45,631]\u001b[0m Trial 60 finished with value: -1735.0510883032148 and parameters: {'eta': 0.030217216742362305, 'reg_lambda': 0.02491220274464984, 'reg_alpha': 0.00019681605801954823, 'subsample': 0.6977983983734897, 'colsample_bytree': 0.969330864861809, 'max_depth': 6}. Best is trial 25 with value: -1672.6156808761002.\u001b[0m\n",
      "[Parallel(n_jobs=1)]: Using backend SequentialBackend with 1 concurrent workers.\n",
      "[Parallel(n_jobs=1)]: Done  10 out of  10 | elapsed:    3.8s finished\n",
      "\u001b[32m[I 2021-11-14 14:38:49,553]\u001b[0m Trial 61 finished with value: -1697.7054162167879 and parameters: {'eta': 0.050166757414053124, 'reg_lambda': 0.8319275261444932, 'reg_alpha': 0.0011347115566184766, 'subsample': 0.779003523316948, 'colsample_bytree': 0.9370570396059117, 'max_depth': 7}. Best is trial 25 with value: -1672.6156808761002.\u001b[0m\n",
      "[Parallel(n_jobs=1)]: Using backend SequentialBackend with 1 concurrent workers.\n",
      "[Parallel(n_jobs=1)]: Done  10 out of  10 | elapsed:    3.8s finished\n",
      "\u001b[32m[I 2021-11-14 14:38:53,500]\u001b[0m Trial 62 finished with value: -1685.5591464259014 and parameters: {'eta': 0.03550558406610093, 'reg_lambda': 1.1992814577299997, 'reg_alpha': 0.0018127494951404094, 'subsample': 0.791427532137482, 'colsample_bytree': 0.8625230089458353, 'max_depth': 7}. Best is trial 25 with value: -1672.6156808761002.\u001b[0m\n",
      "[Parallel(n_jobs=1)]: Using backend SequentialBackend with 1 concurrent workers.\n",
      "[Parallel(n_jobs=1)]: Done  10 out of  10 | elapsed:    3.7s finished\n",
      "\u001b[32m[I 2021-11-14 14:38:57,369]\u001b[0m Trial 63 finished with value: -1700.9516022867624 and parameters: {'eta': 0.03634015534435437, 'reg_lambda': 0.9965534600119411, 'reg_alpha': 0.015256704269329603, 'subsample': 0.9278114664398938, 'colsample_bytree': 0.8732411118823291, 'max_depth': 7}. Best is trial 25 with value: -1672.6156808761002.\u001b[0m\n",
      "[Parallel(n_jobs=1)]: Using backend SequentialBackend with 1 concurrent workers.\n",
      "[Parallel(n_jobs=1)]: Done  10 out of  10 | elapsed:    3.7s finished\n",
      "\u001b[32m[I 2021-11-14 14:39:01,235]\u001b[0m Trial 64 finished with value: -1938.428303370886 and parameters: {'eta': 0.0207353852769503, 'reg_lambda': 5.124667611686575, 'reg_alpha': 0.0044747716929666465, 'subsample': 0.7246788993288662, 'colsample_bytree': 0.8500340611687668, 'max_depth': 7}. Best is trial 25 with value: -1672.6156808761002.\u001b[0m\n",
      "[Parallel(n_jobs=1)]: Using backend SequentialBackend with 1 concurrent workers.\n",
      "[Parallel(n_jobs=1)]: Done  10 out of  10 | elapsed:    3.4s finished\n",
      "\u001b[32m[I 2021-11-14 14:39:04,750]\u001b[0m Trial 65 finished with value: -1894.8611208712891 and parameters: {'eta': 0.043239009630054705, 'reg_lambda': 14.179997003595611, 'reg_alpha': 0.042539410545411376, 'subsample': 0.6727188741238616, 'colsample_bytree': 0.9743504019923185, 'max_depth': 7}. Best is trial 25 with value: -1672.6156808761002.\u001b[0m\n",
      "[Parallel(n_jobs=1)]: Using backend SequentialBackend with 1 concurrent workers.\n",
      "[Parallel(n_jobs=1)]: Done  10 out of  10 | elapsed:    3.7s finished\n",
      "\u001b[32m[I 2021-11-14 14:39:08,581]\u001b[0m Trial 66 finished with value: -1732.3413281105136 and parameters: {'eta': 0.02910828372666442, 'reg_lambda': 1.4263986163958866, 'reg_alpha': 0.018466131892140893, 'subsample': 0.8363820992784481, 'colsample_bytree': 0.7386552133069967, 'max_depth': 7}. Best is trial 25 with value: -1672.6156808761002.\u001b[0m\n",
      "[Parallel(n_jobs=1)]: Using backend SequentialBackend with 1 concurrent workers.\n",
      "[Parallel(n_jobs=1)]: Done  10 out of  10 | elapsed:    3.1s finished\n",
      "\u001b[32m[I 2021-11-14 14:39:11,784]\u001b[0m Trial 67 finished with value: -1712.1722421217062 and parameters: {'eta': 0.05732883536171863, 'reg_lambda': 0.16313669905107614, 'reg_alpha': 3.1802808422090885e-05, 'subsample': 0.802744805759424, 'colsample_bytree': 0.8987349059326589, 'max_depth': 6}. Best is trial 25 with value: -1672.6156808761002.\u001b[0m\n"
     ]
    },
    {
     "name": "stderr",
     "output_type": "stream",
     "text": [
      "[Parallel(n_jobs=1)]: Using backend SequentialBackend with 1 concurrent workers.\n",
      "[Parallel(n_jobs=1)]: Done  10 out of  10 | elapsed:    4.0s finished\n",
      "\u001b[32m[I 2021-11-14 14:39:15,893]\u001b[0m Trial 68 finished with value: -1739.6346775412449 and parameters: {'eta': 0.033022005833373363, 'reg_lambda': 0.008885404790078832, 'reg_alpha': 0.0027294142104892258, 'subsample': 0.8878411411165447, 'colsample_bytree': 0.8067944969542268, 'max_depth': 7}. Best is trial 25 with value: -1672.6156808761002.\u001b[0m\n",
      "[Parallel(n_jobs=1)]: Using backend SequentialBackend with 1 concurrent workers.\n",
      "[Parallel(n_jobs=1)]: Done  10 out of  10 | elapsed:    1.2s finished\n",
      "\u001b[32m[I 2021-11-14 14:39:17,201]\u001b[0m Trial 69 finished with value: -2157.8613089933287 and parameters: {'eta': 0.06760590933716312, 'reg_lambda': 0.6489244074166862, 'reg_alpha': 0.0005182335336445858, 'subsample': 0.7499140012218385, 'colsample_bytree': 0.7794512843764541, 'max_depth': 2}. Best is trial 25 with value: -1672.6156808761002.\u001b[0m\n",
      "[Parallel(n_jobs=1)]: Using backend SequentialBackend with 1 concurrent workers.\n",
      "[Parallel(n_jobs=1)]: Done  10 out of  10 | elapsed:    3.0s finished\n",
      "\u001b[32m[I 2021-11-14 14:39:20,339]\u001b[0m Trial 70 finished with value: -1734.1168475167435 and parameters: {'eta': 0.08073495674427122, 'reg_lambda': 9.646463321926897e-08, 'reg_alpha': 0.00022598636901969017, 'subsample': 0.9603777447096973, 'colsample_bytree': 0.999154329305165, 'max_depth': 6}. Best is trial 25 with value: -1672.6156808761002.\u001b[0m\n",
      "[Parallel(n_jobs=1)]: Using backend SequentialBackend with 1 concurrent workers.\n",
      "[Parallel(n_jobs=1)]: Done  10 out of  10 | elapsed:    3.9s finished\n",
      "\u001b[32m[I 2021-11-14 14:39:24,345]\u001b[0m Trial 71 finished with value: -1691.0680824548813 and parameters: {'eta': 0.048271899188249305, 'reg_lambda': 0.44143880476358865, 'reg_alpha': 0.0010345455465367542, 'subsample': 0.7981990189175191, 'colsample_bytree': 0.939069183897267, 'max_depth': 7}. Best is trial 25 with value: -1672.6156808761002.\u001b[0m\n",
      "[Parallel(n_jobs=1)]: Using backend SequentialBackend with 1 concurrent workers.\n",
      "[Parallel(n_jobs=1)]: Done  10 out of  10 | elapsed:    3.9s finished\n",
      "\u001b[32m[I 2021-11-14 14:39:28,413]\u001b[0m Trial 72 finished with value: -1701.2292499511038 and parameters: {'eta': 0.04646713802115926, 'reg_lambda': 0.3475039822242589, 'reg_alpha': 0.00010759235335113945, 'subsample': 0.8448223744658572, 'colsample_bytree': 0.9306409311317818, 'max_depth': 7}. Best is trial 25 with value: -1672.6156808761002.\u001b[0m\n",
      "[Parallel(n_jobs=1)]: Using backend SequentialBackend with 1 concurrent workers.\n",
      "[Parallel(n_jobs=1)]: Done  10 out of  10 | elapsed:    3.6s finished\n",
      "\u001b[32m[I 2021-11-14 14:39:32,120]\u001b[0m Trial 73 finished with value: -1716.9164859410648 and parameters: {'eta': 0.03901360960255698, 'reg_lambda': 2.0065881210089636, 'reg_alpha': 0.0066832649396695795, 'subsample': 0.994694146774585, 'colsample_bytree': 0.8671994784796754, 'max_depth': 7}. Best is trial 25 with value: -1672.6156808761002.\u001b[0m\n",
      "[Parallel(n_jobs=1)]: Using backend SequentialBackend with 1 concurrent workers.\n",
      "[Parallel(n_jobs=1)]: Done  10 out of  10 | elapsed:    4.0s finished\n",
      "\u001b[32m[I 2021-11-14 14:39:36,254]\u001b[0m Trial 74 finished with value: -1750.708867226453 and parameters: {'eta': 0.056851506505052996, 'reg_lambda': 0.049598950654847984, 'reg_alpha': 0.0007854120266019723, 'subsample': 0.7041877628271624, 'colsample_bytree': 0.9693582045085753, 'max_depth': 7}. Best is trial 25 with value: -1672.6156808761002.\u001b[0m\n",
      "[Parallel(n_jobs=1)]: Using backend SequentialBackend with 1 concurrent workers.\n",
      "[Parallel(n_jobs=1)]: Done  10 out of  10 | elapsed:    3.7s finished\n",
      "\u001b[32m[I 2021-11-14 14:39:40,043]\u001b[0m Trial 75 finished with value: -1751.9477438736833 and parameters: {'eta': 0.03587890607499348, 'reg_lambda': 4.4238090254899065, 'reg_alpha': 0.0023049235261863705, 'subsample': 0.7801205655524757, 'colsample_bytree': 0.901772196212724, 'max_depth': 7}. Best is trial 25 with value: -1672.6156808761002.\u001b[0m\n",
      "[Parallel(n_jobs=1)]: Using backend SequentialBackend with 1 concurrent workers.\n",
      "[Parallel(n_jobs=1)]: Done  10 out of  10 | elapsed:    3.9s finished\n",
      "\u001b[32m[I 2021-11-14 14:39:44,089]\u001b[0m Trial 76 finished with value: -1686.9491434482584 and parameters: {'eta': 0.02627724367946364, 'reg_lambda': 1.0935346712713823, 'reg_alpha': 0.0017759770517239287, 'subsample': 0.9114202810499674, 'colsample_bytree': 0.8374761990653389, 'max_depth': 7}. Best is trial 25 with value: -1672.6156808761002.\u001b[0m\n",
      "[Parallel(n_jobs=1)]: Using backend SequentialBackend with 1 concurrent workers.\n",
      "[Parallel(n_jobs=1)]: Done  10 out of  10 | elapsed:    3.2s finished\n",
      "\u001b[32m[I 2021-11-14 14:39:47,372]\u001b[0m Trial 77 finished with value: -1713.0189959668367 and parameters: {'eta': 0.026881074591383457, 'reg_lambda': 0.4538914812035964, 'reg_alpha': 0.0004116350709883173, 'subsample': 0.9277862976467222, 'colsample_bytree': 0.8386684194654682, 'max_depth': 6}. Best is trial 25 with value: -1672.6156808761002.\u001b[0m\n",
      "[Parallel(n_jobs=1)]: Using backend SequentialBackend with 1 concurrent workers.\n",
      "[Parallel(n_jobs=1)]: Done  10 out of  10 | elapsed:    4.0s finished\n",
      "\u001b[32m[I 2021-11-14 14:39:51,488]\u001b[0m Trial 78 finished with value: -1746.7621630843428 and parameters: {'eta': 0.022632988319836442, 'reg_lambda': 0.026193023919951826, 'reg_alpha': 0.0023638465050818003, 'subsample': 0.8149572475262086, 'colsample_bytree': 0.8109554740949907, 'max_depth': 7}. Best is trial 25 with value: -1672.6156808761002.\u001b[0m\n",
      "[Parallel(n_jobs=1)]: Using backend SequentialBackend with 1 concurrent workers.\n",
      "[Parallel(n_jobs=1)]: Done  10 out of  10 | elapsed:    4.0s finished\n",
      "\u001b[32m[I 2021-11-14 14:39:55,640]\u001b[0m Trial 79 finished with value: -1704.6993920680316 and parameters: {'eta': 0.03057527547343733, 'reg_lambda': 0.1146992100138944, 'reg_alpha': 0.19805209841349483, 'subsample': 0.9088529775320779, 'colsample_bytree': 0.6818822478270956, 'max_depth': 7}. Best is trial 25 with value: -1672.6156808761002.\u001b[0m\n",
      "[Parallel(n_jobs=1)]: Using backend SequentialBackend with 1 concurrent workers.\n",
      "[Parallel(n_jobs=1)]: Done  10 out of  10 | elapsed:    3.1s finished\n",
      "\u001b[32m[I 2021-11-14 14:39:58,818]\u001b[0m Trial 80 finished with value: -1723.34355735909 and parameters: {'eta': 0.04220825898853933, 'reg_lambda': 0.17915546679537456, 'reg_alpha': 0.0068876991615932515, 'subsample': 0.8747080577185871, 'colsample_bytree': 0.7819049259559213, 'max_depth': 6}. Best is trial 25 with value: -1672.6156808761002.\u001b[0m\n",
      "[Parallel(n_jobs=1)]: Using backend SequentialBackend with 1 concurrent workers.\n",
      "[Parallel(n_jobs=1)]: Done  10 out of  10 | elapsed:    4.0s finished\n",
      "\u001b[32m[I 2021-11-14 14:40:02,989]\u001b[0m Trial 81 finished with value: -1687.1310443772459 and parameters: {'eta': 0.02568633151625896, 'reg_lambda': 0.9548623625975015, 'reg_alpha': 0.000975616103908904, 'subsample': 0.7580903504796535, 'colsample_bytree': 0.9297485214190763, 'max_depth': 7}. Best is trial 25 with value: -1672.6156808761002.\u001b[0m\n",
      "[Parallel(n_jobs=1)]: Using backend SequentialBackend with 1 concurrent workers.\n",
      "[Parallel(n_jobs=1)]: Done  10 out of  10 | elapsed:    4.5s finished\n",
      "\u001b[32m[I 2021-11-14 14:40:07,605]\u001b[0m Trial 82 finished with value: -1819.9108496206263 and parameters: {'eta': 0.017596929962722743, 'reg_lambda': 1.6583686598035776, 'reg_alpha': 0.0017734014373817334, 'subsample': 0.7436562713567993, 'colsample_bytree': 0.8802180295727636, 'max_depth': 7}. Best is trial 25 with value: -1672.6156808761002.\u001b[0m\n",
      "[Parallel(n_jobs=1)]: Using backend SequentialBackend with 1 concurrent workers.\n",
      "[Parallel(n_jobs=1)]: Done  10 out of  10 | elapsed:    3.5s finished\n",
      "\u001b[32m[I 2021-11-14 14:40:11,256]\u001b[0m Trial 83 finished with value: -1940.7313637400184 and parameters: {'eta': 0.025606742271883146, 'reg_lambda': 10.696291319083064, 'reg_alpha': 0.004326283975537145, 'subsample': 0.8374219399053392, 'colsample_bytree': 0.9210507807306845, 'max_depth': 7}. Best is trial 25 with value: -1672.6156808761002.\u001b[0m\n",
      "[Parallel(n_jobs=1)]: Using backend SequentialBackend with 1 concurrent workers.\n",
      "[Parallel(n_jobs=1)]: Done  10 out of  10 | elapsed:    3.9s finished\n",
      "\u001b[32m[I 2021-11-14 14:40:15,316]\u001b[0m Trial 84 finished with value: -1707.4987208790096 and parameters: {'eta': 0.02102447428234999, 'reg_lambda': 1.2209158785394234, 'reg_alpha': 0.02038468510225003, 'subsample': 0.9427660394870618, 'colsample_bytree': 0.8486689632012272, 'max_depth': 7}. Best is trial 25 with value: -1672.6156808761002.\u001b[0m\n"
     ]
    },
    {
     "name": "stderr",
     "output_type": "stream",
     "text": [
      "[Parallel(n_jobs=1)]: Using backend SequentialBackend with 1 concurrent workers.\n",
      "[Parallel(n_jobs=1)]: Done  10 out of  10 | elapsed:    3.7s finished\n",
      "\u001b[32m[I 2021-11-14 14:40:19,099]\u001b[0m Trial 85 finished with value: -1696.2151010152863 and parameters: {'eta': 0.03230143824894388, 'reg_lambda': 3.3689591579149454, 'reg_alpha': 0.0008613931792186116, 'subsample': 0.9731585110362457, 'colsample_bytree': 0.9012330388652878, 'max_depth': 7}. Best is trial 25 with value: -1672.6156808761002.\u001b[0m\n",
      "[Parallel(n_jobs=1)]: Using backend SequentialBackend with 1 concurrent workers.\n",
      "[Parallel(n_jobs=1)]: Done  10 out of  10 | elapsed:    4.2s finished\n",
      "\u001b[32m[I 2021-11-14 14:40:23,398]\u001b[0m Trial 86 finished with value: -1685.9954023788894 and parameters: {'eta': 0.027778465717172768, 'reg_lambda': 0.2944686441035539, 'reg_alpha': 0.009051163219074058, 'subsample': 0.8622860817496119, 'colsample_bytree': 0.9431318652286506, 'max_depth': 7}. Best is trial 25 with value: -1672.6156808761002.\u001b[0m\n",
      "[Parallel(n_jobs=1)]: Using backend SequentialBackend with 1 concurrent workers.\n",
      "[Parallel(n_jobs=1)]: Done  10 out of  10 | elapsed:    3.7s finished\n",
      "\u001b[32m[I 2021-11-14 14:40:27,207]\u001b[0m Trial 87 finished with value: -1794.71120318568 and parameters: {'eta': 0.02914012179133523, 'reg_lambda': 0.07286631203231816, 'reg_alpha': 0.01130534824831092, 'subsample': 0.857996304171492, 'colsample_bytree': 0.5868663974614858, 'max_depth': 7}. Best is trial 25 with value: -1672.6156808761002.\u001b[0m\n",
      "[Parallel(n_jobs=1)]: Using backend SequentialBackend with 1 concurrent workers.\n",
      "[Parallel(n_jobs=1)]: Done  10 out of  10 | elapsed:    3.2s finished\n",
      "\u001b[32m[I 2021-11-14 14:40:30,555]\u001b[0m Trial 88 finished with value: -1722.7366267035836 and parameters: {'eta': 0.023900060792005403, 'reg_lambda': 0.2610670111294931, 'reg_alpha': 0.04207119027295052, 'subsample': 0.8892380627809974, 'colsample_bytree': 0.9638910969394573, 'max_depth': 6}. Best is trial 25 with value: -1672.6156808761002.\u001b[0m\n",
      "[Parallel(n_jobs=1)]: Using backend SequentialBackend with 1 concurrent workers.\n",
      "[Parallel(n_jobs=1)]: Done  10 out of  10 | elapsed:    3.5s finished\n",
      "\u001b[32m[I 2021-11-14 14:40:34,195]\u001b[0m Trial 89 finished with value: -1740.6656315245345 and parameters: {'eta': 0.03446697476299026, 'reg_lambda': 6.660478888133136, 'reg_alpha': 0.004256082518786342, 'subsample': 0.9091664821866363, 'colsample_bytree': 0.8646655744035023, 'max_depth': 7}. Best is trial 25 with value: -1672.6156808761002.\u001b[0m\n",
      "[Parallel(n_jobs=1)]: Using backend SequentialBackend with 1 concurrent workers.\n",
      "[Parallel(n_jobs=1)]: Done  10 out of  10 | elapsed:    3.3s finished\n",
      "\u001b[32m[I 2021-11-14 14:40:37,570]\u001b[0m Trial 90 finished with value: -2198.5373342119547 and parameters: {'eta': 0.02741891621655429, 'reg_lambda': 25.573737913551824, 'reg_alpha': 68.45367942546402, 'subsample': 0.8186632301654589, 'colsample_bytree': 0.8277987736306698, 'max_depth': 7}. Best is trial 25 with value: -1672.6156808761002.\u001b[0m\n",
      "[Parallel(n_jobs=1)]: Using backend SequentialBackend with 1 concurrent workers.\n",
      "[Parallel(n_jobs=1)]: Done  10 out of  10 | elapsed:    4.2s finished\n",
      "\u001b[32m[I 2021-11-14 14:40:41,916]\u001b[0m Trial 91 finished with value: -1682.0010615495216 and parameters: {'eta': 0.03833177684714804, 'reg_lambda': 0.6008328981475383, 'reg_alpha': 0.0003330061507995323, 'subsample': 0.764532664337666, 'colsample_bytree': 0.9464010920903574, 'max_depth': 7}. Best is trial 25 with value: -1672.6156808761002.\u001b[0m\n",
      "[Parallel(n_jobs=1)]: Using backend SequentialBackend with 1 concurrent workers.\n",
      "[Parallel(n_jobs=1)]: Done  10 out of  10 | elapsed:    4.7s finished\n",
      "\u001b[32m[I 2021-11-14 14:40:46,784]\u001b[0m Trial 92 finished with value: -1683.799974941772 and parameters: {'eta': 0.0377455146364368, 'reg_lambda': 0.6362326091929398, 'reg_alpha': 0.0005670876149089677, 'subsample': 0.7303159924775804, 'colsample_bytree': 0.9831604859072149, 'max_depth': 7}. Best is trial 25 with value: -1672.6156808761002.\u001b[0m\n",
      "[Parallel(n_jobs=1)]: Using backend SequentialBackend with 1 concurrent workers.\n",
      "[Parallel(n_jobs=1)]: Done  10 out of  10 | elapsed:    4.4s finished\n",
      "\u001b[32m[I 2021-11-14 14:40:51,279]\u001b[0m Trial 93 finished with value: -1687.848183960778 and parameters: {'eta': 0.03911119616933694, 'reg_lambda': 0.9350883858319782, 'reg_alpha': 0.00027402772850919094, 'subsample': 0.7148367871608128, 'colsample_bytree': 0.9842118703321358, 'max_depth': 7}. Best is trial 25 with value: -1672.6156808761002.\u001b[0m\n",
      "[Parallel(n_jobs=1)]: Using backend SequentialBackend with 1 concurrent workers.\n",
      "[Parallel(n_jobs=1)]: Done  10 out of  10 | elapsed:    4.1s finished\n",
      "\u001b[32m[I 2021-11-14 14:40:55,475]\u001b[0m Trial 94 finished with value: -1721.0622101312383 and parameters: {'eta': 0.03884426547188358, 'reg_lambda': 2.4786210183117943, 'reg_alpha': 0.000362197373263109, 'subsample': 0.6274408121141983, 'colsample_bytree': 0.9849796760357441, 'max_depth': 7}. Best is trial 25 with value: -1672.6156808761002.\u001b[0m\n",
      "[Parallel(n_jobs=1)]: Using backend SequentialBackend with 1 concurrent workers.\n",
      "[Parallel(n_jobs=1)]: Done  10 out of  10 | elapsed:    3.9s finished\n",
      "\u001b[32m[I 2021-11-14 14:40:59,504]\u001b[0m Trial 95 finished with value: -1706.2882837145487 and parameters: {'eta': 0.03099681414605203, 'reg_lambda': 0.952406379945592, 'reg_alpha': 0.00010245459357684529, 'subsample': 0.6783668677222124, 'colsample_bytree': 0.9526280694779249, 'max_depth': 7}. Best is trial 25 with value: -1672.6156808761002.\u001b[0m\n",
      "[Parallel(n_jobs=1)]: Using backend SequentialBackend with 1 concurrent workers.\n",
      "[Parallel(n_jobs=1)]: Done  10 out of  10 | elapsed:    2.0s finished\n",
      "\u001b[32m[I 2021-11-14 14:41:01,602]\u001b[0m Trial 96 finished with value: -1835.6166727194984 and parameters: {'eta': 0.03724705249835677, 'reg_lambda': 0.607710402756306, 'reg_alpha': 2.4491460653044372e-05, 'subsample': 0.7181891799875719, 'colsample_bytree': 0.9172572299078297, 'max_depth': 4}. Best is trial 25 with value: -1672.6156808761002.\u001b[0m\n",
      "[Parallel(n_jobs=1)]: Using backend SequentialBackend with 1 concurrent workers.\n",
      "[Parallel(n_jobs=1)]: Done  10 out of  10 | elapsed:    3.9s finished\n",
      "\u001b[32m[I 2021-11-14 14:41:05,658]\u001b[0m Trial 97 finished with value: -1703.275878720963 and parameters: {'eta': 0.025579914101876104, 'reg_lambda': 1.4295026030621525, 'reg_alpha': 7.321833453515719e-05, 'subsample': 0.7594761874501508, 'colsample_bytree': 0.985732830798387, 'max_depth': 7}. Best is trial 25 with value: -1672.6156808761002.\u001b[0m\n",
      "[Parallel(n_jobs=1)]: Using backend SequentialBackend with 1 concurrent workers.\n",
      "[Parallel(n_jobs=1)]: Done  10 out of  10 | elapsed:    4.0s finished\n",
      "\u001b[32m[I 2021-11-14 14:41:09,804]\u001b[0m Trial 98 finished with value: -1686.3396426151912 and parameters: {'eta': 0.0411182113280671, 'reg_lambda': 0.19967620789951346, 'reg_alpha': 0.00021795517068031592, 'subsample': 0.7327996058409456, 'colsample_bytree': 0.8848205267557416, 'max_depth': 7}. Best is trial 25 with value: -1672.6156808761002.\u001b[0m\n",
      "[Parallel(n_jobs=1)]: Using backend SequentialBackend with 1 concurrent workers.\n",
      "[Parallel(n_jobs=1)]: Done  10 out of  10 | elapsed:    3.1s finished\n",
      "\u001b[32m[I 2021-11-14 14:41:13,002]\u001b[0m Trial 99 finished with value: -1745.525793241105 and parameters: {'eta': 0.04299840628632615, 'reg_lambda': 0.19754837976344042, 'reg_alpha': 0.000152078349662275, 'subsample': 0.6617075076076577, 'colsample_bytree': 0.9535634251732603, 'max_depth': 6}. Best is trial 25 with value: -1672.6156808761002.\u001b[0m\n"
     ]
    }
   ],
   "source": [
    "#note that sklearn neg_room_mean_square return results as negative. hence we should maximize instead\n",
    "sampler = TPESampler(seed=10) \n",
    "study = optuna.create_study(direction = 'maximize', sampler=sampler)\n",
    "study.optimize(objective, n_trials=100)"
   ]
  },
  {
   "cell_type": "code",
   "execution_count": 94,
   "id": "3d251549",
   "metadata": {},
   "outputs": [
    {
     "data": {
      "text/plain": [
       "{'eta': 0.03400978894470196,\n",
       " 'reg_lambda': 0.8607978081468941,\n",
       " 'reg_alpha': 0.00044225180465130365,\n",
       " 'subsample': 0.7272923607975716,\n",
       " 'colsample_bytree': 0.916374988237396,\n",
       " 'max_depth': 7}"
      ]
     },
     "execution_count": 94,
     "metadata": {},
     "output_type": "execute_result"
    }
   ],
   "source": [
    "study.best_params"
   ]
  },
  {
   "cell_type": "markdown",
   "id": "84cdc43c",
   "metadata": {},
   "source": [
    "# Final Model Evaluation of Test Set"
   ]
  },
  {
   "cell_type": "code",
   "execution_count": 95,
   "id": "e1e4b9f7",
   "metadata": {},
   "outputs": [],
   "source": [
    "#refit xgboost with optimized hyperparameter\n",
    "final_model = XGBRegressor(random_state=0,\n",
    "                         n_estimators = 200,\n",
    "                         **study.best_params\n",
    "                         )"
   ]
  },
  {
   "cell_type": "markdown",
   "id": "f1ce0961",
   "metadata": {},
   "source": [
    "## Training Score"
   ]
  },
  {
   "cell_type": "code",
   "execution_count": 102,
   "id": "626915e9",
   "metadata": {},
   "outputs": [],
   "source": [
    "final_model.fit(X_train, y_train);\n"
   ]
  },
  {
   "cell_type": "code",
   "execution_count": 103,
   "id": "ced26df6",
   "metadata": {},
   "outputs": [
    {
     "name": "stdout",
     "output_type": "stream",
     "text": [
      "Final_XGB_train_rmse: 761.6136425531865\n",
      "Final_XGB_train_adjusted_r2: 0.9705951128908646\n"
     ]
    }
   ],
   "source": [
    "y_train_pred = final_model.predict(X_train);\n",
    "\n",
    "xgb_rmse = mean_squared_error(y_train, y_train_pred, squared=False)\n",
    "xgb_r2 = r2_score(y_train, y_train_pred)\n",
    "\n",
    "xgb_modify_r2 = 1 - (1 - xgb_r2)*(X_train.shape[0] - 1) / (X_train.shape[0] - X_train.shape[1] - 1)\n",
    "\n",
    "print('Final_XGB_train_rmse:', xgb_rmse)\n",
    "print('Final_XGB_train_adjusted_r2:', xgb_modify_r2)"
   ]
  },
  {
   "cell_type": "markdown",
   "id": "c073afa5",
   "metadata": {},
   "source": [
    "## Test Score"
   ]
  },
  {
   "cell_type": "code",
   "execution_count": 104,
   "id": "e5d6474d",
   "metadata": {},
   "outputs": [],
   "source": [
    "X_test = df_test[X_train.columns]\n",
    "y_test = df_test['price_month']\n",
    "y_test_pred = final_model.predict(X_test)"
   ]
  },
  {
   "cell_type": "code",
   "execution_count": 105,
   "id": "9297760d",
   "metadata": {},
   "outputs": [
    {
     "name": "stdout",
     "output_type": "stream",
     "text": [
      "Final_XGB_test_rmse: 1298.175952480215\n",
      "Final_XGB_test_adjusted_r2: 0.9046953918315062\n"
     ]
    }
   ],
   "source": [
    "xgb_rmse = mean_squared_error(y_test, y_test_pred, squared=False)\n",
    "xgb_r2 = r2_score(y_test, y_test_pred)\n",
    "\n",
    "xgb_modify_r2 = 1 - (1 - xgb_r2)*(X_test.shape[0] - 1) / (X_test.shape[0] - X_test.shape[1] - 1)\n",
    "\n",
    "print('Final_XGB_test_rmse:', xgb_rmse)\n",
    "print('Final_XGB_test_adjusted_r2:', xgb_modify_r2)"
   ]
  },
  {
   "cell_type": "markdown",
   "id": "155a81d6",
   "metadata": {},
   "source": [
    "We can see that the test score is even lower than previous score on validation set. This hint that increasing the number of training samples will improve the model accuracy/variance. We will plot the learning curve to check it out. "
   ]
  },
  {
   "cell_type": "code",
   "execution_count": 117,
   "id": "f4647963",
   "metadata": {},
   "outputs": [],
   "source": [
    "def plotlearningcurve(estimator, X, y, title='Model Learning Curve', ylim=None, cv=5, n_jobs=None, train_sizes = np.linspace(.1, 1, 10), scoring=None):\n",
    "    \n",
    "    _, axes = plt.subplots(1, 1, figsize=(20, 5))\n",
    "    axes.set_title(title)\n",
    "    axes.set_xlabel('Training Examples')\n",
    "    axes.set_ylabel('Scores')\n",
    "    \n",
    "    train_sizes_abs, train_scores, cv_scores = learning_curve(estimator, X, y, cv=cv, n_jobs= n_jobs, scoring=scoring, train_sizes=train_sizes)\n",
    "    \n",
    "    train_scores_mean = np.mean(train_scores, axis=1)\n",
    "    train_scores_std = np.std(train_scores, axis=1)\n",
    "    \n",
    "    cv_scores_mean = np.mean(cv_scores, axis=1)\n",
    "    cv_scores_std = np.std(cv_scores, axis=1)\n",
    "    \n",
    "    axes.grid()\n",
    "    \n",
    "    axes.plot(train_sizes_abs, train_scores_mean, 'o-', color='r', label=\"Training score\")\n",
    "    axes.plot(train_sizes_abs, cv_scores_mean, 'o-', color='b', label=\"CV score\")\n",
    "    \n",
    "    axes.fill_between(train_sizes_abs, \n",
    "                     train_scores_mean + train_scores_std, \n",
    "                     train_scores_mean - train_scores_std,\n",
    "                    alpha = 0.1,\n",
    "                    color='r')\n",
    "\n",
    "    axes.fill_between(train_sizes_abs, \n",
    "                 cv_scores_mean + cv_scores_std, \n",
    "                 cv_scores_mean - cv_scores_std,\n",
    "                alpha = 0.1,\n",
    "                color='b')\n",
    "    \n",
    "\n",
    "    \n",
    "    axes.legend(loc='best')\n",
    "    \n",
    "    return plt"
   ]
  },
  {
   "cell_type": "code",
   "execution_count": 118,
   "id": "bbfe1421",
   "metadata": {},
   "outputs": [
    {
     "data": {
      "image/png": "[encoded data removed]",
      "text/plain": [
       "<Figure size 1440x360 with 1 Axes>"
      ]
     },
     "metadata": {
      "needs_background": "light"
     },
     "output_type": "display_data"
    }
   ],
   "source": [
    "plotlearningcurve(final_model, X_train, y_train);"
   ]
  },
  {
   "cell_type": "markdown",
   "id": "089ad794",
   "metadata": {},
   "source": [
    "Indeed we can see that the r2 curve is still moving upwards and the accuracy band is decreasing. This concur with our initally guessing that increase training sample will improve the score"
   ]
  },
  {
   "cell_type": "code",
   "execution_count": 108,
   "id": "2f861414",
   "metadata": {},
   "outputs": [
    {
     "data": {
      "image/png": "[encoded data removed]",
      "text/plain": [
       "<Figure size 432x288 with 1 Axes>"
      ]
     },
     "metadata": {
      "needs_background": "light"
     },
     "output_type": "display_data"
    }
   ],
   "source": [
    "# Visualizing actual prices vs predicted values\n",
    "plt.scatter(y_test, y_test_pred)\n",
    "plt.xlabel(\"Actual Price\")\n",
    "plt.ylabel(\"Predicted Price\")\n",
    "plt.title(\"Actual Rental Price vs Predicted Rental Price\")\n",
    "plt.show()"
   ]
  },
  {
   "cell_type": "markdown",
   "id": "249bd7e8",
   "metadata": {},
   "source": [
    "Above prediction looks pretty good except for one obvious outlier on the top left corner. Our model actually predicted approx \\\\$39000 but it turns out to be only ~\\\\$7000 could it be an undervalue property?. We will investigate it further."
   ]
  },
  {
   "cell_type": "code",
   "execution_count": 109,
   "id": "6c1ceef6",
   "metadata": {},
   "outputs": [
    {
     "name": "stdout",
     "output_type": "stream",
     "text": [
      "predicted value: $43796\n",
      "actual value: $6500\n",
      "outlier_index: 524\n",
      "RMSE without outlier: $860\n"
     ]
    }
   ],
   "source": [
    "#find out that outlier value\n",
    "intermediate = []\n",
    "index = 0\n",
    "for true, pred in zip(y_test, y_test_pred):\n",
    "    \n",
    "    if math.isclose(true, 8_000, abs_tol= 2_000) & math.isclose(pred, 45_000, abs_tol= 2_000):\n",
    "        print(f\"predicted value: ${pred:.0f}\")\n",
    "        print(f\"actual value: ${true:.0f}\")\n",
    "        outlier_index = index\n",
    "        continue\n",
    "    index += 1\n",
    "    nominator = (true - pred)**2\n",
    "    intermediate.append(nominator)\n",
    "print('outlier_index:', outlier_index)\n",
    "RMSE = ( sum(intermediate) / len(intermediate) ) ** 0.5\n",
    "print(f'RMSE without outlier: ${RMSE:.0f}')\n"
   ]
  },
  {
   "cell_type": "code",
   "execution_count": 110,
   "id": "2a80b1d3",
   "metadata": {},
   "outputs": [
    {
     "data": {
      "text/plain": [
       "7646.0"
      ]
     },
     "execution_count": 110,
     "metadata": {},
     "output_type": "execute_result"
    }
   ],
   "source": [
    "df_test.iloc[outlier_index].sqft"
   ]
  },
  {
   "cell_type": "markdown",
   "id": "6de47625",
   "metadata": {},
   "source": [
    "We can see that the sqft is causing our prediction on the price to shootup. Further investigating the unit shows that it is just a 2 bedroom condo. Hence the sqft is probably a typo by the owner"
   ]
  },
  {
   "attachments": {
    "image.png": {
     "image/png": "[encoded data removed]"
    }
   },
   "cell_type": "markdown",
   "id": "a31769a4",
   "metadata": {},
   "source": [
    "![image.png](attachment:image.png)"
   ]
  },
  {
   "cell_type": "code",
   "execution_count": 111,
   "id": "1d4b32b6",
   "metadata": {},
   "outputs": [],
   "source": [
    "##save model\n",
    "# with open(\"WebApp\\static\\models\\XGBoost_Model.pkl\", \"wb\") as to_save:\n",
    "#     pickle.dump(final_model, to_save)"
   ]
  },
  {
   "cell_type": "code",
   "execution_count": 112,
   "id": "25b2c0fb",
   "metadata": {},
   "outputs": [],
   "source": [
    "# #save transformer\n",
    "# with open(\"WebApp\\static\\models\\District_Transformer.pkl\", \"wb\") as to_save:\n",
    "#     pickle.dump(ordinal_enc, to_save)"
   ]
  }
 ],
 "metadata": {
  "kernelspec": {
   "display_name": "Python 3",
   "language": "python",
   "name": "python3"
  },
  "language_info": {
   "codemirror_mode": {
    "name": "ipython",
    "version": 3
   },
   "file_extension": ".py",
   "mimetype": "text/x-python",
   "name": "python",
   "nbconvert_exporter": "python",
   "pygments_lexer": "ipython3",
   "version": "3.8.8"
  }
 },
 "nbformat": 4,
 "nbformat_minor": 5
}
