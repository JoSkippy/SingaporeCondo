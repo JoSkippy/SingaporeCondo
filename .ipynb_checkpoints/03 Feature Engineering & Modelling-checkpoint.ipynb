{
 "cells": [
  {
   "cell_type": "markdown",
   "id": "60f2daf6",
   "metadata": {},
   "source": [
    "# Introduction: Business Problem \n",
    "\n",
    "In this project we will try to predict the monthly rental price for a condominium. Specifically, this report will be targeted to stakeholders interested in finding the best value in renting a condominium in Singapore.\n",
    "\n",
    "We will use our data science powers to find optimum rental price and recommend stake holders the best values and similar units for the stakeholders."
   ]
  },
  {
   "cell_type": "markdown",
   "id": "6378b87f",
   "metadata": {},
   "source": [
    "# Evalution metrics\n",
    "\n",
    "## RMSE\n",
    "\n",
    "In this project, **RMSE** will be our **main metrics** to evaluate the for selecting the best model and evaluate the performance of the best model. For the following reason\n",
    "\n",
    "1. **RMSE** is chosen as it punishes predicteed value that has greater difference than the actual value. This is important as we do not want our model to undervalue or overvalue a rental unit.\n",
    "\n",
    "2. **RMSE** gaves us a better intuition of the error which is in the same unit of our response variable (price). In other words, the error tells us how much \"wrong\" we are in terms of dollar value from the actual value."
   ]
  },
  {
   "cell_type": "markdown",
   "id": "4867570a",
   "metadata": {},
   "source": [
    "### Adjusted $R^{2}$\n",
    "\n",
    "Althought **RMSE** gave us the intuition of how \"wrong\" is the model prediction in terms of dollar value, performance of the model is not that obvious. Hence, we will be using adjusted $R^{2}$ to give an overall picture of how well is our model performing."
   ]
  },
  {
   "cell_type": "markdown",
   "id": "ae2f6dd9",
   "metadata": {},
   "source": [
    "### Success Criteria\n",
    "\n",
    "The ground truth of the impact of wrongly predicted value are unknown, and not part of the scope of this project.\n",
    "However, We aim to perform better than RMSE of guessing the average price of entire condominium rental price in our dataset. (Baseline).\n",
    "\n",
    "The RMSE of predicting each observation as the mean of total observation is \\\\$4444. Hence, our model should aim to predict better than RMSE of \\\\$4444. \n",
    "\n",
    "Refer Section Baseline RMSE score for details."
   ]
  },
  {
   "cell_type": "markdown",
   "id": "7c0962cc",
   "metadata": {},
   "source": [
    "# Import and Setting"
   ]
  },
  {
   "cell_type": "code",
   "execution_count": 6,
   "id": "490fcdea",
   "metadata": {},
   "outputs": [],
   "source": [
    "#!pip install optuna"
   ]
  },
  {
   "cell_type": "code",
   "execution_count": 245,
   "id": "b2dfafaf",
   "metadata": {},
   "outputs": [],
   "source": [
    "import pandas as pd\n",
    "import numpy as np\n",
    "from IPython.display import display\n",
    "\n",
    "from feature_engine.encoding import OneHotEncoder as fe_OneHotEncoder, OrdinalEncoder, RareLabelEncoder\n",
    "import feature_engine.transformation as vt\n",
    "from feature_engine.selection import RecursiveFeatureElimination\n",
    "\n",
    "from sklearn.feature_extraction.text import CountVectorizer\n",
    "from sklearn.compose import make_column_transformer\n",
    "from sklearn.model_selection import GridSearchCV, cross_val_score, KFold, cross_validate, learning_curve\n",
    "from sklearn.linear_model import LinearRegression\n",
    "from sklearn.preprocessing import PowerTransformer, OneHotEncoder\n",
    "from sklearn.metrics import r2_score, mean_squared_error\n",
    "from sklearn.svm import SVR\n",
    "from sklearn.preprocessing import StandardScaler\n",
    "from sklearn.pipeline import make_pipeline\n",
    "\n",
    "\n",
    "import matplotlib\n",
    "import matplotlib.patches as mpatches\n",
    "import matplotlib.pyplot as plt\n",
    "from matplotlib.lines import Line2D\n",
    "\n",
    "from xgboost import XGBRegressor\n",
    "\n",
    "from statsmodels.stats.outliers_influence import variance_inflation_factor\n",
    "\n",
    "from scipy import stats\n",
    "\n",
    "import math\n",
    "\n",
    "import seaborn as sns\n",
    "\n",
    "import optuna\n",
    "\n",
    "import pickle"
   ]
  },
  {
   "cell_type": "markdown",
   "id": "50951392",
   "metadata": {},
   "source": [
    "# Feature Engineering"
   ]
  },
  {
   "cell_type": "markdown",
   "id": "866c5eae",
   "metadata": {},
   "source": [
    "From the summary of EDA we have found that:-\n",
    "1. We have found that there is no correlation between counts of amenities & rental price.\n",
    "2. Rental price for having 'clubhouse', 'parking', 'jacuzzi' is significantly difference. We will create a feature using OneHotEncoding technique for this amenities.\n",
    "3. Having nearby MRT is siginicant for monthly rental.\n",
    "4. MRT name has high cardinality. In Feature engineering, we will use Rarelabel encoding technique to group rare MRT occurance under OTHERS.\n",
    "5. Handling multicolinearity: Select (Walking time, bedrooms & bathrooms) or (Walking time & sqft).\n",
    "6. For building linear Regression model, we will transform variable to normality by using BoxCoxTransformation.\n",
    "\n",
    "We will perform feature engineering to address above observation"
   ]
  },
  {
   "cell_type": "markdown",
   "id": "74082b2d",
   "metadata": {},
   "source": [
    "### Feature Engineering-1: CountVectorized for  clubhouse, parking & jacuzzi"
   ]
  },
  {
   "cell_type": "code",
   "execution_count": 8,
   "id": "caf983eb",
   "metadata": {},
   "outputs": [],
   "source": [
    "df_train = pd.read_pickle('Data/df_train')\n",
    "df_test = pd.read_pickle('Data/df_test')"
   ]
  },
  {
   "cell_type": "code",
   "execution_count": 9,
   "id": "033c476d",
   "metadata": {},
   "outputs": [
    {
     "data": {
      "text/html": [
       "<div>\n",
       "<style scoped>\n",
       "    .dataframe tbody tr th:only-of-type {\n",
       "        vertical-align: middle;\n",
       "    }\n",
       "\n",
       "    .dataframe tbody tr th {\n",
       "        vertical-align: top;\n",
       "    }\n",
       "\n",
       "    .dataframe thead th {\n",
       "        text-align: right;\n",
       "    }\n",
       "</style>\n",
       "<table border=\"1\" class=\"dataframe\">\n",
       "  <thead>\n",
       "    <tr style=\"text-align: right;\">\n",
       "      <th></th>\n",
       "      <th>detailed_address</th>\n",
       "      <th>lat</th>\n",
       "      <th>long</th>\n",
       "      <th>bedrooms</th>\n",
       "      <th>bathrooms</th>\n",
       "      <th>sqft</th>\n",
       "      <th>built_year</th>\n",
       "      <th>amenities</th>\n",
       "      <th>mrt_name</th>\n",
       "      <th>building_name</th>\n",
       "      <th>tenure</th>\n",
       "      <th>link</th>\n",
       "      <th>picture_url</th>\n",
       "      <th>price_month</th>\n",
       "      <th>walking_time</th>\n",
       "      <th>distance</th>\n",
       "      <th>studio</th>\n",
       "      <th>district_number</th>\n",
       "    </tr>\n",
       "  </thead>\n",
       "  <tbody>\n",
       "    <tr>\n",
       "      <th>6152</th>\n",
       "      <td>9 Cairnhill Road</td>\n",
       "      <td>1.302997</td>\n",
       "      <td>103.837785</td>\n",
       "      <td>2.0</td>\n",
       "      <td>2.0</td>\n",
       "      <td>1044</td>\n",
       "      <td>2017.0</td>\n",
       "      <td>[Clubhouse, Spa pavilion, Swimming pool, Wadin...</td>\n",
       "      <td>Somerset MRT</td>\n",
       "      <td>Cairnhill Nine</td>\n",
       "      <td>0</td>\n",
       "      <td>https://www.99.co/singapore/rent/property/cair...</td>\n",
       "      <td>https://www.99.co/static/v3/icons/clubhouse@3x...</td>\n",
       "      <td>7000</td>\n",
       "      <td>10.0</td>\n",
       "      <td>416.0</td>\n",
       "      <td>0</td>\n",
       "      <td>9</td>\n",
       "    </tr>\n",
       "    <tr>\n",
       "      <th>2957</th>\n",
       "      <td>16 Enggor Street</td>\n",
       "      <td>1.274241</td>\n",
       "      <td>103.844755</td>\n",
       "      <td>1.0</td>\n",
       "      <td>1.0</td>\n",
       "      <td>603</td>\n",
       "      <td>2014.0</td>\n",
       "      <td>[Clubhouse, Basketball court, Aircon, Gym, Bed...</td>\n",
       "      <td>Tanjong Pagar MRT</td>\n",
       "      <td>Altez</td>\n",
       "      <td>0</td>\n",
       "      <td>https://www.99.co/singapore/rent/property/alte...</td>\n",
       "      <td>https://www.99.co/static/v3/icons/clubhouse@3x...</td>\n",
       "      <td>4500</td>\n",
       "      <td>5.0</td>\n",
       "      <td>253.0</td>\n",
       "      <td>0</td>\n",
       "      <td>2</td>\n",
       "    </tr>\n",
       "  </tbody>\n",
       "</table>\n",
       "</div>"
      ],
      "text/plain": [
       "      detailed_address       lat        long  bedrooms  bathrooms  sqft  \\\n",
       "6152  9 Cairnhill Road  1.302997  103.837785       2.0        2.0  1044   \n",
       "2957  16 Enggor Street  1.274241  103.844755       1.0        1.0   603   \n",
       "\n",
       "      built_year                                          amenities  \\\n",
       "6152      2017.0  [Clubhouse, Spa pavilion, Swimming pool, Wadin...   \n",
       "2957      2014.0  [Clubhouse, Basketball court, Aircon, Gym, Bed...   \n",
       "\n",
       "               mrt_name   building_name  tenure  \\\n",
       "6152       Somerset MRT  Cairnhill Nine       0   \n",
       "2957  Tanjong Pagar MRT           Altez       0   \n",
       "\n",
       "                                                   link  \\\n",
       "6152  https://www.99.co/singapore/rent/property/cair...   \n",
       "2957  https://www.99.co/singapore/rent/property/alte...   \n",
       "\n",
       "                                            picture_url  price_month  \\\n",
       "6152  https://www.99.co/static/v3/icons/clubhouse@3x...         7000   \n",
       "2957  https://www.99.co/static/v3/icons/clubhouse@3x...         4500   \n",
       "\n",
       "      walking_time  distance  studio  district_number  \n",
       "6152          10.0     416.0       0                9  \n",
       "2957           5.0     253.0       0                2  "
      ]
     },
     "execution_count": 9,
     "metadata": {},
     "output_type": "execute_result"
    }
   ],
   "source": [
    "df_train.head(2)"
   ]
  },
  {
   "cell_type": "code",
   "execution_count": 10,
   "id": "8ceeac2f",
   "metadata": {},
   "outputs": [],
   "source": [
    "# remove all amenities in listing except clubhouse, parking and jaccuzi\n",
    "def relevantamenities(x: list):\n",
    "    \n",
    "    relevant = ['Clubhouse', 'Parking', 'Jacuzzi']\n",
    "    \n",
    "    return [amenity for amenity in x if amenity in relevant]"
   ]
  },
  {
   "cell_type": "code",
   "execution_count": 11,
   "id": "8f376362",
   "metadata": {},
   "outputs": [],
   "source": [
    "df_train['amenities'] = df_train.amenities.apply(relevantamenities)\n",
    "df_test['amenities'] = df_test.amenities.apply(relevantamenities)"
   ]
  },
  {
   "cell_type": "code",
   "execution_count": 12,
   "id": "3580b8e2",
   "metadata": {},
   "outputs": [],
   "source": [
    "#transform the amenities into feature\n",
    "ct = make_column_transformer(\n",
    "    (CountVectorizer(analyzer=lambda x: x), 'amenities'),\n",
    "    remainder = 'passthrough',\n",
    ")\n"
   ]
  },
  {
   "cell_type": "code",
   "execution_count": 13,
   "id": "6fafaf14",
   "metadata": {},
   "outputs": [],
   "source": [
    "df_train = pd.DataFrame(ct.fit_transform(df_train), columns=ct.get_feature_names())\n",
    "df_test = pd.DataFrame(ct.transform(df_test), columns=ct.get_feature_names())"
   ]
  },
  {
   "cell_type": "markdown",
   "id": "16557eb2",
   "metadata": {},
   "source": [
    "### Feature-Engineering 2: Having MRT is significant to monthly rental"
   ]
  },
  {
   "cell_type": "code",
   "execution_count": 14,
   "id": "42cacf12",
   "metadata": {},
   "outputs": [],
   "source": [
    "df_train['mrt_availability'] = np.where(df_train['mrt_name'] == 'No_MRT', 0, 1)\n",
    "df_test['mrt_availability'] = np.where(df_test['mrt_name'] == 'No_MRT', 0, 1)"
   ]
  },
  {
   "cell_type": "markdown",
   "id": "32143a10",
   "metadata": {},
   "source": [
    "### Feature-Engineering 3: Group rare MRT occurance under OTHERS & OneHOT Encoding"
   ]
  },
  {
   "cell_type": "code",
   "execution_count": 15,
   "id": "593077e1",
   "metadata": {},
   "outputs": [],
   "source": [
    "#RareLabel Encoding\n",
    "rare_encoder = RareLabelEncoder(\n",
    "    tol=0.005,  # minimal percentage to be considered non-rare\n",
    "    n_categories=4, # minimal number of categories the variable should have to re-cgroup rare categories\n",
    "    variables=['mrt_name'], # variables to re-group,\n",
    "    replace_with='Others'\n",
    ")"
   ]
  },
  {
   "cell_type": "code",
   "execution_count": 16,
   "id": "a1e5d6ee",
   "metadata": {},
   "outputs": [],
   "source": [
    "df_train = rare_encoder.fit_transform(df_train)\n",
    "df_test = rare_encoder.transform(df_test)"
   ]
  },
  {
   "cell_type": "code",
   "execution_count": 17,
   "id": "40b96feb",
   "metadata": {},
   "outputs": [],
   "source": [
    "ohe_enc = fe_OneHotEncoder(\n",
    "    top_categories=None,\n",
    "    variables=['mrt_name'],  # we can select which variables to encode\n",
    "    drop_last=False)"
   ]
  },
  {
   "cell_type": "code",
   "execution_count": 18,
   "id": "1120650c",
   "metadata": {},
   "outputs": [],
   "source": [
    "df_train = ohe_enc.fit_transform(df_train)\n",
    "df_test = ohe_enc.transform(df_test)"
   ]
  },
  {
   "cell_type": "code",
   "execution_count": 19,
   "id": "fe43efb6",
   "metadata": {},
   "outputs": [],
   "source": [
    "#recast datatype to numerical\n",
    "for col in df_train:\n",
    "    df_train[col] = pd.to_numeric(df_train[col], errors='ignore')\n",
    "    df_test[col] = pd.to_numeric(df_test[col], errors='ignore')"
   ]
  },
  {
   "cell_type": "markdown",
   "id": "7b49f10b",
   "metadata": {},
   "source": [
    "### Feature Engineering - 4 Target guided Encoding for District"
   ]
  },
  {
   "cell_type": "code",
   "execution_count": 20,
   "id": "8eb27d43",
   "metadata": {},
   "outputs": [],
   "source": [
    "ordinal_enc = OrdinalEncoder(\n",
    "    # NOTE that we indicate ordered in the encoding_method, otherwise it assings numbers arbitrarily\n",
    "    encoding_method='ordered',\n",
    "    variables=['district_number'],\n",
    "    ignore_format = True)"
   ]
  },
  {
   "cell_type": "code",
   "execution_count": 21,
   "id": "720044c8",
   "metadata": {},
   "outputs": [],
   "source": [
    "ordinal_enc.fit(df_train, df_train['price_month'])\n",
    "df_train = ordinal_enc.transform(df_train)\n",
    "df_test = ordinal_enc.transform(df_test)"
   ]
  },
  {
   "cell_type": "markdown",
   "id": "7a0ad7ef",
   "metadata": {},
   "source": [
    "### Feature Engineering - 5 Handling Multicolinearity"
   ]
  },
  {
   "cell_type": "code",
   "execution_count": 22,
   "id": "5d6a4fea",
   "metadata": {},
   "outputs": [],
   "source": [
    "#we will combine bathrooms & bedrooms to handline multicolinearity, for other feature, it will be dropped instead\n",
    "df_train['total room'] = df_train['bathrooms'] + df_train['bedrooms']\n",
    "df_test['total room'] = df_test['bathrooms'] + df_test['bedrooms']"
   ]
  },
  {
   "cell_type": "markdown",
   "id": "929aa27b",
   "metadata": {},
   "source": [
    "### Feature-Engineering 6: BoxCox Transformation for LinearRegression"
   ]
  },
  {
   "cell_type": "code",
   "execution_count": 23,
   "id": "9d515bfc",
   "metadata": {},
   "outputs": [],
   "source": [
    "continuous_variables = ['price_month', 'bedrooms', 'bathrooms', 'total room', 'sqft', 'walking_time', 'distance']"
   ]
  },
  {
   "cell_type": "code",
   "execution_count": 24,
   "id": "0b46f574",
   "metadata": {},
   "outputs": [],
   "source": [
    "bct = vt.BoxCoxTransformer(variables = continuous_variables)\n",
    "df_train_lr = bct.fit_transform(df_train)\n",
    "df_test_lr = bct.transform(df_test) "
   ]
  },
  {
   "cell_type": "code",
   "execution_count": 25,
   "id": "121c2389",
   "metadata": {},
   "outputs": [
    {
     "data": {
      "text/plain": [
       "{'price_month': -0.014444710502950238,\n",
       " 'bedrooms': 0.34990443094029966,\n",
       " 'bathrooms': 0.01507637030264619,\n",
       " 'total room': 0.2206802857205239,\n",
       " 'sqft': -0.11785532339089105,\n",
       " 'walking_time': -0.3970483191451235,\n",
       " 'distance': -0.19970443417532519}"
      ]
     },
     "execution_count": 25,
     "metadata": {},
     "output_type": "execute_result"
    }
   ],
   "source": [
    "# these are the exponents for the BoxCox transformation\n",
    "bct.lambda_dict_"
   ]
  },
  {
   "cell_type": "code",
   "execution_count": 26,
   "id": "74079e4a",
   "metadata": {},
   "outputs": [
    {
     "data": {
      "text/html": [
       "<div>\n",
       "<style scoped>\n",
       "    .dataframe tbody tr th:only-of-type {\n",
       "        vertical-align: middle;\n",
       "    }\n",
       "\n",
       "    .dataframe tbody tr th {\n",
       "        vertical-align: top;\n",
       "    }\n",
       "\n",
       "    .dataframe thead th {\n",
       "        text-align: right;\n",
       "    }\n",
       "</style>\n",
       "<table border=\"1\" class=\"dataframe\">\n",
       "  <thead>\n",
       "    <tr style=\"text-align: right;\">\n",
       "      <th></th>\n",
       "      <th>countvectorizer__Clubhouse</th>\n",
       "      <th>countvectorizer__Jacuzzi</th>\n",
       "      <th>countvectorizer__Parking</th>\n",
       "      <th>sqft</th>\n",
       "      <th>built_year</th>\n",
       "      <th>tenure</th>\n",
       "      <th>price_month</th>\n",
       "      <th>walking_time</th>\n",
       "      <th>studio</th>\n",
       "      <th>district_number</th>\n",
       "      <th>...</th>\n",
       "      <th>mrt_name_Rochor MRT</th>\n",
       "      <th>mrt_name_Potong Pasir MRT</th>\n",
       "      <th>mrt_name_Eunos MRT</th>\n",
       "      <th>mrt_name_Dakota MRT</th>\n",
       "      <th>mrt_name_Kembangan MRT</th>\n",
       "      <th>mrt_name_Toa Payoh MRT</th>\n",
       "      <th>mrt_name_Chinatown MRT</th>\n",
       "      <th>mrt_name_Stadium MRT</th>\n",
       "      <th>mrt_name_Lakeside MRT</th>\n",
       "      <th>total room</th>\n",
       "    </tr>\n",
       "  </thead>\n",
       "  <tbody>\n",
       "    <tr>\n",
       "      <th>0</th>\n",
       "      <td>1</td>\n",
       "      <td>0</td>\n",
       "      <td>0</td>\n",
       "      <td>1044</td>\n",
       "      <td>2017.0</td>\n",
       "      <td>0</td>\n",
       "      <td>7000</td>\n",
       "      <td>10.0</td>\n",
       "      <td>0</td>\n",
       "      <td>24</td>\n",
       "      <td>...</td>\n",
       "      <td>0</td>\n",
       "      <td>0</td>\n",
       "      <td>0</td>\n",
       "      <td>0</td>\n",
       "      <td>0</td>\n",
       "      <td>0</td>\n",
       "      <td>0</td>\n",
       "      <td>0</td>\n",
       "      <td>0</td>\n",
       "      <td>4.0</td>\n",
       "    </tr>\n",
       "    <tr>\n",
       "      <th>1</th>\n",
       "      <td>1</td>\n",
       "      <td>0</td>\n",
       "      <td>0</td>\n",
       "      <td>603</td>\n",
       "      <td>2014.0</td>\n",
       "      <td>0</td>\n",
       "      <td>4500</td>\n",
       "      <td>5.0</td>\n",
       "      <td>0</td>\n",
       "      <td>19</td>\n",
       "      <td>...</td>\n",
       "      <td>0</td>\n",
       "      <td>0</td>\n",
       "      <td>0</td>\n",
       "      <td>0</td>\n",
       "      <td>0</td>\n",
       "      <td>0</td>\n",
       "      <td>0</td>\n",
       "      <td>0</td>\n",
       "      <td>0</td>\n",
       "      <td>2.0</td>\n",
       "    </tr>\n",
       "  </tbody>\n",
       "</table>\n",
       "<p>2 rows × 51 columns</p>\n",
       "</div>"
      ],
      "text/plain": [
       "   countvectorizer__Clubhouse  countvectorizer__Jacuzzi  \\\n",
       "0                           1                         0   \n",
       "1                           1                         0   \n",
       "\n",
       "   countvectorizer__Parking  sqft  built_year  tenure  price_month  \\\n",
       "0                         0  1044      2017.0       0         7000   \n",
       "1                         0   603      2014.0       0         4500   \n",
       "\n",
       "   walking_time  studio  district_number  ...  mrt_name_Rochor MRT  \\\n",
       "0          10.0       0               24  ...                    0   \n",
       "1           5.0       0               19  ...                    0   \n",
       "\n",
       "   mrt_name_Potong Pasir MRT  mrt_name_Eunos MRT  mrt_name_Dakota MRT  \\\n",
       "0                          0                   0                    0   \n",
       "1                          0                   0                    0   \n",
       "\n",
       "   mrt_name_Kembangan MRT  mrt_name_Toa Payoh MRT  mrt_name_Chinatown MRT  \\\n",
       "0                       0                       0                       0   \n",
       "1                       0                       0                       0   \n",
       "\n",
       "   mrt_name_Stadium MRT  mrt_name_Lakeside MRT  total room  \n",
       "0                     0                      0         4.0  \n",
       "1                     0                      0         2.0  \n",
       "\n",
       "[2 rows x 51 columns]"
      ]
     },
     "execution_count": 26,
     "metadata": {},
     "output_type": "execute_result"
    }
   ],
   "source": [
    "#final look of the transformed train dataframe\n",
    "df_train = df_train.drop(['detailed_address', 'lat', 'long', 'bedrooms', 'bathrooms', 'distance', 'link', 'picture_url', 'building_name'], axis=1)\n",
    "df_train.head(2)"
   ]
  },
  {
   "cell_type": "code",
   "execution_count": 27,
   "id": "915cf687",
   "metadata": {},
   "outputs": [
    {
     "data": {
      "text/html": [
       "<div>\n",
       "<style scoped>\n",
       "    .dataframe tbody tr th:only-of-type {\n",
       "        vertical-align: middle;\n",
       "    }\n",
       "\n",
       "    .dataframe tbody tr th {\n",
       "        vertical-align: top;\n",
       "    }\n",
       "\n",
       "    .dataframe thead th {\n",
       "        text-align: right;\n",
       "    }\n",
       "</style>\n",
       "<table border=\"1\" class=\"dataframe\">\n",
       "  <thead>\n",
       "    <tr style=\"text-align: right;\">\n",
       "      <th></th>\n",
       "      <th>countvectorizer__Clubhouse</th>\n",
       "      <th>countvectorizer__Jacuzzi</th>\n",
       "      <th>countvectorizer__Parking</th>\n",
       "      <th>sqft</th>\n",
       "      <th>built_year</th>\n",
       "      <th>tenure</th>\n",
       "      <th>price_month</th>\n",
       "      <th>walking_time</th>\n",
       "      <th>studio</th>\n",
       "      <th>district_number</th>\n",
       "      <th>...</th>\n",
       "      <th>mrt_name_Rochor MRT</th>\n",
       "      <th>mrt_name_Potong Pasir MRT</th>\n",
       "      <th>mrt_name_Eunos MRT</th>\n",
       "      <th>mrt_name_Dakota MRT</th>\n",
       "      <th>mrt_name_Kembangan MRT</th>\n",
       "      <th>mrt_name_Toa Payoh MRT</th>\n",
       "      <th>mrt_name_Chinatown MRT</th>\n",
       "      <th>mrt_name_Stadium MRT</th>\n",
       "      <th>mrt_name_Lakeside MRT</th>\n",
       "      <th>total room</th>\n",
       "    </tr>\n",
       "  </thead>\n",
       "  <tbody>\n",
       "    <tr>\n",
       "      <th>0</th>\n",
       "      <td>0</td>\n",
       "      <td>0</td>\n",
       "      <td>1</td>\n",
       "      <td>3347</td>\n",
       "      <td>2010.0</td>\n",
       "      <td>1</td>\n",
       "      <td>18000</td>\n",
       "      <td>10.0</td>\n",
       "      <td>0</td>\n",
       "      <td>24</td>\n",
       "      <td>...</td>\n",
       "      <td>0</td>\n",
       "      <td>0</td>\n",
       "      <td>0</td>\n",
       "      <td>0</td>\n",
       "      <td>0</td>\n",
       "      <td>0</td>\n",
       "      <td>0</td>\n",
       "      <td>0</td>\n",
       "      <td>0</td>\n",
       "      <td>8.0</td>\n",
       "    </tr>\n",
       "    <tr>\n",
       "      <th>1</th>\n",
       "      <td>0</td>\n",
       "      <td>0</td>\n",
       "      <td>0</td>\n",
       "      <td>377</td>\n",
       "      <td>2015.0</td>\n",
       "      <td>1</td>\n",
       "      <td>2100</td>\n",
       "      <td>35.0</td>\n",
       "      <td>0</td>\n",
       "      <td>17</td>\n",
       "      <td>...</td>\n",
       "      <td>0</td>\n",
       "      <td>0</td>\n",
       "      <td>0</td>\n",
       "      <td>0</td>\n",
       "      <td>0</td>\n",
       "      <td>0</td>\n",
       "      <td>0</td>\n",
       "      <td>0</td>\n",
       "      <td>0</td>\n",
       "      <td>3.0</td>\n",
       "    </tr>\n",
       "  </tbody>\n",
       "</table>\n",
       "<p>2 rows × 51 columns</p>\n",
       "</div>"
      ],
      "text/plain": [
       "   countvectorizer__Clubhouse  countvectorizer__Jacuzzi  \\\n",
       "0                           0                         0   \n",
       "1                           0                         0   \n",
       "\n",
       "   countvectorizer__Parking  sqft  built_year  tenure  price_month  \\\n",
       "0                         1  3347      2010.0       1        18000   \n",
       "1                         0   377      2015.0       1         2100   \n",
       "\n",
       "   walking_time  studio  district_number  ...  mrt_name_Rochor MRT  \\\n",
       "0          10.0       0               24  ...                    0   \n",
       "1          35.0       0               17  ...                    0   \n",
       "\n",
       "   mrt_name_Potong Pasir MRT  mrt_name_Eunos MRT  mrt_name_Dakota MRT  \\\n",
       "0                          0                   0                    0   \n",
       "1                          0                   0                    0   \n",
       "\n",
       "   mrt_name_Kembangan MRT  mrt_name_Toa Payoh MRT  mrt_name_Chinatown MRT  \\\n",
       "0                       0                       0                       0   \n",
       "1                       0                       0                       0   \n",
       "\n",
       "   mrt_name_Stadium MRT  mrt_name_Lakeside MRT  total room  \n",
       "0                     0                      0         8.0  \n",
       "1                     0                      0         3.0  \n",
       "\n",
       "[2 rows x 51 columns]"
      ]
     },
     "execution_count": 27,
     "metadata": {},
     "output_type": "execute_result"
    }
   ],
   "source": [
    "#final look of the transformed train dataframe\n",
    "df_test = df_test.drop(['detailed_address', 'lat', 'long', 'bedrooms', 'bathrooms', 'distance', 'link', 'picture_url', 'building_name'], axis=1)\n",
    "df_test.head(2)"
   ]
  },
  {
   "cell_type": "markdown",
   "id": "2113cb08",
   "metadata": {},
   "source": [
    "# Modelling"
   ]
  },
  {
   "cell_type": "code",
   "execution_count": 28,
   "id": "cfe073e1",
   "metadata": {},
   "outputs": [],
   "source": [
    "# we will create a nested cross validation, the inner_cv will be used to select the best hyperparameter \n",
    "# and the outer cv will be used for model selection.\n",
    "inner_cv = KFold(n_splits=5, shuffle=True, random_state=0)\n",
    "outer_cv = KFold(n_splits=5, shuffle=True, random_state=0)"
   ]
  },
  {
   "cell_type": "markdown",
   "id": "421d4be2",
   "metadata": {},
   "source": [
    "## Baseline RMSE Score"
   ]
  },
  {
   "cell_type": "code",
   "execution_count": 29,
   "id": "d741a77f",
   "metadata": {},
   "outputs": [],
   "source": [
    "df_train['baseline'] = df_train.price_month.mean()"
   ]
  },
  {
   "cell_type": "code",
   "execution_count": 30,
   "id": "13283ba6",
   "metadata": {},
   "outputs": [
    {
     "data": {
      "text/plain": [
       "4444.0"
      ]
     },
     "execution_count": 30,
     "metadata": {},
     "output_type": "execute_result"
    }
   ],
   "source": [
    "np.round(mean_squared_error(df_train['price_month'], df_train['baseline'], squared = False))"
   ]
  },
  {
   "cell_type": "code",
   "execution_count": 31,
   "id": "41db78d8",
   "metadata": {},
   "outputs": [],
   "source": [
    "#drop baseline\n",
    "df_train = df_train.drop('baseline', axis=1)"
   ]
  },
  {
   "cell_type": "markdown",
   "id": "14457845",
   "metadata": {},
   "source": [
    "Baseline rmse score of predicting each observation as the mean of our training sample is \\\\$4444"
   ]
  },
  {
   "cell_type": "code",
   "execution_count": 32,
   "id": "ac99fa25",
   "metadata": {},
   "outputs": [],
   "source": [
    "#create a dataframe to store result\n",
    "all_results = pd.DataFrame(columns= ['rmse_mean', 'rmse_std', 'adjusted_r2_mean', 'adjusted_r2_std'])"
   ]
  },
  {
   "cell_type": "code",
   "execution_count": 33,
   "id": "ac1f2aa8",
   "metadata": {},
   "outputs": [],
   "source": [
    "#create a function to sstore and display all result\n",
    "def resultsummary(rmse, adjusted_r2, series_name):\n",
    "    #set global for pandas dataframe\n",
    "    global all_results\n",
    "    \n",
    "    rmse_mean = np.round(np.mean(rmse))\n",
    "    rmse_std = np.round(np.std(rmse))\n",
    "    r2_mean = np.round(np.mean(adjusted_r2),2)\n",
    "    r2_std = np.round(np.std(adjusted_r2),2)\n",
    "\n",
    "    series = pd.Series([rmse_mean, rmse_std, r2_mean, r2_std], index = all_results.columns, name = series_name)\n",
    "\n",
    "    all_results = all_results.append(series)\n",
    "\n",
    "    print(f'{series_name}_mean_RMSE:', rmse_mean)\n",
    "    print(f'{series_name}_std_RMSE:', rmse_std)\n",
    "    print(f'{series_name}_Adjusted R^2:', r2_mean)\n",
    "    print(f'{series_name}_Adjusted R^2:', r2_std)"
   ]
  },
  {
   "cell_type": "markdown",
   "id": "2b1bf73d",
   "metadata": {},
   "source": [
    "## Linear Regression"
   ]
  },
  {
   "cell_type": "markdown",
   "id": "63a30974",
   "metadata": {},
   "source": [
    "We will start we the least complex model Linear Regression to set a baseline algorithm."
   ]
  },
  {
   "cell_type": "markdown",
   "id": "10b02413",
   "metadata": {},
   "source": [
    "It is to be noted that Multiple Iteration in selecting feature has been performed to handle multi-colinearity however the intemerdiate steps are not shown, only the final result is shown."
   ]
  },
  {
   "cell_type": "code",
   "execution_count": 34,
   "id": "e4710a45",
   "metadata": {},
   "outputs": [],
   "source": [
    "y_train_lr = df_train_lr['price_month']\n",
    "\n",
    "#select feature that is not violating the multiconearity assumption.\n",
    "#Note that this cell has been reiterated to tune VIF down to < 10 for all features.\n",
    "\n",
    "X_train_lr = df_train_lr[['countvectorizer__Clubhouse', 'countvectorizer__Jacuzzi',\n",
    "       'countvectorizer__Parking',\n",
    "       'tenure', 'studio', 'district_number', 'total room']]"
   ]
  },
  {
   "cell_type": "code",
   "execution_count": 35,
   "id": "b1cb5633",
   "metadata": {},
   "outputs": [],
   "source": [
    "#reverse transform of box-cox of monthly_rental\n",
    "#source: https://scikit-learn.org/stable/modules/generated/sklearn.preprocessing.PowerTransformer.html\n",
    "def inverse_transform(X_trans, lambda_):\n",
    "    if lambda_ == 0:\n",
    "        X = exp(X_trans)\n",
    "    else:\n",
    "        X = (X_trans * lambda_ + 1) ** (1 / lambda_)\n",
    "    return X"
   ]
  },
  {
   "cell_type": "markdown",
   "id": "b460514d",
   "metadata": {},
   "source": [
    "#### Adjusted R2"
   ]
  },
  {
   "attachments": {
    "image.png": {
     "image/png": "[encoded data removed]"
    }
   },
   "cell_type": "markdown",
   "id": "390081b2",
   "metadata": {},
   "source": [
    "![image.png](attachment:image.png)"
   ]
  },
  {
   "cell_type": "code",
   "execution_count": 36,
   "id": "fceb0539",
   "metadata": {},
   "outputs": [],
   "source": [
    "def modified_r2score(*, r2, n, p):\n",
    "    \"\"\"\n",
    "    n = number of rows\n",
    "    p = number of predictors\n",
    "    \"\"\"    \n",
    "    modify_r2 = 1 - (1 - r2)*(n - 1) / (n - p - 1)\n",
    "    \n",
    "    return modify_r2\n",
    "    "
   ]
  },
  {
   "cell_type": "markdown",
   "id": "3a12ea24",
   "metadata": {},
   "source": [
    "#### Linear Regression Result"
   ]
  },
  {
   "cell_type": "code",
   "execution_count": 37,
   "id": "353008b0",
   "metadata": {},
   "outputs": [],
   "source": [
    "#we will create our own cross validation as we need the result to be returned in original unit (eg: inverse transform of boxcox)\n",
    "mean_adjusted_r2 = []\n",
    "mean_rmse = []\n",
    "\n",
    "# 5-fold cross validation\n",
    "for train_index, validation_index in outer_cv.split(X_train_lr):\n",
    "    \n",
    "    #setting index of cross validation\n",
    "    X_train, X_validation = X_train_lr.iloc[train_index], X_train_lr.iloc[validation_index]\n",
    "    y_train, y_validation = y_train_lr.iloc[train_index], y_train_lr.iloc[validation_index]\n",
    "    \n",
    "    #fitting linear regression\n",
    "    lr = LinearRegression()\n",
    "    lr.fit(X_train, y_train)\n",
    "    \n",
    "    #predict based on X_validation\n",
    "    y_pred = lr.predict(X_validation)\n",
    "    \n",
    "    #reverse transform of boxcox\n",
    "    y_pred = inverse_transform(y_pred, bct.lambda_dict_['price_month'])\n",
    "    y_validation = inverse_transform(y_validation, bct.lambda_dict_['price_month'])\n",
    "    \n",
    "    #calculating r2\n",
    "    r2 = r2_score(y_validation, y_pred)\n",
    "    \n",
    "    #calculating adjusted_r2\n",
    "    n = y_validation.shape[0]\n",
    "    p = X_train_lr.shape[1]\n",
    "    adjusted_r2 = modified_r2score(r2 = r2, n=n, p=p)\n",
    "    rmse = mean_squared_error(y_validation, y_pred, squared=False)\n",
    "    \n",
    "    #appending metrics\n",
    "    mean_adjusted_r2.append(adjusted_r2)\n",
    "    mean_rmse.append(rmse)"
   ]
  },
  {
   "cell_type": "code",
   "execution_count": 38,
   "id": "14fcb437",
   "metadata": {},
   "outputs": [
    {
     "name": "stdout",
     "output_type": "stream",
     "text": [
      "LinearRegression_mean_RMSE: 3127.0\n",
      "LinearRegression_std_RMSE: 279.0\n",
      "LinearRegression_Adjusted R^2: 0.5\n",
      "LinearRegression_Adjusted R^2: 0.02\n"
     ]
    }
   ],
   "source": [
    "resultsummary(rmse=mean_rmse, \n",
    "              adjusted_r2 =mean_adjusted_r2, \n",
    "              series_name = 'LinearRegression')"
   ]
  },
  {
   "cell_type": "code",
   "execution_count": 39,
   "id": "d4b92c1b",
   "metadata": {},
   "outputs": [
    {
     "data": {
      "image/png": "[encoded data removed]",
      "text/plain": [
       "<Figure size 432x288 with 1 Axes>"
      ]
     },
     "metadata": {
      "needs_background": "light"
     },
     "output_type": "display_data"
    }
   ],
   "source": [
    "#refit\n",
    "lr = LinearRegression()\n",
    "lr.fit(X_train_lr, y_train_lr)\n",
    "y_pred = lr.predict(X_train_lr)\n",
    "y_pred = inverse_transform(y_pred, bct.lambda_dict_['price_month'])\n",
    "\n",
    "# Visualizing actual prices vs predicted values\n",
    "plt.scatter(df_train['price_month'], y_pred)\n",
    "plt.xlabel(\"Actual Price\")\n",
    "plt.ylabel(\"Predicted Price\")\n",
    "plt.title(\"Actual Rental Price vs Predicted Rental Price\")\n",
    "plt.show()"
   ]
  },
  {
   "cell_type": "markdown",
   "id": "32ad7497",
   "metadata": {},
   "source": [
    "### Performing checks for multi-linear regression assumptions\n",
    "\n",
    "1. **Linearity**: The mean values of the outcome variable for each increment of the predictor(s) lie along a straight line. In other words, there is a linear relationship between predictors and target.\n",
    "\n",
    "2. **No perfect multicollinearity**: There should be no perfect linear relationship between two or more of the predictors.\n",
    "\n",
    "3. **Normally distributed errors**: the residuals are random, normally distributed with a mean of 0.\n",
    "\n",
    "4. **Homoscedasticity**: The variance of the residual terms should be constant."
   ]
  },
  {
   "cell_type": "markdown",
   "id": "39994067",
   "metadata": {},
   "source": [
    "#### Equal Error Variance (Homoscedasticity)"
   ]
  },
  {
   "cell_type": "code",
   "execution_count": 40,
   "id": "76619d0b",
   "metadata": {},
   "outputs": [
    {
     "data": {
      "image/png": "[encoded data removed]",
      "text/plain": [
       "<Figure size 432x288 with 1 Axes>"
      ]
     },
     "metadata": {
      "needs_background": "light"
     },
     "output_type": "display_data"
    }
   ],
   "source": [
    "# Residual vs fit plot\n",
    "plt.scatter(y_pred, df_train['price_month'] - y_pred)\n",
    "plt.title(\"Residual vs Fit Plot\")\n",
    "plt.xlabel(\"Predicted\")\n",
    "plt.ylabel(\"Residuals\")\n",
    "plt.show()"
   ]
  },
  {
   "cell_type": "markdown",
   "id": "6940053e",
   "metadata": {},
   "source": [
    "We can see that there is an increase variance when as the predicted value increase, this suggest that the relationship is not linear"
   ]
  },
  {
   "cell_type": "markdown",
   "id": "e887f872",
   "metadata": {},
   "source": [
    "#### Multi-Collinearity"
   ]
  },
  {
   "cell_type": "markdown",
   "id": "5b54b84c",
   "metadata": {},
   "source": [
    "We can see that there is an increasing variance as the price increased. This shows that the relationship might not be linear"
   ]
  },
  {
   "cell_type": "code",
   "execution_count": 41,
   "id": "a0a03f92",
   "metadata": {},
   "outputs": [],
   "source": [
    "def calc_vif(X):\n",
    "    vif = pd.DataFrame()\n",
    "    vif[\"variables\"] = X.columns\n",
    "    vif[\"VIF\"] = [variance_inflation_factor(X.values, i) for i in range(X.shape[1])]\n",
    "    return(vif)"
   ]
  },
  {
   "cell_type": "code",
   "execution_count": 42,
   "id": "02c47598",
   "metadata": {},
   "outputs": [
    {
     "data": {
      "text/html": [
       "<div>\n",
       "<style scoped>\n",
       "    .dataframe tbody tr th:only-of-type {\n",
       "        vertical-align: middle;\n",
       "    }\n",
       "\n",
       "    .dataframe tbody tr th {\n",
       "        vertical-align: top;\n",
       "    }\n",
       "\n",
       "    .dataframe thead th {\n",
       "        text-align: right;\n",
       "    }\n",
       "</style>\n",
       "<table border=\"1\" class=\"dataframe\">\n",
       "  <thead>\n",
       "    <tr style=\"text-align: right;\">\n",
       "      <th></th>\n",
       "      <th>variables</th>\n",
       "      <th>VIF</th>\n",
       "    </tr>\n",
       "  </thead>\n",
       "  <tbody>\n",
       "    <tr>\n",
       "      <th>0</th>\n",
       "      <td>countvectorizer__Clubhouse</td>\n",
       "      <td>1.859244</td>\n",
       "    </tr>\n",
       "    <tr>\n",
       "      <th>1</th>\n",
       "      <td>countvectorizer__Jacuzzi</td>\n",
       "      <td>1.714904</td>\n",
       "    </tr>\n",
       "    <tr>\n",
       "      <th>2</th>\n",
       "      <td>countvectorizer__Parking</td>\n",
       "      <td>1.810536</td>\n",
       "    </tr>\n",
       "    <tr>\n",
       "      <th>3</th>\n",
       "      <td>tenure</td>\n",
       "      <td>2.077390</td>\n",
       "    </tr>\n",
       "    <tr>\n",
       "      <th>4</th>\n",
       "      <td>studio</td>\n",
       "      <td>1.040204</td>\n",
       "    </tr>\n",
       "    <tr>\n",
       "      <th>5</th>\n",
       "      <td>district_number</td>\n",
       "      <td>6.526102</td>\n",
       "    </tr>\n",
       "    <tr>\n",
       "      <th>6</th>\n",
       "      <td>total room</td>\n",
       "      <td>6.509431</td>\n",
       "    </tr>\n",
       "  </tbody>\n",
       "</table>\n",
       "</div>"
      ],
      "text/plain": [
       "                    variables       VIF\n",
       "0  countvectorizer__Clubhouse  1.859244\n",
       "1    countvectorizer__Jacuzzi  1.714904\n",
       "2    countvectorizer__Parking  1.810536\n",
       "3                      tenure  2.077390\n",
       "4                      studio  1.040204\n",
       "5             district_number  6.526102\n",
       "6                  total room  6.509431"
      ]
     },
     "execution_count": 42,
     "metadata": {},
     "output_type": "execute_result"
    }
   ],
   "source": [
    "calc_vif(X_train_lr)"
   ]
  },
  {
   "cell_type": "markdown",
   "id": "dfc000ae",
   "metadata": {},
   "source": [
    "There is no multicolinearity ( VIF < 10)"
   ]
  },
  {
   "cell_type": "markdown",
   "id": "7cdd8729",
   "metadata": {},
   "source": [
    "#### Normal Error (Multivariate Normality)"
   ]
  },
  {
   "cell_type": "code",
   "execution_count": 43,
   "id": "68498a0b",
   "metadata": {},
   "outputs": [
    {
     "data": {
      "image/png": "[encoded data removed]",
      "text/plain": [
       "<Figure size 1080x288 with 2 Axes>"
      ]
     },
     "metadata": {
      "needs_background": "light"
     },
     "output_type": "display_data"
    }
   ],
   "source": [
    "fig , ax = plt.subplots(nrows = 1, ncols = 2, figsize=(15,4))\n",
    "\n",
    "#histogram\n",
    "sns.histplot(df_train['price_month'] - y_pred, ax=ax[0], kde=True)\n",
    "ax[0].set_title('Normality of Residuals')\n",
    "ax[0].set_xlabel(\"Residuals\")\n",
    "ax[0].set_ylabel(\"Frequency\")\n",
    "\n",
    "#Q-Q plot\n",
    "stats.probplot(df_train['price_month'] - y_pred, dist='norm', plot=ax[1])\n",
    "ax[1].set_title('Q-Q Plot')\n",
    "ax[1].set_xlabel(\"\")\n",
    "ax[1].set_ylabel(\"\");"
   ]
  },
  {
   "cell_type": "markdown",
   "id": "ba3cdd22",
   "metadata": {},
   "source": [
    "Normality of the distribution of the residual is preserved until a certain threshold."
   ]
  },
  {
   "cell_type": "markdown",
   "id": "14270745",
   "metadata": {},
   "source": [
    "### Summary of Linear Regression"
   ]
  },
  {
   "cell_type": "markdown",
   "id": "8ef26a15",
   "metadata": {},
   "source": [
    "1. 3/4 assumptions of linear regression is violated except for Multicolinearity.\n",
    "In order to use linear regression, we need to validate our prediction within a certain threshold.\n",
    "\n",
    "2. RMSE is \\\\$3000 which is better than the baseline of \\\\$4444, Adjusted_R2 is 0.5"
   ]
  },
  {
   "cell_type": "markdown",
   "id": "10298d02",
   "metadata": {},
   "source": [
    "## Support Vector Regression"
   ]
  },
  {
   "cell_type": "code",
   "execution_count": 44,
   "id": "de45c81b",
   "metadata": {},
   "outputs": [],
   "source": [
    "svr = SVR(kernel='poly')"
   ]
  },
  {
   "cell_type": "code",
   "execution_count": 45,
   "id": "8a0e4b5a",
   "metadata": {},
   "outputs": [],
   "source": [
    "X_train = df_train[['sqft', \n",
    "                    'countvectorizer__Clubhouse', \n",
    "                    'countvectorizer__Jacuzzi', \n",
    "                    'countvectorizer__Parking',\n",
    "                   'built_year',\n",
    "                   'tenure',\n",
    "                   'walking_time',\n",
    "                   'district_number',\n",
    "                   'mrt_availability',\n",
    "                   'total room']]\n",
    "feature = X_train.columns\n",
    "y_train = df_train['price_month']\n",
    "\n",
    "sc = StandardScaler()\n",
    "X_train = sc.fit_transform(X_train)"
   ]
  },
  {
   "cell_type": "code",
   "execution_count": 46,
   "id": "94db8ff2",
   "metadata": {},
   "outputs": [],
   "source": [
    "params = {'kernel' : ['linear', 'poly'],\n",
    "          'degree' : [2 , 3],\n",
    "          'epsilon' : [0.1, 0.5, 1, 5, 10],\n",
    "          'C' : [1000, 5000, 10000]   \n",
    "}"
   ]
  },
  {
   "cell_type": "code",
   "execution_count": 47,
   "id": "029397ad",
   "metadata": {},
   "outputs": [
    {
     "name": "stderr",
     "output_type": "stream",
     "text": [
      "[Parallel(n_jobs=6)]: Using backend LokyBackend with 6 concurrent workers.\n",
      "[Parallel(n_jobs=6)]: Done   5 out of   5 | elapsed: 14.2min finished\n"
     ]
    }
   ],
   "source": [
    "svc = GridSearchCV(svr, param_grid= params, cv=inner_cv, scoring='neg_root_mean_squared_error', n_jobs=6)\n",
    "\n",
    "\n",
    "\n",
    "score = cross_validate(svc, X_train, y_train, cv=outer_cv, scoring='neg_root_mean_squared_error', return_estimator=True, verbose=1, n_jobs=6)"
   ]
  },
  {
   "cell_type": "code",
   "execution_count": 48,
   "id": "f4fe11f1",
   "metadata": {},
   "outputs": [
    {
     "name": "stdout",
     "output_type": "stream",
     "text": [
      "bestscore: -2468.490709598181\n",
      "bestparam: {'C': 10000, 'degree': 2, 'epsilon': 5, 'kernel': 'linear'}\n",
      "****************************************************************\n",
      "bestscore: -2120.1920997219054\n",
      "bestparam: {'C': 10000, 'degree': 2, 'epsilon': 10, 'kernel': 'linear'}\n",
      "****************************************************************\n",
      "bestscore: -2070.522091739476\n",
      "bestparam: {'C': 5000, 'degree': 3, 'epsilon': 0.1, 'kernel': 'poly'}\n",
      "****************************************************************\n",
      "bestscore: -2100.3735957805407\n",
      "bestparam: {'C': 10000, 'degree': 3, 'epsilon': 0.1, 'kernel': 'poly'}\n",
      "****************************************************************\n",
      "bestscore: -1918.201233495605\n",
      "bestparam: {'C': 10000, 'degree': 3, 'epsilon': 5, 'kernel': 'poly'}\n",
      "****************************************************************\n"
     ]
    }
   ],
   "source": [
    "for i in range(5):\n",
    "    print('bestscore:', score['test_score'][i])\n",
    "    print('bestparam:', score['estimator'][i].best_params_)\n",
    "    print('****************************************************************')"
   ]
  },
  {
   "cell_type": "markdown",
   "id": "280c5f65",
   "metadata": {},
   "source": [
    "This is insightful as we can see that different hyperparameters are found on each iteration, showing that good hyperparameters on this dataset are dependent on the specifics of the dataset. Overall we can see that the poly kernel has better overall rmse score. We will select kernel poly as our best param."
   ]
  },
  {
   "cell_type": "code",
   "execution_count": 49,
   "id": "d6f780d3",
   "metadata": {},
   "outputs": [],
   "source": [
    "#select best estimator\n",
    "best_scv = score['estimator'][3].best_estimator_\n",
    "best_scv_score = cross_val_score(best_scv, X_train, y_train, scoring = 'neg_root_mean_squared_error')\n",
    "best_scv_score_r2 = cross_val_score(best_scv, X_train, y_train, scoring = 'r2')"
   ]
  },
  {
   "cell_type": "code",
   "execution_count": 50,
   "id": "273bd615",
   "metadata": {},
   "outputs": [
    {
     "name": "stdout",
     "output_type": "stream",
     "text": [
      "SVM Regression_mean_RMSE: -2110.0\n",
      "SVM Regression_std_RMSE: 383.0\n",
      "SVM Regression_Adjusted R^2: 0.77\n",
      "SVM Regression_Adjusted R^2: 0.06\n"
     ]
    }
   ],
   "source": [
    "#displaying result\n",
    "r2 = modified_r2score(r2 = best_scv_score_r2,\n",
    "                n = X_train.shape[0],\n",
    "                p = X_train.shape[1])\n",
    "resultsummary(best_scv_score, r2, 'SVM Regression')"
   ]
  },
  {
   "cell_type": "markdown",
   "id": "51880c75",
   "metadata": {},
   "source": [
    "## XGBoost Regression"
   ]
  },
  {
   "cell_type": "code",
   "execution_count": 171,
   "id": "14edeb06",
   "metadata": {},
   "outputs": [],
   "source": [
    "xgb = XGBRegressor(random_state=0, n_jobs=6)"
   ]
  },
  {
   "cell_type": "code",
   "execution_count": 172,
   "id": "a554c37e",
   "metadata": {},
   "outputs": [],
   "source": [
    "X_train = df_train.drop(['price_month', 'total room'],axis=1)\n",
    "y_train = df_train['price_month']"
   ]
  },
  {
   "cell_type": "code",
   "execution_count": 173,
   "id": "56cb162a",
   "metadata": {},
   "outputs": [],
   "source": [
    "# we will prelimenary define a parameter, further parameter will be fine tune via Optuna\n",
    "tree_params ={\n",
    "    'n_estimators' : [100],\n",
    "    'max_depth' : [6 , 8],\n",
    "    'eta' : [0.1, 0.2],\n",
    "    'subsample':[0.5, 0.8, 1], \n",
    "}"
   ]
  },
  {
   "cell_type": "code",
   "execution_count": 174,
   "id": "3a291d64",
   "metadata": {},
   "outputs": [
    {
     "name": "stderr",
     "output_type": "stream",
     "text": [
      "[Parallel(n_jobs=6)]: Using backend LokyBackend with 6 concurrent workers.\n",
      "[Parallel(n_jobs=6)]: Done   3 out of   5 | elapsed:   48.0s remaining:   31.9s\n",
      "[Parallel(n_jobs=6)]: Done   5 out of   5 | elapsed:   48.3s finished\n"
     ]
    }
   ],
   "source": [
    "xgboost = GridSearchCV(xgb, param_grid= tree_params, cv=inner_cv, scoring='neg_root_mean_squared_error', n_jobs=6)\n",
    "xgb_score = cross_validate(xgboost, X_train, y_train, cv=outer_cv, scoring='neg_root_mean_squared_error', return_estimator=True, verbose=2, n_jobs=6)"
   ]
  },
  {
   "cell_type": "code",
   "execution_count": 175,
   "id": "aa3ead91",
   "metadata": {},
   "outputs": [
    {
     "name": "stdout",
     "output_type": "stream",
     "text": [
      "bestscore: -1038.180531098135\n",
      "bestparam: {'eta': 0.2, 'max_depth': 8, 'n_estimators': 100, 'subsample': 0.8}\n",
      "****************************************************************\n",
      "bestscore: -1492.2182039593238\n",
      "bestparam: {'eta': 0.1, 'max_depth': 6, 'n_estimators': 100, 'subsample': 1}\n",
      "****************************************************************\n",
      "bestscore: -1414.1146441516016\n",
      "bestparam: {'eta': 0.1, 'max_depth': 6, 'n_estimators': 100, 'subsample': 0.5}\n",
      "****************************************************************\n",
      "bestscore: -1774.460922682452\n",
      "bestparam: {'eta': 0.1, 'max_depth': 6, 'n_estimators': 100, 'subsample': 0.5}\n",
      "****************************************************************\n",
      "bestscore: -1097.2467267946995\n",
      "bestparam: {'eta': 0.1, 'max_depth': 6, 'n_estimators': 100, 'subsample': 1}\n",
      "****************************************************************\n"
     ]
    }
   ],
   "source": [
    "for i in range(5):\n",
    "    print('bestscore:', xgb_score['test_score'][i])\n",
    "    print('bestparam:', xgb_score['estimator'][i].best_params_)\n",
    "    print('****************************************************************')"
   ]
  },
  {
   "cell_type": "markdown",
   "id": "bfab932d",
   "metadata": {},
   "source": [
    "Similar to SVM, we can see that different hyperparameters are found on each iteration, showing that good hyperparameters on this dataset are dependent on the specifics of the dataset"
   ]
  },
  {
   "cell_type": "code",
   "execution_count": 176,
   "id": "98f30294",
   "metadata": {},
   "outputs": [],
   "source": [
    "#we will randomly pick one, full hyper parameter will be search later\n",
    "best_xgb = xgb_score['estimator'][0].best_estimator_\n",
    "best_xgb_score = cross_val_score(best_xgb, X_train, y_train, scoring = 'neg_root_mean_squared_error')\n",
    "best_xgb_score_r2 = cross_val_score(best_xgb, X_train, y_train, scoring = 'r2');"
   ]
  },
  {
   "cell_type": "code",
   "execution_count": 177,
   "id": "19dfe794",
   "metadata": {},
   "outputs": [
    {
     "name": "stdout",
     "output_type": "stream",
     "text": [
      "XGBoost Regression_mean_RMSE: 1545.0\n",
      "XGBoost Regression_std_RMSE: 329.0\n",
      "XGBoost Regression_Adjusted R^2: 0.88\n",
      "XGBoost Regression_Adjusted R^2: 0.04\n"
     ]
    }
   ],
   "source": [
    "#displaying result\n",
    "r2 = modified_r2score(r2 = best_xgb_score_r2,\n",
    "                n = X_train.shape[0],\n",
    "                p = X_train.shape[1])\n",
    "resultsummary(-best_xgb_score, r2, 'XGBoost Regression')"
   ]
  },
  {
   "cell_type": "markdown",
   "id": "607bef01",
   "metadata": {},
   "source": [
    "# Algorithm Selection"
   ]
  },
  {
   "cell_type": "code",
   "execution_count": 178,
   "id": "cd6a5070",
   "metadata": {},
   "outputs": [
    {
     "data": {
      "text/html": [
       "<div>\n",
       "<style scoped>\n",
       "    .dataframe tbody tr th:only-of-type {\n",
       "        vertical-align: middle;\n",
       "    }\n",
       "\n",
       "    .dataframe tbody tr th {\n",
       "        vertical-align: top;\n",
       "    }\n",
       "\n",
       "    .dataframe thead th {\n",
       "        text-align: right;\n",
       "    }\n",
       "</style>\n",
       "<table border=\"1\" class=\"dataframe\">\n",
       "  <thead>\n",
       "    <tr style=\"text-align: right;\">\n",
       "      <th></th>\n",
       "      <th>rmse_mean</th>\n",
       "      <th>rmse_std</th>\n",
       "      <th>adjusted_r2_mean</th>\n",
       "      <th>adjusted_r2_std</th>\n",
       "    </tr>\n",
       "  </thead>\n",
       "  <tbody>\n",
       "    <tr>\n",
       "      <th>LinearRegression</th>\n",
       "      <td>3127.0</td>\n",
       "      <td>279.0</td>\n",
       "      <td>0.50</td>\n",
       "      <td>0.02</td>\n",
       "    </tr>\n",
       "    <tr>\n",
       "      <th>SVM Regression</th>\n",
       "      <td>-2110.0</td>\n",
       "      <td>383.0</td>\n",
       "      <td>0.77</td>\n",
       "      <td>0.06</td>\n",
       "    </tr>\n",
       "    <tr>\n",
       "      <th>XGBoost Regression</th>\n",
       "      <td>-1545.0</td>\n",
       "      <td>329.0</td>\n",
       "      <td>0.88</td>\n",
       "      <td>0.04</td>\n",
       "    </tr>\n",
       "    <tr>\n",
       "      <th>XGBoost Regression</th>\n",
       "      <td>1545.0</td>\n",
       "      <td>329.0</td>\n",
       "      <td>0.88</td>\n",
       "      <td>0.04</td>\n",
       "    </tr>\n",
       "  </tbody>\n",
       "</table>\n",
       "</div>"
      ],
      "text/plain": [
       "                    rmse_mean  rmse_std  adjusted_r2_mean  adjusted_r2_std\n",
       "LinearRegression       3127.0     279.0              0.50             0.02\n",
       "SVM Regression        -2110.0     383.0              0.77             0.06\n",
       "XGBoost Regression    -1545.0     329.0              0.88             0.04\n",
       "XGBoost Regression     1545.0     329.0              0.88             0.04"
      ]
     },
     "execution_count": 178,
     "metadata": {},
     "output_type": "execute_result"
    }
   ],
   "source": [
    "all_results"
   ]
  },
  {
   "cell_type": "markdown",
   "id": "44b42a8b",
   "metadata": {},
   "source": [
    "We will choose XGBoostRegression for further fine tuning via Feature-Selection & Hyperparameter tuning as it has the highest validation rmse & adjusted_R2"
   ]
  },
  {
   "cell_type": "markdown",
   "id": "ea350257",
   "metadata": {},
   "source": [
    "# Feature Selection for the Chosen Algorithm"
   ]
  },
  {
   "cell_type": "markdown",
   "id": "104b4c92",
   "metadata": {},
   "source": [
    "We will perform feature selection via Recursive-feature-elimination with XGBoost tree importance."
   ]
  },
  {
   "cell_type": "code",
   "execution_count": 179,
   "id": "cf395fd6",
   "metadata": {},
   "outputs": [],
   "source": [
    "sel = RecursiveFeatureElimination(\n",
    "    variables=None, # automatically evaluate all numerical variables\n",
    "    estimator = best_xgb, # the selected model\n",
    "    scoring = 'neg_root_mean_squared_error', # the metric we want to evalute\n",
    "    threshold = 50, # the maximum rmse drop allowed to remove a feature\n",
    "    cv=5, # cross-validation\n",
    ")"
   ]
  },
  {
   "cell_type": "code",
   "execution_count": 180,
   "id": "d55fa258",
   "metadata": {},
   "outputs": [],
   "source": [
    "sel.fit(X_train, y_train);"
   ]
  },
  {
   "cell_type": "code",
   "execution_count": 181,
   "id": "74e48456",
   "metadata": {},
   "outputs": [
    {
     "data": {
      "image/png": "[encoded data removed]",
      "text/plain": [
       "<Figure size 1440x432 with 1 Axes>"
      ]
     },
     "metadata": {
      "needs_background": "light"
     },
     "output_type": "display_data"
    }
   ],
   "source": [
    "# importance of all features based of initial model\n",
    "sel.feature_importances_.sort_values(ascending=False).plot.bar(figsize=(20,6))\n",
    "plt.xlabel('Features')\n",
    "plt.ylabel('Importance')\n",
    "plt.show()"
   ]
  },
  {
   "cell_type": "code",
   "execution_count": 182,
   "id": "38bc7794",
   "metadata": {},
   "outputs": [
    {
     "data": {
      "image/png": "[encoded data removed]",
      "text/plain": [
       "<Figure size 1440x432 with 1 Axes>"
      ]
     },
     "metadata": {
      "needs_background": "light"
     },
     "output_type": "display_data"
    }
   ],
   "source": [
    "# we plot to find out how each of the feature influence the model performance\n",
    "pd.Series(sel.performance_drifts_).sort_values(key=lambda x: abs(x), ascending=False).plot.bar(figsize=(20,6))\n",
    "plt.xlabel('Features')\n",
    "plt.ylabel('Performance change when feature was added')\n",
    "plt.show()"
   ]
  },
  {
   "cell_type": "markdown",
   "id": "59694054",
   "metadata": {},
   "source": [
    "we can see that although Orchard_MRT & Downtown Mrt has higher feature importance, however it does not affect the model performance much. This suggest that there is an interaction effect / multicolinearity with other feature"
   ]
  },
  {
   "cell_type": "code",
   "execution_count": 183,
   "id": "ff9794d0",
   "metadata": {},
   "outputs": [
    {
     "data": {
      "text/plain": [
       "43"
      ]
     },
     "execution_count": 183,
     "metadata": {},
     "output_type": "execute_result"
    }
   ],
   "source": [
    "# Number of features that will be removed\n",
    "len(sel.features_to_drop_)"
   ]
  },
  {
   "cell_type": "code",
   "execution_count": 184,
   "id": "02675f7d",
   "metadata": {},
   "outputs": [],
   "source": [
    "X_train = sel.transform(X_train)"
   ]
  },
  {
   "cell_type": "code",
   "execution_count": 185,
   "id": "e3177b69",
   "metadata": {},
   "outputs": [
    {
     "data": {
      "text/plain": [
       "Index(['sqft', 'built_year', 'walking_time', 'district_number',\n",
       "       'mrt_name_Dhoby Ghaut MRT', 'mrt_name_Holland Village MRT'],\n",
       "      dtype='object')"
      ]
     },
     "execution_count": 185,
     "metadata": {},
     "output_type": "execute_result"
    }
   ],
   "source": [
    "#final selected feature\n",
    "X_train.columns"
   ]
  },
  {
   "cell_type": "code",
   "execution_count": 186,
   "id": "83e6df1b",
   "metadata": {},
   "outputs": [
    {
     "data": {
      "text/plain": [
       "-1485.9748357266603"
      ]
     },
     "execution_count": 186,
     "metadata": {},
     "output_type": "execute_result"
    }
   ],
   "source": [
    "cross_val_score(best_xgb, X_train, y_train, cv=5, scoring='neg_root_mean_squared_error').mean()"
   ]
  },
  {
   "cell_type": "markdown",
   "id": "7efa2a27",
   "metadata": {},
   "source": [
    "# Final Hyperameter Tuning via Optuna"
   ]
  },
  {
   "cell_type": "markdown",
   "id": "6f7da913",
   "metadata": {},
   "source": [
    "Previously we have perform gridsearch for the hyperparameter for gridsearch, however it is not exhaustive as full gridsearch is computationally intensive. Here, we will be using Optuna for hyperparameter tuning. It is an optimization hyperparameter tuning that explore the space of hyperparamter."
   ]
  },
  {
   "cell_type": "markdown",
   "id": "b3dbb965",
   "metadata": {},
   "source": [
    "This is the hyperparameter response space, the function we want to optimize."
   ]
  },
  {
   "cell_type": "code",
   "execution_count": 187,
   "id": "7fe305f7",
   "metadata": {},
   "outputs": [],
   "source": [
    "def objective(trial):\n",
    "\n",
    "    eta = trial.suggest_float(\"eta\", 1e-2, 0.3, log=True)\n",
    "    reg_lambda = trial.suggest_loguniform(\"reg_lambda\", 1e-8, 100)\n",
    "    reg_alpha = trial.suggest_loguniform(\"reg_alpha\", 1e-8, 100)\n",
    "    subsample = trial.suggest_float(\"subsample\", 0.1, 1)\n",
    "    colsample_bytree = trial.suggest_float(\"colsample_bytree\", 0.1, 1.0)\n",
    "    max_depth = trial.suggest_int(\"max_depth\", 1, 7)\n",
    "    \n",
    "    model = XGBRegressor(random_state=0,\n",
    "                         n_estimators = 200,\n",
    "                         eta = eta,\n",
    "                         reg_lambda = reg_lambda,\n",
    "                         reg_alpha = reg_alpha,\n",
    "                         subsample = subsample,\n",
    "                         colsample_bytree = colsample_bytree,\n",
    "                         max_depth = max_depth,\n",
    "                         n_jobs=6\n",
    "                         )\n",
    "\n",
    "    score = cross_val_score(model, X_train, y_train, scoring = 'neg_root_mean_squared_error',  cv=5, verbose=1)\n",
    "    accuracy = score.mean()\n",
    "    return accuracy"
   ]
  },
  {
   "cell_type": "code",
   "execution_count": 188,
   "id": "fba30fc8",
   "metadata": {},
   "outputs": [
    {
     "name": "stderr",
     "output_type": "stream",
     "text": [
      "\u001b[32m[I 2021-11-07 16:17:03,826]\u001b[0m A new study created in memory with name: no-name-0315c0d4-823e-4096-8581-c2743327a2b7\u001b[0m\n",
      "[Parallel(n_jobs=1)]: Using backend SequentialBackend with 1 concurrent workers.\n",
      "[Parallel(n_jobs=1)]: Done   5 out of   5 | elapsed:    0.6s finished\n",
      "\u001b[32m[I 2021-11-07 16:17:04,569]\u001b[0m Trial 0 finished with value: -2693.2853168089277 and parameters: {'eta': 0.015411736827092765, 'reg_lambda': 0.0023122463804714647, 'reg_alpha': 3.9434741770127477, 'subsample': 0.803784077892854, 'colsample_bytree': 0.4025734432037684, 'max_depth': 2}. Best is trial 0 with value: -2693.2853168089277.\u001b[0m\n",
      "[Parallel(n_jobs=1)]: Using backend SequentialBackend with 1 concurrent workers.\n",
      "[Parallel(n_jobs=1)]: Done   5 out of   5 | elapsed:    0.6s finished\n",
      "\u001b[32m[I 2021-11-07 16:17:05,309]\u001b[0m Trial 1 finished with value: -2154.6568184046164 and parameters: {'eta': 0.18257273157438653, 'reg_lambda': 5.373711571576075, 'reg_alpha': 1.3740005137678869e-08, 'subsample': 0.1322661769638721, 'colsample_bytree': 0.19650442319980763, 'max_depth': 2}. Best is trial 1 with value: -2154.6568184046164.\u001b[0m\n",
      "[Parallel(n_jobs=1)]: Using backend SequentialBackend with 1 concurrent workers.\n",
      "[Parallel(n_jobs=1)]: Done   5 out of   5 | elapsed:    1.9s finished\n",
      "\u001b[32m[I 2021-11-07 16:17:07,336]\u001b[0m Trial 2 finished with value: -1554.8566126524343 and parameters: {'eta': 0.024558404181298094, 'reg_lambda': 0.002990710466681784, 'reg_alpha': 1.0366120946422481e-06, 'subsample': 0.35530806433230633, 'colsample_bytree': 0.8549530636936278, 'max_depth': 6}. Best is trial 2 with value: -1554.8566126524343.\u001b[0m\n",
      "[Parallel(n_jobs=1)]: Using backend SequentialBackend with 1 concurrent workers.\n",
      "[Parallel(n_jobs=1)]: Done   5 out of   5 | elapsed:    1.6s finished\n",
      "\u001b[32m[I 2021-11-07 16:17:09,033]\u001b[0m Trial 3 finished with value: -1696.2982684836093 and parameters: {'eta': 0.2969869607323353, 'reg_lambda': 3.290887631516546e-05, 'reg_alpha': 0.30541694911779016, 'subsample': 0.9697132630873788, 'colsample_bytree': 0.999750644440168, 'max_depth': 6}. Best is trial 2 with value: -1554.8566126524343.\u001b[0m\n",
      "[Parallel(n_jobs=1)]: Using backend SequentialBackend with 1 concurrent workers.\n",
      "[Parallel(n_jobs=1)]: Done   5 out of   5 | elapsed:    0.5s finished\n",
      "\u001b[32m[I 2021-11-07 16:17:09,661]\u001b[0m Trial 4 finished with value: -2328.2034035418033 and parameters: {'eta': 0.03884274489760993, 'reg_lambda': 54.8482797047129, 'reg_alpha': 0.059883359537567585, 'subsample': 0.43947592779289446, 'colsample_bytree': 0.7180230882000397, 'max_depth': 1}. Best is trial 2 with value: -1554.8566126524343.\u001b[0m\n",
      "[Parallel(n_jobs=1)]: Using backend SequentialBackend with 1 concurrent workers.\n",
      "[Parallel(n_jobs=1)]: Done   5 out of   5 | elapsed:    0.7s finished\n",
      "\u001b[32m[I 2021-11-07 16:17:10,451]\u001b[0m Trial 5 finished with value: -2484.1925546472694 and parameters: {'eta': 0.016206550173804974, 'reg_lambda': 0.000123044818453436, 'reg_alpha': 1.4821771431169994e-05, 'subsample': 0.6289114101481812, 'colsample_bytree': 0.3533968652586683, 'max_depth': 3}. Best is trial 2 with value: -1554.8566126524343.\u001b[0m\n",
      "[Parallel(n_jobs=1)]: Using backend SequentialBackend with 1 concurrent workers.\n",
      "[Parallel(n_jobs=1)]: Done   5 out of   5 | elapsed:    0.6s finished\n",
      "\u001b[32m[I 2021-11-07 16:17:11,104]\u001b[0m Trial 6 finished with value: -1789.971379169646 and parameters: {'eta': 0.2071969706088119, 'reg_lambda': 0.00028471986589224626, 'reg_alpha': 2.1088208409130857e-06, 'subsample': 0.886838483217575, 'colsample_bytree': 0.5788124997171155, 'max_depth': 2}. Best is trial 2 with value: -1554.8566126524343.\u001b[0m\n",
      "[Parallel(n_jobs=1)]: Using backend SequentialBackend with 1 concurrent workers.\n",
      "[Parallel(n_jobs=1)]: Done   5 out of   5 | elapsed:    0.4s finished\n",
      "\u001b[32m[I 2021-11-07 16:17:11,647]\u001b[0m Trial 7 finished with value: -2259.599303371506 and parameters: {'eta': 0.04974908642443117, 'reg_lambda': 0.11511875995706497, 'reg_alpha': 0.5989431511303795, 'subsample': 0.5435925252208027, 'colsample_bytree': 0.5475482028997403, 'max_depth': 1}. Best is trial 2 with value: -1554.8566126524343.\u001b[0m\n",
      "[Parallel(n_jobs=1)]: Using backend SequentialBackend with 1 concurrent workers.\n",
      "[Parallel(n_jobs=1)]: Done   5 out of   5 | elapsed:    1.2s finished\n",
      "\u001b[32m[I 2021-11-07 16:17:12,993]\u001b[0m Trial 8 finished with value: -1640.0840206130447 and parameters: {'eta': 0.021019563500245482, 'reg_lambda': 0.00038168951323837877, 'reg_alpha': 0.0002358136532358124, 'subsample': 0.850288585458702, 'colsample_bytree': 0.7118946016163641, 'max_depth': 5}. Best is trial 2 with value: -1554.8566126524343.\u001b[0m\n",
      "[Parallel(n_jobs=1)]: Using backend SequentialBackend with 1 concurrent workers.\n",
      "[Parallel(n_jobs=1)]: Done   5 out of   5 | elapsed:    0.4s finished\n",
      "\u001b[32m[I 2021-11-07 16:17:13,533]\u001b[0m Trial 9 finished with value: -2255.666564560284 and parameters: {'eta': 0.037668265971341076, 'reg_lambda': 8.711699279619154e-07, 'reg_alpha': 4.5941357516932335e-08, 'subsample': 0.7445182058704085, 'colsample_bytree': 0.6721387352691736, 'max_depth': 1}. Best is trial 2 with value: -1554.8566126524343.\u001b[0m\n",
      "[Parallel(n_jobs=1)]: Using backend SequentialBackend with 1 concurrent workers.\n",
      "[Parallel(n_jobs=1)]: Done   5 out of   5 | elapsed:    1.7s finished\n",
      "\u001b[32m[I 2021-11-07 16:17:15,338]\u001b[0m Trial 10 finished with value: -1591.11840378095 and parameters: {'eta': 0.0950059181006325, 'reg_lambda': 5.166115614336622e-08, 'reg_alpha': 0.002039932597947076, 'subsample': 0.252486406532741, 'colsample_bytree': 0.9901313149323441, 'max_depth': 7}. Best is trial 2 with value: -1554.8566126524343.\u001b[0m\n",
      "[Parallel(n_jobs=1)]: Using backend SequentialBackend with 1 concurrent workers.\n",
      "[Parallel(n_jobs=1)]: Done   5 out of   5 | elapsed:    1.6s finished\n",
      "\u001b[32m[I 2021-11-07 16:17:17,043]\u001b[0m Trial 11 finished with value: -1647.4608366945436 and parameters: {'eta': 0.09658337663541772, 'reg_lambda': 4.719382247527736e-08, 'reg_alpha': 0.00013023101989161436, 'subsample': 0.26222076068814615, 'colsample_bytree': 0.9903437719452585, 'max_depth': 7}. Best is trial 2 with value: -1554.8566126524343.\u001b[0m\n",
      "[Parallel(n_jobs=1)]: Using backend SequentialBackend with 1 concurrent workers.\n",
      "[Parallel(n_jobs=1)]: Done   5 out of   5 | elapsed:    1.8s finished\n",
      "\u001b[32m[I 2021-11-07 16:17:18,949]\u001b[0m Trial 12 finished with value: -1576.4896955692252 and parameters: {'eta': 0.09092515890553461, 'reg_lambda': 0.01732947809693909, 'reg_alpha': 0.004258360655384819, 'subsample': 0.3354107102332556, 'colsample_bytree': 0.8482433523184667, 'max_depth': 7}. Best is trial 2 with value: -1554.8566126524343.\u001b[0m\n",
      "[Parallel(n_jobs=1)]: Using backend SequentialBackend with 1 concurrent workers.\n",
      "[Parallel(n_jobs=1)]: Done   5 out of   5 | elapsed:    1.1s finished\n",
      "\u001b[32m[I 2021-11-07 16:17:20,165]\u001b[0m Trial 13 finished with value: -1561.9138143160867 and parameters: {'eta': 0.08582081561417641, 'reg_lambda': 0.03678099118691624, 'reg_alpha': 1.3216089508355635e-06, 'subsample': 0.4078769119583746, 'colsample_bytree': 0.8212427412737378, 'max_depth': 5}. Best is trial 2 with value: -1554.8566126524343.\u001b[0m\n",
      "[Parallel(n_jobs=1)]: Using backend SequentialBackend with 1 concurrent workers.\n",
      "[Parallel(n_jobs=1)]: Done   5 out of   5 | elapsed:    1.2s finished\n",
      "\u001b[32m[I 2021-11-07 16:17:21,461]\u001b[0m Trial 14 finished with value: -1623.838017672404 and parameters: {'eta': 0.02480546344044207, 'reg_lambda': 0.26319002000692554, 'reg_alpha': 7.111078361245388e-07, 'subsample': 0.4319553183911581, 'colsample_bytree': 0.8151881590715685, 'max_depth': 5}. Best is trial 2 with value: -1554.8566126524343.\u001b[0m\n",
      "[Parallel(n_jobs=1)]: Using backend SequentialBackend with 1 concurrent workers.\n",
      "[Parallel(n_jobs=1)]: Done   5 out of   5 | elapsed:    0.9s finished\n",
      "\u001b[32m[I 2021-11-07 16:17:22,535]\u001b[0m Trial 15 finished with value: -2158.5884993615514 and parameters: {'eta': 0.011372262342774072, 'reg_lambda': 1.1296540718877872, 'reg_alpha': 3.353481686147065e-07, 'subsample': 0.10002549585449638, 'colsample_bytree': 0.8527424590518657, 'max_depth': 5}. Best is trial 2 with value: -1554.8566126524343.\u001b[0m\n",
      "[Parallel(n_jobs=1)]: Using backend SequentialBackend with 1 concurrent workers.\n",
      "[Parallel(n_jobs=1)]: Done   5 out of   5 | elapsed:    0.9s finished\n",
      "\u001b[32m[I 2021-11-07 16:17:23,580]\u001b[0m Trial 16 finished with value: -1543.6048866267404 and parameters: {'eta': 0.06591776718935285, 'reg_lambda': 0.008708145174300559, 'reg_alpha': 1.2135286051739814e-05, 'subsample': 0.5679673694929791, 'colsample_bytree': 0.8650508883586927, 'max_depth': 4}. Best is trial 16 with value: -1543.6048866267404.\u001b[0m\n"
     ]
    },
    {
     "name": "stderr",
     "output_type": "stream",
     "text": [
      "[Parallel(n_jobs=1)]: Using backend SequentialBackend with 1 concurrent workers.\n",
      "[Parallel(n_jobs=1)]: Done   5 out of   5 | elapsed:    0.9s finished\n",
      "\u001b[32m[I 2021-11-07 16:17:24,607]\u001b[0m Trial 17 finished with value: -1732.3161649058952 and parameters: {'eta': 0.03004831158182895, 'reg_lambda': 1.4369485527880697e-05, 'reg_alpha': 1.886769177596776e-05, 'subsample': 0.6019208613988818, 'colsample_bytree': 0.5291258991735943, 'max_depth': 4}. Best is trial 16 with value: -1543.6048866267404.\u001b[0m\n",
      "[Parallel(n_jobs=1)]: Using backend SequentialBackend with 1 concurrent workers.\n",
      "[Parallel(n_jobs=1)]: Done   5 out of   5 | elapsed:    0.9s finished\n",
      "\u001b[32m[I 2021-11-07 16:17:25,632]\u001b[0m Trial 18 finished with value: -1533.4792449322172 and parameters: {'eta': 0.06077108595096302, 'reg_lambda': 0.004250946328660987, 'reg_alpha': 47.683350553538304, 'subsample': 0.7015817469427478, 'colsample_bytree': 0.88883331331577, 'max_depth': 4}. Best is trial 18 with value: -1533.4792449322172.\u001b[0m\n",
      "[Parallel(n_jobs=1)]: Using backend SequentialBackend with 1 concurrent workers.\n",
      "[Parallel(n_jobs=1)]: Done   5 out of   5 | elapsed:    0.6s finished\n",
      "\u001b[32m[I 2021-11-07 16:17:26,398]\u001b[0m Trial 19 finished with value: -2221.670116785887 and parameters: {'eta': 0.06297734294329742, 'reg_lambda': 3.128083425447264e-06, 'reg_alpha': 86.98705598103288, 'subsample': 0.6902089287187867, 'colsample_bytree': 0.10608182959761331, 'max_depth': 4}. Best is trial 18 with value: -1533.4792449322172.\u001b[0m\n",
      "[Parallel(n_jobs=1)]: Using backend SequentialBackend with 1 concurrent workers.\n",
      "[Parallel(n_jobs=1)]: Done   5 out of   5 | elapsed:    0.7s finished\n",
      "\u001b[32m[I 2021-11-07 16:17:27,260]\u001b[0m Trial 20 finished with value: -1684.5026435960433 and parameters: {'eta': 0.060922746870999765, 'reg_lambda': 0.007536600219135792, 'reg_alpha': 89.63919947588079, 'subsample': 0.5159815532951866, 'colsample_bytree': 0.9075306589570346, 'max_depth': 3}. Best is trial 18 with value: -1533.4792449322172.\u001b[0m\n",
      "[Parallel(n_jobs=1)]: Using backend SequentialBackend with 1 concurrent workers.\n",
      "[Parallel(n_jobs=1)]: Done   5 out of   5 | elapsed:    1.5s finished\n",
      "\u001b[32m[I 2021-11-07 16:17:28,838]\u001b[0m Trial 21 finished with value: -1569.4339606573833 and parameters: {'eta': 0.13138830534101328, 'reg_lambda': 0.0021915818977145864, 'reg_alpha': 1.440342014763726e-05, 'subsample': 0.6830126875829872, 'colsample_bytree': 0.7642746978682594, 'max_depth': 6}. Best is trial 18 with value: -1533.4792449322172.\u001b[0m\n",
      "[Parallel(n_jobs=1)]: Using backend SequentialBackend with 1 concurrent workers.\n",
      "[Parallel(n_jobs=1)]: Done   5 out of   5 | elapsed:    0.7s finished\n",
      "\u001b[32m[I 2021-11-07 16:17:29,702]\u001b[0m Trial 22 finished with value: -1725.363975071663 and parameters: {'eta': 0.04542571951645063, 'reg_lambda': 0.004692634925452442, 'reg_alpha': 1.3267447243979624e-07, 'subsample': 0.48566090356269365, 'colsample_bytree': 0.9072979488616455, 'max_depth': 3}. Best is trial 18 with value: -1533.4792449322172.\u001b[0m\n",
      "[Parallel(n_jobs=1)]: Using backend SequentialBackend with 1 concurrent workers.\n",
      "[Parallel(n_jobs=1)]: Done   5 out of   5 | elapsed:    0.9s finished\n",
      "\u001b[32m[I 2021-11-07 16:17:30,745]\u001b[0m Trial 23 finished with value: -1619.3636881247899 and parameters: {'eta': 0.06706635455210457, 'reg_lambda': 0.7044166658700654, 'reg_alpha': 0.020137621745136166, 'subsample': 0.6096642096926523, 'colsample_bytree': 0.6359985544594515, 'max_depth': 4}. Best is trial 18 with value: -1533.4792449322172.\u001b[0m\n",
      "[Parallel(n_jobs=1)]: Using backend SequentialBackend with 1 concurrent workers.\n",
      "[Parallel(n_jobs=1)]: Done   5 out of   5 | elapsed:    1.4s finished\n",
      "\u001b[32m[I 2021-11-07 16:17:32,305]\u001b[0m Trial 24 finished with value: -1562.7185406223266 and parameters: {'eta': 0.02997546709449624, 'reg_lambda': 0.028110061549875005, 'reg_alpha': 7.307161857148671e-05, 'subsample': 0.341269880127827, 'colsample_bytree': 0.9000278661774052, 'max_depth': 6}. Best is trial 18 with value: -1533.4792449322172.\u001b[0m\n",
      "[Parallel(n_jobs=1)]: Using backend SequentialBackend with 1 concurrent workers.\n",
      "[Parallel(n_jobs=1)]: Done   5 out of   5 | elapsed:    0.9s finished\n",
      "\u001b[32m[I 2021-11-07 16:17:33,308]\u001b[0m Trial 25 finished with value: -1570.2222864557973 and parameters: {'eta': 0.13081876548443125, 'reg_lambda': 0.000839693419080398, 'reg_alpha': 0.0006113727463956789, 'subsample': 0.7489394816422106, 'colsample_bytree': 0.754359614474201, 'max_depth': 4}. Best is trial 18 with value: -1533.4792449322172.\u001b[0m\n",
      "[Parallel(n_jobs=1)]: Using backend SequentialBackend with 1 concurrent workers.\n",
      "[Parallel(n_jobs=1)]: Done   5 out of   5 | elapsed:    0.6s finished\n",
      "\u001b[32m[I 2021-11-07 16:17:34,035]\u001b[0m Trial 26 finished with value: -1888.0927315960878 and parameters: {'eta': 0.07204585380028398, 'reg_lambda': 5.122512588085441e-05, 'reg_alpha': 7.969263150487869e-06, 'subsample': 0.19112351949244988, 'colsample_bytree': 0.4333621963056274, 'max_depth': 3}. Best is trial 18 with value: -1533.4792449322172.\u001b[0m\n",
      "[Parallel(n_jobs=1)]: Using backend SequentialBackend with 1 concurrent workers.\n",
      "[Parallel(n_jobs=1)]: Done   5 out of   5 | elapsed:    1.1s finished\n",
      "\u001b[32m[I 2021-11-07 16:17:35,234]\u001b[0m Trial 27 finished with value: -1642.227829308948 and parameters: {'eta': 0.03792128954240277, 'reg_lambda': 4.510330524806615, 'reg_alpha': 7.432526910463938, 'subsample': 0.3293437698622472, 'colsample_bytree': 0.7817008849929936, 'max_depth': 5}. Best is trial 18 with value: -1533.4792449322172.\u001b[0m\n",
      "[Parallel(n_jobs=1)]: Using backend SequentialBackend with 1 concurrent workers.\n",
      "[Parallel(n_jobs=1)]: Done   5 out of   5 | elapsed:    1.7s finished\n",
      "\u001b[32m[I 2021-11-07 16:17:37,053]\u001b[0m Trial 28 finished with value: -1857.2112264316827 and parameters: {'eta': 0.010746390406246984, 'reg_lambda': 0.08438948007695377, 'reg_alpha': 4.023515982371257e-06, 'subsample': 0.5675859495496863, 'colsample_bytree': 0.9322115844535046, 'max_depth': 6}. Best is trial 18 with value: -1533.4792449322172.\u001b[0m\n",
      "[Parallel(n_jobs=1)]: Using backend SequentialBackend with 1 concurrent workers.\n",
      "[Parallel(n_jobs=1)]: Done   5 out of   5 | elapsed:    0.9s finished\n",
      "\u001b[32m[I 2021-11-07 16:17:38,064]\u001b[0m Trial 29 finished with value: -1953.7552559377127 and parameters: {'eta': 0.018383771066236503, 'reg_lambda': 0.0017986561890541647, 'reg_alpha': 14.268917285363957, 'subsample': 0.7672917385935754, 'colsample_bytree': 0.6178827088531254, 'max_depth': 4}. Best is trial 18 with value: -1533.4792449322172.\u001b[0m\n",
      "[Parallel(n_jobs=1)]: Using backend SequentialBackend with 1 concurrent workers.\n",
      "[Parallel(n_jobs=1)]: Done   5 out of   5 | elapsed:    0.7s finished\n",
      "\u001b[32m[I 2021-11-07 16:17:38,877]\u001b[0m Trial 30 finished with value: -1757.512863611278 and parameters: {'eta': 0.12646184089766135, 'reg_lambda': 4.137821387363293e-06, 'reg_alpha': 1.1151478997299603e-07, 'subsample': 0.681562577921884, 'colsample_bytree': 0.47922586269831585, 'max_depth': 3}. Best is trial 18 with value: -1533.4792449322172.\u001b[0m\n",
      "[Parallel(n_jobs=1)]: Using backend SequentialBackend with 1 concurrent workers.\n",
      "[Parallel(n_jobs=1)]: Done   5 out of   5 | elapsed:    1.1s finished\n",
      "\u001b[32m[I 2021-11-07 16:17:40,130]\u001b[0m Trial 31 finished with value: -1568.1150604473896 and parameters: {'eta': 0.07990175441632472, 'reg_lambda': 0.03084672548283511, 'reg_alpha': 1.099528787782642e-06, 'subsample': 0.4051631391574545, 'colsample_bytree': 0.8337670514713259, 'max_depth': 5}. Best is trial 18 with value: -1533.4792449322172.\u001b[0m\n",
      "[Parallel(n_jobs=1)]: Using backend SequentialBackend with 1 concurrent workers.\n",
      "[Parallel(n_jobs=1)]: Done   5 out of   5 | elapsed:    1.2s finished\n",
      "\u001b[32m[I 2021-11-07 16:17:41,493]\u001b[0m Trial 32 finished with value: -1565.375226626679 and parameters: {'eta': 0.05300193558403501, 'reg_lambda': 0.020680209387303798, 'reg_alpha': 1.8297570003107444e-08, 'subsample': 0.46763800756065066, 'colsample_bytree': 0.927428589745555, 'max_depth': 5}. Best is trial 18 with value: -1533.4792449322172.\u001b[0m\n",
      "[Parallel(n_jobs=1)]: Using backend SequentialBackend with 1 concurrent workers.\n",
      "[Parallel(n_jobs=1)]: Done   5 out of   5 | elapsed:    1.5s finished\n",
      "\u001b[32m[I 2021-11-07 16:17:43,077]\u001b[0m Trial 33 finished with value: -1572.1543321137028 and parameters: {'eta': 0.10739871048814294, 'reg_lambda': 0.003976256021067894, 'reg_alpha': 6.202698480015785e-07, 'subsample': 0.3874269217330642, 'colsample_bytree': 0.8722929947827448, 'max_depth': 6}. Best is trial 18 with value: -1533.4792449322172.\u001b[0m\n"
     ]
    },
    {
     "name": "stderr",
     "output_type": "stream",
     "text": [
      "[Parallel(n_jobs=1)]: Using backend SequentialBackend with 1 concurrent workers.\n",
      "[Parallel(n_jobs=1)]: Done   5 out of   5 | elapsed:    1.0s finished\n",
      "\u001b[32m[I 2021-11-07 16:17:44,235]\u001b[0m Trial 34 finished with value: -1669.6571141629502 and parameters: {'eta': 0.18656121259079592, 'reg_lambda': 0.0006208535979303492, 'reg_alpha': 7.105240684912446e-05, 'subsample': 0.2987596779976322, 'colsample_bytree': 0.7996627083775808, 'max_depth': 5}. Best is trial 18 with value: -1533.4792449322172.\u001b[0m\n",
      "[Parallel(n_jobs=1)]: Using backend SequentialBackend with 1 concurrent workers.\n",
      "[Parallel(n_jobs=1)]: Done   5 out of   5 | elapsed:    0.6s finished\n",
      "\u001b[32m[I 2021-11-07 16:17:44,908]\u001b[0m Trial 35 finished with value: -2734.5201804994795 and parameters: {'eta': 0.04421975837394456, 'reg_lambda': 28.733080461492474, 'reg_alpha': 0.45146525650690905, 'subsample': 0.20491070555163066, 'colsample_bytree': 0.32782601900531694, 'max_depth': 4}. Best is trial 18 with value: -1533.4792449322172.\u001b[0m\n",
      "[Parallel(n_jobs=1)]: Using backend SequentialBackend with 1 concurrent workers.\n",
      "[Parallel(n_jobs=1)]: Done   5 out of   5 | elapsed:    1.4s finished\n",
      "\u001b[32m[I 2021-11-07 16:17:46,446]\u001b[0m Trial 36 finished with value: -1521.2263626023228 and parameters: {'eta': 0.07744795229323659, 'reg_lambda': 0.11591482406603482, 'reg_alpha': 0.009297010470925784, 'subsample': 0.5081797478478806, 'colsample_bytree': 0.7299468632326009, 'max_depth': 6}. Best is trial 36 with value: -1521.2263626023228.\u001b[0m\n",
      "[Parallel(n_jobs=1)]: Using backend SequentialBackend with 1 concurrent workers.\n",
      "[Parallel(n_jobs=1)]: Done   5 out of   5 | elapsed:    1.5s finished\n",
      "\u001b[32m[I 2021-11-07 16:17:48,045]\u001b[0m Trial 37 finished with value: -1485.2578842896642 and parameters: {'eta': 0.053817433743610706, 'reg_lambda': 0.257139208040568, 'reg_alpha': 0.07125199230445853, 'subsample': 0.9410557220879854, 'colsample_bytree': 0.7138586069343812, 'max_depth': 6}. Best is trial 37 with value: -1485.2578842896642.\u001b[0m\n",
      "[Parallel(n_jobs=1)]: Using backend SequentialBackend with 1 concurrent workers.\n",
      "[Parallel(n_jobs=1)]: Done   5 out of   5 | elapsed:    0.5s finished\n",
      "\u001b[32m[I 2021-11-07 16:17:48,658]\u001b[0m Trial 38 finished with value: -1956.0350290057609 and parameters: {'eta': 0.0526725403854592, 'reg_lambda': 5.6541338663673875, 'reg_alpha': 0.029285147643787104, 'subsample': 0.9566872381903718, 'colsample_bytree': 0.7221724845562779, 'max_depth': 2}. Best is trial 37 with value: -1485.2578842896642.\u001b[0m\n",
      "[Parallel(n_jobs=1)]: Using backend SequentialBackend with 1 concurrent workers.\n",
      "[Parallel(n_jobs=1)]: Done   5 out of   5 | elapsed:    1.4s finished\n",
      "\u001b[32m[I 2021-11-07 16:17:50,193]\u001b[0m Trial 39 finished with value: -1520.6335970507105 and parameters: {'eta': 0.07470032618387785, 'reg_lambda': 0.263626553026367, 'reg_alpha': 0.08423252385533335, 'subsample': 0.8721237022521873, 'colsample_bytree': 0.685992789184619, 'max_depth': 6}. Best is trial 37 with value: -1485.2578842896642.\u001b[0m\n",
      "[Parallel(n_jobs=1)]: Using backend SequentialBackend with 1 concurrent workers.\n",
      "[Parallel(n_jobs=1)]: Done   5 out of   5 | elapsed:    1.5s finished\n",
      "\u001b[32m[I 2021-11-07 16:17:51,818]\u001b[0m Trial 40 finished with value: -1525.194967474193 and parameters: {'eta': 0.1568531454778914, 'reg_lambda': 0.5011318113159858, 'reg_alpha': 0.11498751489511413, 'subsample': 0.9117336125951601, 'colsample_bytree': 0.6952554952736225, 'max_depth': 6}. Best is trial 37 with value: -1485.2578842896642.\u001b[0m\n",
      "[Parallel(n_jobs=1)]: Using backend SequentialBackend with 1 concurrent workers.\n",
      "[Parallel(n_jobs=1)]: Done   5 out of   5 | elapsed:    1.4s finished\n",
      "\u001b[32m[I 2021-11-07 16:17:53,388]\u001b[0m Trial 41 finished with value: -1523.081056793942 and parameters: {'eta': 0.1195695882415811, 'reg_lambda': 0.35868470232801397, 'reg_alpha': 0.13007877502587883, 'subsample': 0.9210246975189512, 'colsample_bytree': 0.6783076794453978, 'max_depth': 6}. Best is trial 37 with value: -1485.2578842896642.\u001b[0m\n",
      "[Parallel(n_jobs=1)]: Using backend SequentialBackend with 1 concurrent workers.\n",
      "[Parallel(n_jobs=1)]: Done   5 out of   5 | elapsed:    1.4s finished\n",
      "\u001b[32m[I 2021-11-07 16:17:54,892]\u001b[0m Trial 42 finished with value: -1498.6913161577993 and parameters: {'eta': 0.2197270330456695, 'reg_lambda': 1.3783245872626093, 'reg_alpha': 0.09665091425492679, 'subsample': 0.9996010703089356, 'colsample_bytree': 0.6763349510165318, 'max_depth': 6}. Best is trial 37 with value: -1485.2578842896642.\u001b[0m\n",
      "[Parallel(n_jobs=1)]: Using backend SequentialBackend with 1 concurrent workers.\n",
      "[Parallel(n_jobs=1)]: Done   5 out of   5 | elapsed:    1.8s finished\n",
      "\u001b[32m[I 2021-11-07 16:17:56,821]\u001b[0m Trial 43 finished with value: -1582.8174505127904 and parameters: {'eta': 0.286917353988461, 'reg_lambda': 2.5166427196336962, 'reg_alpha': 2.2124851483949626, 'subsample': 0.8558766025094494, 'colsample_bytree': 0.6469310318726273, 'max_depth': 7}. Best is trial 37 with value: -1485.2578842896642.\u001b[0m\n",
      "[Parallel(n_jobs=1)]: Using backend SequentialBackend with 1 concurrent workers.\n",
      "[Parallel(n_jobs=1)]: Done   5 out of   5 | elapsed:    1.3s finished\n",
      "\u001b[32m[I 2021-11-07 16:17:58,254]\u001b[0m Trial 44 finished with value: -1499.8672384360857 and parameters: {'eta': 0.16140312499533752, 'reg_lambda': 17.76170264470196, 'reg_alpha': 0.008463745758427418, 'subsample': 0.9958539958448984, 'colsample_bytree': 0.5821049534165501, 'max_depth': 6}. Best is trial 37 with value: -1485.2578842896642.\u001b[0m\n",
      "[Parallel(n_jobs=1)]: Using backend SequentialBackend with 1 concurrent workers.\n",
      "[Parallel(n_jobs=1)]: Done   5 out of   5 | elapsed:    1.5s finished\n",
      "\u001b[32m[I 2021-11-07 16:17:59,897]\u001b[0m Trial 45 finished with value: -1512.4252345538948 and parameters: {'eta': 0.2632110951566852, 'reg_lambda': 14.284231319663833, 'reg_alpha': 0.009334969077784973, 'subsample': 0.9980127698865915, 'colsample_bytree': 0.5996588447949878, 'max_depth': 7}. Best is trial 37 with value: -1485.2578842896642.\u001b[0m\n",
      "[Parallel(n_jobs=1)]: Using backend SequentialBackend with 1 concurrent workers.\n",
      "[Parallel(n_jobs=1)]: Done   5 out of   5 | elapsed:    1.5s finished\n",
      "\u001b[32m[I 2021-11-07 16:18:01,516]\u001b[0m Trial 46 finished with value: -1531.3733214851775 and parameters: {'eta': 0.24090795253178515, 'reg_lambda': 20.628824822221848, 'reg_alpha': 1.025036684210493, 'subsample': 0.9808849121662852, 'colsample_bytree': 0.5833073168047671, 'max_depth': 7}. Best is trial 37 with value: -1485.2578842896642.\u001b[0m\n",
      "[Parallel(n_jobs=1)]: Using backend SequentialBackend with 1 concurrent workers.\n",
      "[Parallel(n_jobs=1)]: Done   5 out of   5 | elapsed:    1.5s finished\n",
      "\u001b[32m[I 2021-11-07 16:18:03,154]\u001b[0m Trial 47 finished with value: -1518.6859321164538 and parameters: {'eta': 0.2373720818813622, 'reg_lambda': 12.17024216667769, 'reg_alpha': 0.00424802520029124, 'subsample': 0.9934670664636218, 'colsample_bytree': 0.5168388840394413, 'max_depth': 7}. Best is trial 37 with value: -1485.2578842896642.\u001b[0m\n",
      "[Parallel(n_jobs=1)]: Using backend SequentialBackend with 1 concurrent workers.\n",
      "[Parallel(n_jobs=1)]: Done   5 out of   5 | elapsed:    1.5s finished\n",
      "\u001b[32m[I 2021-11-07 16:18:04,789]\u001b[0m Trial 48 finished with value: -1532.8140317790203 and parameters: {'eta': 0.2206981532622076, 'reg_lambda': 76.10677150094996, 'reg_alpha': 0.0022225353836146313, 'subsample': 0.9969613070173127, 'colsample_bytree': 0.5043406561417138, 'max_depth': 7}. Best is trial 37 with value: -1485.2578842896642.\u001b[0m\n",
      "[Parallel(n_jobs=1)]: Using backend SequentialBackend with 1 concurrent workers.\n",
      "[Parallel(n_jobs=1)]: Done   5 out of   5 | elapsed:    1.6s finished\n",
      "\u001b[32m[I 2021-11-07 16:18:06,478]\u001b[0m Trial 49 finished with value: -1495.172678338531 and parameters: {'eta': 0.27257082796507853, 'reg_lambda': 12.098260625179531, 'reg_alpha': 0.0005594070297484777, 'subsample': 0.8178025393766253, 'colsample_bytree': 0.5833427521719299, 'max_depth': 7}. Best is trial 37 with value: -1485.2578842896642.\u001b[0m\n",
      "[Parallel(n_jobs=1)]: Using backend SequentialBackend with 1 concurrent workers.\n",
      "[Parallel(n_jobs=1)]: Done   5 out of   5 | elapsed:    1.7s finished\n",
      "\u001b[32m[I 2021-11-07 16:18:08,262]\u001b[0m Trial 50 finished with value: -1582.608049246569 and parameters: {'eta': 0.29138254810612524, 'reg_lambda': 1.8385757453845495, 'reg_alpha': 0.017946538560691574, 'subsample': 0.9439605997385009, 'colsample_bytree': 0.613726836400474, 'max_depth': 7}. Best is trial 37 with value: -1485.2578842896642.\u001b[0m\n"
     ]
    },
    {
     "name": "stderr",
     "output_type": "stream",
     "text": [
      "[Parallel(n_jobs=1)]: Using backend SequentialBackend with 1 concurrent workers.\n",
      "[Parallel(n_jobs=1)]: Done   5 out of   5 | elapsed:    1.6s finished\n",
      "\u001b[32m[I 2021-11-07 16:18:09,989]\u001b[0m Trial 51 finished with value: -1481.7181457097345 and parameters: {'eta': 0.1626884079768938, 'reg_lambda': 14.153987379766376, 'reg_alpha': 0.00037101791557908934, 'subsample': 0.8205416157376937, 'colsample_bytree': 0.5564331617723496, 'max_depth': 7}. Best is trial 51 with value: -1481.7181457097345.\u001b[0m\n",
      "[Parallel(n_jobs=1)]: Using backend SequentialBackend with 1 concurrent workers.\n",
      "[Parallel(n_jobs=1)]: Done   5 out of   5 | elapsed:    1.5s finished\n",
      "\u001b[32m[I 2021-11-07 16:18:11,655]\u001b[0m Trial 52 finished with value: -1491.8717277580586 and parameters: {'eta': 0.16337738486968156, 'reg_lambda': 7.824424123316894, 'reg_alpha': 0.0004835141987026146, 'subsample': 0.805416745235297, 'colsample_bytree': 0.5607721371813843, 'max_depth': 7}. Best is trial 51 with value: -1481.7181457097345.\u001b[0m\n",
      "[Parallel(n_jobs=1)]: Using backend SequentialBackend with 1 concurrent workers.\n",
      "[Parallel(n_jobs=1)]: Done   5 out of   5 | elapsed:    1.5s finished\n",
      "\u001b[32m[I 2021-11-07 16:18:13,283]\u001b[0m Trial 53 finished with value: -1562.3145666922533 and parameters: {'eta': 0.15847545073278416, 'reg_lambda': 57.0683340125462, 'reg_alpha': 0.0006427966318319097, 'subsample': 0.8286397785506134, 'colsample_bytree': 0.5601199734330282, 'max_depth': 7}. Best is trial 51 with value: -1481.7181457097345.\u001b[0m\n",
      "[Parallel(n_jobs=1)]: Using backend SequentialBackend with 1 concurrent workers.\n",
      "[Parallel(n_jobs=1)]: Done   5 out of   5 | elapsed:    1.4s finished\n",
      "\u001b[32m[I 2021-11-07 16:18:14,826]\u001b[0m Trial 54 finished with value: -1576.7149393212364 and parameters: {'eta': 0.19236432555955627, 'reg_lambda': 6.453349433110441, 'reg_alpha': 0.00039282505568025275, 'subsample': 0.8060139921703481, 'colsample_bytree': 0.453311502729244, 'max_depth': 7}. Best is trial 51 with value: -1481.7181457097345.\u001b[0m\n",
      "[Parallel(n_jobs=1)]: Using backend SequentialBackend with 1 concurrent workers.\n",
      "[Parallel(n_jobs=1)]: Done   5 out of   5 | elapsed:    1.2s finished\n",
      "\u001b[32m[I 2021-11-07 16:18:16,162]\u001b[0m Trial 55 finished with value: -1631.6915473850604 and parameters: {'eta': 0.16548321303917632, 'reg_lambda': 98.28845555465419, 'reg_alpha': 0.0013874710501894912, 'subsample': 0.8957718033344308, 'colsample_bytree': 0.5609748168089844, 'max_depth': 6}. Best is trial 51 with value: -1481.7181457097345.\u001b[0m\n",
      "[Parallel(n_jobs=1)]: Using backend SequentialBackend with 1 concurrent workers.\n",
      "[Parallel(n_jobs=1)]: Done   5 out of   5 | elapsed:    1.3s finished\n",
      "\u001b[32m[I 2021-11-07 16:18:17,628]\u001b[0m Trial 56 finished with value: -1565.2098121890526 and parameters: {'eta': 0.21596735837342906, 'reg_lambda': 2.4775827675834714, 'reg_alpha': 0.00017226344151662586, 'subsample': 0.9454796604346737, 'colsample_bytree': 0.3715133107053057, 'max_depth': 7}. Best is trial 51 with value: -1481.7181457097345.\u001b[0m\n",
      "[Parallel(n_jobs=1)]: Using backend SequentialBackend with 1 concurrent workers.\n",
      "[Parallel(n_jobs=1)]: Done   5 out of   5 | elapsed:    1.3s finished\n",
      "\u001b[32m[I 2021-11-07 16:18:19,055]\u001b[0m Trial 57 finished with value: -1530.310401634113 and parameters: {'eta': 0.14587690099896364, 'reg_lambda': 23.2955936338728, 'reg_alpha': 0.043700330541697044, 'subsample': 0.7845681911713757, 'colsample_bytree': 0.6408876203763836, 'max_depth': 6}. Best is trial 51 with value: -1481.7181457097345.\u001b[0m\n",
      "[Parallel(n_jobs=1)]: Using backend SequentialBackend with 1 concurrent workers.\n",
      "[Parallel(n_jobs=1)]: Done   5 out of   5 | elapsed:    1.4s finished\n",
      "\u001b[32m[I 2021-11-07 16:18:20,590]\u001b[0m Trial 58 finished with value: -1594.5956264280937 and parameters: {'eta': 0.1717569511296555, 'reg_lambda': 1.1958084460868592, 'reg_alpha': 0.0043810342065980145, 'subsample': 0.8240465500302958, 'colsample_bytree': 0.4866369255872991, 'max_depth': 7}. Best is trial 51 with value: -1481.7181457097345.\u001b[0m\n",
      "[Parallel(n_jobs=1)]: Using backend SequentialBackend with 1 concurrent workers.\n",
      "[Parallel(n_jobs=1)]: Done   5 out of   5 | elapsed:    1.3s finished\n",
      "\u001b[32m[I 2021-11-07 16:18:22,011]\u001b[0m Trial 59 finished with value: -1518.103703202376 and parameters: {'eta': 0.10473484152335802, 'reg_lambda': 8.744505801676919, 'reg_alpha': 3.9341972778047996e-05, 'subsample': 0.883137415882459, 'colsample_bytree': 0.5378823216172111, 'max_depth': 6}. Best is trial 51 with value: -1481.7181457097345.\u001b[0m\n",
      "[Parallel(n_jobs=1)]: Using backend SequentialBackend with 1 concurrent workers.\n",
      "[Parallel(n_jobs=1)]: Done   5 out of   5 | elapsed:    1.5s finished\n",
      "\u001b[32m[I 2021-11-07 16:18:23,583]\u001b[0m Trial 60 finished with value: -1488.55921867294 and parameters: {'eta': 0.2603150472401883, 'reg_lambda': 33.21879190703845, 'reg_alpha': 0.0012518095211625463, 'subsample': 0.7270297333918331, 'colsample_bytree': 0.6661472936273908, 'max_depth': 7}. Best is trial 51 with value: -1481.7181457097345.\u001b[0m\n",
      "[Parallel(n_jobs=1)]: Using backend SequentialBackend with 1 concurrent workers.\n",
      "[Parallel(n_jobs=1)]: Done   5 out of   5 | elapsed:    1.4s finished\n",
      "\u001b[32m[I 2021-11-07 16:18:25,158]\u001b[0m Trial 61 finished with value: -1501.7591724231766 and parameters: {'eta': 0.2526238108576037, 'reg_lambda': 37.262019316943096, 'reg_alpha': 0.00028565710405406607, 'subsample': 0.7191566001911267, 'colsample_bytree': 0.653472671680998, 'max_depth': 7}. Best is trial 51 with value: -1481.7181457097345.\u001b[0m\n",
      "[Parallel(n_jobs=1)]: Using backend SequentialBackend with 1 concurrent workers.\n",
      "[Parallel(n_jobs=1)]: Done   5 out of   5 | elapsed:    1.6s finished\n",
      "\u001b[32m[I 2021-11-07 16:18:26,896]\u001b[0m Trial 62 finished with value: -1525.0233534817355 and parameters: {'eta': 0.19602631790696357, 'reg_lambda': 4.255496321024426, 'reg_alpha': 0.22934971825704709, 'subsample': 0.651875987291016, 'colsample_bytree': 0.5878130855624109, 'max_depth': 7}. Best is trial 51 with value: -1481.7181457097345.\u001b[0m\n",
      "[Parallel(n_jobs=1)]: Using backend SequentialBackend with 1 concurrent workers.\n",
      "[Parallel(n_jobs=1)]: Done   5 out of   5 | elapsed:    1.6s finished\n",
      "\u001b[32m[I 2021-11-07 16:18:28,614]\u001b[0m Trial 63 finished with value: -1634.0440995593187 and parameters: {'eta': 0.2229767588643865, 'reg_lambda': 0.7758773231193385, 'reg_alpha': 0.0007523799001080836, 'subsample': 0.8526821842187282, 'colsample_bytree': 0.5541798753585084, 'max_depth': 7}. Best is trial 51 with value: -1481.7181457097345.\u001b[0m\n",
      "[Parallel(n_jobs=1)]: Using backend SequentialBackend with 1 concurrent workers.\n",
      "[Parallel(n_jobs=1)]: Done   5 out of   5 | elapsed:    1.5s finished\n",
      "\u001b[32m[I 2021-11-07 16:18:30,211]\u001b[0m Trial 64 finished with value: -1625.2311910612548 and parameters: {'eta': 0.2669667170537721, 'reg_lambda': 1.2956722802593515e-08, 'reg_alpha': 0.002338865380081169, 'subsample': 0.9288582595120248, 'colsample_bytree': 0.7444202597614433, 'max_depth': 6}. Best is trial 51 with value: -1481.7181457097345.\u001b[0m\n",
      "[Parallel(n_jobs=1)]: Using backend SequentialBackend with 1 concurrent workers.\n",
      "[Parallel(n_jobs=1)]: Done   5 out of   5 | elapsed:    1.6s finished\n",
      "\u001b[32m[I 2021-11-07 16:18:31,952]\u001b[0m Trial 65 finished with value: -1472.426230311848 and parameters: {'eta': 0.1775465519616507, 'reg_lambda': 11.42341891072218, 'reg_alpha': 0.008334178282837765, 'subsample': 0.7860258893511362, 'colsample_bytree': 0.6999336812798619, 'max_depth': 7}. Best is trial 65 with value: -1472.426230311848.\u001b[0m\n",
      "[Parallel(n_jobs=1)]: Using backend SequentialBackend with 1 concurrent workers.\n",
      "[Parallel(n_jobs=1)]: Done   5 out of   5 | elapsed:    1.8s finished\n",
      "\u001b[32m[I 2021-11-07 16:18:33,830]\u001b[0m Trial 66 finished with value: -1562.6394032936666 and parameters: {'eta': 0.20382079323410987, 'reg_lambda': 3.311784871898016, 'reg_alpha': 0.00010251765569343231, 'subsample': 0.723377357225728, 'colsample_bytree': 0.6984558553122558, 'max_depth': 7}. Best is trial 65 with value: -1472.426230311848.\u001b[0m\n",
      "[Parallel(n_jobs=1)]: Using backend SequentialBackend with 1 concurrent workers.\n",
      "[Parallel(n_jobs=1)]: Done   5 out of   5 | elapsed:    1.6s finished\n",
      "\u001b[32m[I 2021-11-07 16:18:35,547]\u001b[0m Trial 67 finished with value: -1469.248145115126 and parameters: {'eta': 0.1352667916834728, 'reg_lambda': 9.716293426466637, 'reg_alpha': 2.932004297828865e-05, 'subsample': 0.7854529853916503, 'colsample_bytree': 0.6683500531547679, 'max_depth': 7}. Best is trial 67 with value: -1469.248145115126.\u001b[0m\n"
     ]
    },
    {
     "name": "stderr",
     "output_type": "stream",
     "text": [
      "[Parallel(n_jobs=1)]: Using backend SequentialBackend with 1 concurrent workers.\n",
      "[Parallel(n_jobs=1)]: Done   5 out of   5 | elapsed:    1.5s finished\n",
      "\u001b[32m[I 2021-11-07 16:18:37,124]\u001b[0m Trial 68 finished with value: -1543.116847092225 and parameters: {'eta': 0.18193776901760905, 'reg_lambda': 51.983503359075094, 'reg_alpha': 3.6603697589576614e-05, 'subsample': 0.7761791351109589, 'colsample_bytree': 0.6119633972791341, 'max_depth': 7}. Best is trial 67 with value: -1469.248145115126.\u001b[0m\n",
      "[Parallel(n_jobs=1)]: Using backend SequentialBackend with 1 concurrent workers.\n",
      "[Parallel(n_jobs=1)]: Done   5 out of   5 | elapsed:    1.5s finished\n",
      "\u001b[32m[I 2021-11-07 16:18:38,761]\u001b[0m Trial 69 finished with value: -1479.097826920876 and parameters: {'eta': 0.1425303611328359, 'reg_lambda': 8.066392527581764, 'reg_alpha': 0.0015134416259704922, 'subsample': 0.753588781104363, 'colsample_bytree': 0.6538614718548127, 'max_depth': 7}. Best is trial 67 with value: -1469.248145115126.\u001b[0m\n",
      "[Parallel(n_jobs=1)]: Using backend SequentialBackend with 1 concurrent workers.\n",
      "[Parallel(n_jobs=1)]: Done   5 out of   5 | elapsed:    1.7s finished\n",
      "\u001b[32m[I 2021-11-07 16:18:40,610]\u001b[0m Trial 70 finished with value: -1589.1689953485647 and parameters: {'eta': 0.1456306632747931, 'reg_lambda': 0.1436786749315912, 'reg_alpha': 0.0010847639405835352, 'subsample': 0.7444557814211277, 'colsample_bytree': 0.6580345436691533, 'max_depth': 7}. Best is trial 67 with value: -1469.248145115126.\u001b[0m\n",
      "[Parallel(n_jobs=1)]: Using backend SequentialBackend with 1 concurrent workers.\n",
      "[Parallel(n_jobs=1)]: Done   5 out of   5 | elapsed:    1.6s finished\n",
      "\u001b[32m[I 2021-11-07 16:18:42,349]\u001b[0m Trial 71 finished with value: -1461.8411944060242 and parameters: {'eta': 0.14120426595906618, 'reg_lambda': 10.905566992460141, 'reg_alpha': 0.00035256878150131287, 'subsample': 0.80489292524876, 'colsample_bytree': 0.7897868320982866, 'max_depth': 7}. Best is trial 71 with value: -1461.8411944060242.\u001b[0m\n",
      "[Parallel(n_jobs=1)]: Using backend SequentialBackend with 1 concurrent workers.\n",
      "[Parallel(n_jobs=1)]: Done   5 out of   5 | elapsed:    1.5s finished\n",
      "\u001b[32m[I 2021-11-07 16:18:44,017]\u001b[0m Trial 72 finished with value: -1509.1634059073745 and parameters: {'eta': 0.1133046157330519, 'reg_lambda': 36.667414104750414, 'reg_alpha': 0.00018136396653032128, 'subsample': 0.7842889794185859, 'colsample_bytree': 0.7811098782082915, 'max_depth': 7}. Best is trial 71 with value: -1461.8411944060242.\u001b[0m\n",
      "[Parallel(n_jobs=1)]: Using backend SequentialBackend with 1 concurrent workers.\n",
      "[Parallel(n_jobs=1)]: Done   5 out of   5 | elapsed:    1.7s finished\n",
      "\u001b[32m[I 2021-11-07 16:18:45,792]\u001b[0m Trial 73 finished with value: -1484.6714025559806 and parameters: {'eta': 0.13886377835914318, 'reg_lambda': 8.797122834068878, 'reg_alpha': 0.00032157649041923404, 'subsample': 0.6501130389336606, 'colsample_bytree': 0.7201038803699529, 'max_depth': 7}. Best is trial 71 with value: -1461.8411944060242.\u001b[0m\n",
      "[Parallel(n_jobs=1)]: Using backend SequentialBackend with 1 concurrent workers.\n",
      "[Parallel(n_jobs=1)]: Done   5 out of   5 | elapsed:    1.8s finished\n",
      "\u001b[32m[I 2021-11-07 16:18:47,679]\u001b[0m Trial 74 finished with value: -1490.7724552320888 and parameters: {'eta': 0.14107206771614306, 'reg_lambda': 4.5868290358911, 'reg_alpha': 3.4853370689147556e-05, 'subsample': 0.6444300169010566, 'colsample_bytree': 0.7151621867674961, 'max_depth': 7}. Best is trial 71 with value: -1461.8411944060242.\u001b[0m\n",
      "[Parallel(n_jobs=1)]: Using backend SequentialBackend with 1 concurrent workers.\n",
      "[Parallel(n_jobs=1)]: Done   5 out of   5 | elapsed:    1.7s finished\n",
      "\u001b[32m[I 2021-11-07 16:18:49,536]\u001b[0m Trial 75 finished with value: -1682.3047588196023 and parameters: {'eta': 0.08602942133662607, 'reg_lambda': 96.92118697977394, 'reg_alpha': 0.00460410103512141, 'subsample': 0.746632723044125, 'colsample_bytree': 0.7614735394250476, 'max_depth': 7}. Best is trial 71 with value: -1461.8411944060242.\u001b[0m\n",
      "[Parallel(n_jobs=1)]: Using backend SequentialBackend with 1 concurrent workers.\n",
      "[Parallel(n_jobs=1)]: Done   5 out of   5 | elapsed:    1.8s finished\n",
      "\u001b[32m[I 2021-11-07 16:18:51,444]\u001b[0m Trial 76 finished with value: -1535.753068292653 and parameters: {'eta': 0.10097743475096056, 'reg_lambda': 0.7999837632159085, 'reg_alpha': 0.0014508081687347426, 'subsample': 0.671990822321211, 'colsample_bytree': 0.7344908805257463, 'max_depth': 7}. Best is trial 71 with value: -1461.8411944060242.\u001b[0m\n",
      "[Parallel(n_jobs=1)]: Using backend SequentialBackend with 1 concurrent workers.\n",
      "[Parallel(n_jobs=1)]: Done   5 out of   5 | elapsed:    0.4s finished\n",
      "\u001b[32m[I 2021-11-07 16:18:51,977]\u001b[0m Trial 77 finished with value: -2133.2509082371266 and parameters: {'eta': 0.12278317794476769, 'reg_lambda': 27.83582175786499, 'reg_alpha': 0.0002442453953420407, 'subsample': 0.7088673534534791, 'colsample_bytree': 0.6915534584734048, 'max_depth': 1}. Best is trial 71 with value: -1461.8411944060242.\u001b[0m\n",
      "[Parallel(n_jobs=1)]: Using backend SequentialBackend with 1 concurrent workers.\n",
      "[Parallel(n_jobs=1)]: Done   5 out of   5 | elapsed:    1.6s finished\n",
      "\u001b[32m[I 2021-11-07 16:18:53,703]\u001b[0m Trial 78 finished with value: -1479.0543424964658 and parameters: {'eta': 0.13504799652891264, 'reg_lambda': 10.353528919945491, 'reg_alpha': 2.768221249303416e-06, 'subsample': 0.8398227541598826, 'colsample_bytree': 0.8013893418002763, 'max_depth': 7}. Best is trial 71 with value: -1461.8411944060242.\u001b[0m\n",
      "[Parallel(n_jobs=1)]: Using backend SequentialBackend with 1 concurrent workers.\n",
      "[Parallel(n_jobs=1)]: Done   5 out of   5 | elapsed:    1.8s finished\n",
      "\u001b[32m[I 2021-11-07 16:18:55,578]\u001b[0m Trial 79 finished with value: -1503.9661411322934 and parameters: {'eta': 0.1311215122159024, 'reg_lambda': 2.4655432322446407, 'reg_alpha': 2.157783289664099e-06, 'subsample': 0.8455874475251022, 'colsample_bytree': 0.8085053582171312, 'max_depth': 7}. Best is trial 71 with value: -1461.8411944060242.\u001b[0m\n",
      "[Parallel(n_jobs=1)]: Using backend SequentialBackend with 1 concurrent workers.\n",
      "[Parallel(n_jobs=1)]: Done   5 out of   5 | elapsed:    1.4s finished\n",
      "\u001b[32m[I 2021-11-07 16:18:57,129]\u001b[0m Trial 80 finished with value: -1479.3006499553699 and parameters: {'eta': 0.14117979364644567, 'reg_lambda': 6.907604414801919, 'reg_alpha': 4.514160536662327e-06, 'subsample': 0.9030599714349723, 'colsample_bytree': 0.835371051986071, 'max_depth': 6}. Best is trial 71 with value: -1461.8411944060242.\u001b[0m\n",
      "[Parallel(n_jobs=1)]: Using backend SequentialBackend with 1 concurrent workers.\n",
      "[Parallel(n_jobs=1)]: Done   5 out of   5 | elapsed:    1.3s finished\n",
      "\u001b[32m[I 2021-11-07 16:18:58,596]\u001b[0m Trial 81 finished with value: -1490.5567460480386 and parameters: {'eta': 0.09312237399118643, 'reg_lambda': 8.435931922056676, 'reg_alpha': 6.3543950161692704e-06, 'subsample': 0.891958210793411, 'colsample_bytree': 0.8397470226791476, 'max_depth': 6}. Best is trial 71 with value: -1461.8411944060242.\u001b[0m\n",
      "[Parallel(n_jobs=1)]: Using backend SequentialBackend with 1 concurrent workers.\n",
      "[Parallel(n_jobs=1)]: Done   5 out of   5 | elapsed:    1.7s finished\n",
      "\u001b[32m[I 2021-11-07 16:19:00,374]\u001b[0m Trial 82 finished with value: -1476.003484217036 and parameters: {'eta': 0.14157088161859324, 'reg_lambda': 12.997416079789334, 'reg_alpha': 4.034927871720715e-06, 'subsample': 0.871712304937121, 'colsample_bytree': 0.7690896431359064, 'max_depth': 7}. Best is trial 71 with value: -1461.8411944060242.\u001b[0m\n",
      "[Parallel(n_jobs=1)]: Using backend SequentialBackend with 1 concurrent workers.\n",
      "[Parallel(n_jobs=1)]: Done   5 out of   5 | elapsed:    1.7s finished\n",
      "\u001b[32m[I 2021-11-07 16:19:02,202]\u001b[0m Trial 83 finished with value: -1456.2563438389748 and parameters: {'eta': 0.11183884321905674, 'reg_lambda': 15.574735191441958, 'reg_alpha': 3.001099817381756e-06, 'subsample': 0.7645226871137846, 'colsample_bytree': 0.8731509302791521, 'max_depth': 7}. Best is trial 83 with value: -1456.2563438389748.\u001b[0m\n",
      "[Parallel(n_jobs=1)]: Using backend SequentialBackend with 1 concurrent workers.\n",
      "[Parallel(n_jobs=1)]: Done   5 out of   5 | elapsed:    1.7s finished\n",
      "\u001b[32m[I 2021-11-07 16:19:04,006]\u001b[0m Trial 84 finished with value: -1466.1408874528186 and parameters: {'eta': 0.11447773643458596, 'reg_lambda': 17.641762545115984, 'reg_alpha': 2.751554552934185e-06, 'subsample': 0.7708466437092549, 'colsample_bytree': 0.9526916374031515, 'max_depth': 7}. Best is trial 83 with value: -1456.2563438389748.\u001b[0m\n"
     ]
    },
    {
     "name": "stderr",
     "output_type": "stream",
     "text": [
      "[Parallel(n_jobs=1)]: Using backend SequentialBackend with 1 concurrent workers.\n",
      "[Parallel(n_jobs=1)]: Done   5 out of   5 | elapsed:    1.9s finished\n",
      "\u001b[32m[I 2021-11-07 16:19:06,020]\u001b[0m Trial 85 finished with value: -1487.436263097786 and parameters: {'eta': 0.11009141042246726, 'reg_lambda': 1.5241122171900567, 'reg_alpha': 3.219693975979052e-07, 'subsample': 0.7683091668557785, 'colsample_bytree': 0.9751787957496377, 'max_depth': 7}. Best is trial 83 with value: -1456.2563438389748.\u001b[0m\n",
      "[Parallel(n_jobs=1)]: Using backend SequentialBackend with 1 concurrent workers.\n",
      "[Parallel(n_jobs=1)]: Done   5 out of   5 | elapsed:    1.9s finished\n",
      "\u001b[32m[I 2021-11-07 16:19:08,031]\u001b[0m Trial 86 finished with value: -1480.1455025500788 and parameters: {'eta': 0.11733290541046283, 'reg_lambda': 3.629708150362787, 'reg_alpha': 3.3420376333621544e-06, 'subsample': 0.8584233749309175, 'colsample_bytree': 0.9646772049165218, 'max_depth': 7}. Best is trial 83 with value: -1456.2563438389748.\u001b[0m\n",
      "[Parallel(n_jobs=1)]: Using backend SequentialBackend with 1 concurrent workers.\n",
      "[Parallel(n_jobs=1)]: Done   5 out of   5 | elapsed:    1.7s finished\n",
      "\u001b[32m[I 2021-11-07 16:19:09,826]\u001b[0m Trial 87 finished with value: -1485.1917552841046 and parameters: {'eta': 0.17985752819681683, 'reg_lambda': 55.583163191450765, 'reg_alpha': 9.341968902240976e-06, 'subsample': 0.839733945196345, 'colsample_bytree': 0.7798211348824661, 'max_depth': 7}. Best is trial 83 with value: -1456.2563438389748.\u001b[0m\n",
      "[Parallel(n_jobs=1)]: Using backend SequentialBackend with 1 concurrent workers.\n",
      "[Parallel(n_jobs=1)]: Done   5 out of   5 | elapsed:    1.3s finished\n",
      "\u001b[32m[I 2021-11-07 16:19:11,266]\u001b[0m Trial 88 finished with value: -1484.6200362570642 and parameters: {'eta': 0.13823627216236337, 'reg_lambda': 19.94903554763568, 'reg_alpha': 4.6175847002720774e-07, 'subsample': 0.7915397633537201, 'colsample_bytree': 0.88131120649025, 'max_depth': 6}. Best is trial 83 with value: -1456.2563438389748.\u001b[0m\n",
      "[Parallel(n_jobs=1)]: Using backend SequentialBackend with 1 concurrent workers.\n",
      "[Parallel(n_jobs=1)]: Done   5 out of   5 | elapsed:    1.7s finished\n",
      "\u001b[32m[I 2021-11-07 16:19:13,135]\u001b[0m Trial 89 finished with value: -1517.3608000425322 and parameters: {'eta': 0.15085989118347176, 'reg_lambda': 5.253139729219682, 'reg_alpha': 1.780940454905256e-06, 'subsample': 0.7637273528310227, 'colsample_bytree': 0.8653999232536687, 'max_depth': 7}. Best is trial 83 with value: -1456.2563438389748.\u001b[0m\n",
      "[Parallel(n_jobs=1)]: Using backend SequentialBackend with 1 concurrent workers.\n",
      "[Parallel(n_jobs=1)]: Done   5 out of   5 | elapsed:    1.7s finished\n",
      "\u001b[32m[I 2021-11-07 16:19:14,940]\u001b[0m Trial 90 finished with value: -1487.2943468804367 and parameters: {'eta': 0.0983109286662186, 'reg_lambda': 14.62327569938519, 'reg_alpha': 1.9321323107087005e-05, 'subsample': 0.9083495333143269, 'colsample_bytree': 0.9268242633592689, 'max_depth': 7}. Best is trial 83 with value: -1456.2563438389748.\u001b[0m\n",
      "[Parallel(n_jobs=1)]: Using backend SequentialBackend with 1 concurrent workers.\n",
      "[Parallel(n_jobs=1)]: Done   5 out of   5 | elapsed:    1.9s finished\n",
      "\u001b[32m[I 2021-11-07 16:19:16,939]\u001b[0m Trial 91 finished with value: -1494.8635080656911 and parameters: {'eta': 0.11654501107858922, 'reg_lambda': 3.7163257840836397, 'reg_alpha': 6.3023560506142925e-06, 'subsample': 0.8733262905056709, 'colsample_bytree': 0.9769678315341241, 'max_depth': 7}. Best is trial 83 with value: -1456.2563438389748.\u001b[0m\n",
      "[Parallel(n_jobs=1)]: Using backend SequentialBackend with 1 concurrent workers.\n",
      "[Parallel(n_jobs=1)]: Done   5 out of   5 | elapsed:    1.7s finished\n",
      "\u001b[32m[I 2021-11-07 16:19:18,772]\u001b[0m Trial 92 finished with value: -1495.8476022363382 and parameters: {'eta': 0.12729723672950477, 'reg_lambda': 10.14295436081407, 'reg_alpha': 3.878995508091124e-06, 'subsample': 0.8611690316287777, 'colsample_bytree': 0.95285448992761, 'max_depth': 7}. Best is trial 83 with value: -1456.2563438389748.\u001b[0m\n",
      "[Parallel(n_jobs=1)]: Using backend SequentialBackend with 1 concurrent workers.\n",
      "[Parallel(n_jobs=1)]: Done   5 out of   5 | elapsed:    1.8s finished\n",
      "\u001b[32m[I 2021-11-07 16:19:20,670]\u001b[0m Trial 93 finished with value: -1494.7697446995653 and parameters: {'eta': 0.11918551243487147, 'reg_lambda': 2.4066671259208374, 'reg_alpha': 3.521297853282447e-06, 'subsample': 0.7958396721423935, 'colsample_bytree': 0.8222160490637374, 'max_depth': 7}. Best is trial 83 with value: -1456.2563438389748.\u001b[0m\n",
      "[Parallel(n_jobs=1)]: Using backend SequentialBackend with 1 concurrent workers.\n",
      "[Parallel(n_jobs=1)]: Done   5 out of   5 | elapsed:    1.6s finished\n",
      "\u001b[32m[I 2021-11-07 16:19:22,423]\u001b[0m Trial 94 finished with value: -1536.1531747406332 and parameters: {'eta': 0.08671925632352795, 'reg_lambda': 45.53514126790794, 'reg_alpha': 9.163011102799828e-07, 'subsample': 0.8370875296225927, 'colsample_bytree': 0.9013782390201821, 'max_depth': 7}. Best is trial 83 with value: -1456.2563438389748.\u001b[0m\n",
      "[Parallel(n_jobs=1)]: Using backend SequentialBackend with 1 concurrent workers.\n",
      "[Parallel(n_jobs=1)]: Done   5 out of   5 | elapsed:    1.8s finished\n",
      "\u001b[32m[I 2021-11-07 16:19:24,331]\u001b[0m Trial 95 finished with value: -1478.8137723204723 and parameters: {'eta': 0.13485342412411094, 'reg_lambda': 6.088996946784786, 'reg_alpha': 1.8750729498388448e-07, 'subsample': 0.8638613459536806, 'colsample_bytree': 0.9543741825168393, 'max_depth': 7}. Best is trial 83 with value: -1456.2563438389748.\u001b[0m\n",
      "[Parallel(n_jobs=1)]: Using backend SequentialBackend with 1 concurrent workers.\n",
      "[Parallel(n_jobs=1)]: Done   5 out of   5 | elapsed:    1.3s finished\n",
      "\u001b[32m[I 2021-11-07 16:19:25,776]\u001b[0m Trial 96 finished with value: -1477.1606177815863 and parameters: {'eta': 0.17576658278970944, 'reg_lambda': 21.325681400366225, 'reg_alpha': 1.5386592223731115e-07, 'subsample': 0.7555160183828616, 'colsample_bytree': 0.7982306050637413, 'max_depth': 6}. Best is trial 83 with value: -1456.2563438389748.\u001b[0m\n",
      "[Parallel(n_jobs=1)]: Using backend SequentialBackend with 1 concurrent workers.\n",
      "[Parallel(n_jobs=1)]: Done   5 out of   5 | elapsed:    1.8s finished\n",
      "\u001b[32m[I 2021-11-07 16:19:27,664]\u001b[0m Trial 97 finished with value: -1463.2540860928032 and parameters: {'eta': 0.13306296788089284, 'reg_lambda': 18.39348248148307, 'reg_alpha': 2.1147310610577847e-07, 'subsample': 0.749742961146764, 'colsample_bytree': 0.7927666894374539, 'max_depth': 7}. Best is trial 83 with value: -1456.2563438389748.\u001b[0m\n",
      "[Parallel(n_jobs=1)]: Using backend SequentialBackend with 1 concurrent workers.\n",
      "[Parallel(n_jobs=1)]: Done   5 out of   5 | elapsed:    1.7s finished\n",
      "\u001b[32m[I 2021-11-07 16:19:29,442]\u001b[0m Trial 98 finished with value: -1450.7470108878724 and parameters: {'eta': 0.17445685708310127, 'reg_lambda': 21.973372155726114, 'reg_alpha': 1.0127063089167307e-07, 'subsample': 0.8069091836400456, 'colsample_bytree': 0.7980250704768695, 'max_depth': 7}. Best is trial 98 with value: -1450.7470108878724.\u001b[0m\n",
      "[Parallel(n_jobs=1)]: Using backend SequentialBackend with 1 concurrent workers.\n",
      "[Parallel(n_jobs=1)]: Done   5 out of   5 | elapsed:    1.2s finished\n",
      "\u001b[32m[I 2021-11-07 16:19:30,779]\u001b[0m Trial 99 finished with value: -2340.803834066761 and parameters: {'eta': 0.012912458336991794, 'reg_lambda': 69.47303840858538, 'reg_alpha': 5.4304703629983094e-08, 'subsample': 0.7376440331598583, 'colsample_bytree': 0.8599599041730492, 'max_depth': 6}. Best is trial 98 with value: -1450.7470108878724.\u001b[0m\n"
     ]
    }
   ],
   "source": [
    "#note that sklearn neg_room_mean_square return results as negative. hence we should maximize instead\n",
    "study = optuna.create_study(direction = 'maximize')\n",
    "study.optimize(objective, n_trials=100)"
   ]
  },
  {
   "cell_type": "code",
   "execution_count": 189,
   "id": "c9885973",
   "metadata": {},
   "outputs": [
    {
     "data": {
      "text/plain": [
       "{'eta': 0.17445685708310127,\n",
       " 'reg_lambda': 21.973372155726114,\n",
       " 'reg_alpha': 1.0127063089167307e-07,\n",
       " 'subsample': 0.8069091836400456,\n",
       " 'colsample_bytree': 0.7980250704768695,\n",
       " 'max_depth': 7}"
      ]
     },
     "execution_count": 189,
     "metadata": {},
     "output_type": "execute_result"
    }
   ],
   "source": [
    "#best params\n",
    "study.best_params"
   ]
  },
  {
   "cell_type": "code",
   "execution_count": 190,
   "id": "6a253f55",
   "metadata": {},
   "outputs": [
    {
     "data": {
      "text/plain": [
       "-1450.7470108878724"
      ]
     },
     "execution_count": 190,
     "metadata": {},
     "output_type": "execute_result"
    }
   ],
   "source": [
    "#best params\n",
    "study.best_value"
   ]
  },
  {
   "cell_type": "markdown",
   "id": "a377946d",
   "metadata": {},
   "source": [
    "The RMSE 1450. As compare to previous gridsearch, the best value found was -1486. There is a slight improvement."
   ]
  },
  {
   "cell_type": "markdown",
   "id": "84cdc43c",
   "metadata": {},
   "source": [
    "# Final Model Evaluation of Test Set"
   ]
  },
  {
   "cell_type": "code",
   "execution_count": 196,
   "id": "9c26f05a",
   "metadata": {},
   "outputs": [],
   "source": [
    "#refit xgboost with optimized hyperparameter\n",
    "final_model = XGBRegressor(random_state=0,\n",
    "                         n_estimators = 200,\n",
    "                         **study.best_params\n",
    "                         )"
   ]
  },
  {
   "cell_type": "markdown",
   "id": "d9802d37",
   "metadata": {},
   "source": [
    "## Training Score"
   ]
  },
  {
   "cell_type": "code",
   "execution_count": 197,
   "id": "626915e9",
   "metadata": {},
   "outputs": [],
   "source": [
    "final_model.fit(X_train, y_train)\n"
   ]
  },
  {
   "cell_type": "code",
   "execution_count": 205,
   "id": "8d3a0925",
   "metadata": {},
   "outputs": [
    {
     "name": "stdout",
     "output_type": "stream",
     "text": [
      "Final_XGB_train_rmse: 885.6913007344064\n",
      "Final_XGB_train_adjusted_r2: 0.9602337311035821\n"
     ]
    }
   ],
   "source": [
    "y_train_pred = final_model.predict(X_train);\n",
    "\n",
    "xgb_rmse = mean_squared_error(y_train, y_train_pred, squared=False)\n",
    "xgb_r2 = r2_score(y_train, y_train_pred)\n",
    "\n",
    "xgb_modify_r2 = 1 - (1 - xgb_r2)*(X_train.shape[0] - 1) / (X_train.shape[0] - X_train.shape[1] - 1)\n",
    "\n",
    "print('Final_XGB_train_rmse:', xgb_rmse)\n",
    "print('Final_XGB_train_adjusted_r2:', xgb_modify_r2)"
   ]
  },
  {
   "cell_type": "markdown",
   "id": "4b66538e",
   "metadata": {},
   "source": [
    "## Test Score"
   ]
  },
  {
   "cell_type": "code",
   "execution_count": 206,
   "id": "e5d6474d",
   "metadata": {},
   "outputs": [],
   "source": [
    "X_test = df_test[X_train.columns]\n",
    "y_test = df_test['price_month']\n",
    "y_test_pred = final_model.predict(X_test)"
   ]
  },
  {
   "cell_type": "code",
   "execution_count": 207,
   "id": "9297760d",
   "metadata": {},
   "outputs": [
    {
     "name": "stdout",
     "output_type": "stream",
     "text": [
      "Final_XGB_test_rmse: 1182.1792327339144\n",
      "Final_XGB_test_adjusted_r2: 0.9209660965758005\n"
     ]
    }
   ],
   "source": [
    "xgb_rmse = mean_squared_error(y_test, y_test_pred, squared=False)\n",
    "xgb_r2 = r2_score(y_test, y_test_pred)\n",
    "\n",
    "xgb_modify_r2 = 1 - (1 - xgb_r2)*(X_test.shape[0] - 1) / (X_test.shape[0] - X_test.shape[1] - 1)\n",
    "\n",
    "print('Final_XGB_test_rmse:', xgb_rmse)\n",
    "print('Final_XGB_test_adjusted_r2:', xgb_modify_r2)"
   ]
  },
  {
   "cell_type": "markdown",
   "id": "b06e7a53",
   "metadata": {},
   "source": [
    "We can see that the test score is even lower than previous score on validation set. This hint that increasing the number of training samples will improve the model accuracy/variance. We will plot the learning curve to check it out. "
   ]
  },
  {
   "cell_type": "code",
   "execution_count": 208,
   "id": "f4647963",
   "metadata": {},
   "outputs": [],
   "source": [
    "def plotlearningcurve(estimator, X, y, title='Model Learning Curve', ylim=None, cv=5, n_jobs=None, train_sizes = np.linspace(.1, 1, 10), scoring=None):\n",
    "    \n",
    "    _, axes = plt.subplots(1, 1, figsize=(20, 5))\n",
    "    axes.set_title(title)\n",
    "    axes.set_xlabel('Training Examples')\n",
    "    axes.set_ylabel('Scores')\n",
    "    \n",
    "    train_sizes_abs, train_scores, cv_scores = learning_curve(estimator, X, y, cv=cv, n_jobs= n_jobs, scoring=scoring, train_sizes=train_sizes)\n",
    "    \n",
    "    train_scores_mean = np.mean(train_scores, axis=1)\n",
    "    train_scores_std = np.std(train_scores, axis=1)\n",
    "    \n",
    "    cv_scores_mean = np.mean(cv_scores, axis=1)\n",
    "    cv_scores_std = np.std(cv_scores, axis=1)\n",
    "    \n",
    "    axes.grid()\n",
    "    \n",
    "    axes.plot(train_sizes_abs, train_scores_mean, 'o-', color='r', label=\"Training score\")\n",
    "    axes.plot(train_sizes_abs, cv_scores_mean, 'o-', color='b', label=\"CV score\")\n",
    "    \n",
    "    axes.fill_between(train_sizes_abs, \n",
    "                     train_scores_mean + train_scores_std, \n",
    "                     train_scores_mean - train_scores_std,\n",
    "                    alpha = 0.1,\n",
    "                    color='r')\n",
    "\n",
    "    axes.fill_between(train_sizes_abs, \n",
    "                 cv_scores_mean + cv_scores_std, \n",
    "                 cv_scores_mean - cv_scores_std,\n",
    "                alpha = 0.1,\n",
    "                color='b')\n",
    "    \n",
    "\n",
    "    \n",
    "    axes.legend(loc='best')\n",
    "    \n",
    "    return plt"
   ]
  },
  {
   "cell_type": "code",
   "execution_count": 209,
   "id": "bbfe1421",
   "metadata": {},
   "outputs": [
    {
     "data": {
      "image/png": "[encoded data removed]",
      "text/plain": [
       "<Figure size 1440x360 with 1 Axes>"
      ]
     },
     "metadata": {
      "needs_background": "light"
     },
     "output_type": "display_data"
    }
   ],
   "source": [
    "plotlearningcurve(final_model, X_train, y_train);"
   ]
  },
  {
   "cell_type": "markdown",
   "id": "4fdd5b03",
   "metadata": {},
   "source": [
    "Indeed we can see that the r2 curve is still moving upwards and the accuracy band is decreasing. This concur with our initally guessing that increase training sample will improve the score"
   ]
  },
  {
   "cell_type": "code",
   "execution_count": 215,
   "id": "3007ee85",
   "metadata": {},
   "outputs": [],
   "source": [
    "#save model\n",
    "with open(\"WebApp\\static\\models\\XGBoost_Model.pkl\", \"wb\") as to_save:\n",
    "    pickle.dump(final_model, to_save)"
   ]
  },
  {
   "cell_type": "code",
   "execution_count": 241,
   "id": "60b8aa63",
   "metadata": {},
   "outputs": [],
   "source": [
    "#save transformer\n",
    "with open(\"WebApp\\static\\models\\District_Transformer.pkl\", \"wb\") as to_save:\n",
    "    pickle.dump(ordinal_enc, to_save)"
   ]
  }
 ],
 "metadata": {
  "kernelspec": {
   "display_name": "Python 3",
   "language": "python",
   "name": "python3"
  },
  "language_info": {
   "codemirror_mode": {
    "name": "ipython",
    "version": 3
   },
   "file_extension": ".py",
   "mimetype": "text/x-python",
   "name": "python",
   "nbconvert_exporter": "python",
   "pygments_lexer": "ipython3",
   "version": "3.8.8"
  }
 },
 "nbformat": 4,
 "nbformat_minor": 5
}
