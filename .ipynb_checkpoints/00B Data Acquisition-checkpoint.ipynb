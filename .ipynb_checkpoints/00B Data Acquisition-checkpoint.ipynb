{
 "cells": [
  {
   "cell_type": "markdown",
   "id": "aeaa6fc3",
   "metadata": {},
   "source": [
    "we have started with Feature Engineering as there are some imputation that required features that will be create din this notebook."
   ]
  },
  {
   "cell_type": "code",
   "execution_count": 3,
   "id": "bfb4f2f2",
   "metadata": {},
   "outputs": [],
   "source": [
    "import pandas as pd\n",
    "import geocoder\n",
    "import numpy as np\n"
   ]
  },
  {
   "cell_type": "code",
   "execution_count": 6,
   "id": "9b71f55f",
   "metadata": {},
   "outputs": [],
   "source": [
    "df = pd.read_csv(\"Data\\scraped_df.csv\")"
   ]
  },
  {
   "cell_type": "code",
   "execution_count": 8,
   "id": "31b2ad01",
   "metadata": {},
   "outputs": [
    {
     "data": {
      "text/plain": [
       "1806"
      ]
     },
     "execution_count": 8,
     "metadata": {},
     "output_type": "execute_result"
    }
   ],
   "source": [
    "len(df.detailed_address.unique())"
   ]
  },
  {
   "cell_type": "code",
   "execution_count": null,
   "id": "b59655b5",
   "metadata": {},
   "outputs": [],
   "source": [
    "#multiprocessing for getting all lat long for each listing\n",
    "\n",
    "def getlisting(start,stop)\n",
    "all_address = list()\n",
    "for address in df.detailed_address.unique()[start:stop]:\n",
    "    unit = geocoder.arcgis(address)\n",
    "    print(f'{index}  Coordinate of {address}: {unit.latlng}')\n",
    "    try:\n",
    "        \n",
    "        unit_lat = unit.latlng[0]\n",
    "        unit_lng = unit.latlng[1]\n",
    "    except: \n",
    "        unit_lat = np.nan\n",
    "        unit_lng = np.nan\n",
    "    all_address.append([address, unit_lat, unit_lng])\n",
    "    return all_address\n"
   ]
  },
  {
   "cell_type": "code",
   "execution_count": null,
   "id": "23c14a19",
   "metadata": {},
   "outputs": [
    {
     "name": "stdout",
     "output_type": "stream",
     "text": [
      "1  Coordinate of 23 Marina Way: [-22.89647995629184, -42.790424899566176]\n",
      "2  Coordinate of 23 Delta Road: [1.2917600000000675, 103.82594000000006]\n",
      "3  Coordinate of 6 Kitchener Link: [14.567170000000033, 121.03331000000003]\n",
      "4  Coordinate of 15 Tong Watt Road: None\n",
      "5  Coordinate of 78 Guan Chuan Street: [1.2825600000000463, 103.83110000000005]\n",
      "6  Coordinate of 3 Orchard Boulevard: [36.51037250295536, -79.67254051322824]\n",
      "7  Coordinate of 82 Dakota Crescent: [1.3063500000000658, 103.88428000000005]\n",
      "8  Coordinate of 48 Spottiswoode Park Road: [1.2756359350288449, 103.8367030601188]\n",
      "9  Coordinate of 22 Saint Thomas Walk: [9.025580000000048, 76.92636000000005]\n",
      "10  Coordinate of 10 Martin Place: [30.064440940630607, -90.48001543265697]\n",
      "11  Coordinate of 91 West Coast Vale: [50.67561000000006, -120.32274999999998]\n",
      "12  Coordinate of 25 Mount Sophia: [41.114810000000034, -75.30128999999994]\n",
      "13  Coordinate of 205 River Valley Road: [51.14365423833564, 1.276944811286641]\n",
      "14  Coordinate of 145 Killiney Road: [-37.81171999999998, 144.96972000000005]\n",
      "15  Coordinate of 3 Wallich Street: [51.676420000000064, -4.160719999999969]\n",
      "16  Coordinate of 24 Bedok North Drive: [1.3245267380608823, 103.9298809058638]\n",
      "17  Coordinate of 6 Sims Drive: [60.30940000000004, 5.322120000000041]\n",
      "18  Coordinate of 11 Paya Lebar Road: [2.8500000000000227, 102.33333000000005]\n",
      "19  Coordinate of 45 Mosque Street: [17.89423000000005, 83.45044000000007]\n",
      "20  Coordinate of 55 Changi Road: [1.3175800000000208, 103.90582000000006]\n",
      "21  Coordinate of 11 River Valley Close: [51.14365423833564, 1.276944811286641]\n",
      "22  Coordinate of 14 Kitchener Link: [14.567170000000033, 121.03331000000003]\n",
      "23  Coordinate of 213 Guillemard Road: [43.887170000000026, 2.3943400000000565]\n",
      "24  Coordinate of 61 Cairnhill Circle: [57.435253440000054, -2.7583398269999293]\n"
     ]
    },
    {
     "name": "stderr",
     "output_type": "stream",
     "text": [
      "Status code Unknown from https://geocode.arcgis.com/arcgis/rest/services/World/GeocodeServer/find: ERROR - HTTPSConnectionPool(host='geocode.arcgis.com', port=443): Read timed out. (read timeout=5.0)\n"
     ]
    },
    {
     "name": "stdout",
     "output_type": "stream",
     "text": [
      "25  Coordinate of 1 Ardmore Park: None\n",
      "26  Coordinate of 21 Nathan Road: [22.312425183834932, 114.17049745942177]\n"
     ]
    },
    {
     "name": "stderr",
     "output_type": "stream",
     "text": [
      "Status code Unknown from https://geocode.arcgis.com/arcgis/rest/services/World/GeocodeServer/find: ERROR - HTTPSConnectionPool(host='geocode.arcgis.com', port=443): Read timed out. (read timeout=5.0)\n"
     ]
    },
    {
     "name": "stdout",
     "output_type": "stream",
     "text": [
      "27  Coordinate of 37 Nassim Road: None\n",
      "28  Coordinate of 12 Siglap Link: [1.3076516514346672, 103.92866915032532]\n",
      "29  Coordinate of 10 Gopeng Street: [1.2751618964947653, 103.84453846320719]\n",
      "30  Coordinate of 1 Shenton Way: [41.29284336405261, -73.07065625592509]\n",
      "31  Coordinate of 5000A Marine Parade Road: [1.309092636829746, 103.92928922731863]\n",
      "32  Coordinate of 1 Fraser Street: [53.409980000000076, -2.9765199999999368]\n",
      "33  Coordinate of 8 Martin Place: [35.06977000000006, -106.10418999999996]\n",
      "34  Coordinate of 6A Lincoln Road: [52.58834000000007, -0.24678999999997586]\n",
      "35  Coordinate of 10 Prinsep Link: [1.3004919240719204, 103.85069874294601]\n",
      "36  Coordinate of 4 Marina Boulevard: [-27.96807999999993, 153.42699000000005]\n",
      "37  Coordinate of 38 Scotts Road: [52.47646000000003, -1.89549999999997]\n",
      "38  Coordinate of 20 Newton Road: [52.54562000000004, -1.9341199999999503]\n",
      "39  Coordinate of 48 Saint Thomas Walk: [9.025580000000048, 76.92636000000005]\n",
      "40  Coordinate of 371 Beach Road: [-35.944239451205654, 173.85901509119435]\n",
      "41  Coordinate of 100 Clemenceau Avenue North: [1.3105000000000473, 103.83948000000004]\n",
      "42  Coordinate of 149 Pasir Ris Grove: [1.369082881775256, 103.94566729848538]\n",
      "43  Coordinate of 9 Oxley Rise: [1.2973100000000386, 103.84320000000008]\n",
      "44  Coordinate of 18 Woodsville Close: [52.75829527489837, -1.547544027771735]\n",
      "45  Coordinate of 24 Leedon Heights: [1.314076767914969, 103.80263640722382]\n",
      "46  Coordinate of 8 Scotts Road: [52.47646000000003, -1.89549999999997]\n",
      "47  Coordinate of 101 Cairnhill Circle: [-45.31666999999993, 169.38333000000011]\n",
      "48  Coordinate of 28 Beach Road: [11.923890000000029, 79.83346000000006]\n",
      "49  Coordinate of 61 Tampines Street 86: [1.352111288676357, 103.9287067132795]\n",
      "50  Coordinate of 91 Prince Charles Crescent: [46.308248986453, -63.76340286916063]\n",
      "51  Coordinate of 11 Evelyn Road: [38.938420000000065, -81.34428999999994]\n",
      "52  Coordinate of 16 Mount Elizabeth: [40.26366343854566, -79.88776559409274]\n",
      "53  Coordinate of 38 Handy Road: [35.079630000000066, -81.08995999999996]\n",
      "54  Coordinate of 6 Hougang Street 92: [1.3745870680429846, 103.87799172842784]\n",
      "55  Coordinate of 10 Siglap Link: [1.3076516514346672, 103.92866915032532]\n",
      "56  Coordinate of 68 Edgedale Plains: [40.89696888550279, -81.35382470735233]\n"
     ]
    },
    {
     "name": "stderr",
     "output_type": "stream",
     "text": [
      "Status code Unknown from https://geocode.arcgis.com/arcgis/rest/services/World/GeocodeServer/find: ERROR - HTTPSConnectionPool(host='geocode.arcgis.com', port=443): Read timed out. (read timeout=5.0)\n"
     ]
    },
    {
     "name": "stdout",
     "output_type": "stream",
     "text": [
      "57  Coordinate of 10 Kensington Park Drive: None\n"
     ]
    },
    {
     "name": "stderr",
     "output_type": "stream",
     "text": [
      "Status code Unknown from https://geocode.arcgis.com/arcgis/rest/services/World/GeocodeServer/find: ERROR - HTTPSConnectionPool(host='geocode.arcgis.com', port=443): Max retries exceeded with url: /arcgis/rest/services/World/GeocodeServer/find?f=json&text=76+Shenton+Way&maxLocations=1 (Caused by ConnectTimeoutError(<urllib3.connection.HTTPSConnection object at 0x000002C70048DCA0>, 'Connection to geocode.arcgis.com timed out. (connect timeout=5.0)'))\n"
     ]
    },
    {
     "name": "stdout",
     "output_type": "stream",
     "text": [
      "58  Coordinate of 76 Shenton Way: None\n",
      "59  Coordinate of 6 Paya Lebar Road: [2.8500000000000227, 102.33333000000005]\n"
     ]
    },
    {
     "name": "stderr",
     "output_type": "stream",
     "text": [
      "Status code Unknown from https://geocode.arcgis.com/arcgis/rest/services/World/GeocodeServer/find: ERROR - HTTPSConnectionPool(host='geocode.arcgis.com', port=443): Read timed out. (read timeout=5.0)\n"
     ]
    },
    {
     "name": "stdout",
     "output_type": "stream",
     "text": [
      "60  Coordinate of 7 Ardmore Park: None\n"
     ]
    },
    {
     "name": "stderr",
     "output_type": "stream",
     "text": [
      "Status code Unknown from https://geocode.arcgis.com/arcgis/rest/services/World/GeocodeServer/find: ERROR - HTTPSConnectionPool(host='geocode.arcgis.com', port=443): Read timed out. (read timeout=5.0)\n"
     ]
    },
    {
     "name": "stdout",
     "output_type": "stream",
     "text": [
      "61  Coordinate of 3 Keppel Bay View: None\n",
      "62  Coordinate of 29 Oei Tiong Ham Park: [1.3152800000000298, 103.79389000000003]\n",
      "63  Coordinate of 23 Angullia Park: [1.3047000000000253, 103.83010000000007]\n",
      "64  Coordinate of 22 Teow Hock Avenue: [1.3614755502722602, 103.88007773267111]\n",
      "65  Coordinate of 18 Marina Boulevard: [-27.96807999999993, 153.42699000000005]\n",
      "66  Coordinate of Boat Quay / Raffles Place / Marina (D1): [1.2876400000000672, 103.84843000000006]\n",
      "67  Coordinate of 88 Mergui Road: [1.3178306870711225, 103.85196935564835]\n",
      "68  Coordinate of 7 One-North Gateway: [46.31713505197182, -79.46455992267678]\n",
      "69  Coordinate of 8 Tomlinson Road: [-67.24999999999994, 51.18333000000007]\n",
      "70  Coordinate of 89 Rangoon Road: [1.3180700000000343, 103.85215000000005]\n",
      "71  Coordinate of 28 Surrey Road: [49.052827844602795, -122.7983593284778]\n",
      "72  Coordinate of 1 Lorong 20 Geylang: [1.3123929692955585, 103.88150315912509]\n",
      "73  Coordinate of 16 Enggor Street: [1.2746179528881925, 103.84431952789629]\n",
      "74  Coordinate of Hougang / Punggol / Sengkang (D19): None\n",
      "75  Coordinate of 25 Lorong 3 Toa Payoh: [2.181670062422512, 103.18877940572256]\n",
      "76  Coordinate of 130 Thomson Road: [22.277480000000025, 114.17496000000006]\n",
      "77  Coordinate of 3 Central Boulevard: [1.1003100000000359, 104.03362000000004]\n",
      "78  Coordinate of 21 Lorong 3 Toa Payoh: [2.181932040136039, 103.18867865898521]\n",
      "79  Coordinate of 231 Pasir Panjang Road: [0.8443000000000325, 108.88043000000005]\n",
      "80  Coordinate of 33 Leonie Hill Road: [1.2993575172961442, 103.83325072183891]\n",
      "81  Coordinate of 1 Taman Warna: [5.998920000000055, 102.01026000000007]\n",
      "82  Coordinate of 11 Thomson Lane: [44.06475778452852, -123.11724082692453]\n",
      "83  Coordinate of 42 Keppel Bay Drive: [48.2927099840216, 11.07051001445879]\n",
      "84  Coordinate of 111 Emerald Hill Road: [1.3050600000000259, 103.83924000000007]\n",
      "85  Coordinate of 210 Depot Road: [51.616250000000036, -3.7577499999999304]\n",
      "86  Coordinate of 31 Cairnhill Circle: [57.435253440000054, -2.7583398269999293]\n",
      "87  Coordinate of 610 Telok Blangah Road: [1.272466402162081, 103.80781625574821]\n",
      "88  Coordinate of 3 Serangoon North View: [39.29541000000006, -80.35137999999995]\n",
      "89  Coordinate of 9 Ardmore Park: [39.99657000000008, -75.29884999999996]\n",
      "90  Coordinate of 19 Mackenzie Road: [1.304770000000076, 103.84953000000007]\n",
      "91  Coordinate of 233 River Valley Road: [51.14365423833564, 1.276944811286641]\n",
      "92  Coordinate of 11 Mount Emily Road: [46.62163975821103, -111.96258136912091]\n",
      "93  Coordinate of 12 Bukit Batok Street 41: [49.084475943343705, 30.409394430075206]\n",
      "94  Coordinate of 1 Holland Avenue: [51.91903000000008, 4.477450000000033]\n",
      "95  Coordinate of 232 Commonwealth Avenue: [-35.29442999999998, 149.12680000000012]\n",
      "96  Coordinate of 6 Cairnhill Rise: [1.3069298962629006, 103.83971618667232]\n",
      "97  Coordinate of 101 Mergui Road: [1.3179478241680016, 103.85147046477135]\n",
      "98  Coordinate of 11 Dairy Farm Heights: [1.3658845570710838, 103.77173761081497]\n"
     ]
    },
    {
     "name": "stderr",
     "output_type": "stream",
     "text": [
      "Status code Unknown from https://geocode.arcgis.com/arcgis/rest/services/World/GeocodeServer/find: ERROR - HTTPSConnectionPool(host='geocode.arcgis.com', port=443): Read timed out. (read timeout=5.0)\n"
     ]
    },
    {
     "name": "stdout",
     "output_type": "stream",
     "text": [
      "99  Coordinate of 1 Chwee Chian Road: None\n"
     ]
    },
    {
     "name": "stderr",
     "output_type": "stream",
     "text": [
      "Status code Unknown from https://geocode.arcgis.com/arcgis/rest/services/World/GeocodeServer/find: ERROR - HTTPSConnectionPool(host='geocode.arcgis.com', port=443): Read timed out. (read timeout=5.0)\n"
     ]
    },
    {
     "name": "stdout",
     "output_type": "stream",
     "text": [
      "100  Coordinate of 80 Sophia Road: None\n",
      "101  Coordinate of 881 North Bridge Road: [53.52906000000007, -1.1450899999999251]\n",
      "102  Coordinate of 37 Amber Gardens: [22.26457010000007, 114.18844230000002]\n",
      "103  Coordinate of 11C Balmoral Road: [53.387860000000046, -2.3431399999999485]\n",
      "104  Coordinate of 6 Marina Boulevard: [-27.96807999999993, 153.42699000000005]\n",
      "105  Coordinate of 70 Shenton Way: [40.74254593398511, -98.78840021147883]\n",
      "106  Coordinate of 9 Cairnhill Road: [57.435253440000054, -2.7583398269999293]\n",
      "107  Coordinate of 5 Sarkies Road: [1.3136992050864222, 103.8367592188701]\n",
      "108  Coordinate of 2 Sing Joo Walk: [50.44572000000005, 6.102460000000065]\n",
      "109  Coordinate of 2 Sims Drive: [60.30940000000004, 5.322120000000041]\n",
      "110  Coordinate of 121 Tanjong Rhu Road: [1.2969015777562305, 103.87455581867812]\n",
      "111  Coordinate of 18 Tong Watt Road: None\n",
      "112  Coordinate of 3 Lorong 35 Geylang: [3.492200013013644, 103.39328998857798]\n",
      "113  Coordinate of 180 Bencoolen Street: [1.30163232390845, 103.85334264666466]\n",
      "114  Coordinate of 65 Lloyd Road: None\n",
      "115  Coordinate of 101 Fernhill Road: [45.47123000000005, -123.10176999999999]\n",
      "116  Coordinate of 70 Grange Road: [43.56711000000007, -80.22628999999995]\n",
      "117  Coordinate of 180A Bencoolen Street: [1.300047342628928, 103.85130184964511]\n",
      "118  Coordinate of 263 River Valley Road: [51.14365423833564, 1.276944811286641]\n",
      "119  Coordinate of 2 Saint Martin's Drive: [51.26834744048902, 1.0910477084931969]\n"
     ]
    },
    {
     "name": "stderr",
     "output_type": "stream",
     "text": [
      "Status code Unknown from https://geocode.arcgis.com/arcgis/rest/services/World/GeocodeServer/find: ERROR - HTTPSConnectionPool(host='geocode.arcgis.com', port=443): Read timed out. (read timeout=5.0)\n"
     ]
    },
    {
     "name": "stdout",
     "output_type": "stream",
     "text": [
      "120  Coordinate of 261 River Valley Road: None\n"
     ]
    },
    {
     "name": "stderr",
     "output_type": "stream",
     "text": [
      "Status code Unknown from https://geocode.arcgis.com/arcgis/rest/services/World/GeocodeServer/find: ERROR - HTTPSConnectionPool(host='geocode.arcgis.com', port=443): Read timed out. (read timeout=5.0)\n"
     ]
    },
    {
     "name": "stdout",
     "output_type": "stream",
     "text": [
      "121  Coordinate of 2 Marina Boulevard: None\n"
     ]
    },
    {
     "name": "stderr",
     "output_type": "stream",
     "text": [
      "Status code Unknown from https://geocode.arcgis.com/arcgis/rest/services/World/GeocodeServer/find: ERROR - HTTPSConnectionPool(host='geocode.arcgis.com', port=443): Read timed out. (read timeout=5.0)\n"
     ]
    },
    {
     "name": "stdout",
     "output_type": "stream",
     "text": [
      "122  Coordinate of 260 Joo Chiat Place: None\n"
     ]
    },
    {
     "name": "stderr",
     "output_type": "stream",
     "text": [
      "Status code Unknown from https://geocode.arcgis.com/arcgis/rest/services/World/GeocodeServer/find: ERROR - HTTPSConnectionPool(host='geocode.arcgis.com', port=443): Max retries exceeded with url: /arcgis/rest/services/World/GeocodeServer/find?f=json&text=48+Robertson+Quay&maxLocations=1 (Caused by ConnectTimeoutError(<urllib3.connection.HTTPSConnection object at 0x000002C700507340>, 'Connection to geocode.arcgis.com timed out. (connect timeout=5.0)'))\n"
     ]
    },
    {
     "name": "stdout",
     "output_type": "stream",
     "text": [
      "123  Coordinate of 48 Robertson Quay: None\n"
     ]
    }
   ],
   "source": [
    "#find out all the lat lng for each listing\n",
    "## uncomment to run\n",
    "\n",
    "index = 1\n",
    "all_address = list()\n",
    "for address in df.detailed_address.unique():\n",
    "    unit = geocoder.arcgis(address)\n",
    "    print(f'{index}  Coordinate of {address}: {unit.latlng}')\n",
    "    try:\n",
    "        \n",
    "        unit_lat = unit.latlng[0]\n",
    "        unit_lng = unit.latlng[1]\n",
    "    except: \n",
    "        unit_lat = np.nan\n",
    "        unit_lng = np.nan\n",
    "    all_address.append([address, unit_lat, unit_lng])\n",
    "    index = index + 1"
   ]
  },
  {
   "cell_type": "code",
   "execution_count": 5,
   "id": "54c83c18",
   "metadata": {},
   "outputs": [
    {
     "data": {
      "text/html": [
       "<div>\n",
       "<style scoped>\n",
       "    .dataframe tbody tr th:only-of-type {\n",
       "        vertical-align: middle;\n",
       "    }\n",
       "\n",
       "    .dataframe tbody tr th {\n",
       "        vertical-align: top;\n",
       "    }\n",
       "\n",
       "    .dataframe thead th {\n",
       "        text-align: right;\n",
       "    }\n",
       "</style>\n",
       "<table border=\"1\" class=\"dataframe\">\n",
       "  <thead>\n",
       "    <tr style=\"text-align: right;\">\n",
       "      <th></th>\n",
       "      <th>address</th>\n",
       "      <th>lat</th>\n",
       "      <th>lng</th>\n",
       "    </tr>\n",
       "  </thead>\n",
       "  <tbody>\n",
       "    <tr>\n",
       "      <th>0</th>\n",
       "      <td>23 Marina Way</td>\n",
       "      <td>-22.896480</td>\n",
       "      <td>-42.790425</td>\n",
       "    </tr>\n",
       "    <tr>\n",
       "      <th>1</th>\n",
       "      <td>23 Delta Road</td>\n",
       "      <td>1.291760</td>\n",
       "      <td>103.825940</td>\n",
       "    </tr>\n",
       "    <tr>\n",
       "      <th>2</th>\n",
       "      <td>6 Kitchener Link</td>\n",
       "      <td>14.567170</td>\n",
       "      <td>121.033310</td>\n",
       "    </tr>\n",
       "    <tr>\n",
       "      <th>3</th>\n",
       "      <td>15 Tong Watt Road</td>\n",
       "      <td>NaN</td>\n",
       "      <td>NaN</td>\n",
       "    </tr>\n",
       "    <tr>\n",
       "      <th>4</th>\n",
       "      <td>78 Guan Chuan Street</td>\n",
       "      <td>1.282560</td>\n",
       "      <td>103.831100</td>\n",
       "    </tr>\n",
       "    <tr>\n",
       "      <th>...</th>\n",
       "      <td>...</td>\n",
       "      <td>...</td>\n",
       "      <td>...</td>\n",
       "    </tr>\n",
       "    <tr>\n",
       "      <th>607</th>\n",
       "      <td>31B West Coast Park</td>\n",
       "      <td>-33.015940</td>\n",
       "      <td>18.993861</td>\n",
       "    </tr>\n",
       "    <tr>\n",
       "      <th>608</th>\n",
       "      <td>180 Depot Road</td>\n",
       "      <td>51.616250</td>\n",
       "      <td>-3.757750</td>\n",
       "    </tr>\n",
       "    <tr>\n",
       "      <th>609</th>\n",
       "      <td>35 Jurong East Avenue 1</td>\n",
       "      <td>1.343777</td>\n",
       "      <td>103.734008</td>\n",
       "    </tr>\n",
       "    <tr>\n",
       "      <th>610</th>\n",
       "      <td>89 Joo Chiat Place</td>\n",
       "      <td>-3.377150</td>\n",
       "      <td>29.371760</td>\n",
       "    </tr>\n",
       "    <tr>\n",
       "      <th>611</th>\n",
       "      <td>38 Shanghai Road</td>\n",
       "      <td>13.726060</td>\n",
       "      <td>100.525900</td>\n",
       "    </tr>\n",
       "  </tbody>\n",
       "</table>\n",
       "<p>612 rows × 3 columns</p>\n",
       "</div>"
      ],
      "text/plain": [
       "                     address        lat         lng\n",
       "0              23 Marina Way -22.896480  -42.790425\n",
       "1              23 Delta Road   1.291760  103.825940\n",
       "2           6 Kitchener Link  14.567170  121.033310\n",
       "3          15 Tong Watt Road        NaN         NaN\n",
       "4       78 Guan Chuan Street   1.282560  103.831100\n",
       "..                       ...        ...         ...\n",
       "607      31B West Coast Park -33.015940   18.993861\n",
       "608           180 Depot Road  51.616250   -3.757750\n",
       "609  35 Jurong East Avenue 1   1.343777  103.734008\n",
       "610       89 Joo Chiat Place  -3.377150   29.371760\n",
       "611         38 Shanghai Road  13.726060  100.525900\n",
       "\n",
       "[612 rows x 3 columns]"
      ]
     },
     "execution_count": 5,
     "metadata": {},
     "output_type": "execute_result"
    }
   ],
   "source": [
    "latlng = pd.read_csv('latlng.csv')\n",
    "latlng"
   ]
  },
  {
   "cell_type": "code",
   "execution_count": null,
   "id": "c803113f",
   "metadata": {},
   "outputs": [],
   "source": []
  }
 ],
 "metadata": {
  "kernelspec": {
   "display_name": "Python 3",
   "language": "python",
   "name": "python3"
  },
  "language_info": {
   "codemirror_mode": {
    "name": "ipython",
    "version": 3
   },
   "file_extension": ".py",
   "mimetype": "text/x-python",
   "name": "python",
   "nbconvert_exporter": "python",
   "pygments_lexer": "ipython3",
   "version": "3.8.8"
  }
 },
 "nbformat": 4,
 "nbformat_minor": 5
}
