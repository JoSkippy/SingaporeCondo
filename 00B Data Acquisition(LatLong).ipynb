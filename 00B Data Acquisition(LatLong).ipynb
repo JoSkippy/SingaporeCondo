{
 "cells": [
  {
   "cell_type": "code",
   "execution_count": 12,
   "id": "39198d5e",
   "metadata": {},
   "outputs": [],
   "source": [
    "import pandas as pd\n",
    "import geocoder\n",
    "import numpy as np\n",
    "\n",
    "import multiprocessing\n"
   ]
  },
  {
   "cell_type": "code",
   "execution_count": 6,
   "id": "1e8cf8fe",
   "metadata": {},
   "outputs": [],
   "source": [
    "df = pd.read_csv(\"Data\\scraped_df.csv\")"
   ]
  },
  {
   "cell_type": "code",
   "execution_count": 8,
   "id": "b3d2733a",
   "metadata": {},
   "outputs": [
    {
     "data": {
      "text/plain": [
       "1806"
      ]
     },
     "execution_count": 8,
     "metadata": {},
     "output_type": "execute_result"
    }
   ],
   "source": [
    "len(df.detailed_address.unique())"
   ]
  },
  {
   "cell_type": "code",
   "execution_count": null,
   "id": "18b2f187",
   "metadata": {},
   "outputs": [],
   "source": [
    "#multiprocessing for getting all lat long for each listing\n",
    "\n",
    "def getlisting(start,stop)\n",
    "all_address = list()\n",
    "for address in df.detailed_address.unique()[start:stop]:\n",
    "    unit = geocoder.arcgis(address)\n",
    "    print(f'{index}  Coordinate of {address}: {unit.latlng}')\n",
    "    try:\n",
    "        \n",
    "        unit_lat = unit.latlng[0]\n",
    "        unit_lng = unit.latlng[1]\n",
    "    except: \n",
    "        unit_lat = np.nan\n",
    "        unit_lng = np.nan\n",
    "    all_address.append([address, unit_lat, unit_lng])\n",
    "    return all_address\n"
   ]
  },
  {
   "cell_type": "code",
   "execution_count": null,
   "id": "d09c21c8",
   "metadata": {},
   "outputs": [],
   "source": [
    "p1 = "
   ]
  },
  {
   "cell_type": "code",
   "execution_count": 11,
   "id": "ce98436a",
   "metadata": {
    "scrolled": false
   },
   "outputs": [
    {
     "name": "stdout",
     "output_type": "stream",
     "text": [
      "1  Coordinate of 23 Marina Way: [-22.89647995629184, -42.790424899566176]\n",
      "2  Coordinate of 23 Delta Road: [1.2917600000000675, 103.82594000000006]\n",
      "3  Coordinate of 6 Kitchener Link: [14.567170000000033, 121.03331000000003]\n",
      "4  Coordinate of 15 Tong Watt Road: None\n",
      "5  Coordinate of 78 Guan Chuan Street: [1.2825600000000463, 103.83110000000005]\n",
      "6  Coordinate of 3 Orchard Boulevard: [36.51037250295536, -79.67254051322824]\n",
      "7  Coordinate of 82 Dakota Crescent: [1.3063500000000658, 103.88428000000005]\n",
      "8  Coordinate of 48 Spottiswoode Park Road: [1.2756359350288449, 103.8367030601188]\n",
      "9  Coordinate of 22 Saint Thomas Walk: [9.025580000000048, 76.92636000000005]\n",
      "10  Coordinate of 10 Martin Place: [30.064440940630607, -90.48001543265697]\n",
      "11  Coordinate of 91 West Coast Vale: [50.67561000000006, -120.32274999999998]\n",
      "12  Coordinate of 25 Mount Sophia: [41.114810000000034, -75.30128999999994]\n",
      "13  Coordinate of 205 River Valley Road: [51.14365423833564, 1.276944811286641]\n",
      "14  Coordinate of 145 Killiney Road: [-37.81171999999998, 144.96972000000005]\n",
      "15  Coordinate of 3 Wallich Street: [51.676420000000064, -4.160719999999969]\n",
      "16  Coordinate of 24 Bedok North Drive: [1.3245267380608823, 103.9298809058638]\n",
      "17  Coordinate of 6 Sims Drive: [60.30940000000004, 5.322120000000041]\n",
      "18  Coordinate of 11 Paya Lebar Road: [2.8500000000000227, 102.33333000000005]\n",
      "19  Coordinate of 45 Mosque Street: [17.89423000000005, 83.45044000000007]\n",
      "20  Coordinate of 55 Changi Road: [1.3175800000000208, 103.90582000000006]\n",
      "21  Coordinate of 11 River Valley Close: [51.14365423833564, 1.276944811286641]\n",
      "22  Coordinate of 14 Kitchener Link: [14.567170000000033, 121.03331000000003]\n",
      "23  Coordinate of 213 Guillemard Road: [43.887170000000026, 2.3943400000000565]\n",
      "24  Coordinate of 61 Cairnhill Circle: [57.435253440000054, -2.7583398269999293]\n"
     ]
    },
    {
     "name": "stderr",
     "output_type": "stream",
     "text": [
      "Status code Unknown from https://geocode.arcgis.com/arcgis/rest/services/World/GeocodeServer/find: ERROR - HTTPSConnectionPool(host='geocode.arcgis.com', port=443): Read timed out. (read timeout=5.0)\n"
     ]
    },
    {
     "name": "stdout",
     "output_type": "stream",
     "text": [
      "25  Coordinate of 1 Ardmore Park: None\n",
      "26  Coordinate of 21 Nathan Road: [22.312425183834932, 114.17049745942177]\n"
     ]
    },
    {
     "name": "stderr",
     "output_type": "stream",
     "text": [
      "Status code Unknown from https://geocode.arcgis.com/arcgis/rest/services/World/GeocodeServer/find: ERROR - HTTPSConnectionPool(host='geocode.arcgis.com', port=443): Read timed out. (read timeout=5.0)\n"
     ]
    },
    {
     "name": "stdout",
     "output_type": "stream",
     "text": [
      "27  Coordinate of 37 Nassim Road: None\n",
      "28  Coordinate of 12 Siglap Link: [1.3076516514346672, 103.92866915032532]\n",
      "29  Coordinate of 10 Gopeng Street: [1.2751618964947653, 103.84453846320719]\n",
      "30  Coordinate of 1 Shenton Way: [41.29284336405261, -73.07065625592509]\n",
      "31  Coordinate of 5000A Marine Parade Road: [1.309092636829746, 103.92928922731863]\n",
      "32  Coordinate of 1 Fraser Street: [53.409980000000076, -2.9765199999999368]\n",
      "33  Coordinate of 8 Martin Place: [35.06977000000006, -106.10418999999996]\n",
      "34  Coordinate of 6A Lincoln Road: [52.58834000000007, -0.24678999999997586]\n",
      "35  Coordinate of 10 Prinsep Link: [1.3004919240719204, 103.85069874294601]\n",
      "36  Coordinate of 4 Marina Boulevard: [-27.96807999999993, 153.42699000000005]\n",
      "37  Coordinate of 38 Scotts Road: [52.47646000000003, -1.89549999999997]\n",
      "38  Coordinate of 20 Newton Road: [52.54562000000004, -1.9341199999999503]\n",
      "39  Coordinate of 48 Saint Thomas Walk: [9.025580000000048, 76.92636000000005]\n",
      "40  Coordinate of 371 Beach Road: [-35.944239451205654, 173.85901509119435]\n",
      "41  Coordinate of 100 Clemenceau Avenue North: [1.3105000000000473, 103.83948000000004]\n",
      "42  Coordinate of 149 Pasir Ris Grove: [1.369082881775256, 103.94566729848538]\n",
      "43  Coordinate of 9 Oxley Rise: [1.2973100000000386, 103.84320000000008]\n",
      "44  Coordinate of 18 Woodsville Close: [52.75829527489837, -1.547544027771735]\n",
      "45  Coordinate of 24 Leedon Heights: [1.314076767914969, 103.80263640722382]\n",
      "46  Coordinate of 8 Scotts Road: [52.47646000000003, -1.89549999999997]\n",
      "47  Coordinate of 101 Cairnhill Circle: [-45.31666999999993, 169.38333000000011]\n",
      "48  Coordinate of 28 Beach Road: [11.923890000000029, 79.83346000000006]\n",
      "49  Coordinate of 61 Tampines Street 86: [1.352111288676357, 103.9287067132795]\n",
      "50  Coordinate of 91 Prince Charles Crescent: [46.308248986453, -63.76340286916063]\n",
      "51  Coordinate of 11 Evelyn Road: [38.938420000000065, -81.34428999999994]\n",
      "52  Coordinate of 16 Mount Elizabeth: [40.26366343854566, -79.88776559409274]\n",
      "53  Coordinate of 38 Handy Road: [35.079630000000066, -81.08995999999996]\n",
      "54  Coordinate of 6 Hougang Street 92: [1.3745870680429846, 103.87799172842784]\n",
      "55  Coordinate of 10 Siglap Link: [1.3076516514346672, 103.92866915032532]\n",
      "56  Coordinate of 68 Edgedale Plains: [40.89696888550279, -81.35382470735233]\n"
     ]
    },
    {
     "name": "stderr",
     "output_type": "stream",
     "text": [
      "Status code Unknown from https://geocode.arcgis.com/arcgis/rest/services/World/GeocodeServer/find: ERROR - HTTPSConnectionPool(host='geocode.arcgis.com', port=443): Read timed out. (read timeout=5.0)\n"
     ]
    },
    {
     "name": "stdout",
     "output_type": "stream",
     "text": [
      "57  Coordinate of 10 Kensington Park Drive: None\n"
     ]
    },
    {
     "name": "stderr",
     "output_type": "stream",
     "text": [
      "Status code Unknown from https://geocode.arcgis.com/arcgis/rest/services/World/GeocodeServer/find: ERROR - HTTPSConnectionPool(host='geocode.arcgis.com', port=443): Max retries exceeded with url: /arcgis/rest/services/World/GeocodeServer/find?f=json&text=76+Shenton+Way&maxLocations=1 (Caused by ConnectTimeoutError(<urllib3.connection.HTTPSConnection object at 0x000002C70048DCA0>, 'Connection to geocode.arcgis.com timed out. (connect timeout=5.0)'))\n"
     ]
    },
    {
     "name": "stdout",
     "output_type": "stream",
     "text": [
      "58  Coordinate of 76 Shenton Way: None\n",
      "59  Coordinate of 6 Paya Lebar Road: [2.8500000000000227, 102.33333000000005]\n"
     ]
    },
    {
     "name": "stderr",
     "output_type": "stream",
     "text": [
      "Status code Unknown from https://geocode.arcgis.com/arcgis/rest/services/World/GeocodeServer/find: ERROR - HTTPSConnectionPool(host='geocode.arcgis.com', port=443): Read timed out. (read timeout=5.0)\n"
     ]
    },
    {
     "name": "stdout",
     "output_type": "stream",
     "text": [
      "60  Coordinate of 7 Ardmore Park: None\n"
     ]
    },
    {
     "name": "stderr",
     "output_type": "stream",
     "text": [
      "Status code Unknown from https://geocode.arcgis.com/arcgis/rest/services/World/GeocodeServer/find: ERROR - HTTPSConnectionPool(host='geocode.arcgis.com', port=443): Read timed out. (read timeout=5.0)\n"
     ]
    },
    {
     "name": "stdout",
     "output_type": "stream",
     "text": [
      "61  Coordinate of 3 Keppel Bay View: None\n",
      "62  Coordinate of 29 Oei Tiong Ham Park: [1.3152800000000298, 103.79389000000003]\n",
      "63  Coordinate of 23 Angullia Park: [1.3047000000000253, 103.83010000000007]\n",
      "64  Coordinate of 22 Teow Hock Avenue: [1.3614755502722602, 103.88007773267111]\n",
      "65  Coordinate of 18 Marina Boulevard: [-27.96807999999993, 153.42699000000005]\n",
      "66  Coordinate of Boat Quay / Raffles Place / Marina (D1): [1.2876400000000672, 103.84843000000006]\n",
      "67  Coordinate of 88 Mergui Road: [1.3178306870711225, 103.85196935564835]\n",
      "68  Coordinate of 7 One-North Gateway: [46.31713505197182, -79.46455992267678]\n",
      "69  Coordinate of 8 Tomlinson Road: [-67.24999999999994, 51.18333000000007]\n",
      "70  Coordinate of 89 Rangoon Road: [1.3180700000000343, 103.85215000000005]\n",
      "71  Coordinate of 28 Surrey Road: [49.052827844602795, -122.7983593284778]\n",
      "72  Coordinate of 1 Lorong 20 Geylang: [1.3123929692955585, 103.88150315912509]\n",
      "73  Coordinate of 16 Enggor Street: [1.2746179528881925, 103.84431952789629]\n",
      "74  Coordinate of Hougang / Punggol / Sengkang (D19): None\n",
      "75  Coordinate of 25 Lorong 3 Toa Payoh: [2.181670062422512, 103.18877940572256]\n",
      "76  Coordinate of 130 Thomson Road: [22.277480000000025, 114.17496000000006]\n",
      "77  Coordinate of 3 Central Boulevard: [1.1003100000000359, 104.03362000000004]\n",
      "78  Coordinate of 21 Lorong 3 Toa Payoh: [2.181932040136039, 103.18867865898521]\n",
      "79  Coordinate of 231 Pasir Panjang Road: [0.8443000000000325, 108.88043000000005]\n",
      "80  Coordinate of 33 Leonie Hill Road: [1.2993575172961442, 103.83325072183891]\n",
      "81  Coordinate of 1 Taman Warna: [5.998920000000055, 102.01026000000007]\n",
      "82  Coordinate of 11 Thomson Lane: [44.06475778452852, -123.11724082692453]\n",
      "83  Coordinate of 42 Keppel Bay Drive: [48.2927099840216, 11.07051001445879]\n",
      "84  Coordinate of 111 Emerald Hill Road: [1.3050600000000259, 103.83924000000007]\n",
      "85  Coordinate of 210 Depot Road: [51.616250000000036, -3.7577499999999304]\n",
      "86  Coordinate of 31 Cairnhill Circle: [57.435253440000054, -2.7583398269999293]\n",
      "87  Coordinate of 610 Telok Blangah Road: [1.272466402162081, 103.80781625574821]\n",
      "88  Coordinate of 3 Serangoon North View: [39.29541000000006, -80.35137999999995]\n",
      "89  Coordinate of 9 Ardmore Park: [39.99657000000008, -75.29884999999996]\n",
      "90  Coordinate of 19 Mackenzie Road: [1.304770000000076, 103.84953000000007]\n",
      "91  Coordinate of 233 River Valley Road: [51.14365423833564, 1.276944811286641]\n",
      "92  Coordinate of 11 Mount Emily Road: [46.62163975821103, -111.96258136912091]\n",
      "93  Coordinate of 12 Bukit Batok Street 41: [49.084475943343705, 30.409394430075206]\n",
      "94  Coordinate of 1 Holland Avenue: [51.91903000000008, 4.477450000000033]\n",
      "95  Coordinate of 232 Commonwealth Avenue: [-35.29442999999998, 149.12680000000012]\n",
      "96  Coordinate of 6 Cairnhill Rise: [1.3069298962629006, 103.83971618667232]\n",
      "97  Coordinate of 101 Mergui Road: [1.3179478241680016, 103.85147046477135]\n",
      "98  Coordinate of 11 Dairy Farm Heights: [1.3658845570710838, 103.77173761081497]\n"
     ]
    },
    {
     "name": "stderr",
     "output_type": "stream",
     "text": [
      "Status code Unknown from https://geocode.arcgis.com/arcgis/rest/services/World/GeocodeServer/find: ERROR - HTTPSConnectionPool(host='geocode.arcgis.com', port=443): Read timed out. (read timeout=5.0)\n"
     ]
    },
    {
     "name": "stdout",
     "output_type": "stream",
     "text": [
      "99  Coordinate of 1 Chwee Chian Road: None\n"
     ]
    },
    {
     "name": "stderr",
     "output_type": "stream",
     "text": [
      "Status code Unknown from https://geocode.arcgis.com/arcgis/rest/services/World/GeocodeServer/find: ERROR - HTTPSConnectionPool(host='geocode.arcgis.com', port=443): Read timed out. (read timeout=5.0)\n"
     ]
    },
    {
     "name": "stdout",
     "output_type": "stream",
     "text": [
      "100  Coordinate of 80 Sophia Road: None\n",
      "101  Coordinate of 881 North Bridge Road: [53.52906000000007, -1.1450899999999251]\n",
      "102  Coordinate of 37 Amber Gardens: [22.26457010000007, 114.18844230000002]\n",
      "103  Coordinate of 11C Balmoral Road: [53.387860000000046, -2.3431399999999485]\n",
      "104  Coordinate of 6 Marina Boulevard: [-27.96807999999993, 153.42699000000005]\n",
      "105  Coordinate of 70 Shenton Way: [40.74254593398511, -98.78840021147883]\n",
      "106  Coordinate of 9 Cairnhill Road: [57.435253440000054, -2.7583398269999293]\n",
      "107  Coordinate of 5 Sarkies Road: [1.3136992050864222, 103.8367592188701]\n",
      "108  Coordinate of 2 Sing Joo Walk: [50.44572000000005, 6.102460000000065]\n",
      "109  Coordinate of 2 Sims Drive: [60.30940000000004, 5.322120000000041]\n",
      "110  Coordinate of 121 Tanjong Rhu Road: [1.2969015777562305, 103.87455581867812]\n",
      "111  Coordinate of 18 Tong Watt Road: None\n",
      "112  Coordinate of 3 Lorong 35 Geylang: [3.492200013013644, 103.39328998857798]\n",
      "113  Coordinate of 180 Bencoolen Street: [1.30163232390845, 103.85334264666466]\n",
      "114  Coordinate of 65 Lloyd Road: None\n",
      "115  Coordinate of 101 Fernhill Road: [45.47123000000005, -123.10176999999999]\n",
      "116  Coordinate of 70 Grange Road: [43.56711000000007, -80.22628999999995]\n",
      "117  Coordinate of 180A Bencoolen Street: [1.300047342628928, 103.85130184964511]\n",
      "118  Coordinate of 263 River Valley Road: [51.14365423833564, 1.276944811286641]\n",
      "119  Coordinate of 2 Saint Martin's Drive: [51.26834744048902, 1.0910477084931969]\n"
     ]
    },
    {
     "name": "stderr",
     "output_type": "stream",
     "text": [
      "Status code Unknown from https://geocode.arcgis.com/arcgis/rest/services/World/GeocodeServer/find: ERROR - HTTPSConnectionPool(host='geocode.arcgis.com', port=443): Read timed out. (read timeout=5.0)\n"
     ]
    },
    {
     "name": "stdout",
     "output_type": "stream",
     "text": [
      "120  Coordinate of 261 River Valley Road: None\n"
     ]
    },
    {
     "name": "stderr",
     "output_type": "stream",
     "text": [
      "Status code Unknown from https://geocode.arcgis.com/arcgis/rest/services/World/GeocodeServer/find: ERROR - HTTPSConnectionPool(host='geocode.arcgis.com', port=443): Read timed out. (read timeout=5.0)\n"
     ]
    },
    {
     "name": "stdout",
     "output_type": "stream",
     "text": [
      "121  Coordinate of 2 Marina Boulevard: None\n"
     ]
    },
    {
     "name": "stderr",
     "output_type": "stream",
     "text": [
      "Status code Unknown from https://geocode.arcgis.com/arcgis/rest/services/World/GeocodeServer/find: ERROR - HTTPSConnectionPool(host='geocode.arcgis.com', port=443): Read timed out. (read timeout=5.0)\n"
     ]
    },
    {
     "name": "stdout",
     "output_type": "stream",
     "text": [
      "122  Coordinate of 260 Joo Chiat Place: None\n"
     ]
    },
    {
     "name": "stderr",
     "output_type": "stream",
     "text": [
      "Status code Unknown from https://geocode.arcgis.com/arcgis/rest/services/World/GeocodeServer/find: ERROR - HTTPSConnectionPool(host='geocode.arcgis.com', port=443): Max retries exceeded with url: /arcgis/rest/services/World/GeocodeServer/find?f=json&text=48+Robertson+Quay&maxLocations=1 (Caused by ConnectTimeoutError(<urllib3.connection.HTTPSConnection object at 0x000002C700507340>, 'Connection to geocode.arcgis.com timed out. (connect timeout=5.0)'))\n"
     ]
    },
    {
     "name": "stdout",
     "output_type": "stream",
     "text": [
      "123  Coordinate of 48 Robertson Quay: None\n",
      "124  Coordinate of 10 Beatty Road: [1.314230000000066, 103.85960000000006]\n",
      "125  Coordinate of 25 Meyappa Chettiar Road: [1.3308980322121187, 103.86689945304158]\n",
      "126  Coordinate of 80 Mount Sinai Drive: [1.3179719640491356, 103.7802189233621]\n",
      "127  Coordinate of 9 Jalan Hajijah: [29.01365000000004, 67.72905000000003]\n",
      "128  Coordinate of 8 Dover Rise: [51.15461829674543, 1.3843897475154827]\n",
      "129  Coordinate of 10 Kitchener Link: [14.567170000000033, 121.03331000000003]\n",
      "130  Coordinate of 21 Mccallum Street: [1.2796500000000606, 103.84739000000008]\n",
      "131  Coordinate of 8 Enggor Street: [1.2746439786975543, 103.84474155672115]\n",
      "132  Coordinate of 235 Balestier Road: None\n",
      "133  Coordinate of 53 Grange Road: [43.56711000000007, -80.22628999999995]\n",
      "134  Coordinate of 612 Telok Blangah Road: [1.2724866863677704, 103.80743446005857]\n",
      "135  Coordinate of 87 Flora Drive: [35.585418342421335, -91.73819133305898]\n",
      "136  Coordinate of 8 Kitchener Link: [14.567170000000033, 121.03331000000003]\n",
      "137  Coordinate of 205 Balestier Road: None\n",
      "138  Coordinate of 69 Punggol Central: [1.410030000000063, 103.90594000000004]\n",
      "139  Coordinate of 10 Lorong Ampas: [1.3262135960749362, 103.85353584953282]\n",
      "140  Coordinate of 978 Upper Serangoon Road: None\n",
      "141  Coordinate of 520 Balestier Road: None\n",
      "142  Coordinate of 207 River Valley Road: [51.14365423833564, 1.276944811286641]\n",
      "143  Coordinate of 1 Keppel Bay View: [48.859370015030436, 13.401140018087403]\n",
      "144  Coordinate of 9 Newton Road: [52.54562000000004, -1.9341199999999503]\n",
      "145  Coordinate of 25 Claymore Road: [1.3078139775003308, 103.83104460492314]\n",
      "146  Coordinate of 99 Robertson Quay: [1.2918467034082113, 103.83640642456544]\n"
     ]
    },
    {
     "name": "stderr",
     "output_type": "stream",
     "text": [
      "Status code Unknown from https://geocode.arcgis.com/arcgis/rest/services/World/GeocodeServer/find: ERROR - HTTPSConnectionPool(host='geocode.arcgis.com', port=443): Read timed out. (read timeout=5.0)\n"
     ]
    },
    {
     "name": "stdout",
     "output_type": "stream",
     "text": [
      "147  Coordinate of 82 Grange Road: None\n"
     ]
    },
    {
     "name": "stderr",
     "output_type": "stream",
     "text": [
      "Status code Unknown from https://geocode.arcgis.com/arcgis/rest/services/World/GeocodeServer/find: ERROR - HTTPSConnectionPool(host='geocode.arcgis.com', port=443): Read timed out. (read timeout=5.0)\n"
     ]
    },
    {
     "name": "stdout",
     "output_type": "stream",
     "text": [
      "148  Coordinate of 139 Lorong K Telok Kurau: None\n",
      "149  Coordinate of 28 Leonie Hill: [1.2971530348514904, 103.8319560530744]\n",
      "150  Coordinate of 78 Mergui Road: [1.317367838377777, 103.85214839310021]\n",
      "151  Coordinate of 138 Cairnhill Road: [57.435253440000054, -2.7583398269999293]\n",
      "152  Coordinate of 373 Onan Road: [1.3144100000000662, 103.89840000000004]\n",
      "153  Coordinate of 23 Choa Chu Kang North 6: [1.3972868124941726, 103.7465233373207]\n",
      "154  Coordinate of 11 Lorong 39 Geylang: [1.3157401146906125, 103.89038319880626]\n",
      "155  Coordinate of 33 Rochester Drive: [43.97367950571122, -92.39517426060961]\n"
     ]
    },
    {
     "name": "stderr",
     "output_type": "stream",
     "text": [
      "Status code Unknown from https://geocode.arcgis.com/arcgis/rest/services/World/GeocodeServer/find: ERROR - HTTPSConnectionPool(host='geocode.arcgis.com', port=443): Read timed out. (read timeout=5.0)\n"
     ]
    },
    {
     "name": "stdout",
     "output_type": "stream",
     "text": [
      "156  Coordinate of 2 Martin Place: None\n",
      "157  Coordinate of 2 Leonie Hill Road: [1.2971939385389817, 103.83407332181656]\n",
      "158  Coordinate of 21 Keppel Bay View: [49.4942200134947, 10.646250010768995]\n",
      "159  Coordinate of 8 Sims Drive: [60.30940000000004, 5.322120000000041]\n",
      "160  Coordinate of 10 Walshe Road: [53.66349000000008, -6.676959999999951]\n",
      "161  Coordinate of 113 Rangoon Road: [1.3149560295580613, 103.85355278097722]\n",
      "162  Coordinate of 17 Lorong 41 Geylang: [1.3156917511092985, 103.89123538690211]\n"
     ]
    },
    {
     "name": "stderr",
     "output_type": "stream",
     "text": [
      "Status code Unknown from https://geocode.arcgis.com/arcgis/rest/services/World/GeocodeServer/find: ERROR - HTTPSConnectionPool(host='geocode.arcgis.com', port=443): Read timed out. (read timeout=5.0)\n"
     ]
    },
    {
     "name": "stdout",
     "output_type": "stream",
     "text": [
      "163  Coordinate of 3 Lorong 41 Geylang: None\n"
     ]
    },
    {
     "name": "stderr",
     "output_type": "stream",
     "text": [
      "Status code Unknown from https://geocode.arcgis.com/arcgis/rest/services/World/GeocodeServer/find: ERROR - HTTPSConnectionPool(host='geocode.arcgis.com', port=443): Read timed out. (read timeout=5.0)\n"
     ]
    },
    {
     "name": "stdout",
     "output_type": "stream",
     "text": [
      "164  Coordinate of 65 Jurong West Central 3: None\n",
      "165  Coordinate of 81 Poh Huat Road: [1.3668485597552973, 103.87992752896616]\n",
      "166  Coordinate of 6 Sinaran Drive: [1.320026169917651, 103.84423422533]\n",
      "167  Coordinate of 511 Guillemard Road: [43.887170000000026, 2.3943400000000565]\n",
      "168  Coordinate of 295 Ocean Drive: [-29.589759999999956, 31.14709000000005]\n"
     ]
    },
    {
     "name": "stderr",
     "output_type": "stream",
     "text": [
      "Status code Unknown from https://geocode.arcgis.com/arcgis/rest/services/World/GeocodeServer/find: ERROR - HTTPSConnectionPool(host='geocode.arcgis.com', port=443): Read timed out. (read timeout=5.0)\n"
     ]
    },
    {
     "name": "stdout",
     "output_type": "stream",
     "text": [
      "169  Coordinate of 42 Cairnhill Road: None\n",
      "170  Coordinate of 39 Pasir Panjang Hill: [1.2825500000000716, 103.78559000000007]\n",
      "171  Coordinate of 136B Hillview Avenue: [12.967800000000068, 80.10269000000005]\n",
      "172  Coordinate of 84 Dakota Crescent: [1.3063500000000658, 103.88428000000005]\n",
      "173  Coordinate of 81 Jurong West Central 3: [1.339790728567067, 103.70495764711171]\n",
      "174  Coordinate of 60 Newton Road: [52.54562000000004, -1.9341199999999503]\n"
     ]
    },
    {
     "name": "stderr",
     "output_type": "stream",
     "text": [
      "Status code Unknown from https://geocode.arcgis.com/arcgis/rest/services/World/GeocodeServer/find: ERROR - HTTPSConnectionPool(host='geocode.arcgis.com', port=443): Read timed out. (read timeout=5.0)\n"
     ]
    },
    {
     "name": "stdout",
     "output_type": "stream",
     "text": [
      "175  Coordinate of 9 Lim Tua Tow Road: None\n"
     ]
    },
    {
     "name": "stderr",
     "output_type": "stream",
     "text": [
      "Status code Unknown from https://geocode.arcgis.com/arcgis/rest/services/World/GeocodeServer/find: ERROR - HTTPSConnectionPool(host='geocode.arcgis.com', port=443): Read timed out. (read timeout=5.0)\n"
     ]
    },
    {
     "name": "stdout",
     "output_type": "stream",
     "text": [
      "176  Coordinate of 2 Kitchener Link: None\n",
      "177  Coordinate of 81 Clemenceau Avenue: [1.3105000000000473, 103.83948000000004]\n",
      "178  Coordinate of 21 Keppel Bay Drive: [49.4942200134947, 10.646250010768995]\n",
      "179  Coordinate of 428 River Valley Road: [51.14365423833564, 1.276944811286641]\n",
      "180  Coordinate of 7 Bassein Road: [54.70843000000008, 20.504820000000052]\n",
      "181  Coordinate of 396 River Valley Road: [51.14365423833564, 1.276944811286641]\n",
      "182  Coordinate of 51 West Coast Way: [37.51411244801553, -98.8296217735873]\n",
      "183  Coordinate of 348 Balestier Road: None\n",
      "184  Coordinate of 5 Peck Hay Road: [1.3084911933674022, 103.83914085283834]\n",
      "185  Coordinate of 23 Amber Road: [26.951320000000067, 75.84682000000004]\n",
      "186  Coordinate of 6 Scotts Road: [52.47646000000003, -1.89549999999997]\n",
      "187  Coordinate of 5A Balmoral Road: [53.387860000000046, -2.3431399999999485]\n",
      "188  Coordinate of 27 West Coast Park: [1.2931200000000445, 103.76551000000006]\n",
      "189  Coordinate of 301 Jalan Bukit Ho Swee: [1.2871341878954041, 103.82781891330507]\n",
      "190  Coordinate of 33 Tanglin Road: [3.7147600000000693, 101.74417000000005]\n",
      "191  Coordinate of 93 West Coast Vale: [50.67561000000006, -120.32274999999998]\n",
      "192  Coordinate of 8 Mount Sophia: [41.114810000000034, -75.30128999999994]\n",
      "193  Coordinate of 8 Walshe Road: [53.66349000000008, -6.676959999999951]\n",
      "194  Coordinate of 53 Irrawaddy Road: [1.3254187821063255, 103.84617880165865]\n",
      "195  Coordinate of 63 Tampines Street 86: [1.352111288676357, 103.9287067132795]\n",
      "196  Coordinate of 42 South Buona Vista Road: [33.21228664956289, -117.24478061625446]\n"
     ]
    },
    {
     "name": "stderr",
     "output_type": "stream",
     "text": [
      "Status code Unknown from https://geocode.arcgis.com/arcgis/rest/services/World/GeocodeServer/find: ERROR - HTTPSConnectionPool(host='geocode.arcgis.com', port=443): Read timed out. (read timeout=5.0)\n"
     ]
    },
    {
     "name": "stdout",
     "output_type": "stream",
     "text": [
      "197  Coordinate of 60 Havelock Road: None\n",
      "198  Coordinate of 10 Boon Lay Drive: [1.342640910922853, 103.7121135293097]\n",
      "199  Coordinate of 121 Jalan Jurong Kechil: [1.3418897845861726, 103.7710253055352]\n",
      "200  Coordinate of 1 The Knolls: [39.28232000000003, -78.35805999999997]\n",
      "201  Coordinate of 99 Cairnhill Circle: [57.435253440000054, -2.7583398269999293]\n",
      "202  Coordinate of Newton / Novena (D11): [53.41709643807052, -6.321844579260554]\n",
      "203  Coordinate of 965 Bukit Timah Road: [5.4500000000000455, 100.26667000000003]\n",
      "204  Coordinate of 33 Club Street: [1.2824700000000462, 103.84633000000008]\n",
      "205  Coordinate of 18 Moulmein Rise: [1.3195850194057357, 103.84648407057227]\n",
      "206  Coordinate of 80 Mohamed Sultan Road: [1.2912563659675698, 103.84068915799293]\n",
      "207  Coordinate of 65D Cavenagh Road: [-12.462989999999934, 130.84419000000003]\n",
      "208  Coordinate of 88 Robertson Quay: [1.2910116241881366, 103.8376115571278]\n",
      "209  Coordinate of 23 Claymore Road: [1.3084196957333063, 103.83079490802754]\n",
      "210  Coordinate of 988 Upper Serangoon Road: None\n",
      "211  Coordinate of 2A Wolskel Road: [1.3464344345715062, 103.87128343985944]\n",
      "212  Coordinate of 70 Dalvey Road: None\n",
      "213  Coordinate of 311 Upper Thomson Road: [1.3502500000000737, 103.83577000000008]\n",
      "214  Coordinate of 1 Ridley Park: [39.88119000000006, -75.32323999999994]\n",
      "215  Coordinate of 1 Liang Seah Street: [1.2974400000000514, 103.85642000000007]\n",
      "216  Coordinate of 72 Lorong M Telok Kurau: [1.0666700000000446, 102.25000000000006]\n",
      "217  Coordinate of 38 Amber Road: [26.951320000000067, 75.84682000000004]\n",
      "218  Coordinate of 145 Devonshire Road: [26.671737000000064, -80.05891499999996]\n",
      "219  Coordinate of 1 Geylang East Avenue 1: [1.3157909509333763, 103.8844668324499]\n"
     ]
    },
    {
     "name": "stderr",
     "output_type": "stream",
     "text": [
      "Status code Unknown from https://geocode.arcgis.com/arcgis/rest/services/World/GeocodeServer/find: ERROR - HTTPSConnectionPool(host='geocode.arcgis.com', port=443): Read timed out. (read timeout=5.0)\n"
     ]
    },
    {
     "name": "stdout",
     "output_type": "stream",
     "text": [
      "220  Coordinate of 21 Peck Hay Road: None\n"
     ]
    },
    {
     "name": "stderr",
     "output_type": "stream",
     "text": [
      "Status code Unknown from https://geocode.arcgis.com/arcgis/rest/services/World/GeocodeServer/find: ERROR - HTTPSConnectionPool(host='geocode.arcgis.com', port=443): Read timed out. (read timeout=5.0)\n"
     ]
    },
    {
     "name": "stdout",
     "output_type": "stream",
     "text": [
      "221  Coordinate of 356 Alexandra Road: None\n"
     ]
    },
    {
     "name": "stderr",
     "output_type": "stream",
     "text": [
      "Status code Unknown from https://geocode.arcgis.com/arcgis/rest/services/World/GeocodeServer/find: ERROR - HTTPSConnectionPool(host='geocode.arcgis.com', port=443): Read timed out. (read timeout=5.0)\n"
     ]
    },
    {
     "name": "stdout",
     "output_type": "stream",
     "text": [
      "222  Coordinate of 57 Tampines Street 86: None\n"
     ]
    },
    {
     "name": "stderr",
     "output_type": "stream",
     "text": [
      "Status code Unknown from https://geocode.arcgis.com/arcgis/rest/services/World/GeocodeServer/find: ERROR - HTTPSConnectionPool(host='geocode.arcgis.com', port=443): Read timed out. (read timeout=5.0)\n"
     ]
    },
    {
     "name": "stdout",
     "output_type": "stream",
     "text": [
      "223  Coordinate of 16 Siglap Link: None\n",
      "224  Coordinate of 28 Cuscaden Road: [1.3049135456350172, 103.82682850762586]\n",
      "225  Coordinate of 27 Jalan Merah Saga: [3.125851264565698, 101.76425939986117]\n",
      "226  Coordinate of 35 Lorong Marican: [-22.93288512973081, -42.79859929860975]\n",
      "227  Coordinate of 19 Cairnhill Circle: [57.435253440000054, -2.7583398269999293]\n",
      "228  Coordinate of 187 Tanjong Rhu Road: [1.2959914707094384, 103.87065932334895]\n"
     ]
    },
    {
     "name": "stderr",
     "output_type": "stream",
     "text": [
      "Status code Unknown from https://geocode.arcgis.com/arcgis/rest/services/World/GeocodeServer/find: ERROR - HTTPSConnectionPool(host='geocode.arcgis.com', port=443): Read timed out. (read timeout=5.0)\n"
     ]
    },
    {
     "name": "stdout",
     "output_type": "stream",
     "text": [
      "229  Coordinate of 11A Nassim Road: None\n",
      "230  Coordinate of 214 Upper East Coast Road: [1.3128300000000195, 103.92608000000007]\n",
      "231  Coordinate of 176A Orchard Road: [14.583750000000066, 121.05648000000008]\n",
      "232  Coordinate of 9 Bedok South Avenue 3: [23.188750000000027, 77.43953000000005]\n",
      "233  Coordinate of 10 West Coast Road: [12.968920000000026, 80.25759000000005]\n",
      "234  Coordinate of 53 Cairnhill Road: [57.435253440000054, -2.7583398269999293]\n",
      "235  Coordinate of 8 Woodleigh Close: [52.76561999356636, -7.35612997196435]\n",
      "236  Coordinate of 7 Kim Tian Road: [1.28543555330738, 103.82978765472296]\n",
      "237  Coordinate of 16 Spottiswoode Park Road: [1.2760237237792609, 103.83749221630279]\n",
      "238  Coordinate of 3 Ardmore Park: [-37.06911999999994, 174.9434000000001]\n",
      "239  Coordinate of 5 Balmoral Road: [53.387860000000046, -2.3431399999999485]\n",
      "240  Coordinate of 8 Cairnhill Rise: [1.307567214270847, 103.83960562936943]\n",
      "241  Coordinate of 3 Woodlands Road: [53.72807000000006, -1.6446899999999687]\n",
      "242  Coordinate of 33 Lloyd Road: None\n",
      "243  Coordinate of 10 Dover Rise: [51.15461829674543, 1.3843897475154827]\n",
      "244  Coordinate of 12 Kim Keat Road: [1.3239812857117386, 103.85286353707914]\n",
      "245  Coordinate of 130 Cairnhill Road: [57.435253440000054, -2.7583398269999293]\n",
      "246  Coordinate of 76 Bayshore Road: [40.73536000000007, -73.28455999999994]\n",
      "247  Coordinate of 132 Serangoon Avenue 3: [1.3525200000000268, 103.87036000000006]\n",
      "248  Coordinate of 28 Scotts Road: [52.47646000000003, -1.89549999999997]\n",
      "249  Coordinate of 5 Rhu Cross: [41.238560000000064, -111.95826999999997]\n"
     ]
    },
    {
     "name": "stderr",
     "output_type": "stream",
     "text": [
      "Status code Unknown from https://geocode.arcgis.com/arcgis/rest/services/World/GeocodeServer/find: ERROR - HTTPSConnectionPool(host='geocode.arcgis.com', port=443): Read timed out. (read timeout=5.0)\n"
     ]
    },
    {
     "name": "stdout",
     "output_type": "stream",
     "text": [
      "250  Coordinate of 20 Handy Road: None\n"
     ]
    },
    {
     "name": "stderr",
     "output_type": "stream",
     "text": [
      "Status code Unknown from https://geocode.arcgis.com/arcgis/rest/services/World/GeocodeServer/find: ERROR - HTTPSConnectionPool(host='geocode.arcgis.com', port=443): Read timed out. (read timeout=5.0)\n"
     ]
    },
    {
     "name": "stdout",
     "output_type": "stream",
     "text": [
      "251  Coordinate of 3 Jervois Close: None\n",
      "252  Coordinate of 5 Siglap Road: None\n",
      "253  Coordinate of 1 Fort Road: [6.932161012191273, 79.84677914125473]\n",
      "254  Coordinate of 3 Anthony Road: [1.310130000000072, 103.83711000000005]\n",
      "255  Coordinate of 22 Simei Rise: [1.3489693735488544, 103.96052162347388]\n",
      "256  Coordinate of 275 Changi Road: [1.3175800000000208, 103.90582000000006]\n",
      "257  Coordinate of 24 Verdun Road: [1.3102000000000658, 103.85607000000005]\n",
      "258  Coordinate of 95 West Coast Drive: [1.3138646638551137, 103.75967102300359]\n",
      "259  Coordinate of 28 Bedok North Drive: [1.3243613631112368, 103.92914455566984]\n"
     ]
    },
    {
     "name": "stderr",
     "output_type": "stream",
     "text": [
      "Status code Unknown from https://geocode.arcgis.com/arcgis/rest/services/World/GeocodeServer/find: ERROR - HTTPSConnectionPool(host='geocode.arcgis.com', port=443): Read timed out. (read timeout=5.0)\n"
     ]
    },
    {
     "name": "stdout",
     "output_type": "stream",
     "text": [
      "260  Coordinate of East Coast / Marine Parade (D15): None\n",
      "261  Coordinate of 5 Sophia Road: [42.66907112886816, 23.37392851940285]\n",
      "262  Coordinate of 10 Aljunied Road: [1.3139900000000466, 103.88197000000008]\n",
      "263  Coordinate of 3 South Buona Vista Road: [52.11014003591154, -106.66451002728081]\n",
      "264  Coordinate of 81B Clemenceau Avenue: [1.3105000000000473, 103.83948000000004]\n",
      "265  Coordinate of 7 Sophia Road: [42.3038836451446, 23.703391493022565]\n",
      "266  Coordinate of 6 Geylang East Avenue 2: [1.3169871323355409, 103.89004188770895]\n",
      "267  Coordinate of 10 Leicester Road: [52.57304000000005, -1.201629999999966]\n",
      "268  Coordinate of 20 Bedok Rise: [1.3276765734551788, 103.949805192626]\n",
      "269  Coordinate of 503 Sembawang Road: [-6.291859999999929, 106.80343000000005]\n",
      "270  Coordinate of 11 Serangoon North View: [39.29541000000006, -80.35137999999995]\n",
      "271  Coordinate of 134 Emerald Hill Road: [40.727961400120805, -75.62540005476941]\n",
      "272  Coordinate of 3 Dundee Road: [42.58021003686832, -91.54585483950673]\n",
      "273  Coordinate of 9 One-North Gateway: [46.31713505197182, -79.46455992267678]\n"
     ]
    },
    {
     "name": "stderr",
     "output_type": "stream",
     "text": [
      "Status code Unknown from https://geocode.arcgis.com/arcgis/rest/services/World/GeocodeServer/find: ERROR - HTTPSConnectionPool(host='geocode.arcgis.com', port=443): Read timed out. (read timeout=5.0)\n"
     ]
    },
    {
     "name": "stdout",
     "output_type": "stream",
     "text": [
      "274  Coordinate of 28 Lorong 26 Geylang: None\n",
      "275  Coordinate of 304 Orchard Road: [14.583750000000066, 121.05648000000008]\n"
     ]
    },
    {
     "name": "stderr",
     "output_type": "stream",
     "text": [
      "Status code Unknown from https://geocode.arcgis.com/arcgis/rest/services/World/GeocodeServer/find: ERROR - HTTPSConnectionPool(host='geocode.arcgis.com', port=443): Read timed out. (read timeout=5.0)\n"
     ]
    },
    {
     "name": "stdout",
     "output_type": "stream",
     "text": [
      "276  Coordinate of 50D Faber Heights: None\n",
      "277  Coordinate of 50A Toh Tuck Road: None\n",
      "278  Coordinate of 7 Newton Road: [52.54562000000004, -1.9341199999999503]\n",
      "279  Coordinate of 178 Jalan Eunos: [1.327813743300652, 103.90625433246896]\n"
     ]
    },
    {
     "name": "stderr",
     "output_type": "stream",
     "text": [
      "Status code Unknown from https://geocode.arcgis.com/arcgis/rest/services/World/GeocodeServer/find: ERROR - HTTPSConnectionPool(host='geocode.arcgis.com', port=443): Read timed out. (read timeout=5.0)\n"
     ]
    },
    {
     "name": "stdout",
     "output_type": "stream",
     "text": [
      "280  Coordinate of 1 Lincoln Road: None\n"
     ]
    },
    {
     "name": "stderr",
     "output_type": "stream",
     "text": [
      "Status code Unknown from https://geocode.arcgis.com/arcgis/rest/services/World/GeocodeServer/find: ERROR - HTTPSConnectionPool(host='geocode.arcgis.com', port=443): Read timed out. (read timeout=5.0)\n"
     ]
    },
    {
     "name": "stdout",
     "output_type": "stream",
     "text": [
      "281  Coordinate of 118 Kim Seng Road: None\n",
      "282  Coordinate of 8 Siglap Road: None\n",
      "283  Coordinate of 71 Wilkie Road: [37.885410000000036, -79.15974999999997]\n",
      "284  Coordinate of 1091 Serangoon Road: None\n",
      "285  Coordinate of 810 Geylang Road: [1.3100800000000277, 103.87110000000007]\n",
      "286  Coordinate of 103 Hillview Rise: [49.65311000000003, -103.85796999999997]\n"
     ]
    },
    {
     "name": "stderr",
     "output_type": "stream",
     "text": [
      "Status code Unknown from https://geocode.arcgis.com/arcgis/rest/services/World/GeocodeServer/find: ERROR - HTTPSConnectionPool(host='geocode.arcgis.com', port=443): Read timed out. (read timeout=5.0)\n"
     ]
    },
    {
     "name": "stdout",
     "output_type": "stream",
     "text": [
      "287  Coordinate of 69 Cavenagh Road: None\n",
      "288  Coordinate of 330 Pasir Panjang Road: [0.8443000000000325, 108.88043000000005]\n",
      "289  Coordinate of 6 West Coast Road: [12.968920000000026, 80.25759000000005]\n",
      "290  Coordinate of 17 Canberra Drive: [1.4378798666586476, 103.82947207606838]\n",
      "291  Coordinate of 7 Mount Emily Road: [46.62163975821103, -111.96258136912091]\n",
      "292  Coordinate of 88 Mackenzie Road: [1.304770000000076, 103.84953000000007]\n",
      "293  Coordinate of 2 Jurong Lake Link: [1.3419400000000223, 103.72639000000004]\n",
      "294  Coordinate of 70 Niven Road: None\n",
      "295  Coordinate of 59 Ang Mo Kio Avenue 8: [1.3703042927059812, 103.84838634349796]\n",
      "296  Coordinate of 67 Hume Avenue: [53.48028794734403, -2.250747400558122]\n",
      "297  Coordinate of 2 Jalan Mat Jambol: [42.48780000000005, 26.511030000000062]\n",
      "298  Coordinate of 6 Alexandra View: [-45.25953292667288, 169.38250871772692]\n",
      "299  Coordinate of 29 Yishun Central 1: [1.4267720009324876, 103.83608397275026]\n",
      "300  Coordinate of 73 Oxley Rise: [55.059090000000026, 9.33278000000007]\n"
     ]
    },
    {
     "name": "stderr",
     "output_type": "stream",
     "text": [
      "Status code Unknown from https://geocode.arcgis.com/arcgis/rest/services/World/GeocodeServer/find: ERROR - HTTPSConnectionPool(host='geocode.arcgis.com', port=443): Read timed out. (read timeout=5.0)\n"
     ]
    },
    {
     "name": "stdout",
     "output_type": "stream",
     "text": [
      "301  Coordinate of 119 West Coast Crescent: None\n"
     ]
    },
    {
     "name": "stderr",
     "output_type": "stream",
     "text": [
      "Status code Unknown from https://geocode.arcgis.com/arcgis/rest/services/World/GeocodeServer/find: ERROR - HTTPSConnectionPool(host='geocode.arcgis.com', port=443): Max retries exceeded with url: /arcgis/rest/services/World/GeocodeServer/find?f=json&text=1+Sunshine+Terrace&maxLocations=1 (Caused by ConnectTimeoutError(<urllib3.connection.HTTPSConnection object at 0x000002C77ED78310>, 'Connection to geocode.arcgis.com timed out. (connect timeout=5.0)'))\n"
     ]
    },
    {
     "name": "stdout",
     "output_type": "stream",
     "text": [
      "302  Coordinate of 1 Sunshine Terrace: None\n",
      "303  Coordinate of 160 Killiney Road: [-37.81171999999998, 144.96972000000005]\n",
      "304  Coordinate of 100 Grange Road: [43.56711000000007, -80.22628999999995]\n",
      "305  Coordinate of 52 Faber Walk: [1.3235989451983983, 103.75518075365346]\n",
      "306  Coordinate of 122 Tanjong Rhu Road: [1.298021986753696, 103.87444207625202]\n",
      "307  Coordinate of 191 Tanjong Rhu Road: [1.296738256372862, 103.87135083036094]\n",
      "308  Coordinate of 1M Pine Grove: [38.41346000000004, -120.65952999999996]\n"
     ]
    },
    {
     "name": "stderr",
     "output_type": "stream",
     "text": [
      "Status code Unknown from https://geocode.arcgis.com/arcgis/rest/services/World/GeocodeServer/find: ERROR - HTTPSConnectionPool(host='geocode.arcgis.com', port=443): Max retries exceeded with url: /arcgis/rest/services/World/GeocodeServer/find?f=json&text=28A+Jalan+Lempeng&maxLocations=1 (Caused by NewConnectionError('<urllib3.connection.HTTPSConnection object at 0x000002C700279130>: Failed to establish a new connection: [Errno 11001] getaddrinfo failed'))\n"
     ]
    },
    {
     "name": "stdout",
     "output_type": "stream",
     "text": [
      "309  Coordinate of 28A Jalan Lempeng: None\n"
     ]
    },
    {
     "name": "stderr",
     "output_type": "stream",
     "text": [
      "Status code Unknown from https://geocode.arcgis.com/arcgis/rest/services/World/GeocodeServer/find: ERROR - HTTPSConnectionPool(host='geocode.arcgis.com', port=443): Read timed out. (read timeout=5.0)\n"
     ]
    },
    {
     "name": "stdout",
     "output_type": "stream",
     "text": [
      "310  Coordinate of 1 Bedok South Avenue 3: None\n"
     ]
    },
    {
     "name": "stderr",
     "output_type": "stream",
     "text": [
      "Status code Unknown from https://geocode.arcgis.com/arcgis/rest/services/World/GeocodeServer/find: ERROR - HTTPSConnectionPool(host='geocode.arcgis.com', port=443): Read timed out. (read timeout=5.0)\n"
     ]
    },
    {
     "name": "stdout",
     "output_type": "stream",
     "text": [
      "311  Coordinate of 97 Prince Charles Crescent: None\n",
      "312  Coordinate of 138 Serangoon Avenue 3: [1.3525200000000268, 103.87036000000006]\n",
      "313  Coordinate of 100 Holland Road: [52.78782000000007, -0.14715999999992846]\n",
      "314  Coordinate of 176 Jalan Jurong Kechil: [1.344293235495826, 103.76945471566609]\n"
     ]
    },
    {
     "name": "stderr",
     "output_type": "stream",
     "text": [
      "Status code Unknown from https://geocode.arcgis.com/arcgis/rest/services/World/GeocodeServer/find: ERROR - HTTPSConnectionPool(host='geocode.arcgis.com', port=443): Read timed out. (read timeout=5.0)\n"
     ]
    },
    {
     "name": "stdout",
     "output_type": "stream",
     "text": [
      "315  Coordinate of 60 Kim Keat Road: None\n",
      "316  Coordinate of 7 Chwee Chian Road: None\n",
      "317  Coordinate of 31 Boon Lay Drive: [1.3426069223054782, 103.71019968935764]\n",
      "318  Coordinate of 3 Buckley Road: [42.31683000000004, -87.90578999999997]\n",
      "319  Coordinate of 18 Siglap Link: [1.3076516514346672, 103.92866915032532]\n",
      "320  Coordinate of 90 Flora Road: None\n",
      "321  Coordinate of 3 Jalan Hajijah: [29.01365000000004, 67.72905000000003]\n",
      "322  Coordinate of 781 Upper Changi Road East: [1.3479427161384052, 103.96158654427228]\n"
     ]
    },
    {
     "name": "stderr",
     "output_type": "stream",
     "text": [
      "Status code Unknown from https://geocode.arcgis.com/arcgis/rest/services/World/GeocodeServer/find: ERROR - HTTPSConnectionPool(host='geocode.arcgis.com', port=443): Read timed out. (read timeout=5.0)\n"
     ]
    },
    {
     "name": "stdout",
     "output_type": "stream",
     "text": [
      "323  Coordinate of 231A Pasir Panjang Road: None\n",
      "324  Coordinate of 225 Pasir Panjang Road: [0.8443000000000325, 108.88043000000005]\n",
      "325  Coordinate of 121 Sunset Way: [32.61547601903578, -90.05463404117833]\n",
      "326  Coordinate of 130 Tanjong Rhu Road: [1.2974165199778156, 103.87216622190186]\n"
     ]
    },
    {
     "name": "stderr",
     "output_type": "stream",
     "text": [
      "Status code Unknown from https://geocode.arcgis.com/arcgis/rest/services/World/GeocodeServer/find: ERROR - HTTPSConnectionPool(host='geocode.arcgis.com', port=443): Read timed out. (read timeout=5.0)\n"
     ]
    },
    {
     "name": "stdout",
     "output_type": "stream",
     "text": [
      "327  Coordinate of 106 Oxley Rise: None\n",
      "328  Coordinate of 398 Kallang Road: None\n"
     ]
    },
    {
     "name": "stderr",
     "output_type": "stream",
     "text": [
      "Status code Unknown from https://geocode.arcgis.com/arcgis/rest/services/World/GeocodeServer/find: ERROR - HTTPSConnectionPool(host='geocode.arcgis.com', port=443): Max retries exceeded with url: /arcgis/rest/services/World/GeocodeServer/find?f=json&text=11A+Mount+Sinai+Lane&maxLocations=1 (Caused by ConnectTimeoutError(<urllib3.connection.HTTPSConnection object at 0x000002C70050AB80>, 'Connection to geocode.arcgis.com timed out. (connect timeout=5.0)'))\n"
     ]
    },
    {
     "name": "stdout",
     "output_type": "stream",
     "text": [
      "329  Coordinate of 11A Mount Sinai Lane: None\n"
     ]
    },
    {
     "name": "stderr",
     "output_type": "stream",
     "text": [
      "Status code Unknown from https://geocode.arcgis.com/arcgis/rest/services/World/GeocodeServer/find: ERROR - HTTPSConnectionPool(host='geocode.arcgis.com', port=443): Read timed out. (read timeout=5.0)\n"
     ]
    },
    {
     "name": "stdout",
     "output_type": "stream",
     "text": [
      "330  Coordinate of 16 Lorong 35 Geylang: None\n"
     ]
    },
    {
     "name": "stderr",
     "output_type": "stream",
     "text": [
      "Status code Unknown from https://geocode.arcgis.com/arcgis/rest/services/World/GeocodeServer/find: ERROR - HTTPSConnectionPool(host='geocode.arcgis.com', port=443): Read timed out. (read timeout=5.0)\n"
     ]
    },
    {
     "name": "stdout",
     "output_type": "stream",
     "text": [
      "331  Coordinate of 130 Hillview Avenue: None\n",
      "332  Coordinate of 32 Lincoln Road: [52.58834000000007, -0.24678999999997586]\n",
      "333  Coordinate of 110 Sophia Road: [25.03896000000003, 121.56740000000002]\n",
      "334  Coordinate of 10A Mount Sophia: [41.114810000000034, -75.30128999999994]\n",
      "335  Coordinate of 767 Upper Serangoon Road: None\n",
      "336  Coordinate of 404 Dunearn Road: None\n",
      "337  Coordinate of 13 Fernvale Close: [1.3950694219186346, 103.88110501872427]\n",
      "338  Coordinate of 9 Rhu Cross: [41.238560000000064, -111.95826999999997]\n",
      "339  Coordinate of 67 West Coast Way: [37.51411244801553, -98.8296217735873]\n",
      "340  Coordinate of 65 Cavenagh Road: [-12.462989999999934, 130.84419000000003]\n"
     ]
    },
    {
     "name": "stderr",
     "output_type": "stream",
     "text": [
      "Status code Unknown from https://geocode.arcgis.com/arcgis/rest/services/World/GeocodeServer/find: ERROR - HTTPSConnectionPool(host='geocode.arcgis.com', port=443): Read timed out. (read timeout=5.0)\n"
     ]
    },
    {
     "name": "stdout",
     "output_type": "stream",
     "text": [
      "341  Coordinate of 51 Cairnhill Circle: None\n",
      "342  Coordinate of 20 Upper Circular Road: [1.2886400000000435, 103.84837000000005]\n"
     ]
    },
    {
     "name": "stderr",
     "output_type": "stream",
     "text": [
      "Status code Unknown from https://geocode.arcgis.com/arcgis/rest/services/World/GeocodeServer/find: ERROR - HTTPSConnectionPool(host='geocode.arcgis.com', port=443): Read timed out. (read timeout=5.0)\n"
     ]
    },
    {
     "name": "stdout",
     "output_type": "stream",
     "text": [
      "343  Coordinate of 8 Jalan Mutiara: None\n",
      "344  Coordinate of 4 Ardmore Park: [39.99657000000008, -75.29884999999996]\n",
      "345  Coordinate of 7 Draycott Drive: [1.3088500000000636, 103.83080000000007]\n",
      "346  Coordinate of 60 Fernhill Road: [45.47123000000005, -123.10176999999999]\n",
      "347  Coordinate of 50 Bayshore Road: [40.73536000000007, -73.28455999999994]\n",
      "348  Coordinate of 10 Adis Road: None\n",
      "349  Coordinate of 7 Anthony Road: [1.310130000000072, 103.83711000000005]\n"
     ]
    },
    {
     "name": "stderr",
     "output_type": "stream",
     "text": [
      "Status code Unknown from https://geocode.arcgis.com/arcgis/rest/services/World/GeocodeServer/find: ERROR - HTTPSConnectionPool(host='geocode.arcgis.com', port=443): Read timed out. (read timeout=5.0)\n"
     ]
    },
    {
     "name": "stdout",
     "output_type": "stream",
     "text": [
      "350  Coordinate of Beach Road / Bugis / Rochor (D7): None\n"
     ]
    },
    {
     "name": "stderr",
     "output_type": "stream",
     "text": [
      "Status code Unknown from https://geocode.arcgis.com/arcgis/rest/services/World/GeocodeServer/find: ERROR - HTTPSConnectionPool(host='geocode.arcgis.com', port=443): Read timed out. (read timeout=5.0)\n"
     ]
    },
    {
     "name": "stdout",
     "output_type": "stream",
     "text": [
      "351  Coordinate of 543 East Coast Road: None\n"
     ]
    },
    {
     "name": "stderr",
     "output_type": "stream",
     "text": [
      "Status code Unknown from https://geocode.arcgis.com/arcgis/rest/services/World/GeocodeServer/find: ERROR - HTTPSConnectionPool(host='geocode.arcgis.com', port=443): Read timed out. (read timeout=5.0)\n"
     ]
    },
    {
     "name": "stdout",
     "output_type": "stream",
     "text": [
      "352  Coordinate of 42 Mount Vernon Road: None\n",
      "353  Coordinate of 39 Jervois Road: [-35.257649999999956, 139.45162000000005]\n",
      "354  Coordinate of 10 Tanglin Road: [3.7147600000000693, 101.74417000000005]\n",
      "355  Coordinate of 63 Cavenagh Road: [-12.462989999999934, 130.84419000000003]\n",
      "356  Coordinate of 100 Oxley Rise: [37.10621500000008, -113.58205499999997]\n",
      "357  Coordinate of 1 Oxley Rise: [1.2973100000000386, 103.84320000000008]\n",
      "358  Coordinate of 33 Oxley Rise: [55.059090000000026, 9.33278000000007]\n",
      "359  Coordinate of 23 Newton Road: [52.54562000000004, -1.9341199999999503]\n"
     ]
    },
    {
     "name": "stderr",
     "output_type": "stream",
     "text": [
      "Status code Unknown from https://geocode.arcgis.com/arcgis/rest/services/World/GeocodeServer/find: ERROR - HTTPSConnectionPool(host='geocode.arcgis.com', port=443): Read timed out. (read timeout=5.0)\n"
     ]
    },
    {
     "name": "stdout",
     "output_type": "stream",
     "text": [
      "360  Coordinate of 6 Suffolk Walk: None\n"
     ]
    },
    {
     "name": "stderr",
     "output_type": "stream",
     "text": [
      "Status code Unknown from https://geocode.arcgis.com/arcgis/rest/services/World/GeocodeServer/find: ERROR - HTTPSConnectionPool(host='geocode.arcgis.com', port=443): Max retries exceeded with url: /arcgis/rest/services/World/GeocodeServer/find?f=json&text=41+Boon+Teck+Road&maxLocations=1 (Caused by ConnectTimeoutError(<urllib3.connection.HTTPSConnection object at 0x000002C70048DFA0>, 'Connection to geocode.arcgis.com timed out. (connect timeout=5.0)'))\n"
     ]
    },
    {
     "name": "stdout",
     "output_type": "stream",
     "text": [
      "361  Coordinate of 41 Boon Teck Road: None\n",
      "362  Coordinate of 539 East Coast Road: [1.3046600000000694, 103.90420000000006]\n",
      "363  Coordinate of 894 Upper Bukit Timah Road: [1.3404100000000199, 103.77221000000009]\n",
      "364  Coordinate of 42 East Coast Road: [1.3046600000000694, 103.90420000000006]\n"
     ]
    },
    {
     "name": "stderr",
     "output_type": "stream",
     "text": [
      "Status code Unknown from https://geocode.arcgis.com/arcgis/rest/services/World/GeocodeServer/find: ERROR - HTTPSConnectionPool(host='geocode.arcgis.com', port=443): Read timed out. (read timeout=5.0)\n"
     ]
    },
    {
     "name": "stdout",
     "output_type": "stream",
     "text": [
      "365  Coordinate of 16 Shelford Road: None\n",
      "366  Coordinate of 17 Mount Sophia: [41.114810000000034, -75.30128999999994]\n",
      "367  Coordinate of 734 Upper Changi Road East: [1.3453742076388409, 103.96384454516874]\n",
      "368  Coordinate of 60 Chestnut Avenue: [52.08789000000007, -0.25981999999993377]\n",
      "369  Coordinate of Orchard / River Valley (D9): [44.96958879322924, -115.48743983952419]\n",
      "370  Coordinate of 17 Gambir Walk: [1.344864587925784, 103.87510173203196]\n",
      "371  Coordinate of 80 Wilkie Road: [1.3031400000000417, 103.84774000000004]\n",
      "372  Coordinate of 41A Bedok Ria Crescent: None\n",
      "373  Coordinate of 1 Lorong 27 Geylang: [1.3139404781693287, 103.88356091635467]\n",
      "374  Coordinate of 14 Canberra Drive: [1.4387457591661956, 103.8316878321728]\n"
     ]
    },
    {
     "name": "stderr",
     "output_type": "stream",
     "text": [
      "Status code Unknown from https://geocode.arcgis.com/arcgis/rest/services/World/GeocodeServer/find: ERROR - HTTPSConnectionPool(host='geocode.arcgis.com', port=443): Read timed out. (read timeout=5.0)\n"
     ]
    },
    {
     "name": "stdout",
     "output_type": "stream",
     "text": [
      "375  Coordinate of 99 Prince Charles Crescent: None\n",
      "376  Coordinate of 808 Thomson Road: [22.277480000000025, 114.17496000000006]\n",
      "377  Coordinate of 28 Bukit Batok East Avenue 2: [1.3519734476469267, 103.7578132579838]\n"
     ]
    },
    {
     "name": "stderr",
     "output_type": "stream",
     "text": [
      "Status code Unknown from https://geocode.arcgis.com/arcgis/rest/services/World/GeocodeServer/find: ERROR - HTTPSConnectionPool(host='geocode.arcgis.com', port=443): Max retries exceeded with url: /arcgis/rest/services/World/GeocodeServer/find?f=json&text=8+Sin+Ming+Road&maxLocations=1 (Caused by ConnectTimeoutError(<urllib3.connection.HTTPSConnection object at 0x000002C70048D9A0>, 'Connection to geocode.arcgis.com timed out. (connect timeout=5.0)'))\n"
     ]
    },
    {
     "name": "stdout",
     "output_type": "stream",
     "text": [
      "378  Coordinate of 8 Sin Ming Road: None\n"
     ]
    },
    {
     "name": "stderr",
     "output_type": "stream",
     "text": [
      "Status code Unknown from https://geocode.arcgis.com/arcgis/rest/services/World/GeocodeServer/find: ERROR - HTTPSConnectionPool(host='geocode.arcgis.com', port=443): Read timed out. (read timeout=5.0)\n"
     ]
    },
    {
     "name": "stdout",
     "output_type": "stream",
     "text": [
      "379  Coordinate of 336 River Valley Road: None\n",
      "380  Coordinate of 101 West Coast Vale: [50.67561000000006, -120.32274999999998]\n"
     ]
    },
    {
     "name": "stderr",
     "output_type": "stream",
     "text": [
      "Status code Unknown from https://geocode.arcgis.com/arcgis/rest/services/World/GeocodeServer/find: ERROR - HTTPSConnectionPool(host='geocode.arcgis.com', port=443): Read timed out. (read timeout=5.0)\n"
     ]
    },
    {
     "name": "stdout",
     "output_type": "stream",
     "text": [
      "381  Coordinate of 150 Prince Charles Crescent: None\n"
     ]
    },
    {
     "name": "stderr",
     "output_type": "stream",
     "text": [
      "Status code Unknown from https://geocode.arcgis.com/arcgis/rest/services/World/GeocodeServer/find: ERROR - HTTPSConnectionPool(host='geocode.arcgis.com', port=443): Read timed out. (read timeout=5.0)\n"
     ]
    },
    {
     "name": "stdout",
     "output_type": "stream",
     "text": [
      "382  Coordinate of 10 Meyappa Chettiar Road: None\n",
      "383  Coordinate of 1 Lorong 5 Toa Payoh: [1.3344800000000419, 103.85108000000008]\n",
      "384  Coordinate of 46 Marine Parade Road: [1.2995580962391386, 103.90152392159285]\n",
      "385  Coordinate of 90 Saint Francis Road: [35.68625000000003, -105.94008999999994]\n",
      "386  Coordinate of 3 Meyer Place: [1.2986300000000597, 103.88651000000004]\n",
      "387  Coordinate of 226 Jalan Eunos: [1.32749439278966, 103.9062451961945]\n",
      "388  Coordinate of 10 Sims Drive: [60.30940000000004, 5.322120000000041]\n",
      "389  Coordinate of 180B Bencoolen Street: [1.300047342628928, 103.85130184964511]\n",
      "390  Coordinate of 119D Emerald Hill Road: [40.727961400120805, -75.62540005476941]\n",
      "391  Coordinate of 576 Upper East Coast Road: [1.3128300000000195, 103.92608000000007]\n"
     ]
    },
    {
     "name": "stderr",
     "output_type": "stream",
     "text": [
      "Status code Unknown from https://geocode.arcgis.com/arcgis/rest/services/World/GeocodeServer/find: ERROR - HTTPSConnectionPool(host='geocode.arcgis.com', port=443): Read timed out. (read timeout=5.0)\n"
     ]
    },
    {
     "name": "stdout",
     "output_type": "stream",
     "text": [
      "392  Coordinate of 25 Simei Street 3: None\n"
     ]
    },
    {
     "name": "stderr",
     "output_type": "stream",
     "text": [
      "Status code Unknown from https://geocode.arcgis.com/arcgis/rest/services/World/GeocodeServer/find: ERROR - HTTPSConnectionPool(host='geocode.arcgis.com', port=443): Read timed out. (read timeout=5.0)\n"
     ]
    },
    {
     "name": "stdout",
     "output_type": "stream",
     "text": [
      "393  Coordinate of 6 Buckley Road: None\n",
      "394  Coordinate of 95 Prince Charles Crescent: [46.308248986453, -63.76340286916063]\n",
      "395  Coordinate of 308 Telok Kurau Road: None\n"
     ]
    },
    {
     "name": "stderr",
     "output_type": "stream",
     "text": [
      "Status code Unknown from https://geocode.arcgis.com/arcgis/rest/services/World/GeocodeServer/find: ERROR - HTTPSConnectionPool(host='geocode.arcgis.com', port=443): Read timed out. (read timeout=5.0)\n"
     ]
    },
    {
     "name": "stdout",
     "output_type": "stream",
     "text": [
      "396  Coordinate of 65 Devonshire Road: None\n"
     ]
    },
    {
     "name": "stderr",
     "output_type": "stream",
     "text": [
      "Status code Unknown from https://geocode.arcgis.com/arcgis/rest/services/World/GeocodeServer/find: ERROR - HTTPSConnectionPool(host='geocode.arcgis.com', port=443): Read timed out. (read timeout=5.0)\n"
     ]
    },
    {
     "name": "stdout",
     "output_type": "stream",
     "text": [
      "397  Coordinate of 3 Chwee Chian Road: None\n",
      "398  Coordinate of 12 Meyappa Chettiar Road: [1.3309250392283942, 103.8676230480909]\n",
      "399  Coordinate of 38 Draycott Drive: [1.309632976217955, 103.8306884578572]\n",
      "400  Coordinate of 3 Suffolk Road: [40.853367722786736, -72.44441292775011]\n"
     ]
    },
    {
     "name": "stderr",
     "output_type": "stream",
     "text": [
      "Status code Unknown from https://geocode.arcgis.com/arcgis/rest/services/World/GeocodeServer/find: ERROR - HTTPSConnectionPool(host='geocode.arcgis.com', port=443): Read timed out. (read timeout=5.0)\n"
     ]
    },
    {
     "name": "stdout",
     "output_type": "stream",
     "text": [
      "401  Coordinate of 131 Serangoon Avenue 3: None\n",
      "402  Coordinate of 145 Serangoon Avenue 3: [1.3525200000000268, 103.87036000000006]\n",
      "403  Coordinate of 2 Ford Avenue: [37.761125046649795, -100.00428319016666]\n"
     ]
    },
    {
     "name": "stderr",
     "output_type": "stream",
     "text": [
      "Status code Unknown from https://geocode.arcgis.com/arcgis/rest/services/World/GeocodeServer/find: ERROR - HTTPSConnectionPool(host='geocode.arcgis.com', port=443): Read timed out. (read timeout=5.0)\n"
     ]
    },
    {
     "name": "stdout",
     "output_type": "stream",
     "text": [
      "404  Coordinate of 39 Marine Parade: None\n"
     ]
    },
    {
     "name": "stderr",
     "output_type": "stream",
     "text": [
      "Status code Unknown from https://geocode.arcgis.com/arcgis/rest/services/World/GeocodeServer/find: ERROR - HTTPSConnectionPool(host='geocode.arcgis.com', port=443): Max retries exceeded with url: /arcgis/rest/services/World/GeocodeServer/find?f=json&text=1+Claymore+Drive&maxLocations=1 (Caused by ConnectTimeoutError(<urllib3.connection.HTTPSConnection object at 0x000002C70050A790>, 'Connection to geocode.arcgis.com timed out. (connect timeout=5.0)'))\n"
     ]
    },
    {
     "name": "stdout",
     "output_type": "stream",
     "text": [
      "405  Coordinate of 1 Claymore Drive: None\n"
     ]
    },
    {
     "name": "stderr",
     "output_type": "stream",
     "text": [
      "Status code Unknown from https://geocode.arcgis.com/arcgis/rest/services/World/GeocodeServer/find: ERROR - HTTPSConnectionPool(host='geocode.arcgis.com', port=443): Read timed out. (read timeout=5.0)\n"
     ]
    },
    {
     "name": "stdout",
     "output_type": "stream",
     "text": [
      "406  Coordinate of 21 Tampines Street 86: None\n"
     ]
    },
    {
     "name": "stderr",
     "output_type": "stream",
     "text": [
      "Status code Unknown from https://geocode.arcgis.com/arcgis/rest/services/World/GeocodeServer/find: ERROR - HTTPSConnectionPool(host='geocode.arcgis.com', port=443): Read timed out. (read timeout=5.0)\n"
     ]
    },
    {
     "name": "stdout",
     "output_type": "stream",
     "text": [
      "407  Coordinate of 2 Fifth Avenue: None\n"
     ]
    },
    {
     "name": "stderr",
     "output_type": "stream",
     "text": [
      "Status code Unknown from https://geocode.arcgis.com/arcgis/rest/services/World/GeocodeServer/find: ERROR - HTTPSConnectionPool(host='geocode.arcgis.com', port=443): Read timed out. (read timeout=5.0)\n"
     ]
    },
    {
     "name": "stdout",
     "output_type": "stream",
     "text": [
      "408  Coordinate of 93 Tampines Avenue 1: None\n",
      "409  Coordinate of 112 Oxley Rise: [41.4553503853735, -93.13457995333457]\n"
     ]
    },
    {
     "name": "stderr",
     "output_type": "stream",
     "text": [
      "Status code Unknown from https://geocode.arcgis.com/arcgis/rest/services/World/GeocodeServer/find: ERROR - HTTPSConnectionPool(host='geocode.arcgis.com', port=443): Read timed out. (read timeout=5.0)\n"
     ]
    },
    {
     "name": "stdout",
     "output_type": "stream",
     "text": [
      "410  Coordinate of 21 Lorong 28 Geylang: None\n"
     ]
    },
    {
     "name": "stderr",
     "output_type": "stream",
     "text": [
      "Status code Unknown from https://geocode.arcgis.com/arcgis/rest/services/World/GeocodeServer/find: ERROR - HTTPSConnectionPool(host='geocode.arcgis.com', port=443): Max retries exceeded with url: /arcgis/rest/services/World/GeocodeServer/find?f=json&text=218+Pasir+Panjang+Road&maxLocations=1 (Caused by ConnectTimeoutError(<urllib3.connection.HTTPSConnection object at 0x000002C77ED78D30>, 'Connection to geocode.arcgis.com timed out. (connect timeout=5.0)'))\n"
     ]
    },
    {
     "name": "stdout",
     "output_type": "stream",
     "text": [
      "411  Coordinate of 218 Pasir Panjang Road: None\n",
      "412  Coordinate of 86 Tanah Merah Kechil Avenue: [1.3284415478484846, 103.94634958540382]\n",
      "413  Coordinate of 6 Tanah Merah Kechil Link: [-27.684797828476682, 153.17943493788562]\n",
      "414  Coordinate of 408 River Valley Road: [51.14365423833564, 1.276944811286641]\n",
      "415  Coordinate of 1F Pine Grove: [38.41346000000004, -120.65952999999996]\n",
      "416  Coordinate of 400 River Valley Road: [51.14365423833564, 1.276944811286641]\n"
     ]
    },
    {
     "name": "stderr",
     "output_type": "stream",
     "text": [
      "Status code Unknown from https://geocode.arcgis.com/arcgis/rest/services/World/GeocodeServer/find: ERROR - HTTPSConnectionPool(host='geocode.arcgis.com', port=443): Read timed out. (read timeout=5.0)\n"
     ]
    },
    {
     "name": "stdout",
     "output_type": "stream",
     "text": [
      "417  Coordinate of 238 Orchard Boulevard: None\n",
      "418  Coordinate of 5A Shenton Way: [52.59977683500006, -1.4155915509999772]\n",
      "419  Coordinate of 10 Bedok Rise: [1.3270811649631185, 103.94777232964884]\n",
      "420  Coordinate of 2 Akyab Road: [1.3224429131124396, 103.84817553863309]\n",
      "421  Coordinate of 6 Saint Martin's Drive: [51.26834744048902, 1.0910477084931969]\n",
      "422  Coordinate of 21 Marina Way: [-35.04148495618323, 138.51330507943095]\n",
      "423  Coordinate of 34 Bayshore Road: [40.73536000000007, -73.28455999999994]\n",
      "424  Coordinate of 80 Grange Road: [43.56711000000007, -80.22628999999995]\n",
      "425  Coordinate of 298 Beach Road: [11.923890000000029, 79.83346000000006]\n",
      "426  Coordinate of 30 Keppel Bay Drive: [50.05326001441725, 9.067870000874564]\n",
      "427  Coordinate of 12 West Coast Road: [12.968920000000026, 80.25759000000005]\n",
      "428  Coordinate of 172 Jalan Jurong Kechil: [1.3447230594906614, 103.76962218609157]\n",
      "429  Coordinate of 2 Mistri Road: [1.2742635660219293, 103.84600680500546]\n"
     ]
    },
    {
     "name": "stderr",
     "output_type": "stream",
     "text": [
      "Status code Unknown from https://geocode.arcgis.com/arcgis/rest/services/World/GeocodeServer/find: ERROR - HTTPSConnectionPool(host='geocode.arcgis.com', port=443): Read timed out. (read timeout=5.0)\n"
     ]
    },
    {
     "name": "stdout",
     "output_type": "stream",
     "text": [
      "430  Coordinate of 70 Dakota Crescent: None\n",
      "431  Coordinate of 233 Upper Paya Lebar Road: None\n",
      "432  Coordinate of 1 Simei Street 4: [53.79735000000005, -1.7584599999999568]\n",
      "433  Coordinate of 23 Jalan Rajah: [34.79639000000003, 70.33083000000005]\n",
      "434  Coordinate of 1 Leedon Heights: [41.03717000000006, -111.92410999999998]\n",
      "435  Coordinate of 608 Telok Blangah Road: [1.2716406170612373, 103.8076378888486]\n"
     ]
    },
    {
     "name": "stderr",
     "output_type": "stream",
     "text": [
      "Status code Unknown from https://geocode.arcgis.com/arcgis/rest/services/World/GeocodeServer/find: ERROR - HTTPSConnectionPool(host='geocode.arcgis.com', port=443): Read timed out. (read timeout=5.0)\n"
     ]
    },
    {
     "name": "stdout",
     "output_type": "stream",
     "text": [
      "436  Coordinate of 2 Whampoa East: None\n"
     ]
    },
    {
     "name": "stderr",
     "output_type": "stream",
     "text": [
      "Status code Unknown from https://geocode.arcgis.com/arcgis/rest/services/World/GeocodeServer/find: ERROR - HTTPSConnectionPool(host='geocode.arcgis.com', port=443): Max retries exceeded with url: /arcgis/rest/services/World/GeocodeServer/find?f=json&text=18+Tanah+Merah+Kechil+Link&maxLocations=1 (Caused by ConnectTimeoutError(<urllib3.connection.HTTPSConnection object at 0x000002C7004AEEE0>, 'Connection to geocode.arcgis.com timed out. (connect timeout=5.0)'))\n"
     ]
    },
    {
     "name": "stdout",
     "output_type": "stream",
     "text": [
      "437  Coordinate of 18 Tanah Merah Kechil Link: None\n",
      "438  Coordinate of 8 Jelebu Road: [1.3786165422660446, 103.76261550177009]\n",
      "439  Coordinate of 114 Oxley Rise: [55.059090000000026, 9.33278000000007]\n",
      "440  Coordinate of 8 Lorong 26 Geylang: [1.312445062823798, 103.88457646774339]\n",
      "441  Coordinate of 70 Lorong M Telok Kurau: [1.0666700000000446, 102.25000000000006]\n",
      "442  Coordinate of 62 Havelock Road: [40.853810023064696, -96.63581935483596]\n",
      "443  Coordinate of Tanglin / Holland (D10): [53.34063538600003, -6.354218456999945]\n",
      "444  Coordinate of 76 Lorong M Telok Kurau: [1.0666700000000446, 102.25000000000006]\n",
      "445  Coordinate of 57 Grange Road: [43.56711000000007, -80.22628999999995]\n",
      "446  Coordinate of 87 Pasir Panjang Hill: [1.2825500000000716, 103.78559000000007]\n",
      "447  Coordinate of 30 Mount Sophia: [41.114810000000034, -75.30128999999994]\n",
      "448  Coordinate of 5 Cuscaden Walk: [50.44572000000005, 6.102460000000065]\n"
     ]
    },
    {
     "name": "stderr",
     "output_type": "stream",
     "text": [
      "Status code Unknown from https://geocode.arcgis.com/arcgis/rest/services/World/GeocodeServer/find: ERROR - HTTPSConnectionPool(host='geocode.arcgis.com', port=443): Read timed out. (read timeout=5.0)\n"
     ]
    },
    {
     "name": "stdout",
     "output_type": "stream",
     "text": [
      "449  Coordinate of 33 Keppel Bay View: None\n"
     ]
    },
    {
     "name": "stderr",
     "output_type": "stream",
     "text": [
      "Status code Unknown from https://geocode.arcgis.com/arcgis/rest/services/World/GeocodeServer/find: ERROR - HTTPSConnectionPool(host='geocode.arcgis.com', port=443): Read timed out. (read timeout=5.0)\n"
     ]
    },
    {
     "name": "stdout",
     "output_type": "stream",
     "text": [
      "450  Coordinate of 26 Choa Chu Kang Street 64: None\n",
      "451  Coordinate of 55 Siglap Road: None\n"
     ]
    },
    {
     "name": "stderr",
     "output_type": "stream",
     "text": [
      "Status code Unknown from https://geocode.arcgis.com/arcgis/rest/services/World/GeocodeServer/find: ERROR - HTTPSConnectionPool(host='geocode.arcgis.com', port=443): Read timed out. (read timeout=5.0)\n"
     ]
    },
    {
     "name": "stdout",
     "output_type": "stream",
     "text": [
      "452  Coordinate of 26 Sea Avenue: None\n"
     ]
    },
    {
     "name": "stderr",
     "output_type": "stream",
     "text": [
      "Status code Unknown from https://geocode.arcgis.com/arcgis/rest/services/World/GeocodeServer/find: ERROR - HTTPSConnectionPool(host='geocode.arcgis.com', port=443): Read timed out. (read timeout=5.0)\n"
     ]
    },
    {
     "name": "stdout",
     "output_type": "stream",
     "text": [
      "453  Coordinate of 11 Bedok South Avenue 3: None\n"
     ]
    },
    {
     "name": "stderr",
     "output_type": "stream",
     "text": [
      "Status code Unknown from https://geocode.arcgis.com/arcgis/rest/services/World/GeocodeServer/find: ERROR - HTTPSConnectionPool(host='geocode.arcgis.com', port=443): Read timed out. (read timeout=5.0)\n"
     ]
    },
    {
     "name": "stdout",
     "output_type": "stream",
     "text": [
      "454  Coordinate of 26 Bedok North Drive: None\n",
      "455  Coordinate of 53 Jurong East Avenue 1: [1.3440530520603318, 103.73336006129784]\n",
      "456  Coordinate of 11B Nassim Road: None\n",
      "457  Coordinate of 31 Tan Kim Cheng Road: [1.321039866339902, 103.8117342087495]\n",
      "458  Coordinate of 551 East Coast Road: [1.3046600000000694, 103.90420000000006]\n",
      "459  Coordinate of 68 Stevens Road: [37.35031094079943, -101.06799355364694]\n",
      "460  Coordinate of 45 Amber Road: [26.951320000000067, 75.84682000000004]\n",
      "461  Coordinate of 38 Dover Rise: [51.15461829674543, 1.3843897475154827]\n",
      "462  Coordinate of 57 Pasir Ris Drive 1: [1.3736291841481005, 103.9414596669103]\n",
      "463  Coordinate of 7 Serangoon North View: [39.29541000000006, -80.35137999999995]\n",
      "464  Coordinate of 20 Lincoln Road: [52.58834000000007, -0.24678999999997586]\n",
      "465  Coordinate of 255 Arcadia Road: [37.75739016182495, -94.64013975501877]\n",
      "466  Coordinate of 33 Simei Street 4: [1.3418678047001196, 103.95609900039483]\n",
      "467  Coordinate of 2 Cactus Road: [54.176420000000064, 45.18661000000003]\n",
      "468  Coordinate of 11B Mount Sinai Lane: [1.3154843828247351, 103.78452286300461]\n",
      "469  Coordinate of 1 Keppel Bay Drive: [48.859370015030436, 13.401140018087403]\n",
      "470  Coordinate of 127 Lorong L Telok Kurau: [1.0666700000000446, 102.25000000000006]\n",
      "471  Coordinate of 99 Sophia Road: [-32.88238999999993, -68.84392999999994]\n",
      "472  Coordinate of 1 Balmoral Crescent: [1.3158159290048417, 103.8339667878272]\n",
      "473  Coordinate of 22 Lorong Puntong: [1.3605767587947497, 103.83131793878567]\n"
     ]
    },
    {
     "name": "stderr",
     "output_type": "stream",
     "text": [
      "Status code Unknown from https://geocode.arcgis.com/arcgis/rest/services/World/GeocodeServer/find: ERROR - HTTPSConnectionPool(host='geocode.arcgis.com', port=443): Read timed out. (read timeout=5.0)\n"
     ]
    },
    {
     "name": "stdout",
     "output_type": "stream",
     "text": [
      "474  Coordinate of 1 Duchess Road: None\n",
      "475  Coordinate of 139 Tyrwhitt Road: [1.3115820620728584, 103.8599444012437]\n"
     ]
    },
    {
     "name": "stderr",
     "output_type": "stream",
     "text": [
      "Status code Unknown from https://geocode.arcgis.com/arcgis/rest/services/World/GeocodeServer/find: ERROR - HTTPSConnectionPool(host='geocode.arcgis.com', port=443): Read timed out. (read timeout=5.0)\n"
     ]
    },
    {
     "name": "stdout",
     "output_type": "stream",
     "text": [
      "476  Coordinate of 12 Devonshire Road: None\n",
      "477  Coordinate of 10 Lorong Limau: [4.826100044802807, 100.69876007768269]\n",
      "478  Coordinate of 36 Ah Hood Road: [1.3284728123473286, 103.84835859939847]\n",
      "479  Coordinate of 75 Yishun Avenue 11: [1.4244784188570776, 103.84796213537828]\n",
      "480  Coordinate of 6 Tanjong Rhu Road: [1.298322352253976, 103.88450103061484]\n",
      "481  Coordinate of 90 Robertson Quay: [1.2908341275951045, 103.8372803217905]\n",
      "482  Coordinate of 5 Shenton Way: [41.29335692514571, -73.0691898457389]\n",
      "483  Coordinate of 8 Paterson Hill: [59.293690000000026, -99.65684999999996]\n",
      "484  Coordinate of 4 Meyappa Chettiar Road: [1.3309250392283942, 103.8676230480909]\n",
      "485  Coordinate of 5 Mount Emily Road: [46.62163975821103, -111.96258136912091]\n",
      "486  Coordinate of 122 Race Course Road: [31.65202000000005, 74.88089000000008]\n",
      "487  Coordinate of 162 Haig Road: [1.3063400000000343, 103.89877000000007]\n",
      "488  Coordinate of 533 Bedok Reservoir Road: [1.342610000000036, 103.92539000000005]\n",
      "489  Coordinate of 93 Pasir Ris Grove: [1.3709201949513101, 103.94389821400114]\n",
      "490  Coordinate of 4 Kitchener Link: [14.567170000000033, 121.03331000000003]\n",
      "491  Coordinate of 191 Meyer Road: None\n"
     ]
    },
    {
     "name": "stderr",
     "output_type": "stream",
     "text": [
      "Status code Unknown from https://geocode.arcgis.com/arcgis/rest/services/World/GeocodeServer/find: ERROR - HTTPSConnectionPool(host='geocode.arcgis.com', port=443): Read timed out. (read timeout=5.0)\n"
     ]
    },
    {
     "name": "stdout",
     "output_type": "stream",
     "text": [
      "492  Coordinate of 9 Tan Quee Lan Street: None\n"
     ]
    },
    {
     "name": "stderr",
     "output_type": "stream",
     "text": [
      "Status code Unknown from https://geocode.arcgis.com/arcgis/rest/services/World/GeocodeServer/find: ERROR - HTTPSConnectionPool(host='geocode.arcgis.com', port=443): Max retries exceeded with url: /arcgis/rest/services/World/GeocodeServer/find?f=json&text=20+Craig+Road&maxLocations=1 (Caused by ConnectTimeoutError(<urllib3.connection.HTTPSConnection object at 0x000002C700504070>, 'Connection to geocode.arcgis.com timed out. (connect timeout=5.0)'))\n"
     ]
    },
    {
     "name": "stdout",
     "output_type": "stream",
     "text": [
      "493  Coordinate of 20 Craig Road: None\n"
     ]
    },
    {
     "name": "stderr",
     "output_type": "stream",
     "text": [
      "Status code Unknown from https://geocode.arcgis.com/arcgis/rest/services/World/GeocodeServer/find: ERROR - HTTPSConnectionPool(host='geocode.arcgis.com', port=443): Max retries exceeded with url: /arcgis/rest/services/World/GeocodeServer/find?f=json&text=16+Jalan+Novena+Barat&maxLocations=1 (Caused by NewConnectionError('<urllib3.connection.HTTPSConnection object at 0x000002C7004AE040>: Failed to establish a new connection: [Errno 11001] getaddrinfo failed'))\n"
     ]
    },
    {
     "name": "stdout",
     "output_type": "stream",
     "text": [
      "494  Coordinate of 16 Jalan Novena Barat: None\n",
      "495  Coordinate of 4B Liang Seah Street: [1.2974400000000514, 103.85642000000007]\n",
      "496  Coordinate of 3 Fraser Street: [53.409980000000076, -2.9765199999999368]\n",
      "497  Coordinate of 160 Haig Road: None\n",
      "498  Coordinate of 3A Ontario Avenue: [42.890250034579196, -78.93063491160545]\n",
      "499  Coordinate of 1177 Serangoon Road: None\n",
      "500  Coordinate of 61 Lorong Sarhad: [1.280368860475889, 103.78899226141579]\n",
      "501  Coordinate of 23 Hillview Avenue: [12.967800000000068, 80.10269000000005]\n",
      "502  Coordinate of 331 River Valley Road: [51.14365423833564, 1.276944811286641]\n",
      "503  Coordinate of 132 Tanjong Rhu Road: [1.2975516362569977, 103.87060199113125]\n",
      "504  Coordinate of 1 Zion Close: None\n",
      "505  Coordinate of 32 Choa Chu Kang Street 64: [1.398082883748259, 103.751312421519]\n",
      "506  Coordinate of 100 Jervois Road: [-35.257649999999956, 139.45162000000005]\n",
      "507  Coordinate of 21 Leonie Hill: [51.36938760262401, 1.1140542092929855]\n"
     ]
    },
    {
     "name": "stderr",
     "output_type": "stream",
     "text": [
      "Status code Unknown from https://geocode.arcgis.com/arcgis/rest/services/World/GeocodeServer/find: ERROR - HTTPSConnectionPool(host='geocode.arcgis.com', port=443): Read timed out. (read timeout=5.0)\n"
     ]
    },
    {
     "name": "stdout",
     "output_type": "stream",
     "text": [
      "508  Coordinate of 70 Saint Patrick's Road: None\n"
     ]
    },
    {
     "name": "stderr",
     "output_type": "stream",
     "text": [
      "Status code Unknown from https://geocode.arcgis.com/arcgis/rest/services/World/GeocodeServer/find: ERROR - HTTPSConnectionPool(host='geocode.arcgis.com', port=443): Read timed out. (read timeout=5.0)\n"
     ]
    },
    {
     "name": "stdout",
     "output_type": "stream",
     "text": [
      "509  Coordinate of 13 Cove Drive: None\n"
     ]
    },
    {
     "name": "stderr",
     "output_type": "stream",
     "text": [
      "Status code Unknown from https://geocode.arcgis.com/arcgis/rest/services/World/GeocodeServer/find: ERROR - HTTPSConnectionPool(host='geocode.arcgis.com', port=443): Read timed out. (read timeout=5.0)\n"
     ]
    },
    {
     "name": "stdout",
     "output_type": "stream",
     "text": [
      "510  Coordinate of 83 Yishun Street 81: None\n",
      "511  Coordinate of 4 Sinaran Drive: [1.3192963885698958, 103.84548385806636]\n",
      "512  Coordinate of 8 Farrer Road: [43.657423552320225, -97.78042993655933]\n",
      "513  Coordinate of 31 Simei Rise: [1.349837990174919, 103.96140046602181]\n",
      "514  Coordinate of 130 Serangoon Avenue 3: [1.3525200000000268, 103.87036000000006]\n",
      "515  Coordinate of 1 Opal Crescent: [1.327512455791009, 103.86729189374825]\n",
      "516  Coordinate of 118 Killiney Road: [1.2979700000000207, 103.83841000000007]\n",
      "517  Coordinate of 17 Fernvale Lane: [44.108926099497545, -123.1340644891227]\n",
      "518  Coordinate of 109 Petir Road: None\n",
      "519  Coordinate of 47B Edgefield Plains: [1.401133435499446, 103.90807261872482]\n",
      "520  Coordinate of 81 West Coast Crescent: [1.298083048918329, 103.76431442972472]\n",
      "521  Coordinate of 1 Sin Ming Walk: [1.3647702474669394, 103.83211144162736]\n",
      "522  Coordinate of 22 Bayshore Road: [40.73536000000007, -73.28455999999994]\n",
      "523  Coordinate of 78 Tanah Merah Kechil Avenue: [1.3280525856316387, 103.94689809714765]\n",
      "524  Coordinate of 3 Paya Lebar Crescent: [34.232973200234234, -118.25740908167037]\n",
      "525  Coordinate of 9 Still Road: [36.83600700000005, -76.30119399999995]\n",
      "526  Coordinate of 33 Mackenzie Road: [1.304770000000076, 103.84953000000007]\n",
      "527  Coordinate of 9 Sophia Road: [-32.88238999999993, -68.84392999999994]\n",
      "528  Coordinate of 15 Mount Emily Road: [46.62163975821103, -111.96258136912091]\n",
      "529  Coordinate of 22 Canberra Drive: [1.4451860706598507, 103.82598589511878]\n",
      "530  Coordinate of 16 Stirling Road: [56.06626000000006, -4.4509499999999775]\n",
      "531  Coordinate of 402 Orchard Road: [14.583750000000066, 121.05648000000008]\n",
      "532  Coordinate of 335 East Coast Road: [1.3046600000000694, 103.90420000000006]\n",
      "533  Coordinate of 3 Amber Gardens: [22.26457010000007, 114.18844230000002]\n",
      "534  Coordinate of 18 Evelyn Road: [38.938420000000065, -81.34428999999994]\n",
      "535  Coordinate of 136 Tanjong Rhu Road: [1.2980837613800986, 103.87103131221187]\n",
      "536  Coordinate of 50 Tanah Merah Kechil Avenue: [1.3297420839451917, 103.94567039978955]\n",
      "537  Coordinate of 369 Holland Road: [52.78782000000007, -0.14715999999992846]\n",
      "538  Coordinate of 7 West Coast Walk: [12.968920000000026, 80.25759000000005]\n",
      "539  Coordinate of 16 Bedok North Drive: [1.324987784645046, 103.92861238863719]\n",
      "540  Coordinate of 1 Kim Tian Road: [1.2840138987098015, 103.82975664168117]\n",
      "541  Coordinate of 139 Pasir Ris Grove: [1.3685736811573435, 103.94557115805594]\n"
     ]
    },
    {
     "name": "stderr",
     "output_type": "stream",
     "text": [
      "Status code Unknown from https://geocode.arcgis.com/arcgis/rest/services/World/GeocodeServer/find: ERROR - HTTPSConnectionPool(host='geocode.arcgis.com', port=443): Read timed out. (read timeout=5.0)\n"
     ]
    },
    {
     "name": "stdout",
     "output_type": "stream",
     "text": [
      "542  Coordinate of 26 Jalan Lempeng: None\n"
     ]
    },
    {
     "name": "stderr",
     "output_type": "stream",
     "text": [
      "Status code Unknown from https://geocode.arcgis.com/arcgis/rest/services/World/GeocodeServer/find: ERROR - HTTPSConnectionPool(host='geocode.arcgis.com', port=443): Read timed out. (read timeout=5.0)\n"
     ]
    },
    {
     "name": "stdout",
     "output_type": "stream",
     "text": [
      "543  Coordinate of 201 Tanjong Rhu Road: None\n"
     ]
    },
    {
     "name": "stderr",
     "output_type": "stream",
     "text": [
      "Status code Unknown from https://geocode.arcgis.com/arcgis/rest/services/World/GeocodeServer/find: ERROR - HTTPSConnectionPool(host='geocode.arcgis.com', port=443): Read timed out. (read timeout=5.0)\n"
     ]
    },
    {
     "name": "stdout",
     "output_type": "stream",
     "text": [
      "544  Coordinate of 1 Lorong 41 Geylang: None\n"
     ]
    },
    {
     "name": "stderr",
     "output_type": "stream",
     "text": [
      "Status code Unknown from https://geocode.arcgis.com/arcgis/rest/services/World/GeocodeServer/find: ERROR - HTTPSConnectionPool(host='geocode.arcgis.com', port=443): Read timed out. (read timeout=5.0)\n"
     ]
    },
    {
     "name": "stdout",
     "output_type": "stream",
     "text": [
      "545  Coordinate of 13 Lorong 41 Geylang: None\n"
     ]
    },
    {
     "name": "stderr",
     "output_type": "stream",
     "text": [
      "Status code Unknown from https://geocode.arcgis.com/arcgis/rest/services/World/GeocodeServer/find: ERROR - HTTPSConnectionPool(host='geocode.arcgis.com', port=443): Read timed out. (read timeout=5.0)\n"
     ]
    },
    {
     "name": "stdout",
     "output_type": "stream",
     "text": [
      "546  Coordinate of 29 Lorong 41 Geylang: None\n",
      "547  Coordinate of 28 Alexandra View: [31.230680000000064, 29.94781000000006]\n"
     ]
    },
    {
     "name": "stderr",
     "output_type": "stream",
     "text": [
      "Status code Unknown from https://geocode.arcgis.com/arcgis/rest/services/World/GeocodeServer/find: ERROR - HTTPSConnectionPool(host='geocode.arcgis.com', port=443): Read timed out. (read timeout=5.0)\n"
     ]
    },
    {
     "name": "stdout",
     "output_type": "stream",
     "text": [
      "548  Coordinate of 3 Bideford Road: None\n"
     ]
    },
    {
     "name": "stderr",
     "output_type": "stream",
     "text": [
      "Status code Unknown from https://geocode.arcgis.com/arcgis/rest/services/World/GeocodeServer/find: ERROR - HTTPSConnectionPool(host='geocode.arcgis.com', port=443): Read timed out. (read timeout=5.0)\n"
     ]
    },
    {
     "name": "stdout",
     "output_type": "stream",
     "text": [
      "549  Coordinate of 1 Simei Street 3: None\n",
      "550  Coordinate of 55 Cairnhill Road: [57.435253440000054, -2.7583398269999293]\n",
      "551  Coordinate of 50 Lorong 40 Geylang: [1.3121920131669356, 103.88946470985627]\n",
      "552  Coordinate of 11 Kee Seng Street: [1.2749381415894874, 103.84217929273944]\n",
      "553  Coordinate of 2 Meyappa Chettiar Road: [1.3309250392283942, 103.8676230480909]\n",
      "554  Coordinate of 175B Bencoolen Street: [1.300047342628928, 103.85130184964511]\n",
      "555  Coordinate of 549 East Coast Road: [1.3046600000000694, 103.90420000000006]\n",
      "556  Coordinate of 11 Orchard Turn: [1.303026988777816, 103.8330485503343]\n",
      "557  Coordinate of 1A Surrey Road: [49.00474780556173, -122.74177433300612]\n",
      "558  Coordinate of 33 Tan Kim Cheng Road: [1.3209051272463483, 103.81162859676948]\n"
     ]
    },
    {
     "name": "stderr",
     "output_type": "stream",
     "text": [
      "Status code Unknown from https://geocode.arcgis.com/arcgis/rest/services/World/GeocodeServer/find: ERROR - HTTPSConnectionPool(host='geocode.arcgis.com', port=443): Read timed out. (read timeout=5.0)\n"
     ]
    },
    {
     "name": "stdout",
     "output_type": "stream",
     "text": [
      "559  Coordinate of 80 Lorong M Telok Kurau: None\n"
     ]
    },
    {
     "name": "stderr",
     "output_type": "stream",
     "text": [
      "Status code Unknown from https://geocode.arcgis.com/arcgis/rest/services/World/GeocodeServer/find: ERROR - HTTPSConnectionPool(host='geocode.arcgis.com', port=443): Read timed out. (read timeout=5.0)\n"
     ]
    },
    {
     "name": "stdout",
     "output_type": "stream",
     "text": [
      "560  Coordinate of 32 Lorong Mydin: None\n",
      "561  Coordinate of 1 North Bridge Road: [53.52906000000007, -1.1450899999999251]\n",
      "562  Coordinate of 1 Youngberg Terrace: [1.3393558754303285, 103.86979389184609]\n",
      "563  Coordinate of 28 Race Course Lane: [1.3097000000000207, 103.85299000000003]\n",
      "564  Coordinate of 23A Pasir Panjang Close: [1.2919672284913244, 103.77213393336858]\n",
      "565  Coordinate of 66 Flora Drive: None\n",
      "566  Coordinate of 24 Bukit Batok Street 52: [1.355158528944088, 103.7524049187789]\n",
      "567  Coordinate of 2 Geylang East Avenue 2: [1.3170311373272057, 103.89049962344137]\n",
      "568  Coordinate of 1 Dundee Road: [42.5784890733505, -91.54667500985849]\n"
     ]
    },
    {
     "name": "stderr",
     "output_type": "stream",
     "text": [
      "Status code Unknown from https://geocode.arcgis.com/arcgis/rest/services/World/GeocodeServer/find: ERROR - HTTPSConnectionPool(host='geocode.arcgis.com', port=443): Read timed out. (read timeout=5.0)\n"
     ]
    },
    {
     "name": "stdout",
     "output_type": "stream",
     "text": [
      "569  Coordinate of 70 Elias Road: None\n",
      "570  Coordinate of 780 Upper Serangoon Road: None\n"
     ]
    },
    {
     "name": "stderr",
     "output_type": "stream",
     "text": [
      "Status code Unknown from https://geocode.arcgis.com/arcgis/rest/services/World/GeocodeServer/find: ERROR - HTTPSConnectionPool(host='geocode.arcgis.com', port=443): Read timed out. (read timeout=5.0)\n"
     ]
    },
    {
     "name": "stdout",
     "output_type": "stream",
     "text": [
      "571  Coordinate of 83 Clemenceau Avenue: None\n",
      "572  Coordinate of 75 Jalan Loyang Besar: [3.709600000000023, 98.68590000000006]\n",
      "573  Coordinate of 9 Jalan Membina: [1.2844940141236805, 103.82779904819455]\n"
     ]
    },
    {
     "name": "stderr",
     "output_type": "stream",
     "text": [
      "Status code Unknown from https://geocode.arcgis.com/arcgis/rest/services/World/GeocodeServer/find: ERROR - HTTPSConnectionPool(host='geocode.arcgis.com', port=443): Read timed out. (read timeout=5.0)\n"
     ]
    },
    {
     "name": "stdout",
     "output_type": "stream",
     "text": [
      "574  Coordinate of 8 Minbu Road: None\n",
      "575  Coordinate of 10 Alexandra View: [-45.25953292667288, 169.38250871772692]\n",
      "576  Coordinate of 112 Holland Road: [52.78782000000007, -0.14715999999992846]\n",
      "577  Coordinate of 10 Jurong Lake Link: [1.3419400000000223, 103.72639000000004]\n"
     ]
    },
    {
     "name": "stderr",
     "output_type": "stream",
     "text": [
      "Status code Unknown from https://geocode.arcgis.com/arcgis/rest/services/World/GeocodeServer/find: ERROR - HTTPSConnectionPool(host='geocode.arcgis.com', port=443): Read timed out. (read timeout=5.0)\n"
     ]
    },
    {
     "name": "stdout",
     "output_type": "stream",
     "text": [
      "578  Coordinate of 71 Oxley Rise: None\n"
     ]
    },
    {
     "name": "stderr",
     "output_type": "stream",
     "text": [
      "Status code Unknown from https://geocode.arcgis.com/arcgis/rest/services/World/GeocodeServer/find: ERROR - HTTPSConnectionPool(host='geocode.arcgis.com', port=443): Max retries exceeded with url: /arcgis/rest/services/World/GeocodeServer/find?f=json&text=29A+Toh+Tuck+Road&maxLocations=1 (Caused by ConnectTimeoutError(<urllib3.connection.HTTPSConnection object at 0x000002C700504460>, 'Connection to geocode.arcgis.com timed out. (connect timeout=5.0)'))\n"
     ]
    },
    {
     "name": "stdout",
     "output_type": "stream",
     "text": [
      "579  Coordinate of 29A Toh Tuck Road: None\n",
      "580  Coordinate of 63 Bishan Street 21: [1.3494764367814582, 103.8470381143722]\n",
      "581  Coordinate of 43 Hume Avenue: [53.48028794734403, -2.250747400558122]\n"
     ]
    },
    {
     "name": "stderr",
     "output_type": "stream",
     "text": [
      "Status code Unknown from https://geocode.arcgis.com/arcgis/rest/services/World/GeocodeServer/find: ERROR - HTTPSConnectionPool(host='geocode.arcgis.com', port=443): Read timed out. (read timeout=5.0)\n"
     ]
    },
    {
     "name": "stdout",
     "output_type": "stream",
     "text": [
      "582  Coordinate of 302 Beach Road: None\n",
      "583  Coordinate of Chinatown / Tanjong Pagar (D2): [1.2788900000000467, 103.84539000000007]\n"
     ]
    },
    {
     "name": "stderr",
     "output_type": "stream",
     "text": [
      "Status code Unknown from https://geocode.arcgis.com/arcgis/rest/services/World/GeocodeServer/find: ERROR - HTTPSConnectionPool(host='geocode.arcgis.com', port=443): Read timed out. (read timeout=5.0)\n"
     ]
    },
    {
     "name": "stdout",
     "output_type": "stream",
     "text": [
      "584  Coordinate of 31 Lorong Chuan: None\n",
      "585  Coordinate of 1 Devonshire Road: [26.671737000000064, -80.05891499999996]\n",
      "586  Coordinate of 467 River Valley Road: [51.14365423833564, 1.276944811286641]\n",
      "587  Coordinate of 937 Bukit Timah Road: [5.4500000000000455, 100.26667000000003]\n",
      "588  Coordinate of 71 Punggol Central: [1.410030000000063, 103.90594000000004]\n",
      "589  Coordinate of 499 Yio Chu Kang Road: [1.3879700000000526, 103.86879000000005]\n",
      "590  Coordinate of 12 Keppel Bay Drive: [48.86013000219134, 13.399370011593845]\n",
      "591  Coordinate of 18 Spottiswoode Park Road: [1.2755283113920797, 103.83744200870274]\n",
      "592  Coordinate of 30 Shelford Road: [52.974000000000046, -1.0166599999999448]\n",
      "593  Coordinate of 113 West Coast Crescent: [29.477869870346268, -81.56542318560034]\n",
      "594  Coordinate of 68 Jalan Jurong Kechil: [1.3405484945236452, 103.77364902001511]\n",
      "595  Coordinate of 8 Alexandra View: [-45.25953292667288, 169.38250871772692]\n",
      "596  Coordinate of 21 Claymore Road: [1.3079748681317938, 103.83032543763068]\n",
      "597  Coordinate of 28 Yan Kit Road: [1.2744400000000269, 103.84147000000007]\n",
      "598  Coordinate of 27 Kampong Eunos: [1.3208300000000577, 103.91778000000005]\n",
      "599  Coordinate of 3 Balmoral Road: [53.387860000000046, -2.3431399999999485]\n",
      "600  Coordinate of 201 Pearl's Hill Terrace: [1.2834100000000603, 103.84148000000005]\n",
      "601  Coordinate of 33 Fort Road: [6.932161012191273, 79.84677914125473]\n",
      "602  Coordinate of 35 Simei Street 3: [53.79735000000005, -1.7584599999999568]\n",
      "603  Coordinate of 1 Saint Michael'S Road: [53.37751000000003, -2.948789999999974]\n",
      "604  Coordinate of 14 Balmoral Park: [44.23821000000004, -76.60441999999995]\n",
      "605  Coordinate of 1 Khiang Guan Avenue: [1.3171086280220692, 103.84274305954705]\n",
      "606  Coordinate of 18 Nassim Hill: [1.30653997012719, 103.8228609337578]\n",
      "607  Coordinate of 36 Chay Yan Street: None\n",
      "608  Coordinate of 31B West Coast Park: [-33.01593996724856, 18.99386074970686]\n",
      "609  Coordinate of 180 Depot Road: [51.616250000000036, -3.7577499999999304]\n",
      "610  Coordinate of 35 Jurong East Avenue 1: [1.3437774550839237, 103.73400798241329]\n",
      "611  Coordinate of 89 Joo Chiat Place: [-3.377149999999972, 29.37176000000005]\n"
     ]
    },
    {
     "name": "stderr",
     "output_type": "stream",
     "text": [
      "Status code Unknown from https://geocode.arcgis.com/arcgis/rest/services/World/GeocodeServer/find: ERROR - HTTPSConnectionPool(host='geocode.arcgis.com', port=443): Read timed out. (read timeout=5.0)\n"
     ]
    },
    {
     "name": "stdout",
     "output_type": "stream",
     "text": [
      "612  Coordinate of 38 Shanghai Road: None\n"
     ]
    },
    {
     "name": "stderr",
     "output_type": "stream",
     "text": [
      "Status code Unknown from https://geocode.arcgis.com/arcgis/rest/services/World/GeocodeServer/find: ERROR - HTTPSConnectionPool(host='geocode.arcgis.com', port=443): Read timed out. (read timeout=5.0)\n"
     ]
    },
    {
     "name": "stdout",
     "output_type": "stream",
     "text": [
      "613  Coordinate of 88 Jellicoe Road: None\n",
      "614  Coordinate of 11 Lorong 41 Geylang: [1.3155559642778485, 103.89126053261162]\n",
      "615  Coordinate of 3 Robin Drive: [-28.071580882445865, 153.42043715588662]\n"
     ]
    },
    {
     "name": "stderr",
     "output_type": "stream",
     "text": [
      "Status code Unknown from https://geocode.arcgis.com/arcgis/rest/services/World/GeocodeServer/find: ERROR - HTTPSConnectionPool(host='geocode.arcgis.com', port=443): Read timed out. (read timeout=5.0)\n"
     ]
    },
    {
     "name": "stdout",
     "output_type": "stream",
     "text": [
      "616  Coordinate of 83 Rosewood Drive: None\n"
     ]
    },
    {
     "name": "stderr",
     "output_type": "stream",
     "text": [
      "Status code Unknown from https://geocode.arcgis.com/arcgis/rest/services/World/GeocodeServer/find: ERROR - HTTPSConnectionPool(host='geocode.arcgis.com', port=443): Read timed out. (read timeout=5.0)\n"
     ]
    },
    {
     "name": "stdout",
     "output_type": "stream",
     "text": [
      "617  Coordinate of 62 Trevose Crescent: None\n"
     ]
    },
    {
     "name": "stderr",
     "output_type": "stream",
     "text": [
      "Status code Unknown from https://geocode.arcgis.com/arcgis/rest/services/World/GeocodeServer/find: ERROR - HTTPSConnectionPool(host='geocode.arcgis.com', port=443): Read timed out. (read timeout=5.0)\n"
     ]
    },
    {
     "name": "stdout",
     "output_type": "stream",
     "text": [
      "618  Coordinate of 50 Newton Road: None\n"
     ]
    },
    {
     "name": "stderr",
     "output_type": "stream",
     "text": [
      "Status code Unknown from https://geocode.arcgis.com/arcgis/rest/services/World/GeocodeServer/find: ERROR - HTTPSConnectionPool(host='geocode.arcgis.com', port=443): Read timed out. (read timeout=5.0)\n"
     ]
    },
    {
     "name": "stdout",
     "output_type": "stream",
     "text": [
      "619  Coordinate of 90 Jellicoe Road: None\n",
      "620  Coordinate of 212 Loyang Avenue: [1.3669064367967252, 103.97069884649045]\n"
     ]
    },
    {
     "name": "stderr",
     "output_type": "stream",
     "text": [
      "Status code Unknown from https://geocode.arcgis.com/arcgis/rest/services/World/GeocodeServer/find: ERROR - HTTPSConnectionPool(host='geocode.arcgis.com', port=443): Read timed out. (read timeout=5.0)\n"
     ]
    },
    {
     "name": "stdout",
     "output_type": "stream",
     "text": [
      "621  Coordinate of 10 Lorong 31 Geylang: None\n"
     ]
    },
    {
     "name": "stderr",
     "output_type": "stream",
     "text": [
      "Status code Unknown from https://geocode.arcgis.com/arcgis/rest/services/World/GeocodeServer/find: ERROR - HTTPSConnectionPool(host='geocode.arcgis.com', port=443): Read timed out. (read timeout=5.0)\n"
     ]
    },
    {
     "name": "stdout",
     "output_type": "stream",
     "text": [
      "622  Coordinate of 10 Tampines Street 73: None\n"
     ]
    },
    {
     "name": "stderr",
     "output_type": "stream",
     "text": [
      "Status code Unknown from https://geocode.arcgis.com/arcgis/rest/services/World/GeocodeServer/find: ERROR - HTTPSConnectionPool(host='geocode.arcgis.com', port=443): Read timed out. (read timeout=5.0)\n"
     ]
    },
    {
     "name": "stdout",
     "output_type": "stream",
     "text": [
      "623  Coordinate of 494 Upper East Coast Road: None\n"
     ]
    },
    {
     "name": "stderr",
     "output_type": "stream",
     "text": [
      "Status code Unknown from https://geocode.arcgis.com/arcgis/rest/services/World/GeocodeServer/find: ERROR - HTTPSConnectionPool(host='geocode.arcgis.com', port=443): Read timed out. (read timeout=5.0)\n"
     ]
    },
    {
     "name": "stdout",
     "output_type": "stream",
     "text": [
      "624  Coordinate of 75 Sinaran Drive: None\n"
     ]
    },
    {
     "name": "stderr",
     "output_type": "stream",
     "text": [
      "Status code Unknown from https://geocode.arcgis.com/arcgis/rest/services/World/GeocodeServer/find: ERROR - HTTPSConnectionPool(host='geocode.arcgis.com', port=443): Read timed out. (read timeout=5.0)\n"
     ]
    },
    {
     "name": "stdout",
     "output_type": "stream",
     "text": [
      "625  Coordinate of 2 Jalan Merlimau: None\n"
     ]
    },
    {
     "name": "stderr",
     "output_type": "stream",
     "text": [
      "Status code Unknown from https://geocode.arcgis.com/arcgis/rest/services/World/GeocodeServer/find: ERROR - HTTPSConnectionPool(host='geocode.arcgis.com', port=443): Read timed out. (read timeout=5.0)\n"
     ]
    },
    {
     "name": "stdout",
     "output_type": "stream",
     "text": [
      "626  Coordinate of 2 Gateway Drive: None\n",
      "627  Coordinate of 166 Everitt Road: [47.91974504847067, -122.21396990689169]\n",
      "628  Coordinate of 188 Race Course Road: [31.65202000000005, 74.88089000000008]\n",
      "629  Coordinate of 473 River Valley Road: [51.14365423833564, 1.276944811286641]\n"
     ]
    },
    {
     "name": "stderr",
     "output_type": "stream",
     "text": [
      "Status code Unknown from https://geocode.arcgis.com/arcgis/rest/services/World/GeocodeServer/find: ERROR - HTTPSConnectionPool(host='geocode.arcgis.com', port=443): Read timed out. (read timeout=5.0)\n"
     ]
    },
    {
     "name": "stdout",
     "output_type": "stream",
     "text": [
      "630  Coordinate of 343 Guillemard Road: None\n",
      "631  Coordinate of 37 Yishun Central 1: [1.4283068950419846, 103.83682443007677]\n"
     ]
    },
    {
     "name": "stderr",
     "output_type": "stream",
     "text": [
      "Status code Unknown from https://geocode.arcgis.com/arcgis/rest/services/World/GeocodeServer/find: ERROR - HTTPSConnectionPool(host='geocode.arcgis.com', port=443): Read timed out. (read timeout=5.0)\n"
     ]
    },
    {
     "name": "stdout",
     "output_type": "stream",
     "text": [
      "632  Coordinate of 13 Kovan Road: None\n",
      "633  Coordinate of 29A Hillview Avenue: [12.967800000000068, 80.10269000000005]\n",
      "634  Coordinate of 80 Upper Serangoon View: [1.375781573064529, 103.90419615614422]\n",
      "635  Coordinate of 366 Upper East Coast Road: [1.3128300000000195, 103.92608000000007]\n",
      "636  Coordinate of 7 Geylang East Avenue 1: [1.3172149943733586, 103.88466892013543]\n",
      "637  Coordinate of 128 Koon Seng Road: [-7.229399999999941, 107.78210000000007]\n",
      "638  Coordinate of 201 Ocean Drive: [-29.589759999999956, 31.14709000000005]\n",
      "639  Coordinate of 83 Devonshire Road: [42.17212960453431, -87.97651083216469]\n",
      "640  Coordinate of 19 Mount Sophia: [41.114810000000034, -75.30128999999994]\n"
     ]
    },
    {
     "name": "stderr",
     "output_type": "stream",
     "text": [
      "Status code Unknown from https://geocode.arcgis.com/arcgis/rest/services/World/GeocodeServer/find: ERROR - HTTPSConnectionPool(host='geocode.arcgis.com', port=443): Read timed out. (read timeout=5.0)\n"
     ]
    },
    {
     "name": "stdout",
     "output_type": "stream",
     "text": [
      "641  Coordinate of 56 Eng Hoon Street: None\n",
      "642  Coordinate of 55 Jalan Bunga Rampai: [1.339257935175682, 103.88278435815678]\n",
      "643  Coordinate of 3 Pine Grove: [40.559565045665735, -76.38316993433199]\n",
      "644  Coordinate of Eunos / Geylang / Paya Lebar (D14): [53.29810648800003, -6.257770464999965]\n",
      "645  Coordinate of 44 Keppel Bay Drive: [49.3552700194322, 11.276929970493967]\n",
      "646  Coordinate of 72 Holland Road: [52.78782000000007, -0.14715999999992846]\n",
      "647  Coordinate of 5A Woodlands Road: [53.72807000000006, -1.6446899999999687]\n"
     ]
    },
    {
     "name": "stderr",
     "output_type": "stream",
     "text": [
      "Status code Unknown from https://geocode.arcgis.com/arcgis/rest/services/World/GeocodeServer/find: ERROR - HTTPSConnectionPool(host='geocode.arcgis.com', port=443): Read timed out. (read timeout=5.0)\n"
     ]
    },
    {
     "name": "stdout",
     "output_type": "stream",
     "text": [
      "648  Coordinate of 11 Fernvale Close: None\n"
     ]
    },
    {
     "name": "stderr",
     "output_type": "stream",
     "text": [
      "Status code Unknown from https://geocode.arcgis.com/arcgis/rest/services/World/GeocodeServer/find: ERROR - HTTPSConnectionPool(host='geocode.arcgis.com', port=443): Read timed out. (read timeout=5.0)\n"
     ]
    },
    {
     "name": "stdout",
     "output_type": "stream",
     "text": [
      "649  Coordinate of 1 Essex Road: None\n",
      "650  Coordinate of 2 Pasir Ris Link: [1.377279880166654, 103.96099813466935]\n",
      "651  Coordinate of 1 Pheng Geck Avenue: [1.3299511705199052, 103.86917606176303]\n",
      "652  Coordinate of 60 Flora Drive: [47.96251005810913, -99.2972298784694]\n"
     ]
    },
    {
     "name": "stderr",
     "output_type": "stream",
     "text": [
      "Status code Unknown from https://geocode.arcgis.com/arcgis/rest/services/World/GeocodeServer/find: ERROR - HTTPSConnectionPool(host='geocode.arcgis.com', port=443): Read timed out. (read timeout=5.0)\n"
     ]
    },
    {
     "name": "stdout",
     "output_type": "stream",
     "text": [
      "653  Coordinate of 66 Havelock Road: None\n"
     ]
    },
    {
     "name": "stderr",
     "output_type": "stream",
     "text": [
      "Status code Unknown from https://geocode.arcgis.com/arcgis/rest/services/World/GeocodeServer/find: ERROR - HTTPSConnectionPool(host='geocode.arcgis.com', port=443): Read timed out. (read timeout=5.0)\n"
     ]
    },
    {
     "name": "stdout",
     "output_type": "stream",
     "text": [
      "654  Coordinate of 103 West Coast Vale: None\n",
      "655  Coordinate of 7 Tong Watt Road: None\n",
      "656  Coordinate of 20 Oxford Road: [53.47399000000007, -2.241739999999936]\n",
      "657  Coordinate of 11 King Albert Park: [1.3344400000000292, 103.77972000000005]\n",
      "658  Coordinate of 11 Sophia Road: [-32.88238999999993, -68.84392999999994]\n",
      "659  Coordinate of 37 Amber Road: [26.951320000000067, 75.84682000000004]\n",
      "660  Coordinate of 9 Wilkie Terrace: [55.18567000000007, -1.5096899999999778]\n"
     ]
    },
    {
     "name": "stderr",
     "output_type": "stream",
     "text": [
      "Status code Unknown from https://geocode.arcgis.com/arcgis/rest/services/World/GeocodeServer/find: ERROR - HTTPSConnectionPool(host='geocode.arcgis.com', port=443): Read timed out. (read timeout=5.0)\n"
     ]
    },
    {
     "name": "stdout",
     "output_type": "stream",
     "text": [
      "661  Coordinate of 2 Taman Serasi: None\n",
      "662  Coordinate of 296 Beach Road: [11.923890000000029, 79.83346000000006]\n"
     ]
    },
    {
     "name": "stderr",
     "output_type": "stream",
     "text": [
      "Status code Unknown from https://geocode.arcgis.com/arcgis/rest/services/World/GeocodeServer/find: ERROR - HTTPSConnectionPool(host='geocode.arcgis.com', port=443): Read timed out. (read timeout=5.0)\n"
     ]
    },
    {
     "name": "stdout",
     "output_type": "stream",
     "text": [
      "663  Coordinate of 11 Nassim Road: None\n",
      "664  Coordinate of 115 Pasir Ris Grove: [1.36972154088771, 103.94497394745468]\n",
      "665  Coordinate of 17 Evelyn Road: [38.938420000000065, -81.34428999999994]\n"
     ]
    },
    {
     "name": "stderr",
     "output_type": "stream",
     "text": [
      "Status code Unknown from https://geocode.arcgis.com/arcgis/rest/services/World/GeocodeServer/find: ERROR - HTTPSConnectionPool(host='geocode.arcgis.com', port=443): Max retries exceeded with url: /arcgis/rest/services/World/GeocodeServer/find?f=json&text=Clementi+Park+%2F+Upper+Bukit+Timah+%28D21%29&maxLocations=1 (Caused by ConnectTimeoutError(<urllib3.connection.HTTPSConnection object at 0x000002C77ED78D00>, 'Connection to geocode.arcgis.com timed out. (connect timeout=5.0)'))\n"
     ]
    },
    {
     "name": "stdout",
     "output_type": "stream",
     "text": [
      "666  Coordinate of Clementi Park / Upper Bukit Timah (D21): None\n",
      "667  Coordinate of 833 Mountbatten Road: [47.716810000000066, -83.04977999999994]\n",
      "668  Coordinate of 65A Cavenagh Road: [-12.462989999999934, 130.84419000000003]\n",
      "669  Coordinate of 5 River Valley Close: [51.14365423833564, 1.276944811286641]\n",
      "670  Coordinate of 124 Tanjong Rhu Road: [1.2974307692132072, 103.87422238656984]\n",
      "671  Coordinate of 1 Woodlands Drive 72: [51.47392001537324, -0.34955000521128454]\n",
      "672  Coordinate of 26 Newton Road: [52.54562000000004, -1.9341199999999503]\n",
      "673  Coordinate of 66 Telok Blangah Road: [1.266185884022235, 103.82274467676075]\n",
      "674  Coordinate of 11 Tong Watt Road: None\n"
     ]
    },
    {
     "name": "stderr",
     "output_type": "stream",
     "text": [
      "Status code Unknown from https://geocode.arcgis.com/arcgis/rest/services/World/GeocodeServer/find: ERROR - HTTPSConnectionPool(host='geocode.arcgis.com', port=443): Read timed out. (read timeout=5.0)\n"
     ]
    },
    {
     "name": "stdout",
     "output_type": "stream",
     "text": [
      "675  Coordinate of 6 Eu Tong Sen Street: None\n",
      "676  Coordinate of 8 Nassim Hill: [1.3058000000000334, 103.82360000000006]\n",
      "677  Coordinate of 4A Wolskel Road: [1.3469791861962253, 103.86965436765661]\n",
      "678  Coordinate of 13 Fernvale Lane: [44.10892632125806, -123.13401090880022]\n",
      "679  Coordinate of 732 Upper Changi Road East: [1.3461413194174554, 103.96341338006937]\n",
      "680  Coordinate of 295 Bedok South Avenue 3: [1.322263917570126, 103.94468083230066]\n",
      "681  Coordinate of 9 Sengkang East Avenue: [1.3805919892064225, 103.90255095618897]\n",
      "682  Coordinate of 59 Meyer Road: None\n"
     ]
    },
    {
     "name": "stderr",
     "output_type": "stream",
     "text": [
      "Status code Unknown from https://geocode.arcgis.com/arcgis/rest/services/World/GeocodeServer/find: ERROR - HTTPSConnectionPool(host='geocode.arcgis.com', port=443): Read timed out. (read timeout=5.0)\n"
     ]
    },
    {
     "name": "stdout",
     "output_type": "stream",
     "text": [
      "683  Coordinate of 33 Simei Street 3: None\n",
      "684  Coordinate of 42 Kovan Rise: [1.3626757130784313, 103.88543343352404]\n",
      "685  Coordinate of 41 Jurong East Avenue 1: [1.3425268751301473, 103.73453579085623]\n",
      "686  Coordinate of 241 Pasir Panjang Road: [0.8443000000000325, 108.88043000000005]\n",
      "687  Coordinate of 10 Whampoa East: [1.321471576262951, 103.86436283768359]\n"
     ]
    },
    {
     "name": "stderr",
     "output_type": "stream",
     "text": [
      "Status code Unknown from https://geocode.arcgis.com/arcgis/rest/services/World/GeocodeServer/find: ERROR - HTTPSConnectionPool(host='geocode.arcgis.com', port=443): Read timed out. (read timeout=5.0)\n"
     ]
    },
    {
     "name": "stdout",
     "output_type": "stream",
     "text": [
      "688  Coordinate of 223 Upper Paya Lebar Road: None\n"
     ]
    },
    {
     "name": "stderr",
     "output_type": "stream",
     "text": [
      "Status code Unknown from https://geocode.arcgis.com/arcgis/rest/services/World/GeocodeServer/find: ERROR - HTTPSConnectionPool(host='geocode.arcgis.com', port=443): Max retries exceeded with url: /arcgis/rest/services/World/GeocodeServer/find?f=json&text=41+Newton+Road&maxLocations=1 (Caused by ConnectTimeoutError(<urllib3.connection.HTTPSConnection object at 0x000002C70051E7C0>, 'Connection to geocode.arcgis.com timed out. (connect timeout=5.0)'))\n"
     ]
    },
    {
     "name": "stdout",
     "output_type": "stream",
     "text": [
      "689  Coordinate of 41 Newton Road: None\n"
     ]
    },
    {
     "name": "stderr",
     "output_type": "stream",
     "text": [
      "Status code Unknown from https://geocode.arcgis.com/arcgis/rest/services/World/GeocodeServer/find: ERROR - HTTPSConnectionPool(host='geocode.arcgis.com', port=443): Max retries exceeded with url: /arcgis/rest/services/World/GeocodeServer/find?f=json&text=712+Upper+Changi+Road+East&maxLocations=1 (Caused by ConnectTimeoutError(<urllib3.connection.HTTPSConnection object at 0x000002C700504E80>, 'Connection to geocode.arcgis.com timed out. (connect timeout=5.0)'))\n"
     ]
    },
    {
     "name": "stdout",
     "output_type": "stream",
     "text": [
      "690  Coordinate of 712 Upper Changi Road East: None\n"
     ]
    },
    {
     "name": "stderr",
     "output_type": "stream",
     "text": [
      "Status code Unknown from https://geocode.arcgis.com/arcgis/rest/services/World/GeocodeServer/find: ERROR - HTTPSConnectionPool(host='geocode.arcgis.com', port=443): Read timed out. (read timeout=5.0)\n"
     ]
    },
    {
     "name": "stdout",
     "output_type": "stream",
     "text": [
      "691  Coordinate of 84D Lorong M Telok Kurau: None\n"
     ]
    },
    {
     "name": "stderr",
     "output_type": "stream",
     "text": [
      "Status code Unknown from https://geocode.arcgis.com/arcgis/rest/services/World/GeocodeServer/find: ERROR - HTTPSConnectionPool(host='geocode.arcgis.com', port=443): Read timed out. (read timeout=5.0)\n"
     ]
    },
    {
     "name": "stdout",
     "output_type": "stream",
     "text": [
      "692  Coordinate of 1006 Upper Serangoon Road: None\n",
      "693  Coordinate of 19 Toh Tuck Road: None\n"
     ]
    },
    {
     "name": "stderr",
     "output_type": "stream",
     "text": [
      "Status code Unknown from https://geocode.arcgis.com/arcgis/rest/services/World/GeocodeServer/find: ERROR - HTTPSConnectionPool(host='geocode.arcgis.com', port=443): Max retries exceeded with url: /arcgis/rest/services/World/GeocodeServer/find?f=json&text=23+Mount+Sophia&maxLocations=1 (Caused by ConnectTimeoutError(<urllib3.connection.HTTPSConnection object at 0x000002C70051E730>, 'Connection to geocode.arcgis.com timed out. (connect timeout=5.0)'))\n"
     ]
    },
    {
     "name": "stdout",
     "output_type": "stream",
     "text": [
      "694  Coordinate of 23 Mount Sophia: None\n"
     ]
    },
    {
     "name": "stderr",
     "output_type": "stream",
     "text": [
      "Status code Unknown from https://geocode.arcgis.com/arcgis/rest/services/World/GeocodeServer/find: ERROR - HTTPSConnectionPool(host='geocode.arcgis.com', port=443): Read timed out. (read timeout=5.0)\n"
     ]
    },
    {
     "name": "stdout",
     "output_type": "stream",
     "text": [
      "695  Coordinate of 15 Jalan Rajawali: None\n"
     ]
    },
    {
     "name": "stderr",
     "output_type": "stream",
     "text": [
      "Status code Unknown from https://geocode.arcgis.com/arcgis/rest/services/World/GeocodeServer/find: ERROR - HTTPSConnectionPool(host='geocode.arcgis.com', port=443): Read timed out. (read timeout=5.0)\n"
     ]
    },
    {
     "name": "stdout",
     "output_type": "stream",
     "text": [
      "696  Coordinate of 93 Prince Charles Crescent: None\n"
     ]
    },
    {
     "name": "stderr",
     "output_type": "stream",
     "text": [
      "Status code Unknown from https://geocode.arcgis.com/arcgis/rest/services/World/GeocodeServer/find: ERROR - HTTPSConnectionPool(host='geocode.arcgis.com', port=443): Read timed out. (read timeout=5.0)\n"
     ]
    },
    {
     "name": "stdout",
     "output_type": "stream",
     "text": [
      "697  Coordinate of 21 Fernvale Close: None\n"
     ]
    },
    {
     "name": "stderr",
     "output_type": "stream",
     "text": [
      "Status code Unknown from https://geocode.arcgis.com/arcgis/rest/services/World/GeocodeServer/find: ERROR - HTTPSConnectionPool(host='geocode.arcgis.com', port=443): Read timed out. (read timeout=5.0)\n"
     ]
    },
    {
     "name": "stdout",
     "output_type": "stream",
     "text": [
      "698  Coordinate of 90 Holland Road: None\n",
      "699  Coordinate of 1 Kovan Road: [35.35064539000007, 136.85378126000012]\n",
      "700  Coordinate of 213 Bedok South Avenue 3: [1.3238638971577643, 103.9453358780338]\n"
     ]
    },
    {
     "name": "stderr",
     "output_type": "stream",
     "text": [
      "Status code Unknown from https://geocode.arcgis.com/arcgis/rest/services/World/GeocodeServer/find: ERROR - HTTPSConnectionPool(host='geocode.arcgis.com', port=443): Read timed out. (read timeout=5.0)\n"
     ]
    },
    {
     "name": "stdout",
     "output_type": "stream",
     "text": [
      "701  Coordinate of 60 Lakeside Drive: None\n"
     ]
    },
    {
     "name": "stderr",
     "output_type": "stream",
     "text": [
      "Status code Unknown from https://geocode.arcgis.com/arcgis/rest/services/World/GeocodeServer/find: ERROR - HTTPSConnectionPool(host='geocode.arcgis.com', port=443): Max retries exceeded with url: /arcgis/rest/services/World/GeocodeServer/find?f=json&text=Macpherson+%2F+Potong+Pasir+%28D13%29&maxLocations=1 (Caused by ConnectTimeoutError(<urllib3.connection.HTTPSConnection object at 0x000002C7004AE940>, 'Connection to geocode.arcgis.com timed out. (connect timeout=5.0)'))\n"
     ]
    },
    {
     "name": "stdout",
     "output_type": "stream",
     "text": [
      "702  Coordinate of Macpherson / Potong Pasir (D13): None\n",
      "703  Coordinate of 12 Eu Tong Sen Street: [47.82591388635655, 16.57186173232366]\n",
      "704  Coordinate of 19 Jalan Jintan: [31.216660000000047, 107.31522000000007]\n",
      "705  Coordinate of 152 Prince Charles Crescent: [1.2919974519368225, 103.81788065834803]\n",
      "706  Coordinate of 31 Tomlinson Road: [-67.24999999999994, 51.18333000000007]\n"
     ]
    },
    {
     "name": "stderr",
     "output_type": "stream",
     "text": [
      "Status code Unknown from https://geocode.arcgis.com/arcgis/rest/services/World/GeocodeServer/find: ERROR - HTTPSConnectionPool(host='geocode.arcgis.com', port=443): Read timed out. (read timeout=5.0)\n"
     ]
    },
    {
     "name": "stdout",
     "output_type": "stream",
     "text": [
      "707  Coordinate of 510 East Coast Road: None\n"
     ]
    },
    {
     "name": "stderr",
     "output_type": "stream",
     "text": [
      "Status code Unknown from https://geocode.arcgis.com/arcgis/rest/services/World/GeocodeServer/find: ERROR - HTTPSConnectionPool(host='geocode.arcgis.com', port=443): Max retries exceeded with url: /arcgis/rest/services/World/GeocodeServer/find?f=json&text=115+Tampines+Road&maxLocations=1 (Caused by ConnectTimeoutError(<urllib3.connection.HTTPSConnection object at 0x000002C70050AB80>, 'Connection to geocode.arcgis.com timed out. (connect timeout=5.0)'))\n"
     ]
    },
    {
     "name": "stdout",
     "output_type": "stream",
     "text": [
      "708  Coordinate of 115 Tampines Road: None\n"
     ]
    },
    {
     "name": "stderr",
     "output_type": "stream",
     "text": [
      "Status code Unknown from https://geocode.arcgis.com/arcgis/rest/services/World/GeocodeServer/find: ERROR - HTTPSConnectionPool(host='geocode.arcgis.com', port=443): Max retries exceeded with url: /arcgis/rest/services/World/GeocodeServer/find?f=json&text=3+Lorong+5+Toa+Payoh&maxLocations=1 (Caused by NewConnectionError('<urllib3.connection.HTTPSConnection object at 0x000002C700504B50>: Failed to establish a new connection: [Errno 11001] getaddrinfo failed'))\n"
     ]
    },
    {
     "name": "stdout",
     "output_type": "stream",
     "text": [
      "709  Coordinate of 3 Lorong 5 Toa Payoh: None\n",
      "710  Coordinate of 82 Punggol Central: [1.410030000000063, 103.90594000000004]\n",
      "711  Coordinate of 16 Shan Road: [51.72503000000006, -2.5306999999999675]\n"
     ]
    },
    {
     "name": "stderr",
     "output_type": "stream",
     "text": [
      "Status code Unknown from https://geocode.arcgis.com/arcgis/rest/services/World/GeocodeServer/find: ERROR - HTTPSConnectionPool(host='geocode.arcgis.com', port=443): Read timed out. (read timeout=5.0)\n"
     ]
    },
    {
     "name": "stdout",
     "output_type": "stream",
     "text": [
      "712  Coordinate of 21 Angullia Park: None\n",
      "713  Coordinate of 23 Tampines Avenue 8: [1.3499587314901618, 103.92867298979718]\n",
      "714  Coordinate of 240 Lorong Chuan: [4.494150000000047, 101.01013000000006]\n"
     ]
    },
    {
     "name": "stderr",
     "output_type": "stream",
     "text": [
      "Status code Unknown from https://geocode.arcgis.com/arcgis/rest/services/World/GeocodeServer/find: ERROR - HTTPSConnectionPool(host='geocode.arcgis.com', port=443): Read timed out. (read timeout=5.0)\n"
     ]
    },
    {
     "name": "stdout",
     "output_type": "stream",
     "text": [
      "715  Coordinate of 12 Stirling Road: None\n",
      "716  Coordinate of 2 Leedon Road: [52.23730000000006, -0.931199999999933]\n",
      "717  Coordinate of 354 Alexandra Road: [51.20420000000007, -3.4750699999999597]\n",
      "718  Coordinate of 49 Hindhede Walk: [1.3481968554426942, 103.77148883592872]\n"
     ]
    },
    {
     "name": "stderr",
     "output_type": "stream",
     "text": [
      "Status code Unknown from https://geocode.arcgis.com/arcgis/rest/services/World/GeocodeServer/find: ERROR - HTTPSConnectionPool(host='geocode.arcgis.com', port=443): Read timed out. (read timeout=5.0)\n"
     ]
    },
    {
     "name": "stdout",
     "output_type": "stream",
     "text": [
      "719  Coordinate of 38A Jervois Road: None\n",
      "720  Coordinate of 17 Fernhill Crescent: [51.16283578749531, -0.16423572234636497]\n"
     ]
    },
    {
     "name": "stderr",
     "output_type": "stream",
     "text": [
      "Status code Unknown from https://geocode.arcgis.com/arcgis/rest/services/World/GeocodeServer/find: ERROR - HTTPSConnectionPool(host='geocode.arcgis.com', port=443): Max retries exceeded with url: /arcgis/rest/services/World/GeocodeServer/find?f=json&text=21+Pasir+Ris+Grove&maxLocations=1 (Caused by ConnectTimeoutError(<urllib3.connection.HTTPSConnection object at 0x000002C70051E4F0>, 'Connection to geocode.arcgis.com timed out. (connect timeout=5.0)'))\n"
     ]
    },
    {
     "name": "stdout",
     "output_type": "stream",
     "text": [
      "721  Coordinate of 21 Pasir Ris Grove: None\n"
     ]
    },
    {
     "name": "stderr",
     "output_type": "stream",
     "text": [
      "Status code Unknown from https://geocode.arcgis.com/arcgis/rest/services/World/GeocodeServer/find: ERROR - HTTPSConnectionPool(host='geocode.arcgis.com', port=443): Read timed out. (read timeout=5.0)\n"
     ]
    },
    {
     "name": "stdout",
     "output_type": "stream",
     "text": [
      "722  Coordinate of 12 Lorong Limau: None\n"
     ]
    },
    {
     "name": "stderr",
     "output_type": "stream",
     "text": [
      "Status code Unknown from https://geocode.arcgis.com/arcgis/rest/services/World/GeocodeServer/find: ERROR - HTTPSConnectionPool(host='geocode.arcgis.com', port=443): Read timed out. (read timeout=5.0)\n"
     ]
    },
    {
     "name": "stdout",
     "output_type": "stream",
     "text": [
      "723  Coordinate of 158 Mariam Way: None\n",
      "724  Coordinate of 48 Marine Parade Road: [1.3066755428158583, 103.9146982774336]\n"
     ]
    },
    {
     "name": "stderr",
     "output_type": "stream",
     "text": [
      "Status code Unknown from https://geocode.arcgis.com/arcgis/rest/services/World/GeocodeServer/find: ERROR - HTTPSConnectionPool(host='geocode.arcgis.com', port=443): Read timed out. (read timeout=5.0)\n"
     ]
    },
    {
     "name": "stdout",
     "output_type": "stream",
     "text": [
      "725  Coordinate of 50 Choa Chu Kang North 7: None\n"
     ]
    },
    {
     "name": "stderr",
     "output_type": "stream",
     "text": [
      "Status code Unknown from https://geocode.arcgis.com/arcgis/rest/services/World/GeocodeServer/find: ERROR - HTTPSConnectionPool(host='geocode.arcgis.com', port=443): Max retries exceeded with url: /arcgis/rest/services/World/GeocodeServer/find?f=json&text=11+Mount+Sophia&maxLocations=1 (Caused by ConnectTimeoutError(<urllib3.connection.HTTPSConnection object at 0x000002C77ED78F40>, 'Connection to geocode.arcgis.com timed out. (connect timeout=5.0)'))\n"
     ]
    },
    {
     "name": "stdout",
     "output_type": "stream",
     "text": [
      "726  Coordinate of 11 Mount Sophia: None\n"
     ]
    },
    {
     "name": "stderr",
     "output_type": "stream",
     "text": [
      "Status code Unknown from https://geocode.arcgis.com/arcgis/rest/services/World/GeocodeServer/find: ERROR - HTTPSConnectionPool(host='geocode.arcgis.com', port=443): Read timed out. (read timeout=5.0)\n"
     ]
    },
    {
     "name": "stdout",
     "output_type": "stream",
     "text": [
      "727  Coordinate of 8 Ridgewood Close: None\n",
      "728  Coordinate of 81 Cavenagh Road: [-12.462989999999934, 130.84419000000003]\n"
     ]
    },
    {
     "name": "stderr",
     "output_type": "stream",
     "text": [
      "Status code Unknown from https://geocode.arcgis.com/arcgis/rest/services/World/GeocodeServer/find: ERROR - HTTPSConnectionPool(host='geocode.arcgis.com', port=443): Read timed out. (read timeout=5.0)\n"
     ]
    },
    {
     "name": "stdout",
     "output_type": "stream",
     "text": [
      "729  Coordinate of 2 Sinaran Drive: None\n"
     ]
    },
    {
     "name": "stderr",
     "output_type": "stream",
     "text": [
      "Status code Unknown from https://geocode.arcgis.com/arcgis/rest/services/World/GeocodeServer/find: ERROR - HTTPSConnectionPool(host='geocode.arcgis.com', port=443): Read timed out. (read timeout=5.0)\n"
     ]
    },
    {
     "name": "stdout",
     "output_type": "stream",
     "text": [
      "730  Coordinate of 46A Toh Tuck Road: None\n",
      "731  Coordinate of 7500A Beach Road: [11.923890000000029, 79.83346000000006]\n",
      "732  Coordinate of 121 Joo Chiat Place: [-3.377149999999972, 29.37176000000005]\n"
     ]
    },
    {
     "name": "stderr",
     "output_type": "stream",
     "text": [
      "Status code Unknown from https://geocode.arcgis.com/arcgis/rest/services/World/GeocodeServer/find: ERROR - HTTPSConnectionPool(host='geocode.arcgis.com', port=443): Read timed out. (read timeout=5.0)\n"
     ]
    },
    {
     "name": "stdout",
     "output_type": "stream",
     "text": [
      "733  Coordinate of 308 River Valley Road: None\n"
     ]
    },
    {
     "name": "stderr",
     "output_type": "stream",
     "text": [
      "Status code Unknown from https://geocode.arcgis.com/arcgis/rest/services/World/GeocodeServer/find: ERROR - HTTPSConnectionPool(host='geocode.arcgis.com', port=443): Max retries exceeded with url: /arcgis/rest/services/World/GeocodeServer/find?f=json&text=101+Prince+Charles+Crescent&maxLocations=1 (Caused by ConnectTimeoutError(<urllib3.connection.HTTPSConnection object at 0x000002C700504DF0>, 'Connection to geocode.arcgis.com timed out. (connect timeout=5.0)'))\n"
     ]
    },
    {
     "name": "stdout",
     "output_type": "stream",
     "text": [
      "734  Coordinate of 101 Prince Charles Crescent: None\n"
     ]
    },
    {
     "name": "stderr",
     "output_type": "stream",
     "text": [
      "Status code Unknown from https://geocode.arcgis.com/arcgis/rest/services/World/GeocodeServer/find: ERROR - HTTPSConnectionPool(host='geocode.arcgis.com', port=443): Max retries exceeded with url: /arcgis/rest/services/World/GeocodeServer/find?f=json&text=43+Bright+Hill+Drive&maxLocations=1 (Caused by ConnectTimeoutError(<urllib3.connection.HTTPSConnection object at 0x000002C7005043D0>, 'Connection to geocode.arcgis.com timed out. (connect timeout=5.0)'))\n"
     ]
    },
    {
     "name": "stdout",
     "output_type": "stream",
     "text": [
      "735  Coordinate of 43 Bright Hill Drive: None\n"
     ]
    },
    {
     "name": "stderr",
     "output_type": "stream",
     "text": [
      "Status code Unknown from https://geocode.arcgis.com/arcgis/rest/services/World/GeocodeServer/find: ERROR - HTTPSConnectionPool(host='geocode.arcgis.com', port=443): Read timed out. (read timeout=5.0)\n"
     ]
    },
    {
     "name": "stdout",
     "output_type": "stream",
     "text": [
      "736  Coordinate of 5A Kovan Road: None\n",
      "737  Coordinate of 11 Lincoln Road: [52.58834000000007, -0.24678999999997586]\n",
      "738  Coordinate of 61 Bright Hill Drive: [1.3595684996617763, 103.83281109101733]\n"
     ]
    },
    {
     "name": "stderr",
     "output_type": "stream",
     "text": [
      "Status code Unknown from https://geocode.arcgis.com/arcgis/rest/services/World/GeocodeServer/find: ERROR - HTTPSConnectionPool(host='geocode.arcgis.com', port=443): Max retries exceeded with url: /arcgis/rest/services/World/GeocodeServer/find?f=json&text=6+Hullet+Road&maxLocations=1 (Caused by ConnectTimeoutError(<urllib3.connection.HTTPSConnection object at 0x000002C70050A040>, 'Connection to geocode.arcgis.com timed out. (connect timeout=5.0)'))\n"
     ]
    },
    {
     "name": "stdout",
     "output_type": "stream",
     "text": [
      "739  Coordinate of 6 Hullet Road: None\n"
     ]
    },
    {
     "name": "stderr",
     "output_type": "stream",
     "text": [
      "Status code Unknown from https://geocode.arcgis.com/arcgis/rest/services/World/GeocodeServer/find: ERROR - HTTPSConnectionPool(host='geocode.arcgis.com', port=443): Read timed out. (read timeout=5.0)\n"
     ]
    },
    {
     "name": "stdout",
     "output_type": "stream",
     "text": [
      "740  Coordinate of 18 Bedok Rise: None\n",
      "741  Coordinate of 51 Tampines Central 7: [1.3504800000000614, 103.93626000000006]\n"
     ]
    },
    {
     "name": "stderr",
     "output_type": "stream",
     "text": [
      "Status code Unknown from https://geocode.arcgis.com/arcgis/rest/services/World/GeocodeServer/find: ERROR - HTTPSConnectionPool(host='geocode.arcgis.com', port=443): Read timed out. (read timeout=5.0)\n"
     ]
    },
    {
     "name": "stdout",
     "output_type": "stream",
     "text": [
      "742  Coordinate of 9A Yuan Ching Road: None\n"
     ]
    },
    {
     "name": "stderr",
     "output_type": "stream",
     "text": [
      "Status code Unknown from https://geocode.arcgis.com/arcgis/rest/services/World/GeocodeServer/find: ERROR - HTTPSConnectionPool(host='geocode.arcgis.com', port=443): Read timed out. (read timeout=5.0)\n"
     ]
    },
    {
     "name": "stdout",
     "output_type": "stream",
     "text": [
      "743  Coordinate of 140 Upper Bukit Timah Road: None\n"
     ]
    },
    {
     "name": "stderr",
     "output_type": "stream",
     "text": [
      "Status code Unknown from https://geocode.arcgis.com/arcgis/rest/services/World/GeocodeServer/find: ERROR - HTTPSConnectionPool(host='geocode.arcgis.com', port=443): Read timed out. (read timeout=5.0)\n"
     ]
    },
    {
     "name": "stdout",
     "output_type": "stream",
     "text": [
      "744  Coordinate of 66 Chestnut Avenue: None\n",
      "745  Coordinate of 130 Cantonment Road: [1.2758957740272905, 103.84058522239354]\n"
     ]
    },
    {
     "name": "stderr",
     "output_type": "stream",
     "text": [
      "Status code Unknown from https://geocode.arcgis.com/arcgis/rest/services/World/GeocodeServer/find: ERROR - HTTPSConnectionPool(host='geocode.arcgis.com', port=443): Max retries exceeded with url: /arcgis/rest/services/World/GeocodeServer/find?f=json&text=221+Pasir+Panjang+Road&maxLocations=1 (Caused by ConnectTimeoutError(<urllib3.connection.HTTPSConnection object at 0x000002C7004AED30>, 'Connection to geocode.arcgis.com timed out. (connect timeout=5.0)'))\n"
     ]
    },
    {
     "name": "stdout",
     "output_type": "stream",
     "text": [
      "746  Coordinate of 221 Pasir Panjang Road: None\n"
     ]
    },
    {
     "name": "stderr",
     "output_type": "stream",
     "text": [
      "Status code Unknown from https://geocode.arcgis.com/arcgis/rest/services/World/GeocodeServer/find: ERROR - HTTPSConnectionPool(host='geocode.arcgis.com', port=443): Max retries exceeded with url: /arcgis/rest/services/World/GeocodeServer/find?f=json&text=3+Bishan+Street+15&maxLocations=1 (Caused by ConnectTimeoutError(<urllib3.connection.HTTPSConnection object at 0x000002C7004AE190>, 'Connection to geocode.arcgis.com timed out. (connect timeout=5.0)'))\n"
     ]
    },
    {
     "name": "stdout",
     "output_type": "stream",
     "text": [
      "747  Coordinate of 3 Bishan Street 15: None\n",
      "748  Coordinate of 9 Bishan Street 15: [25.108120000000042, 121.84340000000009]\n",
      "749  Coordinate of 114 Kim Seng Road: [1.2939415924688547, 103.83309104658343]\n",
      "750  Coordinate of 17 Jalan Masjid: [-7.189239999999927, 109.06982000000005]\n",
      "751  Coordinate of 10 Jelebu Road: [1.3784292067300612, 103.76342712145458]\n",
      "752  Coordinate of 5000C Marine Parade Road: [1.308507412350039, 103.93044224191942]\n",
      "753  Coordinate of 113 Joo Chiat Place: [-3.377149999999972, 29.37176000000005]\n",
      "754  Coordinate of 230 Commonwealth Avenue: [-35.29442999999998, 149.12680000000012]\n",
      "755  Coordinate of 45 Toh Tuck Road: None\n",
      "756  Coordinate of 16 Balmoral Road: [53.387860000000046, -2.3431399999999485]\n"
     ]
    },
    {
     "name": "stderr",
     "output_type": "stream",
     "text": [
      "Status code Unknown from https://geocode.arcgis.com/arcgis/rest/services/World/GeocodeServer/find: ERROR - HTTPSConnectionPool(host='geocode.arcgis.com', port=443): Read timed out. (read timeout=5.0)\n"
     ]
    },
    {
     "name": "stdout",
     "output_type": "stream",
     "text": [
      "757  Coordinate of 13 Tanjong Katong Road: None\n"
     ]
    },
    {
     "name": "stderr",
     "output_type": "stream",
     "text": [
      "Status code Unknown from https://geocode.arcgis.com/arcgis/rest/services/World/GeocodeServer/find: ERROR - HTTPSConnectionPool(host='geocode.arcgis.com', port=443): Read timed out. (read timeout=5.0)\n"
     ]
    },
    {
     "name": "stdout",
     "output_type": "stream",
     "text": [
      "758  Coordinate of 39 Lorong 32 Geylang: None\n",
      "759  Coordinate of 3 Rodyk Street: [1.2903679261404903, 103.83801558233705]\n",
      "760  Coordinate of 1 Ford Avenue: [37.761125046649795, -100.00428319016666]\n",
      "761  Coordinate of 78 Farrer Road: None\n",
      "762  Coordinate of 18 Leonie Hill Road: [1.2981244555200107, 103.83406644865596]\n",
      "763  Coordinate of 12 Flora Road: [38.67872431940144, -88.50537987877199]\n",
      "764  Coordinate of 2 Shanghai Road: [40.768317000000025, -73.95841999999993]\n",
      "765  Coordinate of 340 Geylang Road: [1.3100800000000277, 103.87110000000007]\n"
     ]
    },
    {
     "name": "stderr",
     "output_type": "stream",
     "text": [
      "Status code Unknown from https://geocode.arcgis.com/arcgis/rest/services/World/GeocodeServer/find: ERROR - HTTPSConnectionPool(host='geocode.arcgis.com', port=443): Read timed out. (read timeout=5.0)\n"
     ]
    },
    {
     "name": "stdout",
     "output_type": "stream",
     "text": [
      "766  Coordinate of 10 Draycott Park: None\n"
     ]
    },
    {
     "name": "stderr",
     "output_type": "stream",
     "text": [
      "Status code Unknown from https://geocode.arcgis.com/arcgis/rest/services/World/GeocodeServer/find: ERROR - HTTPSConnectionPool(host='geocode.arcgis.com', port=443): Max retries exceeded with url: /arcgis/rest/services/World/GeocodeServer/find?f=json&text=204+Depot+Road&maxLocations=1 (Caused by ConnectTimeoutError(<urllib3.connection.HTTPSConnection object at 0x000002C70051E9D0>, 'Connection to geocode.arcgis.com timed out. (connect timeout=5.0)'))\n"
     ]
    },
    {
     "name": "stdout",
     "output_type": "stream",
     "text": [
      "767  Coordinate of 204 Depot Road: None\n"
     ]
    },
    {
     "name": "stderr",
     "output_type": "stream",
     "text": [
      "Status code Unknown from https://geocode.arcgis.com/arcgis/rest/services/World/GeocodeServer/find: ERROR - HTTPSConnectionPool(host='geocode.arcgis.com', port=443): Read timed out. (read timeout=5.0)\n"
     ]
    },
    {
     "name": "stdout",
     "output_type": "stream",
     "text": [
      "768  Coordinate of 6 Mount Sophia: None\n",
      "769  Coordinate of 216 Joo Chiat Road: [1.3108000000000288, 103.90138000000007]\n",
      "770  Coordinate of 80 Dakota Crescent: [1.3063500000000658, 103.88428000000005]\n",
      "771  Coordinate of 9 Serangoon North View: [39.29541000000006, -80.35137999999995]\n",
      "772  Coordinate of 100 Wishart Road: [1.2703502649768978, 103.81396731539348]\n",
      "773  Coordinate of 31 Tanglin Road: [3.7147600000000693, 101.74417000000005]\n",
      "774  Coordinate of 2 Hillview Rise: [39.448909618900935, -90.53434541457703]\n",
      "775  Coordinate of 17 Cairnhill Circle: [57.435253440000054, -2.7583398269999293]\n",
      "776  Coordinate of 37 Orange Grove Road: [41.33582728572294, -73.9797320932046]\n",
      "777  Coordinate of 12 Bedok Reservoir View: [1.337400922243205, 103.93469857235192]\n",
      "778  Coordinate of 38 Trevose Crescent: [1.3221808529096535, 103.82355076438915]\n"
     ]
    },
    {
     "name": "stderr",
     "output_type": "stream",
     "text": [
      "Status code Unknown from https://geocode.arcgis.com/arcgis/rest/services/World/GeocodeServer/find: ERROR - HTTPSConnectionPool(host='geocode.arcgis.com', port=443): Max retries exceeded with url: /arcgis/rest/services/World/GeocodeServer/find?f=json&text=370A+Alexandra+Road&maxLocations=1 (Caused by ConnectTimeoutError(<urllib3.connection.HTTPSConnection object at 0x000002C70051E670>, 'Connection to geocode.arcgis.com timed out. (connect timeout=5.0)'))\n"
     ]
    },
    {
     "name": "stdout",
     "output_type": "stream",
     "text": [
      "779  Coordinate of 370A Alexandra Road: None\n"
     ]
    },
    {
     "name": "stderr",
     "output_type": "stream",
     "text": [
      "Status code Unknown from https://geocode.arcgis.com/arcgis/rest/services/World/GeocodeServer/find: ERROR - HTTPSConnectionPool(host='geocode.arcgis.com', port=443): Read timed out. (read timeout=5.0)\n"
     ]
    },
    {
     "name": "stdout",
     "output_type": "stream",
     "text": [
      "780  Coordinate of 802 Thomson Road: None\n"
     ]
    },
    {
     "name": "stderr",
     "output_type": "stream",
     "text": [
      "Status code Unknown from https://geocode.arcgis.com/arcgis/rest/services/World/GeocodeServer/find: ERROR - HTTPSConnectionPool(host='geocode.arcgis.com', port=443): Read timed out. (read timeout=5.0)\n"
     ]
    },
    {
     "name": "stdout",
     "output_type": "stream",
     "text": [
      "781  Coordinate of 261 Bukit Timah Road: None\n"
     ]
    },
    {
     "name": "stderr",
     "output_type": "stream",
     "text": [
      "Status code Unknown from https://geocode.arcgis.com/arcgis/rest/services/World/GeocodeServer/find: ERROR - HTTPSConnectionPool(host='geocode.arcgis.com', port=443): Read timed out. (read timeout=5.0)\n"
     ]
    },
    {
     "name": "stdout",
     "output_type": "stream",
     "text": [
      "782  Coordinate of 16 Anderson Road: None\n"
     ]
    },
    {
     "name": "stderr",
     "output_type": "stream",
     "text": [
      "Status code Unknown from https://geocode.arcgis.com/arcgis/rest/services/World/GeocodeServer/find: ERROR - HTTPSConnectionPool(host='geocode.arcgis.com', port=443): Max retries exceeded with url: /arcgis/rest/services/World/GeocodeServer/find?f=json&text=12+Leedon+Heights&maxLocations=1 (Caused by ConnectTimeoutError(<urllib3.connection.HTTPSConnection object at 0x000002C700279730>, 'Connection to geocode.arcgis.com timed out. (connect timeout=5.0)'))\n"
     ]
    },
    {
     "name": "stdout",
     "output_type": "stream",
     "text": [
      "783  Coordinate of 12 Leedon Heights: None\n"
     ]
    },
    {
     "name": "stderr",
     "output_type": "stream",
     "text": [
      "Status code Unknown from https://geocode.arcgis.com/arcgis/rest/services/World/GeocodeServer/find: ERROR - HTTPSConnectionPool(host='geocode.arcgis.com', port=443): Max retries exceeded with url: /arcgis/rest/services/World/GeocodeServer/find?f=json&text=26+Paterson+Road&maxLocations=1 (Caused by ConnectTimeoutError(<urllib3.connection.HTTPSConnection object at 0x000002C7004AE160>, 'Connection to geocode.arcgis.com timed out. (connect timeout=5.0)'))\n"
     ]
    },
    {
     "name": "stdout",
     "output_type": "stream",
     "text": [
      "784  Coordinate of 26 Paterson Road: None\n"
     ]
    },
    {
     "name": "stderr",
     "output_type": "stream",
     "text": [
      "Status code Unknown from https://geocode.arcgis.com/arcgis/rest/services/World/GeocodeServer/find: ERROR - HTTPSConnectionPool(host='geocode.arcgis.com', port=443): Read timed out. (read timeout=5.0)\n"
     ]
    },
    {
     "name": "stdout",
     "output_type": "stream",
     "text": [
      "785  Coordinate of 18 Anderson Road: None\n"
     ]
    },
    {
     "name": "stderr",
     "output_type": "stream",
     "text": [
      "Status code Unknown from https://geocode.arcgis.com/arcgis/rest/services/World/GeocodeServer/find: ERROR - HTTPSConnectionPool(host='geocode.arcgis.com', port=443): Read timed out. (read timeout=5.0)\n"
     ]
    },
    {
     "name": "stdout",
     "output_type": "stream",
     "text": [
      "786  Coordinate of 7 Bedok South Avenue 3: None\n",
      "787  Coordinate of 101 Upper Cross Street: [52.341495122000026, 1.202671442000053]\n",
      "788  Coordinate of 12 Sims Drive: [60.30940000000004, 5.322120000000041]\n",
      "789  Coordinate of 9 Geylang East Avenue 1: [1.3172278186852253, 103.8850159309269]\n",
      "790  Coordinate of 8 Saint Martin's Drive: [51.26834744048902, 1.0910477084931969]\n",
      "791  Coordinate of 33 Cairnhill Circle: [57.435253440000054, -2.7583398269999293]\n",
      "792  Coordinate of 31 Nathan Road: [22.312425183834932, 114.17049745942177]\n",
      "793  Coordinate of 8 Saint Thomas Walk: [1.2963600000000497, 103.83617000000004]\n",
      "794  Coordinate of 27 Fernvale Road: [-32.04577997887776, 115.92427010458164]\n",
      "795  Coordinate of 331 New Bridge Road: [51.54260000000005, -3.3730999999999653]\n",
      "796  Coordinate of 7 Bishan Street 15: [25.108120000000042, 121.84340000000009]\n",
      "797  Coordinate of 813 Upper Serangoon Road: None\n",
      "798  Coordinate of 626 Upper Thomson Road: [1.3502500000000737, 103.83577000000008]\n",
      "799  Coordinate of 27 Claymore Road: [1.30927972090862, 103.83152321159446]\n",
      "800  Coordinate of 50 Ewe Boon Road: [1.3173566066275129, 103.82915163590997]\n",
      "801  Coordinate of Balestier / Toa Payoh (D12): [1.3186725041420257, 103.85471363666701]\n",
      "802  Coordinate of 206 Upper East Coast Road: [1.3128300000000195, 103.92608000000007]\n",
      "803  Coordinate of 987 Bukit Timah Road: [5.4500000000000455, 100.26667000000003]\n",
      "804  Coordinate of 3 Rhu Cross: [41.238560000000064, -111.95826999999997]\n"
     ]
    },
    {
     "name": "stderr",
     "output_type": "stream",
     "text": [
      "Status code Unknown from https://geocode.arcgis.com/arcgis/rest/services/World/GeocodeServer/find: ERROR - HTTPSConnectionPool(host='geocode.arcgis.com', port=443): Max retries exceeded with url: /arcgis/rest/services/World/GeocodeServer/find?f=json&text=5+Rodyk+Street&maxLocations=1 (Caused by ConnectTimeoutError(<urllib3.connection.HTTPSConnection object at 0x000002C700504A30>, 'Connection to geocode.arcgis.com timed out. (connect timeout=5.0)'))\n"
     ]
    },
    {
     "name": "stdout",
     "output_type": "stream",
     "text": [
      "805  Coordinate of 5 Rodyk Street: None\n",
      "806  Coordinate of 345 Pasir Panjang Road: [0.8443000000000325, 108.88043000000005]\n",
      "807  Coordinate of 105 Prince Charles Crescent: [1.2928192137241439, 103.81929317667118]\n",
      "808  Coordinate of 126 Koon Seng Road: [-7.229399999999941, 107.78210000000007]\n",
      "809  Coordinate of 8 Cairnhill Circle: [57.435253440000054, -2.7583398269999293]\n"
     ]
    },
    {
     "name": "stderr",
     "output_type": "stream",
     "text": [
      "Status code Unknown from https://geocode.arcgis.com/arcgis/rest/services/World/GeocodeServer/find: ERROR - HTTPSConnectionPool(host='geocode.arcgis.com', port=443): Read timed out. (read timeout=5.0)\n"
     ]
    },
    {
     "name": "stdout",
     "output_type": "stream",
     "text": [
      "810  Coordinate of 208 Depot Road: None\n"
     ]
    },
    {
     "name": "stderr",
     "output_type": "stream",
     "text": [
      "Status code Unknown from https://geocode.arcgis.com/arcgis/rest/services/World/GeocodeServer/find: ERROR - HTTPSConnectionPool(host='geocode.arcgis.com', port=443): Read timed out. (read timeout=5.0)\n"
     ]
    },
    {
     "name": "stdout",
     "output_type": "stream",
     "text": [
      "811  Coordinate of 5000J Marine Parade Road: None\n"
     ]
    },
    {
     "name": "stderr",
     "output_type": "stream",
     "text": [
      "Status code Unknown from https://geocode.arcgis.com/arcgis/rest/services/World/GeocodeServer/find: ERROR - HTTPSConnectionPool(host='geocode.arcgis.com', port=443): Max retries exceeded with url: /arcgis/rest/services/World/GeocodeServer/find?f=json&text=700+Lorong+1+Toa+Payoh&maxLocations=1 (Caused by ConnectTimeoutError(<urllib3.connection.HTTPSConnection object at 0x000002C700504C70>, 'Connection to geocode.arcgis.com timed out. (connect timeout=5.0)'))\n"
     ]
    },
    {
     "name": "stdout",
     "output_type": "stream",
     "text": [
      "812  Coordinate of 700 Lorong 1 Toa Payoh: None\n"
     ]
    },
    {
     "name": "stderr",
     "output_type": "stream",
     "text": [
      "Status code Unknown from https://geocode.arcgis.com/arcgis/rest/services/World/GeocodeServer/find: ERROR - HTTPSConnectionPool(host='geocode.arcgis.com', port=443): Max retries exceeded with url: /arcgis/rest/services/World/GeocodeServer/find?f=json&text=16A+West+Coast+Road&maxLocations=1 (Caused by ConnectTimeoutError(<urllib3.connection.HTTPSConnection object at 0x000002C70051E0A0>, 'Connection to geocode.arcgis.com timed out. (connect timeout=5.0)'))\n"
     ]
    },
    {
     "name": "stdout",
     "output_type": "stream",
     "text": [
      "813  Coordinate of 16A West Coast Road: None\n"
     ]
    },
    {
     "name": "stderr",
     "output_type": "stream",
     "text": [
      "Status code Unknown from https://geocode.arcgis.com/arcgis/rest/services/World/GeocodeServer/find: ERROR - HTTPSConnectionPool(host='geocode.arcgis.com', port=443): Max retries exceeded with url: /arcgis/rest/services/World/GeocodeServer/find?f=json&text=6+Simon+Lane&maxLocations=1 (Caused by ConnectTimeoutError(<urllib3.connection.HTTPSConnection object at 0x000002C70051EE20>, 'Connection to geocode.arcgis.com timed out. (connect timeout=5.0)'))\n"
     ]
    },
    {
     "name": "stdout",
     "output_type": "stream",
     "text": [
      "814  Coordinate of 6 Simon Lane: None\n"
     ]
    },
    {
     "name": "stderr",
     "output_type": "stream",
     "text": [
      "Status code Unknown from https://geocode.arcgis.com/arcgis/rest/services/World/GeocodeServer/find: ERROR - HTTPSConnectionPool(host='geocode.arcgis.com', port=443): Read timed out. (read timeout=5.0)\n"
     ]
    },
    {
     "name": "stdout",
     "output_type": "stream",
     "text": [
      "815  Coordinate of 1 Jervois Close: None\n"
     ]
    },
    {
     "name": "stderr",
     "output_type": "stream",
     "text": [
      "Status code Unknown from https://geocode.arcgis.com/arcgis/rest/services/World/GeocodeServer/find: ERROR - HTTPSConnectionPool(host='geocode.arcgis.com', port=443): Max retries exceeded with url: /arcgis/rest/services/World/GeocodeServer/find?f=json&text=Bedok+%2F+Upper+East+Coast+%28D16%29&maxLocations=1 (Caused by NewConnectionError('<urllib3.connection.HTTPSConnection object at 0x000002C70052F1C0>: Failed to establish a new connection: [Errno 11001] getaddrinfo failed'))\n"
     ]
    },
    {
     "name": "stdout",
     "output_type": "stream",
     "text": [
      "816  Coordinate of Bedok / Upper East Coast (D16): None\n",
      "817  Coordinate of 12 Nassim Road: [29.319359671214904, 47.67296665858792]\n",
      "818  Coordinate of 11 Keng Cheow Street: [1.2882452091613033, 103.84392490789475]\n",
      "819  Coordinate of 28 Jalan Lempeng: [1.3182137400462324, 103.76190262090506]\n",
      "820  Coordinate of 12B Hougang Street 11: [47.409560000000056, 40.03931000000006]\n",
      "821  Coordinate of 27 Miltonia Close: [-34.77929999999998, -58.38063999999997]\n",
      "822  Coordinate of 15 Tanjong Katong Road: [1.3000000000000682, 103.90000000000003]\n",
      "823  Coordinate of 451 Upper East Coast Road: [1.3128300000000195, 103.92608000000007]\n",
      "824  Coordinate of 10 Cactus Drive: [41.443212000000074, -90.57171399999999]\n",
      "825  Coordinate of 1 Serangoon Avenue 2: [1.3538900000000353, 103.86761000000007]\n",
      "826  Coordinate of 1 Mcnally Street: [1.3028250268207984, 103.85160030045154]\n",
      "827  Coordinate of 150 Thomson Road: [22.277480000000025, 114.17496000000006]\n",
      "828  Coordinate of 900 Dunearn Road: None\n",
      "829  Coordinate of 122 Owen Road: None\n",
      "830  Coordinate of 1 Amber Gardens: [22.26457010000007, 114.18844230000002]\n",
      "831  Coordinate of 2 Suffolk Walk: [40.98215581583553, -72.63115298024921]\n",
      "832  Coordinate of 97 Jalan Sendudok: [1.4428170171765657, 103.82473764187876]\n",
      "833  Coordinate of 13 Suffolk Road: [40.853367722786736, -72.44441292775011]\n",
      "834  Coordinate of 16 Pasir Ris Link: [1.3786034664970828, 103.96165846100155]\n",
      "835  Coordinate of 1 Bishan Street 15: [22.853830000000073, 120.26102000000003]\n"
     ]
    },
    {
     "name": "stderr",
     "output_type": "stream",
     "text": [
      "Status code Unknown from https://geocode.arcgis.com/arcgis/rest/services/World/GeocodeServer/find: ERROR - HTTPSConnectionPool(host='geocode.arcgis.com', port=443): Read timed out. (read timeout=5.0)\n"
     ]
    },
    {
     "name": "stdout",
     "output_type": "stream",
     "text": [
      "836  Coordinate of 31 Kim Keat Lane: None\n",
      "837  Coordinate of 38 Lorong Marzuki: None\n",
      "838  Coordinate of 2 Indus Road: [34.61083000000008, 72.77889000000005]\n",
      "839  Coordinate of 13 Keppel Bay Drive: [48.85968999418415, 13.39894999442572]\n",
      "840  Coordinate of 72 Punggol Walk: [1.4046977140962582, 103.89989892202425]\n",
      "841  Coordinate of 78 Stevens Road: [37.35031094079943, -101.06799355364694]\n",
      "842  Coordinate of 32 Nassim Hill: [1.309374226866936, 103.81975267260322]\n",
      "843  Coordinate of 118 Lorong H Telok Kurau: [1.0666700000000446, 102.25000000000006]\n",
      "844  Coordinate of 30 Dover Rise: [51.15461829674543, 1.3843897475154827]\n",
      "845  Coordinate of 10 Mount Sophia: [41.114810000000034, -75.30128999999994]\n",
      "846  Coordinate of 95 Rosewood Drive: [31.289840000000027, 75.54289000000006]\n"
     ]
    },
    {
     "name": "stderr",
     "output_type": "stream",
     "text": [
      "Status code Unknown from https://geocode.arcgis.com/arcgis/rest/services/World/GeocodeServer/find: ERROR - HTTPSConnectionPool(host='geocode.arcgis.com', port=443): Read timed out. (read timeout=5.0)\n"
     ]
    },
    {
     "name": "stdout",
     "output_type": "stream",
     "text": [
      "847  Coordinate of 5 Draycott Drive: None\n"
     ]
    },
    {
     "name": "stderr",
     "output_type": "stream",
     "text": [
      "Status code Unknown from https://geocode.arcgis.com/arcgis/rest/services/World/GeocodeServer/find: ERROR - HTTPSConnectionPool(host='geocode.arcgis.com', port=443): Read timed out. (read timeout=5.0)\n"
     ]
    },
    {
     "name": "stdout",
     "output_type": "stream",
     "text": [
      "848  Coordinate of 31 Bishan Street 11: None\n",
      "849  Coordinate of 70 Cashew Road: [35.06222800000006, -85.30772199999996]\n",
      "850  Coordinate of 33 Pheng Geck Avenue: [1.3308676478131076, 103.8694623037565]\n"
     ]
    },
    {
     "name": "stderr",
     "output_type": "stream",
     "text": [
      "Status code Unknown from https://geocode.arcgis.com/arcgis/rest/services/World/GeocodeServer/find: ERROR - HTTPSConnectionPool(host='geocode.arcgis.com', port=443): Read timed out. (read timeout=5.0)\n"
     ]
    },
    {
     "name": "stdout",
     "output_type": "stream",
     "text": [
      "851  Coordinate of 339 Pasir Panjang Road: None\n"
     ]
    },
    {
     "name": "stderr",
     "output_type": "stream",
     "text": [
      "Status code Unknown from https://geocode.arcgis.com/arcgis/rest/services/World/GeocodeServer/find: ERROR - HTTPSConnectionPool(host='geocode.arcgis.com', port=443): Read timed out. (read timeout=5.0)\n"
     ]
    },
    {
     "name": "stdout",
     "output_type": "stream",
     "text": [
      "852  Coordinate of 8 Lorong 7 Geylang: None\n"
     ]
    },
    {
     "name": "stderr",
     "output_type": "stream",
     "text": [
      "Status code Unknown from https://geocode.arcgis.com/arcgis/rest/services/World/GeocodeServer/find: ERROR - HTTPSConnectionPool(host='geocode.arcgis.com', port=443): Read timed out. (read timeout=5.0)\n"
     ]
    },
    {
     "name": "stdout",
     "output_type": "stream",
     "text": [
      "853  Coordinate of 96 Lorong H Telok Kurau: None\n"
     ]
    },
    {
     "name": "stderr",
     "output_type": "stream",
     "text": [
      "Status code Unknown from https://geocode.arcgis.com/arcgis/rest/services/World/GeocodeServer/find: ERROR - HTTPSConnectionPool(host='geocode.arcgis.com', port=443): Read timed out. (read timeout=5.0)\n"
     ]
    },
    {
     "name": "stdout",
     "output_type": "stream",
     "text": [
      "854  Coordinate of 283 Ocean Drive: None\n"
     ]
    },
    {
     "name": "stderr",
     "output_type": "stream",
     "text": [
      "Status code Unknown from https://geocode.arcgis.com/arcgis/rest/services/World/GeocodeServer/find: ERROR - HTTPSConnectionPool(host='geocode.arcgis.com', port=443): Read timed out. (read timeout=5.0)\n"
     ]
    },
    {
     "name": "stdout",
     "output_type": "stream",
     "text": [
      "855  Coordinate of 4 Cairnhill Rise: None\n"
     ]
    },
    {
     "name": "stderr",
     "output_type": "stream",
     "text": [
      "Status code Unknown from https://geocode.arcgis.com/arcgis/rest/services/World/GeocodeServer/find: ERROR - HTTPSConnectionPool(host='geocode.arcgis.com', port=443): Max retries exceeded with url: /arcgis/rest/services/World/GeocodeServer/find?f=json&text=88+Punggol+Central&maxLocations=1 (Caused by ConnectTimeoutError(<urllib3.connection.HTTPSConnection object at 0x000002C700279820>, 'Connection to geocode.arcgis.com timed out. (connect timeout=5.0)'))\n"
     ]
    },
    {
     "name": "stdout",
     "output_type": "stream",
     "text": [
      "856  Coordinate of 88 Punggol Central: None\n"
     ]
    },
    {
     "name": "stderr",
     "output_type": "stream",
     "text": [
      "Status code Unknown from https://geocode.arcgis.com/arcgis/rest/services/World/GeocodeServer/find: ERROR - HTTPSConnectionPool(host='geocode.arcgis.com', port=443): Read timed out. (read timeout=5.0)\n"
     ]
    },
    {
     "name": "stdout",
     "output_type": "stream",
     "text": [
      "857  Coordinate of 62 Somme Road: None\n",
      "858  Coordinate of 142 Hillview Avenue: [12.967800000000068, 80.10269000000005]\n",
      "859  Coordinate of 35 Tampines Street 34: [1.3556730939800303, 103.95894096417305]\n",
      "860  Coordinate of 34 Jalan Novena: [1.3258520845909914, 103.86495351040037]\n",
      "861  Coordinate of 5 Robin Drive: [51.22366497363451, -101.35557529685896]\n",
      "862  Coordinate of 9 Oxley Garden: [1.2978200000000584, 103.84271000000007]\n",
      "863  Coordinate of 20 Simei Street 1: [53.79735000000005, -1.7584599999999568]\n",
      "864  Coordinate of 11 Jervois Close: [1.2927346709797234, 103.82435918868744]\n",
      "865  Coordinate of 11 Fernvale Lane: [44.10892643213832, -123.13398411863898]\n",
      "866  Coordinate of 91 Kellock Road: [1.2938786862855238, 103.83020742043396]\n",
      "867  Coordinate of 95 Grange Road: [43.56711000000007, -80.22628999999995]\n",
      "868  Coordinate of 1 Foo Kim Lin Road: [1.328950203642691, 103.9066755231035]\n",
      "869  Coordinate of 93 Kovan Road: None\n",
      "870  Coordinate of 30 Bayshore Road: [40.73536000000007, -73.28455999999994]\n",
      "871  Coordinate of 68 Wilkie Road: [37.885410000000036, -79.15974999999997]\n",
      "872  Coordinate of 6 Claymore Hill: [1.3068082748478247, 103.83162211805194]\n"
     ]
    },
    {
     "name": "stderr",
     "output_type": "stream",
     "text": [
      "Status code Unknown from https://geocode.arcgis.com/arcgis/rest/services/World/GeocodeServer/find: ERROR - HTTPSConnectionPool(host='geocode.arcgis.com', port=443): Read timed out. (read timeout=5.0)\n"
     ]
    },
    {
     "name": "stdout",
     "output_type": "stream",
     "text": [
      "873  Coordinate of 42 Dakota Crescent: None\n",
      "874  Coordinate of 201 Jalan Pelikat: [1.355510526967933, 103.88858871715541]\n",
      "875  Coordinate of 147 Pasir Ris Grove: [1.3691126375315292, 103.94514225607048]\n",
      "876  Coordinate of 6 Draycott Park: [-31.872729999999933, 115.77514000000008]\n",
      "877  Coordinate of 11 Arnasalam Chetty Road: [1.2919042451735123, 103.83891353562422]\n",
      "878  Coordinate of 31 Boon Teck Road: [1.3274069695395383, 103.84993674412834]\n",
      "879  Coordinate of 71 Holland Road: [52.78782000000007, -0.14715999999992846]\n",
      "880  Coordinate of 9 Leonie Hill: [55.95476228500007, -3.3301860179999494]\n",
      "881  Coordinate of 346D Pasir Panjang Road: [0.8443000000000325, 108.88043000000005]\n",
      "882  Coordinate of 2B Simon Lane: [41.75098585539336, -81.19889118204084]\n",
      "883  Coordinate of 38 Lorong 25A Geylang: [1.315520000000049, 103.88311000000004]\n",
      "884  Coordinate of 40 Keppel Bay Drive: [49.355069985312895, 11.276880014351036]\n",
      "885  Coordinate of 15 Leonie Hill Road: [1.2982906686599733, 103.83337762385298]\n",
      "886  Coordinate of 202 Upper East Coast Road: [1.3128300000000195, 103.92608000000007]\n"
     ]
    },
    {
     "name": "stderr",
     "output_type": "stream",
     "text": [
      "Status code Unknown from https://geocode.arcgis.com/arcgis/rest/services/World/GeocodeServer/find: ERROR - HTTPSConnectionPool(host='geocode.arcgis.com', port=443): Read timed out. (read timeout=5.0)\n"
     ]
    },
    {
     "name": "stdout",
     "output_type": "stream",
     "text": [
      "887  Coordinate of 23 Keppel Bay View: None\n",
      "888  Coordinate of 21 Fernvale Road: [-27.454569999999933, 152.6510300000001]\n",
      "889  Coordinate of 18 Buckley Road: [42.31683000000004, -87.90578999999997]\n",
      "890  Coordinate of 371 Holland Road: [52.78782000000007, -0.14715999999992846]\n",
      "891  Coordinate of 12 Cairnhill Rise: [1.3085129444061323, 103.83868211127754]\n"
     ]
    },
    {
     "name": "stderr",
     "output_type": "stream",
     "text": [
      "Status code Unknown from https://geocode.arcgis.com/arcgis/rest/services/World/GeocodeServer/find: ERROR - HTTPSConnectionPool(host='geocode.arcgis.com', port=443): Read timed out. (read timeout=5.0)\n"
     ]
    },
    {
     "name": "stdout",
     "output_type": "stream",
     "text": [
      "892  Coordinate of 25 Amber Road: None\n"
     ]
    },
    {
     "name": "stderr",
     "output_type": "stream",
     "text": [
      "Status code Unknown from https://geocode.arcgis.com/arcgis/rest/services/World/GeocodeServer/find: ERROR - HTTPSConnectionPool(host='geocode.arcgis.com', port=443): Read timed out. (read timeout=5.0)\n"
     ]
    },
    {
     "name": "stdout",
     "output_type": "stream",
     "text": [
      "893  Coordinate of 27 Holland Hill: None\n"
     ]
    },
    {
     "name": "stderr",
     "output_type": "stream",
     "text": [
      "Status code Unknown from https://geocode.arcgis.com/arcgis/rest/services/World/GeocodeServer/find: ERROR - HTTPSConnectionPool(host='geocode.arcgis.com', port=443): Read timed out. (read timeout=5.0)\n"
     ]
    },
    {
     "name": "stdout",
     "output_type": "stream",
     "text": [
      "894  Coordinate of 7 Holland Hill: None\n"
     ]
    },
    {
     "name": "stderr",
     "output_type": "stream",
     "text": [
      "Status code Unknown from https://geocode.arcgis.com/arcgis/rest/services/World/GeocodeServer/find: ERROR - HTTPSConnectionPool(host='geocode.arcgis.com', port=443): Read timed out. (read timeout=5.0)\n"
     ]
    },
    {
     "name": "stdout",
     "output_type": "stream",
     "text": [
      "895  Coordinate of 21 Lorong Lew Lian: None\n"
     ]
    },
    {
     "name": "stderr",
     "output_type": "stream",
     "text": [
      "Status code Unknown from https://geocode.arcgis.com/arcgis/rest/services/World/GeocodeServer/find: ERROR - HTTPSConnectionPool(host='geocode.arcgis.com', port=443): Read timed out. (read timeout=5.0)\n"
     ]
    },
    {
     "name": "stdout",
     "output_type": "stream",
     "text": [
      "896  Coordinate of 33 Orange Grove Road: None\n"
     ]
    },
    {
     "name": "stderr",
     "output_type": "stream",
     "text": [
      "Status code Unknown from https://geocode.arcgis.com/arcgis/rest/services/World/GeocodeServer/find: ERROR - HTTPSConnectionPool(host='geocode.arcgis.com', port=443): Read timed out. (read timeout=5.0)\n"
     ]
    },
    {
     "name": "stdout",
     "output_type": "stream",
     "text": [
      "897  Coordinate of 35 Pasir Ris Drive 3: None\n"
     ]
    },
    {
     "name": "stderr",
     "output_type": "stream",
     "text": [
      "Status code Unknown from https://geocode.arcgis.com/arcgis/rest/services/World/GeocodeServer/find: ERROR - HTTPSConnectionPool(host='geocode.arcgis.com', port=443): Read timed out. (read timeout=5.0)\n"
     ]
    },
    {
     "name": "stdout",
     "output_type": "stream",
     "text": [
      "898  Coordinate of 1 Jalan Dusun: None\n",
      "899  Coordinate of 3 West Coast Walk: [12.968920000000026, 80.25759000000005]\n"
     ]
    },
    {
     "name": "stderr",
     "output_type": "stream",
     "text": [
      "Status code Unknown from https://geocode.arcgis.com/arcgis/rest/services/World/GeocodeServer/find: ERROR - HTTPSConnectionPool(host='geocode.arcgis.com', port=443): Read timed out. (read timeout=5.0)\n"
     ]
    },
    {
     "name": "stdout",
     "output_type": "stream",
     "text": [
      "900  Coordinate of 380 Changi Road: None\n",
      "901  Coordinate of 103 Prince Charles Crescent: [1.2927547149792105, 103.81985593765035]\n",
      "902  Coordinate of 590 Yishun Ring Road: None\n",
      "903  Coordinate of 568 Macpherson Road: [-82.48332999999997, 155.83333000000005]\n",
      "904  Coordinate of 21 Elias Road: None\n",
      "905  Coordinate of 147 Killiney Road: [-37.81171999999998, 144.96972000000005]\n",
      "906  Coordinate of 34 Lorong Mydin: [1.3191300000000297, 103.91174000000007]\n",
      "907  Coordinate of 17 Ewe Boon Road: [1.3162781909649652, 103.83103194824935]\n",
      "908  Coordinate of 6 Ah Hood Road: [1.32724243278021, 103.84513341069459]\n",
      "909  Coordinate of Alexandra / Commonwealth (D3): [38.831687304142605, -77.05931822801254]\n",
      "910  Coordinate of 35 Tan Kim Cheng Road: [1.3207728189047288, 103.81151024429664]\n",
      "911  Coordinate of 5 Lorong 39 Geylang: [1.315541086399719, 103.89045830065874]\n",
      "912  Coordinate of 21 Jalan Raja Udang: [1.3281265140176401, 103.84235187612586]\n",
      "913  Coordinate of 37 Jurong East Avenue 1: [1.3435380679292308, 103.73464953328232]\n",
      "914  Coordinate of 9 Sengkang Square: [1.391350622936784, 103.89599672700092]\n",
      "915  Coordinate of 60 Robertson Quay: [1.2900833186181586, 103.83919919088447]\n",
      "916  Coordinate of 28 Lorong Mydin: [1.3191300000000297, 103.91174000000007]\n",
      "917  Coordinate of 218 Westwood Avenue: [51.088618724489606, -1.8496291537349352]\n",
      "918  Coordinate of 8 Adis Road: None\n",
      "919  Coordinate of 18 Holland Hill: [31.964557419612348, -97.37847866636545]\n",
      "920  Coordinate of 16 Simei Street 1: [53.79735000000005, -1.7584599999999568]\n",
      "921  Coordinate of 1 Hullet Road: [1.3031500000000733, 103.83902000000006]\n",
      "922  Coordinate of 70 Lim Ah Woo Road: [1.3125197036715832, 103.89176017785991]\n",
      "923  Coordinate of 25 Anderson Road: [46.866130000000055, -67.49694999999997]\n",
      "924  Coordinate of 252 Pasir Panjang Road: [0.8443000000000325, 108.88043000000005]\n",
      "925  Coordinate of 92 Robertson Quay: [1.2910116241881366, 103.8376115571278]\n"
     ]
    },
    {
     "name": "stderr",
     "output_type": "stream",
     "text": [
      "Status code Unknown from https://geocode.arcgis.com/arcgis/rest/services/World/GeocodeServer/find: ERROR - HTTPSConnectionPool(host='geocode.arcgis.com', port=443): Read timed out. (read timeout=5.0)\n"
     ]
    },
    {
     "name": "stdout",
     "output_type": "stream",
     "text": [
      "926  Coordinate of 11 Sea Avenue: None\n",
      "927  Coordinate of 137 Sunset Way: [32.6171809819607, -90.05420798903992]\n",
      "928  Coordinate of 2 Walshe Road: [49.947716056348305, -110.04761328660172]\n",
      "929  Coordinate of 2 Lincoln Road: [52.58834000000007, -0.24678999999997586]\n",
      "930  Coordinate of 83 Paterson Road: [28.100400000000036, -82.61359999999996]\n",
      "931  Coordinate of 26 Bukit Batok Street 52: [1.3549513702071039, 103.75267213385212]\n",
      "932  Coordinate of 61 Meyer Road: None\n",
      "933  Coordinate of 8 Jurong Lake Link: [1.3419400000000223, 103.72639000000004]\n",
      "934  Coordinate of 352 Balestier Road: None\n"
     ]
    },
    {
     "name": "stderr",
     "output_type": "stream",
     "text": [
      "Status code Unknown from https://geocode.arcgis.com/arcgis/rest/services/World/GeocodeServer/find: ERROR - HTTPSConnectionPool(host='geocode.arcgis.com', port=443): Read timed out. (read timeout=5.0)\n"
     ]
    },
    {
     "name": "stdout",
     "output_type": "stream",
     "text": [
      "935  Coordinate of 517 Bedok Reservoir Road: None\n"
     ]
    },
    {
     "name": "stderr",
     "output_type": "stream",
     "text": [
      "Status code Unknown from https://geocode.arcgis.com/arcgis/rest/services/World/GeocodeServer/find: ERROR - HTTPSConnectionPool(host='geocode.arcgis.com', port=443): Read timed out. (read timeout=5.0)\n"
     ]
    },
    {
     "name": "stdout",
     "output_type": "stream",
     "text": [
      "936  Coordinate of 6 Gateway Drive: None\n",
      "937  Coordinate of 5 Anthony Road: [1.310130000000072, 103.83711000000005]\n",
      "938  Coordinate of 12B Cairnhill Rise: [1.3090013579041653, 103.83828883238056]\n",
      "939  Coordinate of 3 Woodgrove Drive: [1.4287187817640188, 103.78137864348543]\n",
      "940  Coordinate of 3 Foo Kim Lin Road: [1.3288679771725356, 103.90718363407404]\n",
      "941  Coordinate of 1 Oxley Garden: [1.2978200000000584, 103.84271000000007]\n",
      "942  Coordinate of 2 Bedok Rise: [1.3271331327627962, 103.94893104394384]\n",
      "943  Coordinate of 14 Adis Road: None\n",
      "944  Coordinate of 27 Leonie Hill: [51.369189021694716, 1.1139045499045752]\n",
      "945  Coordinate of 5 Keppel Bay View: [48.859359998656146, 13.400439961534204]\n",
      "946  Coordinate of 7 Siglap Road: None\n",
      "947  Coordinate of 10 Anson Road: [52.76652000000007, -1.3024399999999332]\n",
      "948  Coordinate of 1 Leicester Road: [52.57304000000005, -1.201629999999966]\n",
      "949  Coordinate of 9 Thomson Lane: [44.06475778452852, -123.11724082692453]\n",
      "950  Coordinate of 6 Jalan Tua Kong: [1.3136308925755458, 103.92610293064553]\n",
      "951  Coordinate of 17 Keppel Bay Drive: [49.461890007118654, 11.114290035848654]\n",
      "952  Coordinate of 8A Tanjong Rhu Road: [1.2988682656077941, 103.88384749362422]\n",
      "953  Coordinate of 1 Rodyk Street: [1.2909324892288652, 103.83831531919458]\n",
      "954  Coordinate of 2 Kim Seng Walk: [47.778760000000034, 10.616910000000075]\n",
      "955  Coordinate of 45 Kovan Road: None\n",
      "956  Coordinate of 12 Amber Gardens: [22.26457010000007, 114.18844230000002]\n",
      "957  Coordinate of 39 Amber Gardens: [22.26457010000007, 114.18844230000002]\n",
      "958  Coordinate of 38 Lorong 30 Geylang: [1.3120050129070933, 103.88594933966453]\n",
      "959  Coordinate of 3 Leedon Heights: [41.03717000000006, -111.92410999999998]\n",
      "960  Coordinate of 21 Lorong 30 Geylang: [1.3128507888470011, 103.88649759995121]\n",
      "961  Coordinate of 31 Pasir Ris Link: [1.3765516604187695, 103.95939744261995]\n",
      "962  Coordinate of 40 Eng Hoon Street: [52.877218785575764, -1.657809877702039]\n",
      "963  Coordinate of 61 Fernhill Road: [45.47123000000005, -123.10176999999999]\n",
      "964  Coordinate of 2 Bishan Street 25: [25.108120000000042, 121.84340000000009]\n",
      "965  Coordinate of 19 Queen's Road: [54.86457000000007, -1.8435699999999429]\n",
      "966  Coordinate of 25 Nathan Road: [22.312425183834932, 114.17049745942177]\n",
      "967  Coordinate of 83 Pasir Ris Grove: [1.3714376936533625, 103.94445502382911]\n",
      "968  Coordinate of 88 Tanah Merah Kechil Avenue: [1.3286242314281935, 103.9465961809953]\n",
      "969  Coordinate of 20 Cuscaden Road: [1.3044032972792223, 103.8260165526653]\n",
      "970  Coordinate of 345 Geylang Road: [1.3100800000000277, 103.87110000000007]\n"
     ]
    },
    {
     "name": "stderr",
     "output_type": "stream",
     "text": [
      "Status code Unknown from https://geocode.arcgis.com/arcgis/rest/services/World/GeocodeServer/find: ERROR - HTTPSConnectionPool(host='geocode.arcgis.com', port=443): Read timed out. (read timeout=5.0)\n"
     ]
    },
    {
     "name": "stdout",
     "output_type": "stream",
     "text": [
      "971  Coordinate of 6 Bedok Rise: None\n",
      "972  Coordinate of 169 Jalan Jurong Kechil: [1.3451101776888237, 103.76805141743648]\n",
      "973  Coordinate of 38 Kinta Road: [1.310130000000072, 103.85337000000004]\n",
      "974  Coordinate of 78 Yong Siak Street: [1.2825600000000463, 103.83110000000005]\n",
      "975  Coordinate of 9 Devonshire Road: [26.671737000000064, -80.05891499999996]\n",
      "976  Coordinate of 78 West Coast Road: [12.968920000000026, 80.25759000000005]\n"
     ]
    },
    {
     "name": "stderr",
     "output_type": "stream",
     "text": [
      "Status code Unknown from https://geocode.arcgis.com/arcgis/rest/services/World/GeocodeServer/find: ERROR - HTTPSConnectionPool(host='geocode.arcgis.com', port=443): Read timed out. (read timeout=5.0)\n"
     ]
    },
    {
     "name": "stdout",
     "output_type": "stream",
     "text": [
      "977  Coordinate of 991 Bukit Timah Road: None\n"
     ]
    },
    {
     "name": "stderr",
     "output_type": "stream",
     "text": [
      "Status code Unknown from https://geocode.arcgis.com/arcgis/rest/services/World/GeocodeServer/find: ERROR - HTTPSConnectionPool(host='geocode.arcgis.com', port=443): Read timed out. (read timeout=5.0)\n"
     ]
    },
    {
     "name": "stdout",
     "output_type": "stream",
     "text": [
      "978  Coordinate of 33 West Coast Park: None\n",
      "979  Coordinate of 2 Dublin Road: [52.86470000000003, -8.188509999999951]\n",
      "980  Coordinate of 175 Bencoolen Street: [1.3022115553273892, 103.85249649353909]\n",
      "981  Coordinate of 18 Clementi Avenue 1: [1.3089716990733735, 103.76785199454716]\n",
      "982  Coordinate of 224 Westwood Avenue: [51.088618724489606, -1.8496291537349352]\n",
      "983  Coordinate of 23 Saint Patrick'S Road: [-17.876479999999958, 31.090280000000064]\n",
      "984  Coordinate of 55 Tiong Bahru Road: [1.2844139669483638, 103.8341355155381]\n",
      "985  Coordinate of 28 Pegu Road: None\n",
      "986  Coordinate of 1 Chatsworth Road: [52.07105000000007, -2.739849999999933]\n",
      "987  Coordinate of 37 Jalan Sempadan: [1.311384416795974, 103.92723733742127]\n",
      "988  Coordinate of 116 Kim Seng Road: [1.2941568816519151, 103.83281293503603]\n",
      "989  Coordinate of 9 Tanjong Rhu Road: [1.2974282965517716, 103.88244402775655]\n",
      "990  Coordinate of 522 East Coast Road: [1.3046600000000694, 103.90420000000006]\n",
      "991  Coordinate of 40 Cairnhill Road: [57.435253440000054, -2.7583398269999293]\n"
     ]
    },
    {
     "name": "stderr",
     "output_type": "stream",
     "text": [
      "Status code Unknown from https://geocode.arcgis.com/arcgis/rest/services/World/GeocodeServer/find: ERROR - HTTPSConnectionPool(host='geocode.arcgis.com', port=443): Read timed out. (read timeout=5.0)\n"
     ]
    },
    {
     "name": "stdout",
     "output_type": "stream",
     "text": [
      "992  Coordinate of 9 Boon Teck Road: None\n",
      "993  Coordinate of 23 Keppel Bay Drive: [49.77760998056158, 11.54673999713117]\n",
      "994  Coordinate of 275 Thomson Road: [22.277480000000025, 114.17496000000006]\n",
      "995  Coordinate of 59 Upper Serangoon View: [1.3766973798054778, 103.90341378930185]\n",
      "996  Coordinate of 5 Lorong 26 Geylang: [1.312775016442302, 103.88510528201476]\n",
      "997  Coordinate of 123 Jalan Jurong Kechil: [1.3418897845861726, 103.7710253055352]\n",
      "998  Coordinate of 6 Petir Road: [60.11025148350547, 30.201080309688727]\n",
      "999  Coordinate of 31 Lorong 31 Geylang: [1.3153534994066547, 103.88652710425038]\n",
      "1000  Coordinate of 101 Kitchener Road: [39.507840000000044, -84.15965999999997]\n",
      "1001  Coordinate of 98 Saint Francis Road: [35.68625000000003, -105.94008999999994]\n",
      "1002  Coordinate of 18 Simei Street 1: [53.79735000000005, -1.7584599999999568]\n",
      "1003  Coordinate of 87 Lorong H Telok Kurau: [1.0666700000000446, 102.25000000000006]\n",
      "1004  Coordinate of 119C Emerald Hill Road: [40.727961400120805, -75.62540005476941]\n",
      "1005  Coordinate of 9 Kim Tian Road: [1.2849198148049936, 103.8298028259677]\n"
     ]
    },
    {
     "name": "stderr",
     "output_type": "stream",
     "text": [
      "Status code Unknown from https://geocode.arcgis.com/arcgis/rest/services/World/GeocodeServer/find: ERROR - HTTPSConnectionPool(host='geocode.arcgis.com', port=443): Read timed out. (read timeout=5.0)\n"
     ]
    },
    {
     "name": "stdout",
     "output_type": "stream",
     "text": [
      "1006  Coordinate of 2 Minbu Road: None\n"
     ]
    },
    {
     "name": "stderr",
     "output_type": "stream",
     "text": [
      "Status code Unknown from https://geocode.arcgis.com/arcgis/rest/services/World/GeocodeServer/find: ERROR - HTTPSConnectionPool(host='geocode.arcgis.com', port=443): Read timed out. (read timeout=5.0)\n"
     ]
    },
    {
     "name": "stdout",
     "output_type": "stream",
     "text": [
      "1007  Coordinate of 43 Mosque Street: None\n",
      "1008  Coordinate of 1189 Upper Serangoon Road: None\n",
      "1009  Coordinate of 21 Holland Park: [42.778410000000065, -86.11408999999998]\n",
      "1010  Coordinate of 530 Joo Chiat Road: [1.3108000000000288, 103.90138000000007]\n",
      "1011  Coordinate of 21 Hillview Avenue: [12.967800000000068, 80.10269000000005]\n",
      "1012  Coordinate of 33 Punggol Field: [1.4049000000000547, 103.90272000000004]\n",
      "1013  Coordinate of 17 Simei Street 4: [1.3411692163632978, 103.9562849066948]\n",
      "1014  Coordinate of 38 Cairnhill Road: [57.435253440000054, -2.7583398269999293]\n",
      "1015  Coordinate of 21 Oxford Road: [53.47399000000007, -2.241739999999936]\n",
      "1016  Coordinate of 5A Lorong 26 Geylang: [1.3129770203088356, 103.88505792426179]\n",
      "1017  Coordinate of 190 Moulmein Road: [1.3187023211823288, 103.84534212008367]\n",
      "1018  Coordinate of 68 Marine Parade Road: [1.3003319973593221, 103.90388292442259]\n",
      "1019  Coordinate of 11 Buckley Road: [42.31683000000004, -87.90578999999997]\n",
      "1020  Coordinate of 42 Choa Chu Kang Street 64: [1.3990061084735288, 103.75142892997314]\n",
      "1021  Coordinate of 273 Bedok South Avenue 3: [1.3239272224362537, 103.94470958222854]\n",
      "1022  Coordinate of 30 Race Course Lane: [1.3097000000000207, 103.85299000000003]\n",
      "1023  Coordinate of 245 Orchard Boulevard: [36.51139225742186, -79.75810062580547]\n",
      "1024  Coordinate of 60 Marine Parade Road: [1.3011492748284468, 103.90391829605397]\n"
     ]
    },
    {
     "name": "stderr",
     "output_type": "stream",
     "text": [
      "Status code Unknown from https://geocode.arcgis.com/arcgis/rest/services/World/GeocodeServer/find: ERROR - HTTPSConnectionPool(host='geocode.arcgis.com', port=443): Read timed out. (read timeout=5.0)\n"
     ]
    },
    {
     "name": "stdout",
     "output_type": "stream",
     "text": [
      "1025  Coordinate of 21 Dairy Farm Road: None\n"
     ]
    },
    {
     "name": "stderr",
     "output_type": "stream",
     "text": [
      "Status code Unknown from https://geocode.arcgis.com/arcgis/rest/services/World/GeocodeServer/find: ERROR - HTTPSConnectionPool(host='geocode.arcgis.com', port=443): Read timed out. (read timeout=5.0)\n"
     ]
    },
    {
     "name": "stdout",
     "output_type": "stream",
     "text": [
      "1026  Coordinate of 1 Sophia Road: None\n"
     ]
    },
    {
     "name": "stderr",
     "output_type": "stream",
     "text": [
      "Status code Unknown from https://geocode.arcgis.com/arcgis/rest/services/World/GeocodeServer/find: ERROR - HTTPSConnectionPool(host='geocode.arcgis.com', port=443): Read timed out. (read timeout=5.0)\n"
     ]
    },
    {
     "name": "stdout",
     "output_type": "stream",
     "text": [
      "1027  Coordinate of 15 Ceylon Lane: None\n",
      "1028  Coordinate of 39 Oxley Rise: [55.059090000000026, 9.33278000000007]\n",
      "1029  Coordinate of 2 Marne Road: [1.312940000000026, 103.85721000000007]\n",
      "1030  Coordinate of 113 Compassvale Bow: None\n",
      "1031  Coordinate of 29 Keppel Bay View: [48.29431000551875, 11.073160036966755]\n",
      "1032  Coordinate of 65 Tiong Poh Road: [1.283338191585301, 103.83321451201721]\n",
      "1033  Coordinate of 35 Punggol Field: [1.4049000000000547, 103.90272000000004]\n",
      "1034  Coordinate of 54 Punggol Walk: [1.4058791852583568, 103.89998290869408]\n",
      "1035  Coordinate of 64 Wilkie Road: [37.885410000000036, -79.15974999999997]\n",
      "1036  Coordinate of 35 Bishan Street 11: [25.108120000000042, 121.84340000000009]\n",
      "1037  Coordinate of 95 Hillview Avenue: [12.967800000000068, 80.10269000000005]\n",
      "1038  Coordinate of 114 Punggol Walk: [1.402131217253455, 103.89782792138766]\n",
      "1039  Coordinate of 67 Tampines Central 7: [1.3504800000000614, 103.93626000000006]\n",
      "1040  Coordinate of 87 Pasir Ris Grove: [1.3718614826779145, 103.9438497666008]\n",
      "1041  Coordinate of 181 Tanjong Rhu Road: [1.2959547998830487, 103.87167604820416]\n",
      "1042  Coordinate of 21 Compassvale Road: [1.3893915207075906, 103.89621960180637]\n",
      "1043  Coordinate of 12 Derbyshire Road: [52.72695885195226, -1.4854913822155698]\n",
      "1044  Coordinate of 171 Telok Kurau Road: None\n"
     ]
    },
    {
     "name": "stderr",
     "output_type": "stream",
     "text": [
      "Status code Unknown from https://geocode.arcgis.com/arcgis/rest/services/World/GeocodeServer/find: ERROR - HTTPSConnectionPool(host='geocode.arcgis.com', port=443): Read timed out. (read timeout=5.0)\n"
     ]
    },
    {
     "name": "stdout",
     "output_type": "stream",
     "text": [
      "1045  Coordinate of 59 Tampines Street 86: None\n",
      "1046  Coordinate of 33 Hume Avenue: [53.48028794734403, -2.250747400558122]\n",
      "1047  Coordinate of 34 Parbury Avenue: [1.3172675489062726, 103.94401413572206]\n",
      "1048  Coordinate of 177 Tanjong Rhu Road: [1.2959927279949142, 103.87257911445226]\n",
      "1049  Coordinate of 32 Keppel Bay Drive: [50.053160018312354, 9.067960022514654]\n",
      "1050  Coordinate of 136 Hillview Avenue: [12.967800000000068, 80.10269000000005]\n",
      "1051  Coordinate of 20 Balmoral Park: [44.23821000000004, -76.60441999999995]\n",
      "1052  Coordinate of 125 Serangoon North Avenue 1: [1.3664506289020437, 103.87211081752184]\n",
      "1053  Coordinate of 28 Parbury Avenue: [1.3179049507332508, 103.9437280613667]\n",
      "1054  Coordinate of 10 West Coast Crescent: [1.297520874672344, 103.76633170236198]\n",
      "1055  Coordinate of 15 Saint Thomas Walk: [9.025580000000048, 76.92636000000005]\n"
     ]
    },
    {
     "name": "stderr",
     "output_type": "stream",
     "text": [
      "Status code Unknown from https://geocode.arcgis.com/arcgis/rest/services/World/GeocodeServer/find: ERROR - HTTPSConnectionPool(host='geocode.arcgis.com', port=443): Read timed out. (read timeout=5.0)\n"
     ]
    },
    {
     "name": "stdout",
     "output_type": "stream",
     "text": [
      "1056  Coordinate of 21 Woodleigh Close: None\n"
     ]
    },
    {
     "name": "stderr",
     "output_type": "stream",
     "text": [
      "Status code Unknown from https://geocode.arcgis.com/arcgis/rest/services/World/GeocodeServer/find: ERROR - HTTPSConnectionPool(host='geocode.arcgis.com', port=443): Read timed out. (read timeout=5.0)\n"
     ]
    },
    {
     "name": "stdout",
     "output_type": "stream",
     "text": [
      "1057  Coordinate of 18 Leicester Road: None\n",
      "1058  Coordinate of 501 Sembawang Road: [-6.291859999999929, 106.80343000000005]\n",
      "1059  Coordinate of 262 Balestier Road: None\n",
      "1060  Coordinate of 80 Jellicoe Road: [50.73363000000006, -1.7489899999999352]\n"
     ]
    },
    {
     "name": "stderr",
     "output_type": "stream",
     "text": [
      "Status code Unknown from https://geocode.arcgis.com/arcgis/rest/services/World/GeocodeServer/find: ERROR - HTTPSConnectionPool(host='geocode.arcgis.com', port=443): Read timed out. (read timeout=5.0)\n"
     ]
    },
    {
     "name": "stdout",
     "output_type": "stream",
     "text": [
      "1061  Coordinate of 93 Rosewood Drive: None\n",
      "1062  Coordinate of 184 Depot Road: [51.616250000000036, -3.7577499999999304]\n",
      "1063  Coordinate of 80 Bayshore Road: [40.73536000000007, -73.28455999999994]\n",
      "1064  Coordinate of 4 Jalan Ampas: [-3.1166699999999423, 140.91667000000007]\n",
      "1065  Coordinate of 1 Bishopsgate: [51.439348806000055, -0.5892356109999355]\n",
      "1066  Coordinate of 589 East Coast Road: [1.3046600000000694, 103.90420000000006]\n",
      "1067  Coordinate of 5 Taman Warna: [5.998920000000055, 102.01026000000007]\n",
      "1068  Coordinate of 1 King Albert Park: [1.3367100000000391, 103.77983000000006]\n"
     ]
    },
    {
     "name": "stderr",
     "output_type": "stream",
     "text": [
      "Status code Unknown from https://geocode.arcgis.com/arcgis/rest/services/World/GeocodeServer/find: ERROR - HTTPSConnectionPool(host='geocode.arcgis.com', port=443): Read timed out. (read timeout=5.0)\n"
     ]
    },
    {
     "name": "stdout",
     "output_type": "stream",
     "text": [
      "1069  Coordinate of 37 Bangkit Road: None\n",
      "1070  Coordinate of 30 Sturdee Road: [1.3128700000000322, 103.85852000000006]\n",
      "1071  Coordinate of 1 River Valley Close: [51.14365423833564, 1.276944811286641]\n",
      "1072  Coordinate of 38 Lorong 32 Geylang: [1.312697944842597, 103.886776884965]\n",
      "1073  Coordinate of 65 Flora Drive: None\n",
      "1074  Coordinate of 491A River Valley Road: [51.14365423833564, 1.276944811286641]\n",
      "1075  Coordinate of 43 Pasir Panjang Hill: [1.2825500000000716, 103.78559000000007]\n",
      "1076  Coordinate of 11 Unity Street: None\n",
      "1077  Coordinate of 8 Keng Chin Road: [21.300000000000068, 93.78333000000003]\n",
      "1078  Coordinate of 11 Riviera Drive: [-16.693996163457204, -49.22165402829777]\n",
      "1079  Coordinate of 15 Keppel Bay View: [48.85983998834149, 13.399000034387683]\n",
      "1080  Coordinate of 12A Canberra Drive: [1.4391165326531592, 103.83159009918177]\n",
      "1081  Coordinate of 62 Punggol Walk: [1.4055966313023163, 103.89949055570156]\n",
      "1082  Coordinate of 7 Leedon Heights: [41.03717000000006, -111.92410999999998]\n",
      "1083  Coordinate of 188 Keng Lee Road: [51.45103457500005, 0.009070274000066547]\n",
      "1084  Coordinate of 61 Choa Chu Kang Loop: [1.3868312683826503, 103.74478166165983]\n",
      "1085  Coordinate of 91 Moulmein Road: [1.3188813167246423, 103.8501040469157]\n",
      "1086  Coordinate of 738 Bedok Reservoir Road: [1.342610000000036, 103.92539000000005]\n",
      "1087  Coordinate of 45 Bright Hill Drive: [1.3574142667266642, 103.83136353633898]\n",
      "1088  Coordinate of 112 Kim Seng Road: [1.2935092119935518, 103.83316924974002]\n",
      "1089  Coordinate of 93 Grange Road: [43.56711000000007, -80.22628999999995]\n",
      "1090  Coordinate of 103 Pasir Ris Grove: [1.3703847170669547, 103.94484821890705]\n",
      "1091  Coordinate of 287 Ocean Drive: [-29.589759999999956, 31.14709000000005]\n",
      "1092  Coordinate of 25 Lorong 25 Geylang: [1.3144469965782264, 103.88232785457853]\n",
      "1093  Coordinate of 271 Bukit Timah Road: [5.4500000000000455, 100.26667000000003]\n",
      "1094  Coordinate of 15 Kim Yam Road: [1.29488438893803, 103.83901118479622]\n",
      "1095  Coordinate of 33 Mandalay Road: [-33.55437999999998, 116.06756000000007]\n",
      "1096  Coordinate of 1 Jalan Ulu Sembawang: [1.4373236854734444, 103.82491693078771]\n",
      "1097  Coordinate of 28 Woodsville Close: [52.75829527489837, -1.547544027771735]\n"
     ]
    },
    {
     "name": "stderr",
     "output_type": "stream",
     "text": [
      "Status code Unknown from https://geocode.arcgis.com/arcgis/rest/services/World/GeocodeServer/find: ERROR - HTTPSConnectionPool(host='geocode.arcgis.com', port=443): Read timed out. (read timeout=5.0)\n"
     ]
    },
    {
     "name": "stdout",
     "output_type": "stream",
     "text": [
      "1098  Coordinate of 10 Ava Road: None\n",
      "1099  Coordinate of 53A Grange Road: [43.56711000000007, -80.22628999999995]\n",
      "1100  Coordinate of 6 Whampoa East: [1.3215386314883517, 103.86482216597761]\n",
      "1101  Coordinate of 1 Pandan Valley: [1.31833000000006, 103.77583000000004]\n",
      "1102  Coordinate of 70 Saint Thomas Walk: [9.025580000000048, 76.92636000000005]\n",
      "1103  Coordinate of 173 Tanjong Rhu Road: [1.2967603845972349, 103.8727781846527]\n",
      "1104  Coordinate of 31 Pasir Ris Drive 3: [1.3746038318493419, 103.95373647285334]\n"
     ]
    },
    {
     "name": "stderr",
     "output_type": "stream",
     "text": [
      "Status code Unknown from https://geocode.arcgis.com/arcgis/rest/services/World/GeocodeServer/find: ERROR - HTTPSConnectionPool(host='geocode.arcgis.com', port=443): Read timed out. (read timeout=5.0)\n"
     ]
    },
    {
     "name": "stdout",
     "output_type": "stream",
     "text": [
      "1105  Coordinate of 861 Mountbatten Road: None\n",
      "1106  Coordinate of 23 Balmoral Road: [53.387860000000046, -2.3431399999999485]\n",
      "1107  Coordinate of 19A Toh Tuck Road: None\n",
      "1108  Coordinate of 73 Cavenagh Road: [-12.462989999999934, 130.84419000000003]\n",
      "1109  Coordinate of 1 Kim Yam Road: [1.2955268618164268, 103.83890976376779]\n",
      "1110  Coordinate of 8 Liang Seah Street: [1.2974400000000514, 103.85642000000007]\n",
      "1111  Coordinate of 70 Truro Road: None\n",
      "1112  Coordinate of 73 Anchorvale Crescent: [1.3971783925766061, 103.89376965532722]\n",
      "1113  Coordinate of 7 Mount Sophia: [41.114810000000034, -75.30128999999994]\n",
      "1114  Coordinate of 25 Yishun Central 1: [1.4265085577156924, 103.8356392289678]\n",
      "1115  Coordinate of 9 Jalan Jintan: [31.216660000000047, 107.31522000000007]\n",
      "1116  Coordinate of 100 Gerald Drive: [1.3882005779949083, 103.87849372060901]\n",
      "1117  Coordinate of 2 Canberra Drive: [1.4379564353441623, 103.83099540315152]\n",
      "1118  Coordinate of 10 Holland Heights: [36.73015000000004, -76.61994999999996]\n",
      "1119  Coordinate of 12 Bedok Rise: [1.3273172412660585, 103.94836342146078]\n",
      "1120  Coordinate of 2 Cairnhill Circle: [57.435253440000054, -2.7583398269999293]\n",
      "1121  Coordinate of 36 Kim Tian Road: [1.2842767971028906, 103.8291629514793]\n",
      "1122  Coordinate of 97 Robertson Quay: [1.2909382727420535, 103.83656718946833]\n",
      "1123  Coordinate of 202 Kim Seng Road: [1.2927264114674004, 103.83323051234572]\n",
      "1124  Coordinate of 63 Flora Drive: None\n",
      "1125  Coordinate of 1 Surrey Road: [51.301269992860625, -0.056590000193835976]\n",
      "1126  Coordinate of 7 Alexandra View: [-45.25953292667288, 169.38250871772692]\n",
      "1127  Coordinate of 80 Elias Road: [37.93516573524203, 23.743622951414014]\n",
      "1128  Coordinate of 33 Sommerville Road: [32.49739000000005, -85.02011999999996]\n",
      "1129  Coordinate of 29 Saint Martin's Drive: [51.26834744048902, 1.0910477084931969]\n",
      "1130  Coordinate of 70 Bayshore Road: [40.73536000000007, -73.28455999999994]\n"
     ]
    },
    {
     "name": "stderr",
     "output_type": "stream",
     "text": [
      "Status code Unknown from https://geocode.arcgis.com/arcgis/rest/services/World/GeocodeServer/find: ERROR - HTTPSConnectionPool(host='geocode.arcgis.com', port=443): Read timed out. (read timeout=5.0)\n"
     ]
    },
    {
     "name": "stdout",
     "output_type": "stream",
     "text": [
      "1131  Coordinate of 45 Mount Sinai Rise: None\n",
      "1132  Coordinate of 2 River Valley Grove: [45.824970000000064, -94.35721999999998]\n",
      "1133  Coordinate of 37 Pheng Geck Avenue: [1.331826621355404, 103.86966305033752]\n",
      "1134  Coordinate of 25 Keppel Bay View: [49.77756999888345, 11.547020036516244]\n",
      "1135  Coordinate of 1 Lorong 28 Geylang: [1.3130519545232175, 103.88573166163906]\n",
      "1136  Coordinate of 26 Cuscaden Road: [1.3045005273560548, 103.82642131476962]\n",
      "1137  Coordinate of 72 Dakota Crescent: [1.3063500000000658, 103.88428000000005]\n",
      "1138  Coordinate of 376 Thomson Road: [22.277480000000025, 114.17496000000006]\n"
     ]
    },
    {
     "name": "stderr",
     "output_type": "stream",
     "text": [
      "Status code Unknown from https://geocode.arcgis.com/arcgis/rest/services/World/GeocodeServer/find: ERROR - HTTPSConnectionPool(host='geocode.arcgis.com', port=443): Read timed out. (read timeout=5.0)\n"
     ]
    },
    {
     "name": "stdout",
     "output_type": "stream",
     "text": [
      "1139  Coordinate of 32 Sturdee Road: None\n",
      "1140  Coordinate of 84 Upper Serangoon View: [1.3761057850793463, 103.9041942283065]\n",
      "1141  Coordinate of 26 Jalan Datoh: [1.3284700000000385, 103.84290000000004]\n",
      "1142  Coordinate of 9 Woodlands Drive 72: [51.47392001537324, -0.34955000521128454]\n",
      "1143  Coordinate of 61 Mount Sinai Drive: [1.3175128453027014, 103.77951936972306]\n",
      "1144  Coordinate of 75 Jurong West Central 3: [1.33885375752061, 103.70472714477438]\n",
      "1145  Coordinate of 33A West Coast Park: [1.2931200000000445, 103.76551000000006]\n",
      "1146  Coordinate of 37 Choa Chu Kang Loop: [1.3859968499215256, 103.74291467654655]\n",
      "1147  Coordinate of 93 Kellock Road: [1.2933582120078455, 103.83042426026913]\n",
      "1148  Coordinate of 45 Scotts Road: [52.47646000000003, -1.89549999999997]\n",
      "1149  Coordinate of 85 West Coast Drive: [1.3150723703741392, 103.7585180084028]\n",
      "1150  Coordinate of 13 Evelyn Road: [38.938420000000065, -81.34428999999994]\n",
      "1151  Coordinate of 81 Kovan Road: [1.355320000000063, 103.87852000000004]\n",
      "1152  Coordinate of 200 Kim Seng Road: [1.295651333078581, 103.83223684683082]\n",
      "1153  Coordinate of 25 Saint Martin'S Drive: [51.26834744048902, 1.0910477084931969]\n",
      "1154  Coordinate of 1 Geylang East Avenue 2: [1.316404841521944, 103.8879067655131]\n",
      "1155  Coordinate of 9 Martia Road: [57.34299000000004, -2.6124399999999355]\n",
      "1156  Coordinate of 15 Cairnhill Circle: [57.435253440000054, -2.7583398269999293]\n",
      "1157  Coordinate of 33 Saint Thomas Walk: [9.025580000000048, 76.92636000000005]\n",
      "1158  Coordinate of 1G Leedon Heights: [1.3154806947873396, 103.80201421855111]\n",
      "1159  Coordinate of 31 Jalan Rama Rama: [12.159650000000056, -84.21951999999999]\n",
      "1160  Coordinate of 28 Dalvey Estate: [37.98878000000008, -122.04678999999999]\n"
     ]
    },
    {
     "name": "stderr",
     "output_type": "stream",
     "text": [
      "Status code Unknown from https://geocode.arcgis.com/arcgis/rest/services/World/GeocodeServer/find: ERROR - HTTPSConnectionPool(host='geocode.arcgis.com', port=443): Read timed out. (read timeout=5.0)\n"
     ]
    },
    {
     "name": "stdout",
     "output_type": "stream",
     "text": [
      "1161  Coordinate of 38 Chay Yan Street: None\n",
      "1162  Coordinate of 1 Makeway Avenue: [1.312915497139528, 103.84211299188536]\n",
      "1163  Coordinate of 48A Toh Tuck Road: None\n"
     ]
    },
    {
     "name": "stderr",
     "output_type": "stream",
     "text": [
      "Status code Unknown from https://geocode.arcgis.com/arcgis/rest/services/World/GeocodeServer/find: ERROR - HTTPSConnectionPool(host='geocode.arcgis.com', port=443): Read timed out. (read timeout=5.0)\n"
     ]
    },
    {
     "name": "stdout",
     "output_type": "stream",
     "text": [
      "1164  Coordinate of 95 Pasir Panjang Hill: None\n",
      "1165  Coordinate of 65B Cavenagh Road: [-12.462989999999934, 130.84419000000003]\n",
      "1166  Coordinate of 20 Pasir Ris Link: [1.3775237516395435, 103.96024200318391]\n",
      "1167  Coordinate of 5 Jurong Lake Link: [1.345878211476787, 103.72598013082796]\n",
      "1168  Coordinate of 927 Bukit Timah Road: [5.4500000000000455, 100.26667000000003]\n",
      "1169  Coordinate of 57B Devonshire Road: [26.671737000000064, -80.05891499999996]\n",
      "1170  Coordinate of 5 Woodlands Drive 72: [51.47392001537324, -0.34955000521128454]\n",
      "1171  Coordinate of 2 Kovan Rise: [35.351942060000056, 136.85302043000002]\n",
      "1172  Coordinate of 56 Farrer Road: None\n",
      "1173  Coordinate of 33 Robin Road: None\n",
      "1174  Coordinate of 18 Ang Mo Kio Central 3: [22.1926233351019, 113.53985519657785]\n",
      "1175  Coordinate of 138 Mackenzie Road: [1.304770000000076, 103.84953000000007]\n",
      "1176  Coordinate of 183A Upper Thomson Road: [1.3502500000000737, 103.83577000000008]\n",
      "1177  Coordinate of 23 Minbu Road: [1.3248000000000388, 103.84864000000005]\n",
      "1178  Coordinate of 75 Farrer Drive: [1.312048137798925, 103.8056502043296]\n",
      "1179  Coordinate of 913 Lorong 1 Toa Payoh: [1.3344800000000419, 103.85108000000008]\n",
      "1180  Coordinate of 18 Ipoh Lane: [1.3116806751637142, 103.89585750358918]\n"
     ]
    },
    {
     "name": "stderr",
     "output_type": "stream",
     "text": [
      "Status code Unknown from https://geocode.arcgis.com/arcgis/rest/services/World/GeocodeServer/find: ERROR - HTTPSConnectionPool(host='geocode.arcgis.com', port=443): Read timed out. (read timeout=5.0)\n"
     ]
    },
    {
     "name": "stdout",
     "output_type": "stream",
     "text": [
      "1181  Coordinate of 8 Chancery Lane: None\n"
     ]
    },
    {
     "name": "stderr",
     "output_type": "stream",
     "text": [
      "Status code Unknown from https://geocode.arcgis.com/arcgis/rest/services/World/GeocodeServer/find: ERROR - HTTPSConnectionPool(host='geocode.arcgis.com', port=443): Read timed out. (read timeout=5.0)\n"
     ]
    },
    {
     "name": "stdout",
     "output_type": "stream",
     "text": [
      "1182  Coordinate of 21 Sampan Place: None\n",
      "1183  Coordinate of 1 Balmoral Road: [1.3136600000000271, 103.83063000000004]\n",
      "1184  Coordinate of 71 Hillview Avenue: [12.967800000000068, 80.10269000000005]\n",
      "1185  Coordinate of 120 Tanjong Rhu Road: [1.2974947231344345, 103.87460166768852]\n",
      "1186  Coordinate of 883 North Bridge Road: [53.52906000000007, -1.1450899999999251]\n",
      "1187  Coordinate of 72 Saint Patrick's Road: [-17.876479999999958, 31.090280000000064]\n",
      "1188  Coordinate of 21 Delta Road: [1.2917600000000675, 103.82594000000006]\n",
      "1189  Coordinate of 50A Faber Heights: [1.3235763978788526, 103.75666535634394]\n",
      "1190  Coordinate of 80 Tanah Merah Kechil Avenue: [1.3279493205845085, 103.94664211382468]\n",
      "1191  Coordinate of 30 Tanah Merah Kechil Road: [1.32813066305971, 103.94447002743578]\n",
      "1192  Coordinate of 10 Cuscaden Walk: [50.44572000000005, 6.102460000000065]\n",
      "1193  Coordinate of 49 Saint Thomas Walk: [9.025580000000048, 76.92636000000005]\n",
      "1194  Coordinate of 2 Hougang Street 92: [1.374087967618408, 103.87835634121592]\n",
      "1195  Coordinate of 880 Upper Bukit Timah Road: [1.3404100000000199, 103.77221000000009]\n",
      "1196  Coordinate of 33 Oxford Road: [53.47399000000007, -2.241739999999936]\n",
      "1197  Coordinate of 22 Newton Road: [52.54562000000004, -1.9341199999999503]\n",
      "1198  Coordinate of 950 Dunearn Road: None\n",
      "1199  Coordinate of 19 Lorong Lew Lian: [1.3508961920310736, 103.87629050191512]\n",
      "1200  Coordinate of 39F West Coast Park: [-33.01593996724856, 18.99386074970686]\n",
      "1201  Coordinate of 9 Amber Gardens: [22.26457010000007, 114.18844230000002]\n",
      "1202  Coordinate of 60 Gilstead Road: [1.3179300000000467, 103.83926000000008]\n",
      "1203  Coordinate of 25 Kim Yam Road: [1.2941630423507462, 103.83944888778007]\n"
     ]
    },
    {
     "name": "stderr",
     "output_type": "stream",
     "text": [
      "Status code Unknown from https://geocode.arcgis.com/arcgis/rest/services/World/GeocodeServer/find: ERROR - HTTPSConnectionPool(host='geocode.arcgis.com', port=443): Read timed out. (read timeout=5.0)\n"
     ]
    },
    {
     "name": "stdout",
     "output_type": "stream",
     "text": [
      "1204  Coordinate of 3 Alexandra View: None\n"
     ]
    },
    {
     "name": "stderr",
     "output_type": "stream",
     "text": [
      "Status code Unknown from https://geocode.arcgis.com/arcgis/rest/services/World/GeocodeServer/find: ERROR - HTTPSConnectionPool(host='geocode.arcgis.com', port=443): Read timed out. (read timeout=5.0)\n"
     ]
    },
    {
     "name": "stdout",
     "output_type": "stream",
     "text": [
      "1205  Coordinate of 286 Telok Kurau Road: None\n"
     ]
    },
    {
     "name": "stderr",
     "output_type": "stream",
     "text": [
      "Status code Unknown from https://geocode.arcgis.com/arcgis/rest/services/World/GeocodeServer/find: ERROR - HTTPSConnectionPool(host='geocode.arcgis.com', port=443): Read timed out. (read timeout=5.0)\n"
     ]
    },
    {
     "name": "stdout",
     "output_type": "stream",
     "text": [
      "1206  Coordinate of 2 Gilstead Road: None\n",
      "1207  Coordinate of 65C Cavenagh Road: [-12.462989999999934, 130.84419000000003]\n",
      "1208  Coordinate of 48 Lorong 32 Geylang: [1.3121275144220022, 103.8868142682532]\n",
      "1209  Coordinate of 1A One Tree Hill: [-34.71740999999997, 138.76553]\n",
      "1210  Coordinate of 152 Mariam Way: [45.04752000000008, 38.97267000000005]\n",
      "1211  Coordinate of 35 Oxley Rise: [-27.55691784787972, 152.97844835852098]\n",
      "1212  Coordinate of 9 Jurong Lake Link: [1.3451369997789726, 103.7259712460106]\n",
      "1213  Coordinate of 101 Spottiswoode Park Road: [1.2752413988463758, 103.83604583509083]\n",
      "1214  Coordinate of 108 Punggol Walk: [1.4022689738321503, 103.89701152401835]\n",
      "1215  Coordinate of 437 Tanjong Katong Road: [1.3000000000000682, 103.90000000000003]\n",
      "1216  Coordinate of 50 Robinson Road: [22.28087000000005, 114.15078000000005]\n",
      "1217  Coordinate of 15 Oxley Walk: [1.2965958059283906, 103.84239386946075]\n",
      "1218  Coordinate of 1 Marne Road: [1.312940000000026, 103.85721000000007]\n",
      "1219  Coordinate of 2 Flora Drive: [46.52891000000005, 8.609850000000051]\n",
      "1220  Coordinate of 2A Lincoln Road: [52.58834000000007, -0.24678999999997586]\n",
      "1221  Coordinate of 20 Evelyn Road: [38.938420000000065, -81.34428999999994]\n",
      "1222  Coordinate of 104 Prinsep Street: [1.3014356006409145, 103.85151161991598]\n",
      "1223  Coordinate of 16 Lorong 34 Geylang: [1.3133774657330406, 103.8875227067096]\n",
      "1224  Coordinate of 66 Toh Tuck Road: None\n",
      "1225  Coordinate of 42 Saint Patrick's Road: [-17.876479999999958, 31.090280000000064]\n",
      "1226  Coordinate of 14 Whampoa East: [1.3217157830119675, 103.86408707306913]\n",
      "1227  Coordinate of 2 First Street: [38.43688000000003, 27.141030000000057]\n",
      "1228  Coordinate of 102 Wishart Road: [1.2705637520507764, 103.81362826741002]\n",
      "1229  Coordinate of 3 Khiang Guan Avenue: [1.3166140793771153, 103.84333733644559]\n",
      "1230  Coordinate of 23 Kim Yam Road: [1.2939868128364793, 103.83971853360521]\n",
      "1231  Coordinate of 1014 Upper Serangoon Road: None\n",
      "1232  Coordinate of 8 Pari Dedap Walk: [50.44572000000005, 6.102460000000065]\n",
      "1233  Coordinate of 45 Newton Road: [52.54562000000004, -1.9341199999999503]\n",
      "1234  Coordinate of 50 Duchess Avenue: [1.3240300000000502, 103.80522000000008]\n",
      "1235  Coordinate of 19 Woodlands Avenue 6: [54.00030917173102, -1.4980269655523917]\n",
      "1236  Coordinate of 33 Sommerville Estate Road: [33.02246526784535, -80.27616265229108]\n",
      "1237  Coordinate of 25 Robin Road: None\n",
      "1238  Coordinate of 11 Leedon Heights: [1.316220984475791, 103.8043857942356]\n",
      "1239  Coordinate of 117 Jurong East Street 13: [1.3379233243586128, 103.73500115412054]\n",
      "1240  Coordinate of 35 Pheng Geck Avenue: [1.331266207309099, 103.86961233982333]\n",
      "1241  Coordinate of 9 Sin Ming Road: [1.355700150466888, 103.83760870868345]\n",
      "1242  Coordinate of 5 Farrer Drive: [1.3149230467690671, 103.80707521168847]\n",
      "1243  Coordinate of 28 Balmoral Park: [44.23821000000004, -76.60441999999995]\n",
      "1244  Coordinate of 94 Flora Road: None\n",
      "1245  Coordinate of 17 Keppel Bay View: [49.461890007118654, 11.114290035848654]\n",
      "1246  Coordinate of 45 Pasir Panjang Hill: [1.2825500000000716, 103.78559000000007]\n",
      "1247  Coordinate of 55 Paterson Road: [28.100400000000036, -82.61359999999996]\n",
      "1248  Coordinate of 47 Hindhede Walk: [1.3476676639857033, 103.771800978003]\n",
      "1249  Coordinate of 102 Duchess Avenue: [1.3240300000000502, 103.80522000000008]\n",
      "1250  Coordinate of 30 Bedok North Drive: [1.3242887339202127, 103.92878857624197]\n",
      "1251  Coordinate of 66 Moonstone Lane: [1.3286652608442466, 103.86449577466794]\n",
      "1252  Coordinate of 15 Leedon Heights: [1.3158846606108767, 103.80284939138352]\n",
      "1253  Coordinate of 253B Pasir Panjang Road: [0.8443000000000325, 108.88043000000005]\n",
      "1254  Coordinate of 368 Thomson Road: [22.277480000000025, 114.17496000000006]\n"
     ]
    },
    {
     "name": "stderr",
     "output_type": "stream",
     "text": [
      "Status code Unknown from https://geocode.arcgis.com/arcgis/rest/services/World/GeocodeServer/find: ERROR - HTTPSConnectionPool(host='geocode.arcgis.com', port=443): Read timed out. (read timeout=5.0)\n"
     ]
    },
    {
     "name": "stdout",
     "output_type": "stream",
     "text": [
      "1255  Coordinate of 38 Ipoh Lane: None\n",
      "1256  Coordinate of 15 Balmoral Road: [53.387860000000046, -2.3431399999999485]\n",
      "1257  Coordinate of 27 Bencoolen Street: [1.2988499511493643, 103.84984068751794]\n",
      "1258  Coordinate of 730 Upper Changi Road East: [1.3455255009911582, 103.9632692951538]\n",
      "1259  Coordinate of 16 Balmoral Crescent: [1.3158623647484262, 103.83550570525017]\n",
      "1260  Coordinate of 1 Kim Seng Walk: [47.778760000000034, 10.616910000000075]\n"
     ]
    },
    {
     "name": "stderr",
     "output_type": "stream",
     "text": [
      "Status code Unknown from https://geocode.arcgis.com/arcgis/rest/services/World/GeocodeServer/find: ERROR - HTTPSConnectionPool(host='geocode.arcgis.com', port=443): Read timed out. (read timeout=5.0)\n"
     ]
    },
    {
     "name": "stdout",
     "output_type": "stream",
     "text": [
      "1261  Coordinate of 15 Sophia Road: None\n",
      "1262  Coordinate of 51 Upper Serangoon View: [1.3759931323006782, 103.90364387254402]\n",
      "1263  Coordinate of 12 Surrey Road: [51.40357664557632, -0.5384277477300379]\n",
      "1264  Coordinate of 8B Rochalie Drive: [1.3026332069666324, 103.82188628605655]\n",
      "1265  Coordinate of 81 Pheng Geck Avenue: [1.3327934738866958, 103.8697968255122]\n",
      "1266  Coordinate of 387 Joo Chiat Road: [1.3108000000000288, 103.90138000000007]\n",
      "1267  Coordinate of 87 Amber Road: [26.951320000000067, 75.84682000000004]\n",
      "1268  Coordinate of 4 Keppel Bay Drive: [48.86004999692554, 13.400789989810818]\n",
      "1269  Coordinate of 59 Lorong Gambir: [1.3452006184240872, 103.87534857908048]\n",
      "1270  Coordinate of 108 Duchess Avenue: [1.3240300000000502, 103.80522000000008]\n",
      "1271  Coordinate of 65 Punggol Central: [1.410030000000063, 103.90594000000004]\n",
      "1272  Coordinate of 66 Meyer Road: None\n",
      "1273  Coordinate of 21 Telok Blangah Drive: [1.271990435790272, 103.80851421682559]\n",
      "1274  Coordinate of 9 Elias Green: [1.3720700000000647, 103.94064000000009]\n"
     ]
    },
    {
     "name": "stderr",
     "output_type": "stream",
     "text": [
      "Status code Unknown from https://geocode.arcgis.com/arcgis/rest/services/World/GeocodeServer/find: ERROR - HTTPSConnectionPool(host='geocode.arcgis.com', port=443): Read timed out. (read timeout=5.0)\n"
     ]
    },
    {
     "name": "stdout",
     "output_type": "stream",
     "text": [
      "1275  Coordinate of 3 Hullet Road: None\n",
      "1276  Coordinate of 30 Mount Vernon Road: [41.171295239859845, -74.49515375570208]\n",
      "1277  Coordinate of 10 Geylang East Avenue 2: [1.3167782972179225, 103.8889640587796]\n",
      "1278  Coordinate of 20 Lorong Marzuki: None\n",
      "1279  Coordinate of 80 Kim Seng Road: [1.2918537861163912, 103.83414414889836]\n",
      "1280  Coordinate of 2 Belmont Road: [53.60884000000004, -2.4356299999999464]\n",
      "1281  Coordinate of 28 Tomlinson Road: [-67.24999999999994, 51.18333000000007]\n",
      "1282  Coordinate of 735 Mountbatten Road: [47.716810000000066, -83.04977999999994]\n",
      "1283  Coordinate of 41 Pasir Panjang Hill: [1.2825500000000716, 103.78559000000007]\n"
     ]
    },
    {
     "name": "stderr",
     "output_type": "stream",
     "text": [
      "Status code Unknown from https://geocode.arcgis.com/arcgis/rest/services/World/GeocodeServer/find: ERROR - HTTPSConnectionPool(host='geocode.arcgis.com', port=443): Read timed out. (read timeout=5.0)\n"
     ]
    },
    {
     "name": "stdout",
     "output_type": "stream",
     "text": [
      "1284  Coordinate of 14 Taman Nakhoda: None\n",
      "1285  Coordinate of 37 Scotts Road: [52.47646000000003, -1.89549999999997]\n",
      "1286  Coordinate of 31 Club Street: [1.2824700000000462, 103.84633000000008]\n",
      "1287  Coordinate of 23 Holland Hill: [31.964668950364874, -97.37850967561408]\n",
      "1288  Coordinate of 51 Kampong Bugis: [3.8528100000000336, 103.36657000000008]\n",
      "1289  Coordinate of 76 Grange Road: [43.56711000000007, -80.22628999999995]\n"
     ]
    },
    {
     "name": "stderr",
     "output_type": "stream",
     "text": [
      "Status code Unknown from https://geocode.arcgis.com/arcgis/rest/services/World/GeocodeServer/find: ERROR - HTTPSConnectionPool(host='geocode.arcgis.com', port=443): Read timed out. (read timeout=5.0)\n"
     ]
    },
    {
     "name": "stdout",
     "output_type": "stream",
     "text": [
      "1290  Coordinate of 113 Prince Charles Crescent: None\n",
      "1291  Coordinate of 547 East Coast Road: [1.3046600000000694, 103.90420000000006]\n",
      "1292  Coordinate of 7 Keppel Bay View: [48.859349982281856, 13.400090017076622]\n",
      "1293  Coordinate of 23 Leonie Hill: [51.369321408980916, 1.1140043228301821]\n",
      "1294  Coordinate of 48 Woodlands Drive 16: [51.475049979740305, -0.3474199959763382]\n",
      "1295  Coordinate of 110 Tanjong Rhu Road: [1.2974075513414078, 103.87543818162544]\n",
      "1296  Coordinate of 468 Sims Avenue: None\n",
      "1297  Coordinate of 21 Stevens Drive: [-26.15197999999998, 28.548050000000046]\n",
      "1298  Coordinate of 16 Clementi Avenue 1: [1.3089716990733735, 103.76785199454716]\n",
      "1299  Coordinate of 26 Bukit Batok East Avenue 2: [1.3520812389217696, 103.75916115183344]\n",
      "1300  Coordinate of 9C Yuan Ching Road: [22.568140000000028, 120.33473000000004]\n",
      "1301  Coordinate of 3 Lorong How Sun: [1.3430589164342024, 103.8817794266538]\n",
      "1302  Coordinate of 1 Alexandra View: [-45.25953292667288, 169.38250871772692]\n",
      "1303  Coordinate of 5B Balmoral Park: [44.23821000000004, -76.60441999999995]\n",
      "1304  Coordinate of 25 Kim Keat Close: [1.323168157284698, 103.85298817597936]\n",
      "1305  Coordinate of 64 Tiong Poh Road: [1.283714832404499, 103.83369018502242]\n",
      "1306  Coordinate of 455 Sims Avenue: None\n",
      "1307  Coordinate of 58 Swiss View: [37.31461000000007, -88.15619999999996]\n",
      "1308  Coordinate of 3 West Coast Drive: [1.3134029142855281, 103.75972274139446]\n",
      "1309  Coordinate of 39 Mount Sinai Rise: [1.315555251816079, 103.77693464224086]\n",
      "1310  Coordinate of 36 Tomlinson Road: [-67.24999999999994, 51.18333000000007]\n",
      "1311  Coordinate of 69A Carlisle Road: [55.77156000000008, -4.021379999999965]\n",
      "1312  Coordinate of 4 Balmoral Crescent: [1.3148582127480068, 103.83417172535985]\n",
      "1313  Coordinate of 33 Mount Sinai Rise: [1.3144427637171248, 103.77785774123754]\n",
      "1314  Coordinate of 23 Akyab Road: [1.324347113875831, 103.84840168238077]\n",
      "1315  Coordinate of 19 Nassim Road: [29.322418146608793, 47.6612570360461]\n",
      "1316  Coordinate of 15 Ardmore Park: [39.99657000000008, -75.29884999999996]\n",
      "1317  Coordinate of 6C Verdun Road: [1.3102000000000658, 103.85607000000005]\n"
     ]
    },
    {
     "name": "stderr",
     "output_type": "stream",
     "text": [
      "Status code Unknown from https://geocode.arcgis.com/arcgis/rest/services/World/GeocodeServer/find: ERROR - HTTPSConnectionPool(host='geocode.arcgis.com', port=443): Read timed out. (read timeout=5.0)\n"
     ]
    },
    {
     "name": "stdout",
     "output_type": "stream",
     "text": [
      "1318  Coordinate of 51 Tampines Street 86: None\n"
     ]
    },
    {
     "name": "stderr",
     "output_type": "stream",
     "text": [
      "Status code Unknown from https://geocode.arcgis.com/arcgis/rest/services/World/GeocodeServer/find: ERROR - HTTPSConnectionPool(host='geocode.arcgis.com', port=443): Max retries exceeded with url: /arcgis/rest/services/World/GeocodeServer/find?f=json&text=77+Woodgrove+Avenue&maxLocations=1 (Caused by NewConnectionError('<urllib3.connection.HTTPSConnection object at 0x000002C70050A460>: Failed to establish a new connection: [Errno 11001] getaddrinfo failed'))\n"
     ]
    },
    {
     "name": "stdout",
     "output_type": "stream",
     "text": [
      "1319  Coordinate of 77 Woodgrove Avenue: None\n"
     ]
    },
    {
     "name": "stderr",
     "output_type": "stream",
     "text": [
      "Status code Unknown from https://geocode.arcgis.com/arcgis/rest/services/World/GeocodeServer/find: ERROR - HTTPSConnectionPool(host='geocode.arcgis.com', port=443): Max retries exceeded with url: /arcgis/rest/services/World/GeocodeServer/find?f=json&text=66+Marine+Parade+Road&maxLocations=1 (Caused by NewConnectionError('<urllib3.connection.HTTPSConnection object at 0x000002C70050AD60>: Failed to establish a new connection: [Errno 11001] getaddrinfo failed'))\n"
     ]
    },
    {
     "name": "stdout",
     "output_type": "stream",
     "text": [
      "1320  Coordinate of 66 Marine Parade Road: None\n"
     ]
    },
    {
     "name": "stderr",
     "output_type": "stream",
     "text": [
      "Status code Unknown from https://geocode.arcgis.com/arcgis/rest/services/World/GeocodeServer/find: ERROR - HTTPSConnectionPool(host='geocode.arcgis.com', port=443): Read timed out. (read timeout=5.0)\n"
     ]
    },
    {
     "name": "stdout",
     "output_type": "stream",
     "text": [
      "1321  Coordinate of 3 Kellock Road: None\n"
     ]
    },
    {
     "name": "stderr",
     "output_type": "stream",
     "text": [
      "Status code Unknown from https://geocode.arcgis.com/arcgis/rest/services/World/GeocodeServer/find: ERROR - HTTPSConnectionPool(host='geocode.arcgis.com', port=443): Read timed out. (read timeout=5.0)\n"
     ]
    },
    {
     "name": "stdout",
     "output_type": "stream",
     "text": [
      "1322  Coordinate of 7C Balmoral Park: None\n",
      "1323  Coordinate of Farrer Park / Serangoon Rd (D8): [1.3120949998058287, 103.85127373302878]\n"
     ]
    },
    {
     "name": "stderr",
     "output_type": "stream",
     "text": [
      "Status code Unknown from https://geocode.arcgis.com/arcgis/rest/services/World/GeocodeServer/find: ERROR - HTTPSConnectionPool(host='geocode.arcgis.com', port=443): Read timed out. (read timeout=5.0)\n"
     ]
    },
    {
     "name": "stdout",
     "output_type": "stream",
     "text": [
      "1324  Coordinate of 37 Lorong Ong Lye: None\n"
     ]
    },
    {
     "name": "stderr",
     "output_type": "stream",
     "text": [
      "Status code Unknown from https://geocode.arcgis.com/arcgis/rest/services/World/GeocodeServer/find: ERROR - HTTPSConnectionPool(host='geocode.arcgis.com', port=443): Read timed out. (read timeout=5.0)\n"
     ]
    },
    {
     "name": "stdout",
     "output_type": "stream",
     "text": [
      "1325  Coordinate of 460 Siglap Road: None\n",
      "1326  Coordinate of 88 Rangoon Road: [1.3180700000000343, 103.85215000000005]\n",
      "1327  Coordinate of 8 Jalan Ayer: [2.2216300000000615, 32.632690000000025]\n",
      "1328  Coordinate of 2 Lorong M Telok Kurau: [1.0666700000000446, 102.25000000000006]\n"
     ]
    },
    {
     "name": "stderr",
     "output_type": "stream",
     "text": [
      "Status code Unknown from https://geocode.arcgis.com/arcgis/rest/services/World/GeocodeServer/find: ERROR - HTTPSConnectionPool(host='geocode.arcgis.com', port=443): Read timed out. (read timeout=5.0)\n"
     ]
    },
    {
     "name": "stdout",
     "output_type": "stream",
     "text": [
      "1329  Coordinate of 993 Bukit Timah Road: None\n"
     ]
    },
    {
     "name": "stderr",
     "output_type": "stream",
     "text": [
      "Status code Unknown from https://geocode.arcgis.com/arcgis/rest/services/World/GeocodeServer/find: ERROR - HTTPSConnectionPool(host='geocode.arcgis.com', port=443): Read timed out. (read timeout=5.0)\n"
     ]
    },
    {
     "name": "stdout",
     "output_type": "stream",
     "text": [
      "1330  Coordinate of 32 Jalan Rajah: None\n",
      "1331  Coordinate of 17 Hazel Park Terrace: [1.3714500000000385, 103.76406000000009]\n",
      "1332  Coordinate of 980 Upper Serangoon Road: None\n",
      "1333  Coordinate of 9 Pasir Ris Rise: [46.00329308073493, 3.4878252128374756]\n",
      "1334  Coordinate of 81 West Coast Drive: [1.3155055471302433, 103.75805691990911]\n",
      "1335  Coordinate of 2 Lakepoint Drive: [40.53425056577021, -112.29701560206901]\n",
      "1336  Coordinate of 157G Tamarind Road: [32.33835800000003, -111.01333399999999]\n",
      "1337  Coordinate of 35 Jalan Mutiara: [5.294140000000027, 95.99597000000006]\n",
      "1338  Coordinate of 6 Woodgrove Drive: [1.4291829715618718, 103.7820353655992]\n",
      "1339  Coordinate of 50 Draycott Park: [-31.872729999999933, 115.77514000000008]\n",
      "1340  Coordinate of 20 Lorong Puntong: [1.3601137843728566, 103.83108014419258]\n",
      "1341  Coordinate of 249 Bedok South Avenue 3: [1.3235118153148875, 103.9452377259476]\n",
      "1342  Coordinate of 36 Dover Rise: [51.15461829674543, 1.3843897475154827]\n"
     ]
    },
    {
     "name": "stderr",
     "output_type": "stream",
     "text": [
      "Status code Unknown from https://geocode.arcgis.com/arcgis/rest/services/World/GeocodeServer/find: ERROR - HTTPSConnectionPool(host='geocode.arcgis.com', port=443): Read timed out. (read timeout=5.0)\n"
     ]
    },
    {
     "name": "stdout",
     "output_type": "stream",
     "text": [
      "1343  Coordinate of 1 Lew Lian Vale: None\n",
      "1344  Coordinate of 1 Elizabeth Drive: [33.4025650370878, -90.97945489034961]\n",
      "1345  Coordinate of 20 Paterson Road: [28.100400000000036, -82.61359999999996]\n"
     ]
    },
    {
     "name": "stderr",
     "output_type": "stream",
     "text": [
      "Status code Unknown from https://geocode.arcgis.com/arcgis/rest/services/World/GeocodeServer/find: ERROR - HTTPSConnectionPool(host='geocode.arcgis.com', port=443): Read timed out. (read timeout=5.0)\n"
     ]
    },
    {
     "name": "stdout",
     "output_type": "stream",
     "text": [
      "1346  Coordinate of 3 Makeway Avenue: None\n",
      "1347  Coordinate of 51 Tampines Avenue 1: [1.3488710538246096, 103.92785751443722]\n",
      "1348  Coordinate of 68 Elias Road: None\n",
      "1349  Coordinate of 60 Kim Seng Road: [1.2910923321224317, 103.8346045668398]\n",
      "1350  Coordinate of 62 Bayshore Road: [40.73536000000007, -73.28455999999994]\n"
     ]
    },
    {
     "name": "stderr",
     "output_type": "stream",
     "text": [
      "Status code Unknown from https://geocode.arcgis.com/arcgis/rest/services/World/GeocodeServer/find: ERROR - HTTPSConnectionPool(host='geocode.arcgis.com', port=443): Read timed out. (read timeout=5.0)\n"
     ]
    },
    {
     "name": "stdout",
     "output_type": "stream",
     "text": [
      "1351  Coordinate of 34 Dakota Crescent: None\n",
      "1352  Coordinate of 62 Flora Drive: None\n"
     ]
    },
    {
     "name": "stderr",
     "output_type": "stream",
     "text": [
      "Status code Unknown from https://geocode.arcgis.com/arcgis/rest/services/World/GeocodeServer/find: ERROR - HTTPSConnectionPool(host='geocode.arcgis.com', port=443): Read timed out. (read timeout=5.0)\n"
     ]
    },
    {
     "name": "stdout",
     "output_type": "stream",
     "text": [
      "1353  Coordinate of 15 Robin Road: None\n",
      "1354  Coordinate of 8 Butterworth Lane: [-70.69999999999999, 66.73333000000008]\n",
      "1355  Coordinate of 99 Rosewood Drive: [31.289840000000027, 75.54289000000006]\n",
      "1356  Coordinate of 3 Siglap Road: None\n",
      "1357  Coordinate of 133 Hemmant Road: [1.3117540587260237, 103.89047699230281]\n",
      "1358  Coordinate of 171 Tanjong Rhu Road: [1.2966956763047222, 103.87244517163953]\n"
     ]
    },
    {
     "name": "stderr",
     "output_type": "stream",
     "text": [
      "Status code Unknown from https://geocode.arcgis.com/arcgis/rest/services/World/GeocodeServer/find: ERROR - HTTPSConnectionPool(host='geocode.arcgis.com', port=443): Read timed out. (read timeout=5.0)\n"
     ]
    },
    {
     "name": "stdout",
     "output_type": "stream",
     "text": [
      "1359  Coordinate of 22 Bedok North Drive: None\n"
     ]
    },
    {
     "name": "stderr",
     "output_type": "stream",
     "text": [
      "Status code Unknown from https://geocode.arcgis.com/arcgis/rest/services/World/GeocodeServer/find: ERROR - HTTPSConnectionPool(host='geocode.arcgis.com', port=443): Read timed out. (read timeout=5.0)\n"
     ]
    },
    {
     "name": "stdout",
     "output_type": "stream",
     "text": [
      "1360  Coordinate of 12 Robey Crescent: None\n"
     ]
    },
    {
     "name": "stderr",
     "output_type": "stream",
     "text": [
      "Status code Unknown from https://geocode.arcgis.com/arcgis/rest/services/World/GeocodeServer/find: ERROR - HTTPSConnectionPool(host='geocode.arcgis.com', port=443): Max retries exceeded with url: /arcgis/rest/services/World/GeocodeServer/find?f=json&text=26+Saint+Michael%27s+Road&maxLocations=1 (Caused by ConnectTimeoutError(<urllib3.connection.HTTPSConnection object at 0x000002C70050A190>, 'Connection to geocode.arcgis.com timed out. (connect timeout=5.0)'))\n"
     ]
    },
    {
     "name": "stdout",
     "output_type": "stream",
     "text": [
      "1361  Coordinate of 26 Saint Michael's Road: None\n",
      "1362  Coordinate of 29 Hillview Avenue: [12.967800000000068, 80.10269000000005]\n",
      "1363  Coordinate of 28B Jalan Lempeng: [1.3186584838287274, 103.76113911334477]\n",
      "1364  Coordinate of 3 Jalan Rumbia: [41.62964999751637, -4.740839975299707]\n",
      "1365  Coordinate of 18 Newton Road: [52.54562000000004, -1.9341199999999503]\n",
      "1366  Coordinate of 98 Elias Road: None\n",
      "1367  Coordinate of 10 Bukit Batok Street 41: [49.084475943343705, 30.409394430075206]\n"
     ]
    },
    {
     "name": "stderr",
     "output_type": "stream",
     "text": [
      "Status code Unknown from https://geocode.arcgis.com/arcgis/rest/services/World/GeocodeServer/find: ERROR - HTTPSConnectionPool(host='geocode.arcgis.com', port=443): Read timed out. (read timeout=5.0)\n"
     ]
    },
    {
     "name": "stdout",
     "output_type": "stream",
     "text": [
      "1368  Coordinate of 968 Dunearn Road: None\n",
      "1369  Coordinate of 100 Robertson Quay: [1.2913077470340397, 103.83773177109555]\n",
      "1370  Coordinate of 25 Tan Kim Cheng Road: [1.32128830595002, 103.81207912406518]\n",
      "1371  Coordinate of 68 Sengkang Square: [1.389723360254294, 103.89517496521358]\n",
      "1372  Coordinate of 93 Robertson Quay: [1.2917233217934694, 103.83697404704844]\n",
      "1373  Coordinate of 33 Pasir Ris Drive 3: [1.3739594311332155, 103.95399874260369]\n",
      "1374  Coordinate of 73 Farrer Drive: [1.311529675178008, 103.80544794900595]\n",
      "1375  Coordinate of 6 Angklong Lane: [1.3625664549705476, 103.83135942920637]\n",
      "1376  Coordinate of 86 Jellicoe Road: [50.73363000000006, -1.7489899999999352]\n"
     ]
    },
    {
     "name": "stderr",
     "output_type": "stream",
     "text": [
      "Status code Unknown from https://geocode.arcgis.com/arcgis/rest/services/World/GeocodeServer/find: ERROR - HTTPSConnectionPool(host='geocode.arcgis.com', port=443): Read timed out. (read timeout=5.0)\n"
     ]
    },
    {
     "name": "stdout",
     "output_type": "stream",
     "text": [
      "1377  Coordinate of 78 Bayshore Road: None\n"
     ]
    },
    {
     "name": "stderr",
     "output_type": "stream",
     "text": [
      "Status code Unknown from https://geocode.arcgis.com/arcgis/rest/services/World/GeocodeServer/find: ERROR - HTTPSConnectionPool(host='geocode.arcgis.com', port=443): Read timed out. (read timeout=5.0)\n"
     ]
    },
    {
     "name": "stdout",
     "output_type": "stream",
     "text": [
      "1378  Coordinate of 8 Irrawaddy Road: None\n"
     ]
    },
    {
     "name": "stderr",
     "output_type": "stream",
     "text": [
      "Status code Unknown from https://geocode.arcgis.com/arcgis/rest/services/World/GeocodeServer/find: ERROR - HTTPSConnectionPool(host='geocode.arcgis.com', port=443): Read timed out. (read timeout=5.0)\n"
     ]
    },
    {
     "name": "stdout",
     "output_type": "stream",
     "text": [
      "1379  Coordinate of 19 Tong Watt Road: None\n",
      "1380  Coordinate of 221 Queensway: [56.19845483300003, -3.165607075999958]\n",
      "1381  Coordinate of 18 Lorong 102 Changi: [1.315678884887916, 103.90045103798639]\n",
      "1382  Coordinate of 370H Alexandra Road: [51.20420000000007, -3.4750699999999597]\n",
      "1383  Coordinate of 8A Orange Grove Road: [41.33582728572294, -73.9797320932046]\n"
     ]
    },
    {
     "name": "stderr",
     "output_type": "stream",
     "text": [
      "Status code Unknown from https://geocode.arcgis.com/arcgis/rest/services/World/GeocodeServer/find: ERROR - HTTPSConnectionPool(host='geocode.arcgis.com', port=443): Read timed out. (read timeout=5.0)\n"
     ]
    },
    {
     "name": "stdout",
     "output_type": "stream",
     "text": [
      "1384  Coordinate of 46 Goldhill Avenue: None\n"
     ]
    },
    {
     "name": "stderr",
     "output_type": "stream",
     "text": [
      "Status code Unknown from https://geocode.arcgis.com/arcgis/rest/services/World/GeocodeServer/find: ERROR - HTTPSConnectionPool(host='geocode.arcgis.com', port=443): Read timed out. (read timeout=5.0)\n"
     ]
    },
    {
     "name": "stdout",
     "output_type": "stream",
     "text": [
      "1385  Coordinate of 116 Punggol Walk: None\n"
     ]
    },
    {
     "name": "stderr",
     "output_type": "stream",
     "text": [
      "Status code Unknown from https://geocode.arcgis.com/arcgis/rest/services/World/GeocodeServer/find: ERROR - HTTPSConnectionPool(host='geocode.arcgis.com', port=443): Max retries exceeded with url: /arcgis/rest/services/World/GeocodeServer/find?f=json&text=17+Tampines+Street+86&maxLocations=1 (Caused by ConnectTimeoutError(<urllib3.connection.HTTPSConnection object at 0x000002C7004AE3D0>, 'Connection to geocode.arcgis.com timed out. (connect timeout=5.0)'))\n"
     ]
    },
    {
     "name": "stdout",
     "output_type": "stream",
     "text": [
      "1386  Coordinate of 17 Tampines Street 86: None\n"
     ]
    },
    {
     "name": "stderr",
     "output_type": "stream",
     "text": [
      "Status code Unknown from https://geocode.arcgis.com/arcgis/rest/services/World/GeocodeServer/find: ERROR - HTTPSConnectionPool(host='geocode.arcgis.com', port=443): Max retries exceeded with url: /arcgis/rest/services/World/GeocodeServer/find?f=json&text=2+Ardmore+Park&maxLocations=1 (Caused by ConnectTimeoutError(<urllib3.connection.HTTPSConnection object at 0x000002C7002798E0>, 'Connection to geocode.arcgis.com timed out. (connect timeout=5.0)'))\n"
     ]
    },
    {
     "name": "stdout",
     "output_type": "stream",
     "text": [
      "1387  Coordinate of 2 Ardmore Park: None\n"
     ]
    },
    {
     "name": "stderr",
     "output_type": "stream",
     "text": [
      "Status code Unknown from https://geocode.arcgis.com/arcgis/rest/services/World/GeocodeServer/find: ERROR - HTTPSConnectionPool(host='geocode.arcgis.com', port=443): Max retries exceeded with url: /arcgis/rest/services/World/GeocodeServer/find?f=json&text=1+Jalan+Jintan&maxLocations=1 (Caused by ConnectTimeoutError(<urllib3.connection.HTTPSConnection object at 0x000002C700504910>, 'Connection to geocode.arcgis.com timed out. (connect timeout=5.0)'))\n"
     ]
    },
    {
     "name": "stdout",
     "output_type": "stream",
     "text": [
      "1388  Coordinate of 1 Jalan Jintan: None\n"
     ]
    },
    {
     "name": "stderr",
     "output_type": "stream",
     "text": [
      "Status code Unknown from https://geocode.arcgis.com/arcgis/rest/services/World/GeocodeServer/find: ERROR - HTTPSConnectionPool(host='geocode.arcgis.com', port=443): Max retries exceeded with url: /arcgis/rest/services/World/GeocodeServer/find?f=json&text=83+Pasir+Ris+Heights&maxLocations=1 (Caused by NewConnectionError('<urllib3.connection.HTTPSConnection object at 0x000002C700504880>: Failed to establish a new connection: [Errno 11001] getaddrinfo failed'))\n"
     ]
    },
    {
     "name": "stdout",
     "output_type": "stream",
     "text": [
      "1389  Coordinate of 83 Pasir Ris Heights: None\n",
      "1390  Coordinate of 31 Punggol Field: [1.4049000000000547, 103.90272000000004]\n",
      "1391  Coordinate of 6 Keng Chin Road: [21.300000000000068, 93.78333000000003]\n"
     ]
    },
    {
     "name": "stderr",
     "output_type": "stream",
     "text": [
      "Status code Unknown from https://geocode.arcgis.com/arcgis/rest/services/World/GeocodeServer/find: ERROR - HTTPSConnectionPool(host='geocode.arcgis.com', port=443): Read timed out. (read timeout=5.0)\n"
     ]
    },
    {
     "name": "stdout",
     "output_type": "stream",
     "text": [
      "1392  Coordinate of 898 Upper Bukit Timah Road: None\n",
      "1393  Coordinate of 23 Stevens Drive: [-26.15197999999998, 28.548050000000046]\n",
      "1394  Coordinate of 12 Simei Street 1: [53.79735000000005, -1.7584599999999568]\n",
      "1395  Coordinate of 69 Jalan Tua Kong: [1.3176117098506523, 103.9247664361842]\n",
      "1396  Coordinate of 16 Flora Drive: [51.00032643252477, 3.7653959775439305]\n",
      "1397  Coordinate of Ang Mo Kio / Bishan / Thomson (D20): [1.3644700000000398, 103.83506000000006]\n",
      "1398  Coordinate of 8 Suffolk Walk: [40.98215581583553, -72.63115298024921]\n",
      "1399  Coordinate of 57A Devonshire Road: [26.671737000000064, -80.05891499999996]\n",
      "1400  Coordinate of 50 Amber Road: [26.951320000000067, 75.84682000000004]\n",
      "1401  Coordinate of 14 Eden Grove: [44.20828000000006, -81.22597999999994]\n",
      "1402  Coordinate of 6 River Valley Grove: [51.14365423833564, 1.276944811286641]\n"
     ]
    },
    {
     "name": "stderr",
     "output_type": "stream",
     "text": [
      "Status code Unknown from https://geocode.arcgis.com/arcgis/rest/services/World/GeocodeServer/find: ERROR - HTTPSConnectionPool(host='geocode.arcgis.com', port=443): Read timed out. (read timeout=5.0)\n"
     ]
    },
    {
     "name": "stdout",
     "output_type": "stream",
     "text": [
      "1403  Coordinate of 40 Shelford Road: None\n",
      "1404  Coordinate of 9 Lew Lian Vale: [1.3488186250202432, 103.87766600767043]\n",
      "1405  Coordinate of 95 Sophia Road: [-32.88238999999993, -68.84392999999994]\n",
      "1406  Coordinate of 84 Jellicoe Road: [50.73363000000006, -1.7489899999999352]\n",
      "1407  Coordinate of 11 Nathan Road: [-27.546357206418445, 153.03913751237454]\n",
      "1408  Coordinate of 5 Lorong 15 Geylang: [1.3125384791346875, 103.90747230681939]\n",
      "1409  Coordinate of 450 Corporation Road: [53.48258000000004, -2.3403099999999313]\n",
      "1410  Coordinate of 13 Bartley Road: [52.03013000000004, 0.05882000000002563]\n",
      "1411  Coordinate of 12 Adis Road: None\n",
      "1412  Coordinate of 15 Farrer Drive: [1.3136913680069568, 103.80674597053172]\n",
      "1413  Coordinate of 93 Compassvale Bow: None\n",
      "1414  Coordinate of 33 Sin Ming Walk: [1.3655039767574095, 103.82857571534282]\n",
      "1415  Coordinate of 33 Bishan Street 11: [25.108120000000042, 121.84340000000009]\n",
      "1416  Coordinate of 78 Lorong M Telok Kurau: [1.0666700000000446, 102.25000000000006]\n",
      "1417  Coordinate of 22A Mar Thoma Road: [1.3275263697502737, 103.86256894276596]\n"
     ]
    },
    {
     "name": "stderr",
     "output_type": "stream",
     "text": [
      "Status code Unknown from https://geocode.arcgis.com/arcgis/rest/services/World/GeocodeServer/find: ERROR - HTTPSConnectionPool(host='geocode.arcgis.com', port=443): Read timed out. (read timeout=5.0)\n"
     ]
    },
    {
     "name": "stdout",
     "output_type": "stream",
     "text": [
      "1418  Coordinate of 212 Upper East Coast Road: None\n"
     ]
    },
    {
     "name": "stderr",
     "output_type": "stream",
     "text": [
      "Status code Unknown from https://geocode.arcgis.com/arcgis/rest/services/World/GeocodeServer/find: ERROR - HTTPSConnectionPool(host='geocode.arcgis.com', port=443): Read timed out. (read timeout=5.0)\n"
     ]
    },
    {
     "name": "stdout",
     "output_type": "stream",
     "text": [
      "1419  Coordinate of 85 Pheng Geck Avenue: None\n",
      "1420  Coordinate of 31 Mount Sophia: [41.114810000000034, -75.30128999999994]\n",
      "1421  Coordinate of 10 Saint Thomas Walk: [18.338315053069174, -64.91617993214922]\n"
     ]
    },
    {
     "name": "stderr",
     "output_type": "stream",
     "text": [
      "Status code Unknown from https://geocode.arcgis.com/arcgis/rest/services/World/GeocodeServer/find: ERROR - HTTPSConnectionPool(host='geocode.arcgis.com', port=443): Read timed out. (read timeout=5.0)\n"
     ]
    },
    {
     "name": "stdout",
     "output_type": "stream",
     "text": [
      "1422  Coordinate of 2 Bukit Batok Street 41: None\n"
     ]
    },
    {
     "name": "stderr",
     "output_type": "stream",
     "text": [
      "Status code Unknown from https://geocode.arcgis.com/arcgis/rest/services/World/GeocodeServer/find: ERROR - HTTPSConnectionPool(host='geocode.arcgis.com', port=443): Read timed out. (read timeout=5.0)\n"
     ]
    },
    {
     "name": "stdout",
     "output_type": "stream",
     "text": [
      "1423  Coordinate of 21 Jervois Close: None\n"
     ]
    },
    {
     "name": "stderr",
     "output_type": "stream",
     "text": [
      "Status code Unknown from https://geocode.arcgis.com/arcgis/rest/services/World/GeocodeServer/find: ERROR - HTTPSConnectionPool(host='geocode.arcgis.com', port=443): Max retries exceeded with url: /arcgis/rest/services/World/GeocodeServer/find?f=json&text=24+Newton+Road&maxLocations=1 (Caused by ConnectTimeoutError(<urllib3.connection.HTTPSConnection object at 0x000002C70048D580>, 'Connection to geocode.arcgis.com timed out. (connect timeout=5.0)'))\n"
     ]
    },
    {
     "name": "stdout",
     "output_type": "stream",
     "text": [
      "1424  Coordinate of 24 Newton Road: None\n"
     ]
    },
    {
     "name": "stderr",
     "output_type": "stream",
     "text": [
      "Status code Unknown from https://geocode.arcgis.com/arcgis/rest/services/World/GeocodeServer/find: ERROR - HTTPSConnectionPool(host='geocode.arcgis.com', port=443): Max retries exceeded with url: /arcgis/rest/services/World/GeocodeServer/find?f=json&text=111+Prince+Charles+Crescent&maxLocations=1 (Caused by ConnectTimeoutError(<urllib3.connection.HTTPSConnection object at 0x000002C700504F70>, 'Connection to geocode.arcgis.com timed out. (connect timeout=5.0)'))\n"
     ]
    },
    {
     "name": "stdout",
     "output_type": "stream",
     "text": [
      "1425  Coordinate of 111 Prince Charles Crescent: None\n"
     ]
    },
    {
     "name": "stderr",
     "output_type": "stream",
     "text": [
      "Status code Unknown from https://geocode.arcgis.com/arcgis/rest/services/World/GeocodeServer/find: ERROR - HTTPSConnectionPool(host='geocode.arcgis.com', port=443): Read timed out. (read timeout=5.0)\n"
     ]
    },
    {
     "name": "stdout",
     "output_type": "stream",
     "text": [
      "1426  Coordinate of 50F Faber Heights: None\n"
     ]
    },
    {
     "name": "stderr",
     "output_type": "stream",
     "text": [
      "Status code Unknown from https://geocode.arcgis.com/arcgis/rest/services/World/GeocodeServer/find: ERROR - HTTPSConnectionPool(host='geocode.arcgis.com', port=443): Read timed out. (read timeout=5.0)\n"
     ]
    },
    {
     "name": "stdout",
     "output_type": "stream",
     "text": [
      "1427  Coordinate of 57 Fernvale Road: None\n",
      "1428  Coordinate of 61 Flora Drive: [47.95257034976647, -99.27646237493879]\n",
      "1429  Coordinate of 1 Marine Vista: [-32.93992999999995, 28.029990000000055]\n"
     ]
    },
    {
     "name": "stderr",
     "output_type": "stream",
     "text": [
      "Status code Unknown from https://geocode.arcgis.com/arcgis/rest/services/World/GeocodeServer/find: ERROR - HTTPSConnectionPool(host='geocode.arcgis.com', port=443): Read timed out. (read timeout=5.0)\n"
     ]
    },
    {
     "name": "stdout",
     "output_type": "stream",
     "text": [
      "1430  Coordinate of 8 Cuscaden Walk: None\n",
      "1431  Coordinate of 29 Leonie Hill: [51.369122828051616, 1.1138546634417719]\n",
      "1432  Coordinate of 81 Rosewood Drive: [31.289840000000027, 75.54289000000006]\n",
      "1433  Coordinate of 7 Fraser Street: [53.409980000000076, -2.9765199999999368]\n",
      "1434  Coordinate of 65 Wilkie Road: [37.885410000000036, -79.15974999999997]\n",
      "1435  Coordinate of 60 Sengkang Square: [1.3890085934610141, 103.89487179177576]\n",
      "1436  Coordinate of 23 Pasir Ris Link: [1.3759527734368788, 103.95995416862888]\n",
      "1437  Coordinate of 26 Taman Nakhoda: [6.094390000000033, 100.30516000000006]\n",
      "1438  Coordinate of 1 Serangoon North View: [39.29541000000006, -80.35137999999995]\n",
      "1439  Coordinate of 77 Jurong East Street 13: [1.337522501748765, 103.73602374630798]\n",
      "1440  Coordinate of 200 Jalan Sultan: [3.142500000000041, 101.69814000000008]\n",
      "1441  Coordinate of 1557 Keppel Road: [1.2726200000000745, 103.83947000000006]\n",
      "1442  Coordinate of 5 Ocean Way: [30.454580000000078, -81.59939999999995]\n",
      "1443  Coordinate of 2 Kandis Link: [51.32800769500005, -2.7537949069999286]\n",
      "1444  Coordinate of 227 Pasir Panjang Road: [0.8443000000000325, 108.88043000000005]\n",
      "1445  Coordinate of 21 Meyappa Chettiar Road: [1.3308519317446468, 103.86721134365871]\n",
      "1446  Coordinate of 20 Margaret Drive: [1.2965500000000247, 103.80885000000006]\n",
      "1447  Coordinate of 10 Eng Hoon Street: [52.877218785575764, -1.657809877702039]\n",
      "1448  Coordinate of 32 Jervois Road: [-35.257649999999956, 139.45162000000005]\n",
      "1449  Coordinate of 110 Duchess Avenue: [1.3240300000000502, 103.80522000000008]\n",
      "1450  Coordinate of 61 Irrawaddy Road: [1.3249966694624078, 103.84611585356578]\n",
      "1451  Coordinate of 12 Kitchener Link: [14.567170000000033, 121.03331000000003]\n",
      "1452  Coordinate of 8 Paya Lebar Road: [2.8500000000000227, 102.33333000000005]\n"
     ]
    },
    {
     "name": "stderr",
     "output_type": "stream",
     "text": [
      "Status code Unknown from https://geocode.arcgis.com/arcgis/rest/services/World/GeocodeServer/find: ERROR - HTTPSConnectionPool(host='geocode.arcgis.com', port=443): Read timed out. (read timeout=5.0)\n"
     ]
    },
    {
     "name": "stdout",
     "output_type": "stream",
     "text": [
      "1453  Coordinate of 19 Keppel Bay Drive: None\n"
     ]
    },
    {
     "name": "stderr",
     "output_type": "stream",
     "text": [
      "Status code Unknown from https://geocode.arcgis.com/arcgis/rest/services/World/GeocodeServer/find: ERROR - HTTPSConnectionPool(host='geocode.arcgis.com', port=443): Read timed out. (read timeout=5.0)\n"
     ]
    },
    {
     "name": "stdout",
     "output_type": "stream",
     "text": [
      "1454  Coordinate of 35 Simei Street 4: None\n"
     ]
    },
    {
     "name": "stderr",
     "output_type": "stream",
     "text": [
      "Status code Unknown from https://geocode.arcgis.com/arcgis/rest/services/World/GeocodeServer/find: ERROR - HTTPSConnectionPool(host='geocode.arcgis.com', port=443): Read timed out. (read timeout=5.0)\n"
     ]
    },
    {
     "name": "stdout",
     "output_type": "stream",
     "text": [
      "1455  Coordinate of 11 Lorong N Telok Kurau: None\n"
     ]
    },
    {
     "name": "stderr",
     "output_type": "stream",
     "text": [
      "Status code Unknown from https://geocode.arcgis.com/arcgis/rest/services/World/GeocodeServer/find: ERROR - HTTPSConnectionPool(host='geocode.arcgis.com', port=443): Max retries exceeded with url: /arcgis/rest/services/World/GeocodeServer/find?f=json&text=1+Lorong+30+Geylang&maxLocations=1 (Caused by ConnectTimeoutError(<urllib3.connection.HTTPSConnection object at 0x000002C70050A7C0>, 'Connection to geocode.arcgis.com timed out. (connect timeout=5.0)'))\n"
     ]
    },
    {
     "name": "stdout",
     "output_type": "stream",
     "text": [
      "1456  Coordinate of 1 Lorong 30 Geylang: None\n",
      "1457  Coordinate of 1 Saint Martin's Drive: [51.26834744048902, 1.0910477084931969]\n",
      "1458  Coordinate of 50 Marine Parade Road: [1.299995924951503, 103.90310064139919]\n",
      "1459  Coordinate of 327 River Valley Road: [51.14365423833564, 1.276944811286641]\n",
      "1460  Coordinate of 134 Tanjong Rhu Road: [1.297874088072163, 103.87025791400589]\n",
      "1461  Coordinate of 6 Pari Dedap Walk: [50.44572000000005, 6.102460000000065]\n",
      "1462  Coordinate of 60 Kim Yam Road: [1.2928514421418527, 103.83976304151105]\n",
      "1463  Coordinate of 55 West Coast Road: [12.968920000000026, 80.25759000000005]\n",
      "1464  Coordinate of 1 Farrer Drive: [1.315962151305726, 103.80676390780451]\n"
     ]
    },
    {
     "name": "stderr",
     "output_type": "stream",
     "text": [
      "Status code Unknown from https://geocode.arcgis.com/arcgis/rest/services/World/GeocodeServer/find: ERROR - HTTPSConnectionPool(host='geocode.arcgis.com', port=443): Read timed out. (read timeout=5.0)\n"
     ]
    },
    {
     "name": "stdout",
     "output_type": "stream",
     "text": [
      "1465  Coordinate of 10 Stirling Road: None\n"
     ]
    },
    {
     "name": "stderr",
     "output_type": "stream",
     "text": [
      "Status code Unknown from https://geocode.arcgis.com/arcgis/rest/services/World/GeocodeServer/find: ERROR - HTTPSConnectionPool(host='geocode.arcgis.com', port=443): Read timed out. (read timeout=5.0)\n"
     ]
    },
    {
     "name": "stdout",
     "output_type": "stream",
     "text": [
      "1466  Coordinate of 55 Pasir Ris Drive 1: None\n",
      "1467  Coordinate of 154 Prince Charles Crescent: [1.2918159837330734, 103.81734689875384]\n",
      "1468  Coordinate of 7 Lorong 42 Geylang: [1.313855988585317, 103.89048353018728]\n",
      "1469  Coordinate of 806 Thomson Road: [22.277480000000025, 114.17496000000006]\n",
      "1470  Coordinate of 91 Yishun Avenue 1: [1.410757872001625, 103.83108123384]\n"
     ]
    },
    {
     "name": "stderr",
     "output_type": "stream",
     "text": [
      "Status code Unknown from https://geocode.arcgis.com/arcgis/rest/services/World/GeocodeServer/find: ERROR - HTTPSConnectionPool(host='geocode.arcgis.com', port=443): Read timed out. (read timeout=5.0)\n"
     ]
    },
    {
     "name": "stdout",
     "output_type": "stream",
     "text": [
      "1471  Coordinate of 1K Green Lane: None\n",
      "1472  Coordinate of 20C Duchess Road: [52.47341000000006, -1.924229999999966]\n",
      "1473  Coordinate of 2 Suffolk Road: [40.853367722786736, -72.44441292775011]\n",
      "1474  Coordinate of 317 Choa Chu Kang Avenue 3: [1.3838493225089508, 103.74748172412973]\n",
      "1475  Coordinate of 44 Pasir Panjang Hill: [1.2825500000000716, 103.78559000000007]\n",
      "1476  Coordinate of 60 Bayshore Road: [40.73536000000007, -73.28455999999994]\n",
      "1477  Coordinate of 27 Pasir Ris Grove: [1.3723472977859643, 103.94560585913507]\n"
     ]
    },
    {
     "name": "stderr",
     "output_type": "stream",
     "text": [
      "Status code Unknown from https://geocode.arcgis.com/arcgis/rest/services/World/GeocodeServer/find: ERROR - HTTPSConnectionPool(host='geocode.arcgis.com', port=443): Read timed out. (read timeout=5.0)\n"
     ]
    },
    {
     "name": "stdout",
     "output_type": "stream",
     "text": [
      "1478  Coordinate of 129 Holland Road: None\n",
      "1479  Coordinate of 9 Transit Road: [43.15004800000003, -78.69607499999995]\n",
      "1480  Coordinate of 21 Fort Road: [6.932161012191273, 79.84677914125473]\n",
      "1481  Coordinate of 68 Bayshore Road: [40.73536000000007, -73.28455999999994]\n",
      "1482  Coordinate of 19 Yong Siak Street: None\n",
      "1483  Coordinate of 3 Roberts Lane: [43.752951068622295, -122.45589858359116]\n",
      "1484  Coordinate of 91 Pasir Ris Heights: [1.3816103904422476, 103.94003499482761]\n",
      "1485  Coordinate of 5 Kellock Road: [1.2949585268716106, 103.83003642960921]\n"
     ]
    },
    {
     "name": "stderr",
     "output_type": "stream",
     "text": [
      "Status code Unknown from https://geocode.arcgis.com/arcgis/rest/services/World/GeocodeServer/find: ERROR - HTTPSConnectionPool(host='geocode.arcgis.com', port=443): Read timed out. (read timeout=5.0)\n"
     ]
    },
    {
     "name": "stdout",
     "output_type": "stream",
     "text": [
      "1486  Coordinate of 12 Balmoral Road: None\n",
      "1487  Coordinate of 75 Flora Drive: [38.61442986492855, -88.44772459510756]\n",
      "1488  Coordinate of 38 Saint Michael's Road: [53.37751000000003, -2.948789999999974]\n"
     ]
    },
    {
     "name": "stderr",
     "output_type": "stream",
     "text": [
      "Status code Unknown from https://geocode.arcgis.com/arcgis/rest/services/World/GeocodeServer/find: ERROR - HTTPSConnectionPool(host='geocode.arcgis.com', port=443): Max retries exceeded with url: /arcgis/rest/services/World/GeocodeServer/find?f=json&text=1+Ang+Mo+Kio+Avenue+9&maxLocations=1 (Caused by ConnectTimeoutError(<urllib3.connection.HTTPSConnection object at 0x000002C700504A00>, 'Connection to geocode.arcgis.com timed out. (connect timeout=5.0)'))\n"
     ]
    },
    {
     "name": "stdout",
     "output_type": "stream",
     "text": [
      "1489  Coordinate of 1 Ang Mo Kio Avenue 9: None\n"
     ]
    },
    {
     "name": "stderr",
     "output_type": "stream",
     "text": [
      "Status code Unknown from https://geocode.arcgis.com/arcgis/rest/services/World/GeocodeServer/find: ERROR - HTTPSConnectionPool(host='geocode.arcgis.com', port=443): Max retries exceeded with url: /arcgis/rest/services/World/GeocodeServer/find?f=json&text=34+Draycott+Park&maxLocations=1 (Caused by ConnectTimeoutError(<urllib3.connection.HTTPSConnection object at 0x000002C77ED78310>, 'Connection to geocode.arcgis.com timed out. (connect timeout=5.0)'))\n"
     ]
    },
    {
     "name": "stdout",
     "output_type": "stream",
     "text": [
      "1490  Coordinate of 34 Draycott Park: None\n"
     ]
    },
    {
     "name": "stderr",
     "output_type": "stream",
     "text": [
      "Status code Unknown from https://geocode.arcgis.com/arcgis/rest/services/World/GeocodeServer/find: ERROR - HTTPSConnectionPool(host='geocode.arcgis.com', port=443): Read timed out. (read timeout=5.0)\n"
     ]
    },
    {
     "name": "stdout",
     "output_type": "stream",
     "text": [
      "1491  Coordinate of 60 Lengkong Tiga: None\n"
     ]
    },
    {
     "name": "stderr",
     "output_type": "stream",
     "text": [
      "Status code Unknown from https://geocode.arcgis.com/arcgis/rest/services/World/GeocodeServer/find: ERROR - HTTPSConnectionPool(host='geocode.arcgis.com', port=443): Max retries exceeded with url: /arcgis/rest/services/World/GeocodeServer/find?f=json&text=11+Lim+Tua+Tow+Road&maxLocations=1 (Caused by NewConnectionError('<urllib3.connection.HTTPSConnection object at 0x000002C7005044F0>: Failed to establish a new connection: [Errno 11001] getaddrinfo failed'))\n"
     ]
    },
    {
     "name": "stdout",
     "output_type": "stream",
     "text": [
      "1492  Coordinate of 11 Lim Tua Tow Road: None\n"
     ]
    },
    {
     "name": "stderr",
     "output_type": "stream",
     "text": [
      "Status code Unknown from https://geocode.arcgis.com/arcgis/rest/services/World/GeocodeServer/find: ERROR - HTTPSConnectionPool(host='geocode.arcgis.com', port=443): Max retries exceeded with url: /arcgis/rest/services/World/GeocodeServer/find?f=json&text=6+Jurong+Lake+Link&maxLocations=1 (Caused by ConnectTimeoutError(<urllib3.connection.HTTPSConnection object at 0x000002C71C5F9940>, 'Connection to geocode.arcgis.com timed out. (connect timeout=5.0)'))\n"
     ]
    },
    {
     "name": "stdout",
     "output_type": "stream",
     "text": [
      "1493  Coordinate of 6 Jurong Lake Link: None\n"
     ]
    },
    {
     "name": "stderr",
     "output_type": "stream",
     "text": [
      "Status code Unknown from https://geocode.arcgis.com/arcgis/rest/services/World/GeocodeServer/find: ERROR - HTTPSConnectionPool(host='geocode.arcgis.com', port=443): Max retries exceeded with url: /arcgis/rest/services/World/GeocodeServer/find?f=json&text=205+Jalan+Loyang+Besar&maxLocations=1 (Caused by ConnectTimeoutError(<urllib3.connection.HTTPSConnection object at 0x000002C700523EB0>, 'Connection to geocode.arcgis.com timed out. (connect timeout=5.0)'))\n"
     ]
    },
    {
     "name": "stdout",
     "output_type": "stream",
     "text": [
      "1494  Coordinate of 205 Jalan Loyang Besar: None\n"
     ]
    },
    {
     "name": "stderr",
     "output_type": "stream",
     "text": [
      "Status code Unknown from https://geocode.arcgis.com/arcgis/rest/services/World/GeocodeServer/find: ERROR - HTTPSConnectionPool(host='geocode.arcgis.com', port=443): Max retries exceeded with url: /arcgis/rest/services/World/GeocodeServer/find?f=json&text=10+Surrey+Road&maxLocations=1 (Caused by ConnectTimeoutError(<urllib3.connection.HTTPSConnection object at 0x000002C70051EC40>, 'Connection to geocode.arcgis.com timed out. (connect timeout=5.0)'))\n"
     ]
    },
    {
     "name": "stdout",
     "output_type": "stream",
     "text": [
      "1495  Coordinate of 10 Surrey Road: None\n"
     ]
    },
    {
     "name": "stderr",
     "output_type": "stream",
     "text": [
      "Status code Unknown from https://geocode.arcgis.com/arcgis/rest/services/World/GeocodeServer/find: ERROR - HTTPSConnectionPool(host='geocode.arcgis.com', port=443): Max retries exceeded with url: /arcgis/rest/services/World/GeocodeServer/find?f=json&text=7+Adam+Road&maxLocations=1 (Caused by ConnectTimeoutError(<urllib3.connection.HTTPSConnection object at 0x000002C70051E250>, 'Connection to geocode.arcgis.com timed out. (connect timeout=5.0)'))\n"
     ]
    },
    {
     "name": "stdout",
     "output_type": "stream",
     "text": [
      "1496  Coordinate of 7 Adam Road: None\n"
     ]
    },
    {
     "name": "stderr",
     "output_type": "stream",
     "text": [
      "Status code Unknown from https://geocode.arcgis.com/arcgis/rest/services/World/GeocodeServer/find: ERROR - HTTPSConnectionPool(host='geocode.arcgis.com', port=443): Max retries exceeded with url: /arcgis/rest/services/World/GeocodeServer/find?f=json&text=39G+West+Coast+Park&maxLocations=1 (Caused by NewConnectionError('<urllib3.connection.HTTPSConnection object at 0x000002C700523AC0>: Failed to establish a new connection: [Errno 11001] getaddrinfo failed'))\n"
     ]
    },
    {
     "name": "stdout",
     "output_type": "stream",
     "text": [
      "1497  Coordinate of 39G West Coast Park: None\n",
      "1498  Coordinate of 17 Jalan Rajah: [34.79639000000003, 70.33083000000005]\n",
      "1499  Coordinate of 19 Fort Road: [6.932161012191273, 79.84677914125473]\n",
      "1500  Coordinate of 7 River Valley Close: [51.14365423833564, 1.276944811286641]\n",
      "1501  Coordinate of 167 Moulmein Road: [1.3181332737757572, 103.84632456295486]\n"
     ]
    },
    {
     "name": "stderr",
     "output_type": "stream",
     "text": [
      "Status code Unknown from https://geocode.arcgis.com/arcgis/rest/services/World/GeocodeServer/find: ERROR - HTTPSConnectionPool(host='geocode.arcgis.com', port=443): Max retries exceeded with url: /arcgis/rest/services/World/GeocodeServer/find?f=json&text=22+Jalan+Lempeng&maxLocations=1 (Caused by ConnectTimeoutError(<urllib3.connection.HTTPSConnection object at 0x000002C700523550>, 'Connection to geocode.arcgis.com timed out. (connect timeout=5.0)'))\n"
     ]
    },
    {
     "name": "stdout",
     "output_type": "stream",
     "text": [
      "1502  Coordinate of 22 Jalan Lempeng: None\n",
      "1503  Coordinate of 277 Thomson Road: [22.277480000000025, 114.17496000000006]\n",
      "1504  Coordinate of 18 Ewe Boon Road: [1.3169456000053117, 103.83178221240257]\n",
      "1505  Coordinate of 48 Coronation Road West: [50.57633000000004, -3.471149999999966]\n",
      "1506  Coordinate of 2 Jalan Anak Bukit: [1.3393692445658871, 103.77980963503]\n",
      "1507  Coordinate of 2 Tanah Merah Kechil Link: [5.846940000000075, 102.12326000000007]\n",
      "1508  Coordinate of 31 Bishan Street 21: [1.3480200391952053, 103.84331110112521]\n",
      "1509  Coordinate of 50 Lakeside Drive: [-26.194548280080465, 28.29056008963773]\n",
      "1510  Coordinate of 22 Nassim Hill: [1.3069131324565575, 103.82220857023367]\n",
      "1511  Coordinate of 51 Lim Ah Woo Road: [1.3131115498547956, 103.8923762477433]\n",
      "1512  Coordinate of 16 Jalan Masjid: [-7.189239999999927, 109.06982000000005]\n",
      "1513  Coordinate of 1 Pasir Ris Link: [1.3765340165125792, 103.96077794207298]\n",
      "1514  Coordinate of 50 Gilstead Road: [1.3179300000000467, 103.83926000000008]\n",
      "1515  Coordinate of 7 Jalan Rumbia: [41.62930998561407, -4.740899989726444]\n",
      "1516  Coordinate of 839 Mountbatten Road: [47.716810000000066, -83.04977999999994]\n"
     ]
    },
    {
     "name": "stderr",
     "output_type": "stream",
     "text": [
      "Status code Unknown from https://geocode.arcgis.com/arcgis/rest/services/World/GeocodeServer/find: ERROR - HTTPSConnectionPool(host='geocode.arcgis.com', port=443): Max retries exceeded with url: /arcgis/rest/services/World/GeocodeServer/find?f=json&text=46+Lakeside+Drive&maxLocations=1 (Caused by ConnectTimeoutError(<urllib3.connection.HTTPSConnection object at 0x000002C700504550>, 'Connection to geocode.arcgis.com timed out. (connect timeout=5.0)'))\n"
     ]
    },
    {
     "name": "stdout",
     "output_type": "stream",
     "text": [
      "1517  Coordinate of 46 Lakeside Drive: None\n"
     ]
    },
    {
     "name": "stderr",
     "output_type": "stream",
     "text": [
      "Status code Unknown from https://geocode.arcgis.com/arcgis/rest/services/World/GeocodeServer/find: ERROR - HTTPSConnectionPool(host='geocode.arcgis.com', port=443): Read timed out. (read timeout=5.0)\n"
     ]
    },
    {
     "name": "stdout",
     "output_type": "stream",
     "text": [
      "1518  Coordinate of 61 Rosewood Drive: None\n",
      "1519  Coordinate of 6 Hougang Street 11: [47.409560000000056, 40.03931000000006]\n",
      "1520  Coordinate of 17 Tampines Avenue 8: [1.3502805965721052, 103.92857123349262]\n"
     ]
    },
    {
     "name": "stderr",
     "output_type": "stream",
     "text": [
      "Status code Unknown from https://geocode.arcgis.com/arcgis/rest/services/World/GeocodeServer/find: ERROR - HTTPSConnectionPool(host='geocode.arcgis.com', port=443): Read timed out. (read timeout=5.0)\n"
     ]
    },
    {
     "name": "stdout",
     "output_type": "stream",
     "text": [
      "1521  Coordinate of 8 Margate Road: None\n"
     ]
    },
    {
     "name": "stderr",
     "output_type": "stream",
     "text": [
      "Status code Unknown from https://geocode.arcgis.com/arcgis/rest/services/World/GeocodeServer/find: ERROR - HTTPSConnectionPool(host='geocode.arcgis.com', port=443): Max retries exceeded with url: /arcgis/rest/services/World/GeocodeServer/find?f=json&text=25A+Hoot+Kiam+Road&maxLocations=1 (Caused by ConnectTimeoutError(<urllib3.connection.HTTPSConnection object at 0x000002C70050A790>, 'Connection to geocode.arcgis.com timed out. (connect timeout=5.0)'))\n"
     ]
    },
    {
     "name": "stdout",
     "output_type": "stream",
     "text": [
      "1522  Coordinate of 25A Hoot Kiam Road: None\n"
     ]
    },
    {
     "name": "stderr",
     "output_type": "stream",
     "text": [
      "Status code Unknown from https://geocode.arcgis.com/arcgis/rest/services/World/GeocodeServer/find: ERROR - HTTPSConnectionPool(host='geocode.arcgis.com', port=443): Max retries exceeded with url: /arcgis/rest/services/World/GeocodeServer/find?f=json&text=10+Shelford+Road&maxLocations=1 (Caused by ConnectTimeoutError(<urllib3.connection.HTTPSConnection object at 0x000002C7005508E0>, 'Connection to geocode.arcgis.com timed out. (connect timeout=5.0)'))\n"
     ]
    },
    {
     "name": "stdout",
     "output_type": "stream",
     "text": [
      "1523  Coordinate of 10 Shelford Road: None\n"
     ]
    },
    {
     "name": "stderr",
     "output_type": "stream",
     "text": [
      "Status code Unknown from https://geocode.arcgis.com/arcgis/rest/services/World/GeocodeServer/find: ERROR - HTTPSConnectionPool(host='geocode.arcgis.com', port=443): Max retries exceeded with url: /arcgis/rest/services/World/GeocodeServer/find?f=json&text=31+Tampines+Street+86&maxLocations=1 (Caused by ConnectTimeoutError(<urllib3.connection.HTTPSConnection object at 0x000002C70048DB80>, 'Connection to geocode.arcgis.com timed out. (connect timeout=5.0)'))\n"
     ]
    },
    {
     "name": "stdout",
     "output_type": "stream",
     "text": [
      "1524  Coordinate of 31 Tampines Street 86: None\n"
     ]
    },
    {
     "name": "stderr",
     "output_type": "stream",
     "text": [
      "Status code Unknown from https://geocode.arcgis.com/arcgis/rest/services/World/GeocodeServer/find: ERROR - HTTPSConnectionPool(host='geocode.arcgis.com', port=443): Read timed out. (read timeout=5.0)\n"
     ]
    },
    {
     "name": "stdout",
     "output_type": "stream",
     "text": [
      "1525  Coordinate of 78 Flora Road: None\n"
     ]
    },
    {
     "name": "stderr",
     "output_type": "stream",
     "text": [
      "Status code Unknown from https://geocode.arcgis.com/arcgis/rest/services/World/GeocodeServer/find: ERROR - HTTPSConnectionPool(host='geocode.arcgis.com', port=443): Read timed out. (read timeout=5.0)\n"
     ]
    },
    {
     "name": "stdout",
     "output_type": "stream",
     "text": [
      "1526  Coordinate of 418 Upper Paya Lebar Road: None\n",
      "1527  Coordinate of 106 Grange Road: [43.56711000000007, -80.22628999999995]\n",
      "1528  Coordinate of 283 Bedok South Avenue 3: [1.3227729505499752, 103.944929858644]\n",
      "1529  Coordinate of 1 Jalan Naung: [1.3678452099523781, 103.89267103927801]\n"
     ]
    },
    {
     "name": "stderr",
     "output_type": "stream",
     "text": [
      "Status code Unknown from https://geocode.arcgis.com/arcgis/rest/services/World/GeocodeServer/find: ERROR - HTTPSConnectionPool(host='geocode.arcgis.com', port=443): Max retries exceeded with url: /arcgis/rest/services/World/GeocodeServer/find?f=json&text=54+Choa+Chu+Kang+North+7&maxLocations=1 (Caused by ConnectTimeoutError(<urllib3.connection.HTTPSConnection object at 0x000002C70051E400>, 'Connection to geocode.arcgis.com timed out. (connect timeout=5.0)'))\n"
     ]
    },
    {
     "name": "stdout",
     "output_type": "stream",
     "text": [
      "1530  Coordinate of 54 Choa Chu Kang North 7: None\n"
     ]
    },
    {
     "name": "stderr",
     "output_type": "stream",
     "text": [
      "Status code Unknown from https://geocode.arcgis.com/arcgis/rest/services/World/GeocodeServer/find: ERROR - HTTPSConnectionPool(host='geocode.arcgis.com', port=443): Max retries exceeded with url: /arcgis/rest/services/World/GeocodeServer/find?f=json&text=461A+Upper+East+Coast+Road&maxLocations=1 (Caused by ConnectTimeoutError(<urllib3.connection.HTTPSConnection object at 0x000002C700523850>, 'Connection to geocode.arcgis.com timed out. (connect timeout=5.0)'))\n"
     ]
    },
    {
     "name": "stdout",
     "output_type": "stream",
     "text": [
      "1531  Coordinate of 461A Upper East Coast Road: None\n"
     ]
    },
    {
     "name": "stderr",
     "output_type": "stream",
     "text": [
      "Status code Unknown from https://geocode.arcgis.com/arcgis/rest/services/World/GeocodeServer/find: ERROR - HTTPSConnectionPool(host='geocode.arcgis.com', port=443): Read timed out. (read timeout=5.0)\n"
     ]
    },
    {
     "name": "stdout",
     "output_type": "stream",
     "text": [
      "1532  Coordinate of 54 Duchess Avenue: None\n",
      "1533  Coordinate of 121 Meyer Road: None\n",
      "1534  Coordinate of 39A West Coast Park: [1.2931200000000445, 103.76551000000006]\n"
     ]
    },
    {
     "name": "stderr",
     "output_type": "stream",
     "text": [
      "Status code Unknown from https://geocode.arcgis.com/arcgis/rest/services/World/GeocodeServer/find: ERROR - HTTPSConnectionPool(host='geocode.arcgis.com', port=443): Read timed out. (read timeout=5.0)\n"
     ]
    },
    {
     "name": "stdout",
     "output_type": "stream",
     "text": [
      "1535  Coordinate of 28 Highgate Walk: None\n",
      "1536  Coordinate of 543 Dunman Road: None\n"
     ]
    },
    {
     "name": "stderr",
     "output_type": "stream",
     "text": [
      "Status code Unknown from https://geocode.arcgis.com/arcgis/rest/services/World/GeocodeServer/find: ERROR - HTTPSConnectionPool(host='geocode.arcgis.com', port=443): Read timed out. (read timeout=5.0)\n"
     ]
    },
    {
     "name": "stdout",
     "output_type": "stream",
     "text": [
      "1537  Coordinate of 28 Shelford Road: None\n"
     ]
    },
    {
     "name": "stderr",
     "output_type": "stream",
     "text": [
      "Status code Unknown from https://geocode.arcgis.com/arcgis/rest/services/World/GeocodeServer/find: ERROR - HTTPSConnectionPool(host='geocode.arcgis.com', port=443): Read timed out. (read timeout=5.0)\n"
     ]
    },
    {
     "name": "stdout",
     "output_type": "stream",
     "text": [
      "1538  Coordinate of 6 Leedon Heights: None\n"
     ]
    },
    {
     "name": "stderr",
     "output_type": "stream",
     "text": [
      "Status code Unknown from https://geocode.arcgis.com/arcgis/rest/services/World/GeocodeServer/find: ERROR - HTTPSConnectionPool(host='geocode.arcgis.com', port=443): Read timed out. (read timeout=5.0)\n"
     ]
    },
    {
     "name": "stdout",
     "output_type": "stream",
     "text": [
      "1539  Coordinate of 50 Lorong 28 Geylang: None\n"
     ]
    },
    {
     "name": "stderr",
     "output_type": "stream",
     "text": [
      "Status code Unknown from https://geocode.arcgis.com/arcgis/rest/services/World/GeocodeServer/find: ERROR - HTTPSConnectionPool(host='geocode.arcgis.com', port=443): Max retries exceeded with url: /arcgis/rest/services/World/GeocodeServer/find?f=json&text=9+Riviera+Drive&maxLocations=1 (Caused by ConnectTimeoutError(<urllib3.connection.HTTPSConnection object at 0x000002C700504490>, 'Connection to geocode.arcgis.com timed out. (connect timeout=5.0)'))\n"
     ]
    },
    {
     "name": "stdout",
     "output_type": "stream",
     "text": [
      "1540  Coordinate of 9 Riviera Drive: None\n",
      "1541  Coordinate of 95 Tampines Avenue 1: [1.3492698228681803, 103.92696224335907]\n"
     ]
    },
    {
     "name": "stderr",
     "output_type": "stream",
     "text": [
      "Status code Unknown from https://geocode.arcgis.com/arcgis/rest/services/World/GeocodeServer/find: ERROR - HTTPSConnectionPool(host='geocode.arcgis.com', port=443): Read timed out. (read timeout=5.0)\n"
     ]
    },
    {
     "name": "stdout",
     "output_type": "stream",
     "text": [
      "1542  Coordinate of 101 Beach Road: None\n"
     ]
    },
    {
     "name": "stderr",
     "output_type": "stream",
     "text": [
      "Status code Unknown from https://geocode.arcgis.com/arcgis/rest/services/World/GeocodeServer/find: ERROR - HTTPSConnectionPool(host='geocode.arcgis.com', port=443): Read timed out. (read timeout=5.0)\n"
     ]
    },
    {
     "name": "stdout",
     "output_type": "stream",
     "text": [
      "1543  Coordinate of 242 Westwood Avenue: None\n"
     ]
    },
    {
     "name": "stderr",
     "output_type": "stream",
     "text": [
      "Status code Unknown from https://geocode.arcgis.com/arcgis/rest/services/World/GeocodeServer/find: ERROR - HTTPSConnectionPool(host='geocode.arcgis.com', port=443): Read timed out. (read timeout=5.0)\n"
     ]
    },
    {
     "name": "stdout",
     "output_type": "stream",
     "text": [
      "1544  Coordinate of 128 Race Course Road: None\n"
     ]
    },
    {
     "name": "stderr",
     "output_type": "stream",
     "text": [
      "Status code Unknown from https://geocode.arcgis.com/arcgis/rest/services/World/GeocodeServer/find: ERROR - HTTPSConnectionPool(host='geocode.arcgis.com', port=443): Read timed out. (read timeout=5.0)\n"
     ]
    },
    {
     "name": "stdout",
     "output_type": "stream",
     "text": [
      "1545  Coordinate of 100 Kim Seng Road: None\n"
     ]
    },
    {
     "name": "stderr",
     "output_type": "stream",
     "text": [
      "Status code Unknown from https://geocode.arcgis.com/arcgis/rest/services/World/GeocodeServer/find: ERROR - HTTPSConnectionPool(host='geocode.arcgis.com', port=443): Read timed out. (read timeout=5.0)\n"
     ]
    },
    {
     "name": "stdout",
     "output_type": "stream",
     "text": [
      "1546  Coordinate of 2 Cornwall Gardens: None\n",
      "1547  Coordinate of 35 Pasir Ris Link: [1.3767111261266791, 103.95992634071035]\n",
      "1548  Coordinate of 163 Haig Road: None\n",
      "1549  Coordinate of 34 Draycott Drive: [1.309905094704547, 103.83106966681362]\n",
      "1550  Coordinate of 1001 Lower Delta Road: [1.2812600000000316, 103.82380000000006]\n",
      "1551  Coordinate of 97 Cashew Road: [35.06222800000006, -85.30772199999996]\n",
      "1552  Coordinate of 18 Guillemard Crescent: [1.3095753087241064, 103.88099488051654]\n",
      "1553  Coordinate of 186 Joo Chiat Terrace: [1.3146500000000287, 103.90201000000008]\n",
      "1554  Coordinate of 488 Upper Serangoon Road: None\n",
      "1555  Coordinate of 16 Leonie Hill Road: [1.2984632101368447, 103.83429896265005]\n",
      "1556  Coordinate of 570 Macpherson Road: [-82.48332999999997, 155.83333000000005]\n",
      "1557  Coordinate of 9 Marine Vista: [-32.93992999999995, 28.029990000000055]\n",
      "1558  Coordinate of 11 Tampines Central 7: [1.3504800000000614, 103.93626000000006]\n",
      "1559  Coordinate of 27 Oxley Walk: [1.2960988847986386, 103.8420316036055]\n",
      "1560  Coordinate of 21 Simei Street 4: [1.339988751029594, 103.95725477671124]\n",
      "1561  Coordinate of 3 Canberra Drive: [1.437609801738347, 103.8300765789254]\n",
      "1562  Coordinate of 12 Jelebu Road: [1.3786658697662233, 103.76395836647782]\n",
      "1563  Coordinate of 13 Leedon Heights: [1.3158643344956715, 103.80366914151409]\n",
      "1564  Coordinate of 78 Moh Guan Terrace: [1.2825600000000463, 103.83110000000005]\n",
      "1565  Coordinate of 20 Ewe Boon Road: [1.3171953807199372, 103.83121274590081]\n",
      "1566  Coordinate of 25 Sembawang Crescent: [1.444994690759909, 103.81615517132799]\n",
      "1567  Coordinate of 3 Miltonia Close: [46.0432715079851, -95.2931300240752]\n",
      "1568  Coordinate of 15 Sin Ming Walk: [1.3651436387398945, 103.83014707073113]\n",
      "1569  Coordinate of 29 Angullia Park: [1.3047000000000253, 103.83010000000007]\n"
     ]
    },
    {
     "name": "stderr",
     "output_type": "stream",
     "text": [
      "Status code Unknown from https://geocode.arcgis.com/arcgis/rest/services/World/GeocodeServer/find: ERROR - HTTPSConnectionPool(host='geocode.arcgis.com', port=443): Read timed out. (read timeout=5.0)\n"
     ]
    },
    {
     "name": "stdout",
     "output_type": "stream",
     "text": [
      "1570  Coordinate of 27A Hillview Avenue: None\n"
     ]
    },
    {
     "name": "stderr",
     "output_type": "stream",
     "text": [
      "Status code Unknown from https://geocode.arcgis.com/arcgis/rest/services/World/GeocodeServer/find: ERROR - HTTPSConnectionPool(host='geocode.arcgis.com', port=443): Read timed out. (read timeout=5.0)\n"
     ]
    },
    {
     "name": "stdout",
     "output_type": "stream",
     "text": [
      "1571  Coordinate of 29 Elias Road: None\n"
     ]
    },
    {
     "name": "stderr",
     "output_type": "stream",
     "text": [
      "Status code Unknown from https://geocode.arcgis.com/arcgis/rest/services/World/GeocodeServer/find: ERROR - HTTPSConnectionPool(host='geocode.arcgis.com', port=443): Read timed out. (read timeout=5.0)\n"
     ]
    },
    {
     "name": "stdout",
     "output_type": "stream",
     "text": [
      "1572  Coordinate of 25 Jalan Merah Saga: None\n"
     ]
    },
    {
     "name": "stderr",
     "output_type": "stream",
     "text": [
      "Status code Unknown from https://geocode.arcgis.com/arcgis/rest/services/World/GeocodeServer/find: ERROR - HTTPSConnectionPool(host='geocode.arcgis.com', port=443): Read timed out. (read timeout=5.0)\n"
     ]
    },
    {
     "name": "stdout",
     "output_type": "stream",
     "text": [
      "1573  Coordinate of 10 Suffolk Road: None\n"
     ]
    },
    {
     "name": "stderr",
     "output_type": "stream",
     "text": [
      "Status code Unknown from https://geocode.arcgis.com/arcgis/rest/services/World/GeocodeServer/find: ERROR - HTTPSConnectionPool(host='geocode.arcgis.com', port=443): Read timed out. (read timeout=5.0)\n"
     ]
    },
    {
     "name": "stdout",
     "output_type": "stream",
     "text": [
      "1574  Coordinate of 86 Wilkie Road: None\n"
     ]
    },
    {
     "name": "stderr",
     "output_type": "stream",
     "text": [
      "Status code Unknown from https://geocode.arcgis.com/arcgis/rest/services/World/GeocodeServer/find: ERROR - HTTPSConnectionPool(host='geocode.arcgis.com', port=443): Read timed out. (read timeout=5.0)\n"
     ]
    },
    {
     "name": "stdout",
     "output_type": "stream",
     "text": [
      "1575  Coordinate of 15 Fernvale Lane: None\n",
      "1576  Coordinate of 5 Jalan Membina: [1.2853733595858188, 103.82877931177092]\n",
      "1577  Coordinate of 173 Jalan Loyang Besar: [3.709600000000023, 98.68590000000006]\n",
      "1578  Coordinate of 35 Tampines Street 86: [1.351966574486326, 103.92814191241195]\n"
     ]
    },
    {
     "name": "stderr",
     "output_type": "stream",
     "text": [
      "Status code Unknown from https://geocode.arcgis.com/arcgis/rest/services/World/GeocodeServer/find: ERROR - HTTPSConnectionPool(host='geocode.arcgis.com', port=443): Read timed out. (read timeout=5.0)\n"
     ]
    },
    {
     "name": "stdout",
     "output_type": "stream",
     "text": [
      "1579  Coordinate of 226 Changi Road: None\n",
      "1580  Coordinate of 1 Jalan Yasin: [31.820830000000058, 47.36778000000004]\n",
      "1581  Coordinate of 2 Petir Road: [60.11343952858415, 30.203620438064796]\n",
      "1582  Coordinate of 20 Balmoral Crescent: [1.316554793769754, 103.83495174526934]\n"
     ]
    },
    {
     "name": "stderr",
     "output_type": "stream",
     "text": [
      "Status code Unknown from https://geocode.arcgis.com/arcgis/rest/services/World/GeocodeServer/find: ERROR - HTTPSConnectionPool(host='geocode.arcgis.com', port=443): Read timed out. (read timeout=5.0)\n"
     ]
    },
    {
     "name": "stdout",
     "output_type": "stream",
     "text": [
      "1583  Coordinate of 19 Balmoral Crescent: None\n"
     ]
    },
    {
     "name": "stderr",
     "output_type": "stream",
     "text": [
      "Status code Unknown from https://geocode.arcgis.com/arcgis/rest/services/World/GeocodeServer/find: ERROR - HTTPSConnectionPool(host='geocode.arcgis.com', port=443): Read timed out. (read timeout=5.0)\n"
     ]
    },
    {
     "name": "stdout",
     "output_type": "stream",
     "text": [
      "1584  Coordinate of 62 Woodlands Drive 16: None\n"
     ]
    },
    {
     "name": "stderr",
     "output_type": "stream",
     "text": [
      "Status code Unknown from https://geocode.arcgis.com/arcgis/rest/services/World/GeocodeServer/find: ERROR - HTTPSConnectionPool(host='geocode.arcgis.com', port=443): Read timed out. (read timeout=5.0)\n"
     ]
    },
    {
     "name": "stdout",
     "output_type": "stream",
     "text": [
      "1585  Coordinate of 716 Upper Changi Road East: None\n"
     ]
    },
    {
     "name": "stderr",
     "output_type": "stream",
     "text": [
      "Status code Unknown from https://geocode.arcgis.com/arcgis/rest/services/World/GeocodeServer/find: ERROR - HTTPSConnectionPool(host='geocode.arcgis.com', port=443): Read timed out. (read timeout=5.0)\n"
     ]
    },
    {
     "name": "stdout",
     "output_type": "stream",
     "text": [
      "1586  Coordinate of 85 Hillview Avenue: None\n",
      "1587  Coordinate of 3 Bedok South Avenue 3: [23.188750000000027, 77.43953000000005]\n"
     ]
    },
    {
     "name": "stderr",
     "output_type": "stream",
     "text": [
      "Status code Unknown from https://geocode.arcgis.com/arcgis/rest/services/World/GeocodeServer/find: ERROR - HTTPSConnectionPool(host='geocode.arcgis.com', port=443): Read timed out. (read timeout=5.0)\n"
     ]
    },
    {
     "name": "stdout",
     "output_type": "stream",
     "text": [
      "1588  Coordinate of 34 Whampoa East: None\n",
      "1589  Coordinate of 107 Tampines Road: [1.3615283143527535, 103.88941475371337]\n",
      "1590  Coordinate of 400 Balestier Road: None\n",
      "1591  Coordinate of 21 Balmoral Road: [53.387860000000046, -2.3431399999999485]\n",
      "1592  Coordinate of 1 Marymount Terrace: [41.31353091185723, -75.9467065165291]\n",
      "1593  Coordinate of 7 Lincoln Road: [52.58834000000007, -0.24678999999997586]\n",
      "1594  Coordinate of 83 Flora Drive: None\n",
      "1595  Coordinate of 27 Terrasse Lane: [1.3689624338266242, 103.87902278633743]\n"
     ]
    },
    {
     "name": "stderr",
     "output_type": "stream",
     "text": [
      "Status code Unknown from https://geocode.arcgis.com/arcgis/rest/services/World/GeocodeServer/find: ERROR - HTTPSConnectionPool(host='geocode.arcgis.com', port=443): Read timed out. (read timeout=5.0)\n"
     ]
    },
    {
     "name": "stdout",
     "output_type": "stream",
     "text": [
      "1596  Coordinate of 3 Oxford Road: None\n",
      "1597  Coordinate of 91 Bencoolen Street: [1.3003006909509622, 103.8510397187672]\n",
      "1598  Coordinate of 208 Jalan Eunos: [1.3273069734346592, 103.90770255769962]\n",
      "1599  Coordinate of 2 Kensington Park Drive: [39.1040900345445, -94.66217065133543]\n",
      "1600  Coordinate of 105 Hillview Rise: [49.65311000000003, -103.85796999999997]\n",
      "1601  Coordinate of 35 Lorong 20 Geylang: [1.3114469457936622, 103.88153953658491]\n",
      "1602  Coordinate of 1 Tampines Street 86: [1.3502097275807614, 103.92716173265461]\n",
      "1603  Coordinate of 6 Jalan Ampas: [-3.1166699999999423, 140.91667000000007]\n",
      "1604  Coordinate of 67 Stevens Road: [37.35031094079943, -101.06799355364694]\n",
      "1605  Coordinate of 68 Phoenix Road: [33.42259568677452, -112.20615706611478]\n",
      "1606  Coordinate of 179 Tanjong Rhu Road: [1.2962342106254, 103.87213193991789]\n",
      "1607  Coordinate of 3 Joo Chiat Lane: [34.98302280000007, 136.8742028700001]\n",
      "1608  Coordinate of 9 Dairy Farm Road: [13.248350000000073, -59.64137999999997]\n",
      "1609  Coordinate of 23 Jalan Merah Saga: [3.125960004108933, 101.7641899929215]\n",
      "1610  Coordinate of 14 Gemmill Lane: [1.2822133401791689, 103.8469931873712]\n",
      "1611  Coordinate of 42 Coronation Road West: [50.57633000000004, -3.471149999999966]\n",
      "1612  Coordinate of 400 Orchard Road: [14.583750000000066, 121.05648000000008]\n",
      "1613  Coordinate of 38 Saint Patrick's Road: [-17.876479999999958, 31.090280000000064]\n",
      "1614  Coordinate of 140 Hillview Avenue: [12.967800000000068, 80.10269000000005]\n",
      "1615  Coordinate of 515 Dunman Road: None\n",
      "1616  Coordinate of 17 Institution Hill: [42.32732000000004, -71.18560999999994]\n",
      "1617  Coordinate of 9 Bukit Batok Central Link: [1.3499500000000353, 103.75199000000003]\n",
      "1618  Coordinate of 66 Lorong L Telok Kurau: [1.0666700000000446, 102.25000000000006]\n",
      "1619  Coordinate of 2 Perumal Road: [1.3126700000000255, 103.85533000000004]\n",
      "1620  Coordinate of 1 Jurong Lake Link: [1.3459860446611316, 103.72537780726577]\n",
      "1621  Coordinate of 3 Hume Avenue: [53.48028794734403, -2.250747400558122]\n",
      "1622  Coordinate of 27 Pasir Ris Street 72: [1.3802017277945708, 103.93510149043755]\n",
      "1623  Coordinate of 1 Jalan Kembangan: [-7.175790014292943, 112.60965001425222]\n",
      "1624  Coordinate of 70 Tanah Merah Kechil Avenue: [1.3286705414432447, 103.94589662735626]\n",
      "1625  Coordinate of 31 Saint Thomas Walk: [9.025580000000048, 76.92636000000005]\n",
      "1626  Coordinate of 36 Keppel Bay Drive: [49.35519001416637, 11.277300031519161]\n",
      "1627  Coordinate of 55 Devonshire Road: [26.671737000000064, -80.05891499999996]\n",
      "1628  Coordinate of 74 Tanah Merah Kechil Avenue: [1.328591625824842, 103.94548792575739]\n",
      "1629  Coordinate of 50 Upper Serangoon View: [1.3744728646122297, 103.90307046654777]\n",
      "1630  Coordinate of 6 Cuscaden Walk: [50.44572000000005, 6.102460000000065]\n",
      "1631  Coordinate of 9 Chin Terrace: [1.364428746218067, 103.97384524530446]\n",
      "1632  Coordinate of 4 Simei Rise: [28.670300000000054, 82.31252000000006]\n"
     ]
    },
    {
     "name": "stderr",
     "output_type": "stream",
     "text": [
      "Status code Unknown from https://geocode.arcgis.com/arcgis/rest/services/World/GeocodeServer/find: ERROR - HTTPSConnectionPool(host='geocode.arcgis.com', port=443): Read timed out. (read timeout=5.0)\n"
     ]
    },
    {
     "name": "stdout",
     "output_type": "stream",
     "text": [
      "1633  Coordinate of 107 Joo Chiat Place: None\n",
      "1634  Coordinate of 21 Kim Yam Road: [1.2937997706671212, 103.83942206568992]\n"
     ]
    },
    {
     "name": "stderr",
     "output_type": "stream",
     "text": [
      "Status code Unknown from https://geocode.arcgis.com/arcgis/rest/services/World/GeocodeServer/find: ERROR - HTTPSConnectionPool(host='geocode.arcgis.com', port=443): Read timed out. (read timeout=5.0)\n"
     ]
    },
    {
     "name": "stdout",
     "output_type": "stream",
     "text": [
      "1635  Coordinate of 42 Kim Yam Road: None\n",
      "1636  Coordinate of 19 Shelford Road: [1.3261900000000537, 103.81206000000009]\n",
      "1637  Coordinate of 265 Sixth Avenue: [-26.173749999999927, 28.006240000000048]\n",
      "1638  Coordinate of 6 Ridgewood Close: [-26.106589999999983, 28.060160000000053]\n",
      "1639  Coordinate of 3 Grange Garden: [57.50575821400008, -1.7969955659999641]\n",
      "1640  Coordinate of 3 Zion Close: None\n",
      "1641  Coordinate of 7 Lew Lian Vale: [1.3486150705016229, 103.87735713453839]\n",
      "1642  Coordinate of 100 Emerald Hill Road: [40.727961400120805, -75.62540005476941]\n"
     ]
    },
    {
     "name": "stderr",
     "output_type": "stream",
     "text": [
      "Status code Unknown from https://geocode.arcgis.com/arcgis/rest/services/World/GeocodeServer/find: ERROR - HTTPSConnectionPool(host='geocode.arcgis.com', port=443): Read timed out. (read timeout=5.0)\n"
     ]
    },
    {
     "name": "stdout",
     "output_type": "stream",
     "text": [
      "1643  Coordinate of 57 Tampines Central 7: None\n",
      "1644  Coordinate of 10 Marine Vista: [-32.93992999999995, 28.029990000000055]\n"
     ]
    },
    {
     "name": "stderr",
     "output_type": "stream",
     "text": [
      "Status code Unknown from https://geocode.arcgis.com/arcgis/rest/services/World/GeocodeServer/find: ERROR - HTTPSConnectionPool(host='geocode.arcgis.com', port=443): Read timed out. (read timeout=5.0)\n"
     ]
    },
    {
     "name": "stdout",
     "output_type": "stream",
     "text": [
      "1645  Coordinate of 237 Arcadia Road: None\n"
     ]
    },
    {
     "name": "stderr",
     "output_type": "stream",
     "text": [
      "Status code Unknown from https://geocode.arcgis.com/arcgis/rest/services/World/GeocodeServer/find: ERROR - HTTPSConnectionPool(host='geocode.arcgis.com', port=443): Read timed out. (read timeout=5.0)\n"
     ]
    },
    {
     "name": "stdout",
     "output_type": "stream",
     "text": [
      "1646  Coordinate of 361 Holland Road: None\n",
      "1647  Coordinate of 17 Cove Drive: [45.29691500000007, -117.81055399999997]\n",
      "1648  Coordinate of 921 Bukit Timah Road: [5.4500000000000455, 100.26667000000003]\n",
      "1649  Coordinate of 200 Moulmein Road: [1.3188052509533321, 103.84466779597324]\n",
      "1650  Coordinate of 66 Duchess Avenue: [1.3240300000000502, 103.80522000000008]\n",
      "1651  Coordinate of 65 Tampines Central 7: [1.3504800000000614, 103.93626000000006]\n",
      "1652  Coordinate of 1 Shelford Road: [45.38201647577871, -72.6078885144853]\n",
      "1653  Coordinate of 53 Jervois Road: [-35.257649999999956, 139.45162000000005]\n",
      "1654  Coordinate of 20 Kay Poh Road: [1.2963654293196072, 103.82971414543209]\n",
      "1655  Coordinate of 8 Amber Road: [26.951320000000067, 75.84682000000004]\n",
      "1656  Coordinate of 5 Lorong 28 Geylang: [1.3133780524662626, 103.88570961723372]\n",
      "1657  Coordinate of 66 Phoenix Road: [33.459405734131686, -112.20210566226962]\n",
      "1658  Coordinate of 111 Tampines Road: [1.3617773406960936, 103.89166755782986]\n",
      "1659  Coordinate of 62 Marine Parade Road: [1.301012901263789, 103.90435490939035]\n",
      "1660  Coordinate of 2 Jalan Novena Barat: [1.3229322067103055, 103.84199204102254]\n",
      "1661  Coordinate of 3 Daisy Road: [29.46327000000008, -89.64950999999996]\n",
      "1662  Coordinate of 11C Pulasan Road: [1.3113980799483593, 103.906553472833]\n"
     ]
    },
    {
     "name": "stderr",
     "output_type": "stream",
     "text": [
      "Status code Unknown from https://geocode.arcgis.com/arcgis/rest/services/World/GeocodeServer/find: ERROR - HTTPSConnectionPool(host='geocode.arcgis.com', port=443): Read timed out. (read timeout=5.0)\n"
     ]
    },
    {
     "name": "stdout",
     "output_type": "stream",
     "text": [
      "1663  Coordinate of 33 Simei Rise: None\n"
     ]
    },
    {
     "name": "stderr",
     "output_type": "stream",
     "text": [
      "Status code Unknown from https://geocode.arcgis.com/arcgis/rest/services/World/GeocodeServer/find: ERROR - HTTPSConnectionPool(host='geocode.arcgis.com', port=443): Max retries exceeded with url: /arcgis/rest/services/World/GeocodeServer/find?f=json&text=37+Oxley+Rise&maxLocations=1 (Caused by ConnectTimeoutError(<urllib3.connection.HTTPSConnection object at 0x000002C700523E50>, 'Connection to geocode.arcgis.com timed out. (connect timeout=5.0)'))\n"
     ]
    },
    {
     "name": "stdout",
     "output_type": "stream",
     "text": [
      "1664  Coordinate of 37 Oxley Rise: None\n",
      "1665  Coordinate of 34 West Coast Road: [12.968920000000026, 80.25759000000005]\n",
      "1666  Coordinate of 23 Sin Ming Walk: [1.3653356681416398, 103.82939697421591]\n",
      "1667  Coordinate of 10 Leedon Road: [52.23730000000006, -0.931199999999933]\n",
      "1668  Coordinate of 35 Lorong Ong Lye: [1.3462354062805986, 103.87964346626757]\n",
      "1669  Coordinate of 5 Buangkok Green: [13.838960000000043, 100.65981000000005]\n"
     ]
    },
    {
     "name": "stderr",
     "output_type": "stream",
     "text": [
      "Status code Unknown from https://geocode.arcgis.com/arcgis/rest/services/World/GeocodeServer/find: ERROR - HTTPSConnectionPool(host='geocode.arcgis.com', port=443): Read timed out. (read timeout=5.0)\n"
     ]
    },
    {
     "name": "stdout",
     "output_type": "stream",
     "text": [
      "1670  Coordinate of 33 Mangis Road: None\n",
      "1671  Coordinate of 370 Thomson Road: [22.277480000000025, 114.17496000000006]\n",
      "1672  Coordinate of 42 Lakeside Drive: [-26.194548280080465, 28.29056008963773]\n",
      "1673  Coordinate of 75 Punggol Central: [7.080630000000042, 124.75247000000002]\n",
      "1674  Coordinate of 475 River Valley Road: [51.14365423833564, 1.276944811286641]\n",
      "1675  Coordinate of 60 Zion Road: [33.36578000000003, -80.20088999999996]\n",
      "1676  Coordinate of 86 Lorong M Telok Kurau: [1.0666700000000446, 102.25000000000006]\n"
     ]
    },
    {
     "name": "stderr",
     "output_type": "stream",
     "text": [
      "Status code Unknown from https://geocode.arcgis.com/arcgis/rest/services/World/GeocodeServer/find: ERROR - HTTPSConnectionPool(host='geocode.arcgis.com', port=443): Max retries exceeded with url: /arcgis/rest/services/World/GeocodeServer/find?f=json&text=383+Tanglin+Road&maxLocations=1 (Caused by ConnectTimeoutError(<urllib3.connection.HTTPSConnection object at 0x000002C70051E760>, 'Connection to geocode.arcgis.com timed out. (connect timeout=5.0)'))\n"
     ]
    },
    {
     "name": "stdout",
     "output_type": "stream",
     "text": [
      "1677  Coordinate of 383 Tanglin Road: None\n",
      "1678  Coordinate of 23 Sommerville Road: [32.49739000000005, -85.02011999999996]\n",
      "1679  Coordinate of 56 Edgedale Plains: [40.89696888550279, -81.35382470735233]\n",
      "1680  Coordinate of 99A Lorong H Telok Kurau: [1.0666700000000446, 102.25000000000006]\n",
      "1681  Coordinate of 41 Lorong 22 Geylang: [1.3111898309137615, 103.88246657507608]\n",
      "1682  Coordinate of 370G Alexandra Road: [51.20420000000007, -3.4750699999999597]\n",
      "1683  Coordinate of 11 Lorong Melayu: [2.1835300546062797, 102.27298505244451]\n",
      "1684  Coordinate of 47 Jurong East Avenue 1: [1.3421351887947566, 103.73427285055362]\n",
      "1685  Coordinate of 21 West Coast Crescent: [1.2968423177007793, 103.76543215651316]\n",
      "1686  Coordinate of 38 Eng Hoon Street: [52.877218785575764, -1.657809877702039]\n",
      "1687  Coordinate of 5 Thomson Lane: [44.06475778452852, -123.11724082692453]\n",
      "1688  Coordinate of 103 Haig Road: None\n",
      "1689  Coordinate of 29 Pasir Ris Link: [1.3762202818767264, 103.95952342262467]\n"
     ]
    },
    {
     "name": "stderr",
     "output_type": "stream",
     "text": [
      "Status code Unknown from https://geocode.arcgis.com/arcgis/rest/services/World/GeocodeServer/find: ERROR - HTTPSConnectionPool(host='geocode.arcgis.com', port=443): Read timed out. (read timeout=5.0)\n"
     ]
    },
    {
     "name": "stdout",
     "output_type": "stream",
     "text": [
      "1690  Coordinate of 26 Simei Street 1: None\n"
     ]
    },
    {
     "name": "stderr",
     "output_type": "stream",
     "text": [
      "Status code Unknown from https://geocode.arcgis.com/arcgis/rest/services/World/GeocodeServer/find: ERROR - HTTPSConnectionPool(host='geocode.arcgis.com', port=443): Read timed out. (read timeout=5.0)\n"
     ]
    },
    {
     "name": "stdout",
     "output_type": "stream",
     "text": [
      "1691  Coordinate of 302 Sims Avenue: None\n"
     ]
    },
    {
     "name": "stderr",
     "output_type": "stream",
     "text": [
      "Status code Unknown from https://geocode.arcgis.com/arcgis/rest/services/World/GeocodeServer/find: ERROR - HTTPSConnectionPool(host='geocode.arcgis.com', port=443): Read timed out. (read timeout=5.0)\n"
     ]
    },
    {
     "name": "stdout",
     "output_type": "stream",
     "text": [
      "1692  Coordinate of 6B Rochalie Drive: None\n",
      "1693  Coordinate of 61 Hillside Drive: [50.93461000000008, 0.2447500000000673]\n",
      "1694  Coordinate of 12 Holland Hill: [31.964557419612348, -97.37847866636545]\n",
      "1695  Coordinate of 23 Jalan Raja Udang: [1.3283693796621492, 103.8424032571923]\n",
      "1696  Coordinate of 9 Leedon Heights: [41.03717000000006, -111.92410999999998]\n",
      "1697  Coordinate of 1 Rosewood Drive: [31.289840000000027, 75.54289000000006]\n",
      "1698  Coordinate of 15 Institution Hill: [42.32732000000004, -71.18560999999994]\n",
      "1699  Coordinate of 63 East Coast Road: [1.3046600000000694, 103.90420000000006]\n",
      "1700  Coordinate of 9 Tampines Avenue 8: [1.3505273178920731, 103.92827233482535]\n",
      "1701  Coordinate of 76 Farrer Road: None\n",
      "1702  Coordinate of 3A Lorong How Sun: [1.342664757437376, 103.88188017712991]\n",
      "1703  Coordinate of 77 Meyer Road: None\n"
     ]
    },
    {
     "name": "stderr",
     "output_type": "stream",
     "text": [
      "Status code Unknown from https://geocode.arcgis.com/arcgis/rest/services/World/GeocodeServer/find: ERROR - HTTPSConnectionPool(host='geocode.arcgis.com', port=443): Read timed out. (read timeout=5.0)\n"
     ]
    },
    {
     "name": "stdout",
     "output_type": "stream",
     "text": [
      "1704  Coordinate of 5B Lorong 26 Geylang: None\n",
      "1705  Coordinate of 6 Handy Road: [35.079630000000066, -81.08995999999996]\n",
      "1706  Coordinate of 1 Coleman Street: [42.983622728721386, -82.61922576982856]\n",
      "1707  Coordinate of 3 Coleman Street: [42.983622728721386, -82.61922576982856]\n",
      "1708  Coordinate of 2 Jalan Lokam: [1.3456087332896942, 103.88269741268954]\n",
      "1709  Coordinate of 430 Upper Changi Road: [1.332360000000051, 103.94614000000007]\n",
      "1710  Coordinate of 138 Robinson Road: [22.28087000000005, 114.15078000000005]\n",
      "1711  Coordinate of 130 Jurong Gateway Road: [1.335360000000037, 103.73952000000008]\n",
      "1712  Coordinate of 501 Jurong West Street 51: [1.3501449773787328, 103.71897788891522]\n",
      "1713  Coordinate of 170 Upper Bukit Timah Road: [1.3404100000000199, 103.77221000000009]\n",
      "1714  Coordinate of 451 Joo Chiat Road: [1.3108000000000288, 103.90138000000007]\n",
      "1715  Coordinate of 500 Jalan Sultan: [3.142500000000041, 101.69814000000008]\n",
      "1716  Coordinate of 66 East Coast Road: [1.3046600000000694, 103.90420000000006]\n",
      "1717  Coordinate of Buona Vista / West Coast / Clementi (D5): [38.228054440111066, -121.04717019674088]\n",
      "1718  Coordinate of 119 Aljunied Avenue 2: [1.3196300000000747, 103.88571000000007]\n",
      "1719  Coordinate of 250 Sinaran Drive: [1.320026169917651, 103.84423422533]\n",
      "1720  Coordinate of 587 Bukit Timah Road: [5.4500000000000455, 100.26667000000003]\n",
      "1721  Coordinate of 79 Lucky Heights: [5.980690000000038, 116.10514]\n",
      "1722  Coordinate of 408 Ang Mo Kio Avenue 10: [38.36798274600005, -92.47774661699998]\n",
      "1723  Coordinate of 50 East Coast Road: [1.3046600000000694, 103.90420000000006]\n",
      "1724  Coordinate of 95 Serangoon Road: [1.3180700000000343, 103.85215000000005]\n",
      "1725  Coordinate of 1 Tras Link: [-36.76670999999993, 174.73635000000002]\n"
     ]
    },
    {
     "name": "stderr",
     "output_type": "stream",
     "text": [
      "Status code Unknown from https://geocode.arcgis.com/arcgis/rest/services/World/GeocodeServer/find: ERROR - HTTPSConnectionPool(host='geocode.arcgis.com', port=443): Read timed out. (read timeout=5.0)\n"
     ]
    },
    {
     "name": "stdout",
     "output_type": "stream",
     "text": [
      "1726  Coordinate of 101A Upper Cross Street: None\n"
     ]
    },
    {
     "name": "stderr",
     "output_type": "stream",
     "text": [
      "Status code Unknown from https://geocode.arcgis.com/arcgis/rest/services/World/GeocodeServer/find: ERROR - HTTPSConnectionPool(host='geocode.arcgis.com', port=443): Read timed out. (read timeout=5.0)\n"
     ]
    },
    {
     "name": "stdout",
     "output_type": "stream",
     "text": [
      "1727  Coordinate of 6 Stevens Drive: None\n"
     ]
    },
    {
     "name": "stderr",
     "output_type": "stream",
     "text": [
      "Status code Unknown from https://geocode.arcgis.com/arcgis/rest/services/World/GeocodeServer/find: ERROR - HTTPSConnectionPool(host='geocode.arcgis.com', port=443): Read timed out. (read timeout=5.0)\n"
     ]
    },
    {
     "name": "stdout",
     "output_type": "stream",
     "text": [
      "1728  Coordinate of 38 Parbury Avenue: None\n"
     ]
    },
    {
     "name": "stderr",
     "output_type": "stream",
     "text": [
      "Status code Unknown from https://geocode.arcgis.com/arcgis/rest/services/World/GeocodeServer/find: ERROR - HTTPSConnectionPool(host='geocode.arcgis.com', port=443): Read timed out. (read timeout=5.0)\n"
     ]
    },
    {
     "name": "stdout",
     "output_type": "stream",
     "text": [
      "1729  Coordinate of 103 Beach Road: None\n"
     ]
    },
    {
     "name": "stderr",
     "output_type": "stream",
     "text": [
      "Status code Unknown from https://geocode.arcgis.com/arcgis/rest/services/World/GeocodeServer/find: ERROR - HTTPSConnectionPool(host='geocode.arcgis.com', port=443): Read timed out. (read timeout=5.0)\n"
     ]
    },
    {
     "name": "stdout",
     "output_type": "stream",
     "text": [
      "1730  Coordinate of 88 Sophia Road: None\n"
     ]
    },
    {
     "name": "stderr",
     "output_type": "stream",
     "text": [
      "Status code Unknown from https://geocode.arcgis.com/arcgis/rest/services/World/GeocodeServer/find: ERROR - HTTPSConnectionPool(host='geocode.arcgis.com', port=443): Read timed out. (read timeout=5.0)\n"
     ]
    },
    {
     "name": "stdout",
     "output_type": "stream",
     "text": [
      "1731  Coordinate of 8 Wilkie Terrace: None\n"
     ]
    },
    {
     "name": "stderr",
     "output_type": "stream",
     "text": [
      "Status code Unknown from https://geocode.arcgis.com/arcgis/rest/services/World/GeocodeServer/find: ERROR - HTTPSConnectionPool(host='geocode.arcgis.com', port=443): Read timed out. (read timeout=5.0)\n"
     ]
    },
    {
     "name": "stdout",
     "output_type": "stream",
     "text": [
      "1732  Coordinate of 28 Wilkie Road: None\n",
      "1733  Coordinate of 103 Sophia Road: None\n",
      "1734  Coordinate of 74 Keng Lee Road: [51.45103457500005, 0.009070274000066547]\n",
      "1735  Coordinate of 168 Sixth Avenue: [-26.173749999999927, 28.006240000000048]\n",
      "1736  Coordinate of 25 Fernvale Close: [1.3938465441548544, 103.88051484892168]\n",
      "1737  Coordinate of 1 Lorong How Sun: [1.343415231138195, 103.88103100651921]\n",
      "1738  Coordinate of 40 Kovan Rise: [1.362912459933625, 103.8852442539694]\n",
      "1739  Coordinate of 63 Sunset Way: [39.63288000000006, -76.83108999999996]\n",
      "1740  Coordinate of 17 Tampines Central 7: [1.3504800000000614, 103.93626000000006]\n",
      "1741  Coordinate of 41 Hume Avenue: [53.48028794734403, -2.250747400558122]\n",
      "1742  Coordinate of 1 Siglap Road: None\n",
      "1743  Coordinate of 134 Serangoon Avenue 3: [1.3525200000000268, 103.87036000000006]\n",
      "1744  Coordinate of 119 Sunset Way: [39.63288000000006, -76.83108999999996]\n",
      "1745  Coordinate of 227 Upper Paya Lebar Road: None\n"
     ]
    },
    {
     "name": "stderr",
     "output_type": "stream",
     "text": [
      "Status code Unknown from https://geocode.arcgis.com/arcgis/rest/services/World/GeocodeServer/find: ERROR - HTTPSConnectionPool(host='geocode.arcgis.com', port=443): Read timed out. (read timeout=5.0)\n"
     ]
    },
    {
     "name": "stdout",
     "output_type": "stream",
     "text": [
      "1746  Coordinate of 35 Amber Gardens: None\n",
      "1747  Coordinate of 30 Pasir Ris Link: [1.3775523758388886, 103.95949090084036]\n",
      "1748  Coordinate of 3 Yishun Close: [1.4347690071141272, 103.84417301222874]\n",
      "1749  Coordinate of 38 Farrer Road: None\n",
      "1750  Coordinate of 11 Flora Road: [40.98327069870166, 28.781648213632863]\n",
      "1751  Coordinate of 23 Nathan Road: [22.312425183834932, 114.17049745942177]\n",
      "1752  Coordinate of 31 Fernvale Road: [-32.029416726236335, 115.94106680882656]\n",
      "1753  Coordinate of 39 Fernhill Road: [45.47123000000005, -123.10176999999999]\n",
      "1754  Coordinate of 5C Ridley Park: [39.88119000000006, -75.32323999999994]\n",
      "1755  Coordinate of 20 Bukit Batok Street 52: [1.3560627267491299, 103.75276693317704]\n",
      "1756  Coordinate of 630 Upper Thomson Road: [1.3502500000000737, 103.83577000000008]\n",
      "1757  Coordinate of 108 Grange Road: [43.56711000000007, -80.22628999999995]\n",
      "1758  Coordinate of 33 Lorong 19 Geylang: [1.3139487762534685, 103.87905581103593]\n",
      "1759  Coordinate of 750 Bedok Reservoir Road: [1.342610000000036, 103.92539000000005]\n",
      "1760  Coordinate of 60 Sturdee Road North: [1.3137020130239847, 103.85777684108251]\n",
      "1761  Coordinate of 96 Joo Chiat Terrace: [1.3146500000000287, 103.90201000000008]\n",
      "1762  Coordinate of 192 Depot Road: [51.616250000000036, -3.7577499999999304]\n",
      "1763  Coordinate of 78A Lorong K Telok Kurau: [1.3129500000000576, 103.91128000000003]\n",
      "1764  Coordinate of 27 Ewe Boon Road: [1.316247261742248, 103.83040380842539]\n",
      "1765  Coordinate of 1 Park Road: [53.23381000000006, -1.430409999999938]\n",
      "1766  Coordinate of 368 Upper East Coast Road: [1.3128300000000195, 103.92608000000007]\n",
      "1767  Coordinate of 969 Bukit Timah Road: [5.4500000000000455, 100.26667000000003]\n",
      "1768  Coordinate of 1 Peck Hay Road: [1.3078802783544603, 103.83957947783153]\n",
      "1769  Coordinate of 71 Jurong East Street 13: [1.337585072655969, 103.73668264771658]\n",
      "1770  Coordinate of 45 Mandalay Road: [-33.55437999999998, 116.06756000000007]\n",
      "1771  Coordinate of 8 Geylang East Avenue 2: [1.3169132039495395, 103.8894198666743]\n",
      "1772  Coordinate of 5 Gemmill Lane: [1.2824813934427084, 103.84724271662873]\n",
      "1773  Coordinate of 939 Bukit Timah Road: [5.4500000000000455, 100.26667000000003]\n",
      "1774  Coordinate of 32 Cairnhill Road: [57.435253440000054, -2.7583398269999293]\n"
     ]
    },
    {
     "name": "stderr",
     "output_type": "stream",
     "text": [
      "Status code Unknown from https://geocode.arcgis.com/arcgis/rest/services/World/GeocodeServer/find: ERROR - HTTPSConnectionPool(host='geocode.arcgis.com', port=443): Read timed out. (read timeout=5.0)\n"
     ]
    },
    {
     "name": "stdout",
     "output_type": "stream",
     "text": [
      "1775  Coordinate of 331 Choa Chu Kang Avenue 3: None\n",
      "1776  Coordinate of 60 Mei Hwan Drive: [1.3531346346033502, 103.86275384755004]\n",
      "1777  Coordinate of 28 Lorong 28 Geylang: [1.3125373475777593, 103.88540275575843]\n",
      "1778  Coordinate of 211 Jalan Loyang Besar: [3.709600000000023, 98.68590000000006]\n",
      "1779  Coordinate of 1 Ontario Avenue: [42.890250034579196, -78.93063491160545]\n",
      "1780  Coordinate of 1 Rhu Cross: [41.238560000000064, -111.95826999999997]\n",
      "1781  Coordinate of 55B Jalan Taman: [-7.339674954903074, 112.704600087707]\n"
     ]
    },
    {
     "name": "stderr",
     "output_type": "stream",
     "text": [
      "Status code Unknown from https://geocode.arcgis.com/arcgis/rest/services/World/GeocodeServer/find: ERROR - HTTPSConnectionPool(host='geocode.arcgis.com', port=443): Read timed out. (read timeout=5.0)\n"
     ]
    },
    {
     "name": "stdout",
     "output_type": "stream",
     "text": [
      "1782  Coordinate of 253 Pasir Panjang Road: None\n",
      "1783  Coordinate of 64 Upper Serangoon View: [1.373431329323651, 103.90230796481592]\n",
      "1784  Coordinate of 33 Jurong West Street 41: [1.3462709455500743, 103.72284588577361]\n"
     ]
    },
    {
     "name": "stderr",
     "output_type": "stream",
     "text": [
      "Status code Unknown from https://geocode.arcgis.com/arcgis/rest/services/World/GeocodeServer/find: ERROR - HTTPSConnectionPool(host='geocode.arcgis.com', port=443): Read timed out. (read timeout=5.0)\n"
     ]
    },
    {
     "name": "stdout",
     "output_type": "stream",
     "text": [
      "1785  Coordinate of 33 Yishun Central 1: None\n"
     ]
    },
    {
     "name": "stderr",
     "output_type": "stream",
     "text": [
      "Status code Unknown from https://geocode.arcgis.com/arcgis/rest/services/World/GeocodeServer/find: ERROR - HTTPSConnectionPool(host='geocode.arcgis.com', port=443): Read timed out. (read timeout=5.0)\n"
     ]
    },
    {
     "name": "stdout",
     "output_type": "stream",
     "text": [
      "1786  Coordinate of 69 Choa Chu Kang Loop: None\n",
      "1787  Coordinate of 6 Dover Rise: [51.15461829674543, 1.3843897475154827]\n",
      "1788  Coordinate of 21 Kim Keat Road: [1.3253874756979656, 103.8533401320937]\n",
      "1789  Coordinate of 1 Lengkong Empat: [1.3273114158433401, 103.91135757039831]\n"
     ]
    },
    {
     "name": "stderr",
     "output_type": "stream",
     "text": [
      "Status code Unknown from https://geocode.arcgis.com/arcgis/rest/services/World/GeocodeServer/find: ERROR - HTTPSConnectionPool(host='geocode.arcgis.com', port=443): Read timed out. (read timeout=5.0)\n"
     ]
    },
    {
     "name": "stdout",
     "output_type": "stream",
     "text": [
      "1790  Coordinate of 105 Spottiswoode Park Road: None\n",
      "1791  Coordinate of 831 Upper Serangoon Road: None\n"
     ]
    },
    {
     "name": "stderr",
     "output_type": "stream",
     "text": [
      "Status code Unknown from https://geocode.arcgis.com/arcgis/rest/services/World/GeocodeServer/find: ERROR - HTTPSConnectionPool(host='geocode.arcgis.com', port=443): Read timed out. (read timeout=5.0)\n"
     ]
    },
    {
     "name": "stdout",
     "output_type": "stream",
     "text": [
      "1792  Coordinate of 461 River Valley Road: None\n"
     ]
    },
    {
     "name": "stderr",
     "output_type": "stream",
     "text": [
      "Status code Unknown from https://geocode.arcgis.com/arcgis/rest/services/World/GeocodeServer/find: ERROR - HTTPSConnectionPool(host='geocode.arcgis.com', port=443): Read timed out. (read timeout=5.0)\n"
     ]
    },
    {
     "name": "stdout",
     "output_type": "stream",
     "text": [
      "1793  Coordinate of 83 Jurong West Central 3: None\n"
     ]
    },
    {
     "name": "stderr",
     "output_type": "stream",
     "text": [
      "Status code Unknown from https://geocode.arcgis.com/arcgis/rest/services/World/GeocodeServer/find: ERROR - HTTPSConnectionPool(host='geocode.arcgis.com', port=443): Read timed out. (read timeout=5.0)\n"
     ]
    },
    {
     "name": "stdout",
     "output_type": "stream",
     "text": [
      "1794  Coordinate of 29 Amber Road: None\n",
      "1795  Coordinate of 32 Flora Drive: [47.87573367221913, -99.4242843773731]\n"
     ]
    },
    {
     "name": "stderr",
     "output_type": "stream",
     "text": [
      "Status code Unknown from https://geocode.arcgis.com/arcgis/rest/services/World/GeocodeServer/find: ERROR - HTTPSConnectionPool(host='geocode.arcgis.com', port=443): Read timed out. (read timeout=5.0)\n"
     ]
    },
    {
     "name": "stdout",
     "output_type": "stream",
     "text": [
      "1796  Coordinate of 7 Thomson Lane: None\n",
      "1797  Coordinate of 22 Jalan Tenggiri: [1.3068353064855671, 103.91438259925434]\n",
      "1798  Coordinate of 3 Taman Warna: [6.003218965728963, 102.00676778763304]\n",
      "1799  Coordinate of 73 Meyer Road: None\n",
      "1800  Coordinate of 201 Telok Kurau Road: None\n",
      "1801  Coordinate of 8 Bhamo Road: [33.615262265779535, -86.75159151599271]\n",
      "1802  Coordinate of 1 Palm Road: [39.62229002948027, 2.671905058748976]\n",
      "1803  Coordinate of 35 Robin Road: [32.00133000000005, 35.83044000000007]\n"
     ]
    },
    {
     "name": "stderr",
     "output_type": "stream",
     "text": [
      "Status code Unknown from https://geocode.arcgis.com/arcgis/rest/services/World/GeocodeServer/find: ERROR - HTTPSConnectionPool(host='geocode.arcgis.com', port=443): Read timed out. (read timeout=5.0)\n"
     ]
    },
    {
     "name": "stdout",
     "output_type": "stream",
     "text": [
      "1804  Coordinate of 7 Hertford Road: None\n",
      "1805  Coordinate of 483 River Valley Road: [51.14365423833564, 1.276944811286641]\n",
      "1806  Coordinate of 7 Robin Drive: [51.22968713087095, -101.36289299293168]\n"
     ]
    }
   ],
   "source": [
    "#find out all the lat lng for each listing\n",
    "## uncomment to run\n",
    "\n",
    "index = 1\n",
    "all_address = list()\n",
    "for address in df.detailed_address.unique():\n",
    "    unit = geocoder.arcgis(address)\n",
    "    print(f'{index}  Coordinate of {address}: {unit.latlng}')\n",
    "    try:\n",
    "        \n",
    "        unit_lat = unit.latlng[0]\n",
    "        unit_lng = unit.latlng[1]\n",
    "    except: \n",
    "        unit_lat = np.nan\n",
    "        unit_lng = np.nan\n",
    "    all_address.append([address, unit_lat, unit_lng])\n",
    "    index = index + 1"
   ]
  },
  {
   "cell_type": "code",
   "execution_count": 18,
   "id": "d80a5dee",
   "metadata": {},
   "outputs": [
    {
     "data": {
      "text/html": [
       "<div>\n",
       "<style scoped>\n",
       "    .dataframe tbody tr th:only-of-type {\n",
       "        vertical-align: middle;\n",
       "    }\n",
       "\n",
       "    .dataframe tbody tr th {\n",
       "        vertical-align: top;\n",
       "    }\n",
       "\n",
       "    .dataframe thead th {\n",
       "        text-align: right;\n",
       "    }\n",
       "</style>\n",
       "<table border=\"1\" class=\"dataframe\">\n",
       "  <thead>\n",
       "    <tr style=\"text-align: right;\">\n",
       "      <th></th>\n",
       "      <th>address</th>\n",
       "      <th>lat</th>\n",
       "      <th>lng</th>\n",
       "    </tr>\n",
       "  </thead>\n",
       "  <tbody>\n",
       "    <tr>\n",
       "      <th>0</th>\n",
       "      <td>23 Marina Way</td>\n",
       "      <td>-22.896480</td>\n",
       "      <td>-42.790425</td>\n",
       "    </tr>\n",
       "    <tr>\n",
       "      <th>1</th>\n",
       "      <td>23 Delta Road</td>\n",
       "      <td>1.291760</td>\n",
       "      <td>103.825940</td>\n",
       "    </tr>\n",
       "    <tr>\n",
       "      <th>2</th>\n",
       "      <td>6 Kitchener Link</td>\n",
       "      <td>14.567170</td>\n",
       "      <td>121.033310</td>\n",
       "    </tr>\n",
       "    <tr>\n",
       "      <th>3</th>\n",
       "      <td>15 Tong Watt Road</td>\n",
       "      <td>NaN</td>\n",
       "      <td>NaN</td>\n",
       "    </tr>\n",
       "    <tr>\n",
       "      <th>4</th>\n",
       "      <td>78 Guan Chuan Street</td>\n",
       "      <td>1.282560</td>\n",
       "      <td>103.831100</td>\n",
       "    </tr>\n",
       "    <tr>\n",
       "      <th>...</th>\n",
       "      <td>...</td>\n",
       "      <td>...</td>\n",
       "      <td>...</td>\n",
       "    </tr>\n",
       "    <tr>\n",
       "      <th>1801</th>\n",
       "      <td>1 Palm Road</td>\n",
       "      <td>39.622290</td>\n",
       "      <td>2.671905</td>\n",
       "    </tr>\n",
       "    <tr>\n",
       "      <th>1802</th>\n",
       "      <td>35 Robin Road</td>\n",
       "      <td>32.001330</td>\n",
       "      <td>35.830440</td>\n",
       "    </tr>\n",
       "    <tr>\n",
       "      <th>1803</th>\n",
       "      <td>7 Hertford Road</td>\n",
       "      <td>NaN</td>\n",
       "      <td>NaN</td>\n",
       "    </tr>\n",
       "    <tr>\n",
       "      <th>1804</th>\n",
       "      <td>483 River Valley Road</td>\n",
       "      <td>51.143654</td>\n",
       "      <td>1.276945</td>\n",
       "    </tr>\n",
       "    <tr>\n",
       "      <th>1805</th>\n",
       "      <td>7 Robin Drive</td>\n",
       "      <td>51.229687</td>\n",
       "      <td>-101.362893</td>\n",
       "    </tr>\n",
       "  </tbody>\n",
       "</table>\n",
       "<p>1806 rows × 3 columns</p>\n",
       "</div>"
      ],
      "text/plain": [
       "                    address        lat         lng\n",
       "0             23 Marina Way -22.896480  -42.790425\n",
       "1             23 Delta Road   1.291760  103.825940\n",
       "2          6 Kitchener Link  14.567170  121.033310\n",
       "3         15 Tong Watt Road        NaN         NaN\n",
       "4      78 Guan Chuan Street   1.282560  103.831100\n",
       "...                     ...        ...         ...\n",
       "1801            1 Palm Road  39.622290    2.671905\n",
       "1802          35 Robin Road  32.001330   35.830440\n",
       "1803        7 Hertford Road        NaN         NaN\n",
       "1804  483 River Valley Road  51.143654    1.276945\n",
       "1805          7 Robin Drive  51.229687 -101.362893\n",
       "\n",
       "[1806 rows x 3 columns]"
      ]
     },
     "execution_count": 18,
     "metadata": {},
     "output_type": "execute_result"
    }
   ],
   "source": [
    "latlng = pd.DataFrame(all_address, columns=['address', 'lat', 'lng'])\n",
    "latlng"
   ]
  },
  {
   "cell_type": "code",
   "execution_count": 20,
   "id": "ee1054fc",
   "metadata": {},
   "outputs": [],
   "source": [
    "latlng.to_csv('latlng2.csv', index='ignore')"
   ]
  },
  {
   "cell_type": "code",
   "execution_count": null,
   "id": "74f1c8bb",
   "metadata": {},
   "outputs": [],
   "source": []
  }
 ],
 "metadata": {
  "kernelspec": {
   "display_name": "Python 3",
   "language": "python",
   "name": "python3"
  },
  "language_info": {
   "codemirror_mode": {
    "name": "ipython",
    "version": 3
   },
   "file_extension": ".py",
   "mimetype": "text/x-python",
   "name": "python",
   "nbconvert_exporter": "python",
   "pygments_lexer": "ipython3",
   "version": "3.8.8"
  }
 },
 "nbformat": 4,
 "nbformat_minor": 5
}
